{
 "cells": [
  {
   "cell_type": "markdown",
   "metadata": {},
   "source": [
    "# スタッキング\n",
    "・GBDT 2~3個：決定木の深さが「浅い」「普通」「深い」モデル\n",
    "\n",
    "・Random Forest 1~2個：決定木の深さが「浅い」「深い」モデル\n",
    "\n",
    "・Neural Net 1~2個：層の数が「少ない」「多い」モデル\n",
    "\n",
    "・Linier 1個"
   ]
  },
  {
   "cell_type": "code",
   "execution_count": 2,
   "metadata": {},
   "outputs": [],
   "source": [
    "import os\n",
    "os.chdir('../../')"
   ]
  },
  {
   "cell_type": "code",
   "execution_count": 3,
   "metadata": {},
   "outputs": [],
   "source": [
    "import numpy as np\n",
    "import pandas as pd\n",
    "from scr.util import *\n",
    "from sklearn.model_selection import StratifiedKFold\n",
    "from sklearn.metrics import roc_auc_score\n",
    "from scr.models.gbdt import Model1_CatBoost_1, Model1_CatBoost_2, Model1_CatBoost_3, Model1_XGBoost_1, Model1_XGBoost_2, Model1_XGBoost_3, Model1_LightGBM_1, Model1_LightGBM_2, Model1_LightGBM_3\n",
    "from scr.models.random_forest import Model1_RandomForest_1, Model1_RandomForest_2, Model1_RandomForest_3\n",
    "from scr.models.nn import Model1_NN_1, Model1_NN_2, Model1_NN_all_1, Model1_NN_all_2, Model1_TabNet_1, Model1_TabNet_2\n",
    "from scr.models.linear import Model1_Logistic_1, Model1_Logistic_2, Model1_Logistic_3, Model1_Logistic_4, Model2_Logistic"
   ]
  },
  {
   "cell_type": "code",
   "execution_count": 5,
   "metadata": {},
   "outputs": [],
   "source": [
    "df_train_gb = pd.read_csv('data/sampling/over_sampling/smote/train_mean_gb_smote.csv')\n",
    "df_test_gb = pd.read_csv('data/sampling/over_sampling/smote/test_mean_gb.csv')\n",
    "combination_gb= df_train_gb.columns[44:110]\n",
    "\n",
    "df_train_nn = pd.read_csv('data/sampling/over_sampling/smote/train_mean_nn_smote.csv')\n",
    "df_test_nn = pd.read_csv('data/feature_engineered/null_representative/test_null_mean_scaled.csv')\n",
    "\n",
    "y = df_train_gb['ProdTaken']"
   ]
  },
  {
   "cell_type": "code",
   "execution_count": 6,
   "metadata": {},
   "outputs": [],
   "source": [
    "# 特徴量が多いので、落とす特徴量を選択\n",
    "drop_gb = [\n",
    "    'EconomicSegment',\n",
    "    'ContractRate_FM',\n",
    "    'ContractRate_G1',\n",
    "    'ContractRate_G2',\n",
    "    'ContractRate_G3',\n",
    "    'ContractRate_G4',\n",
    "    'ContractRate_G5',\n",
    "    'ContractRate_G6'\n",
    "]\n",
    "\n",
    "# ## --------------------------------------------------------------------------------------------\n",
    "# ## Label Encoding\n",
    "# df_train_gb = mapping_columns_if_exist(df_train_gb)\n",
    "# df_test_gb = mapping_columns_if_exist(df_test_gb)\n",
    "\n",
    "# def handle_unknown_label(train_series, test_series):\n",
    "#     unique_labels = train_series.unique()\n",
    "#     label_map = {label: idx for idx, label in enumerate(unique_labels)}\n",
    "#     train_encoded = train_series.map(label_map)\n",
    "#     test_encoded = test_series.map(lambda x: label_map.get(x, -1))\n",
    "#     return train_encoded, test_encoded\n",
    "\n",
    "# for col in combination_gb:\n",
    "#     df_train_gb[col], df_test_gb[col] = handle_unknown_label(df_train_gb[col], df_test_gb[col])\n",
    "# ## --------------------------------------------------------------------------------------------\n",
    "\n",
    "X_gb = df_train_gb.drop(columns=drop_gb, axis=1)\n",
    "y_gb = df_train_gb['ProdTaken']\n",
    "\n",
    "df_test_gb = df_test_gb.drop(columns=drop_gb, axis=1)\n",
    "\n",
    "num_features_gb = len(df_test_gb.columns)"
   ]
  },
  {
   "cell_type": "code",
   "execution_count": 7,
   "metadata": {},
   "outputs": [],
   "source": [
    "drop_nn = [\n",
    "    'EconomicSegment',\n",
    "    'ContractRate_FM',\n",
    "    'ContractRate_G1',\n",
    "    'ContractRate_G2',\n",
    "    'ContractRate_G3',\n",
    "    'ContractRate_G4',\n",
    "    'ContractRate_G5',\n",
    "    'ContractRate_G6'\n",
    "]\n",
    "\n",
    "X_nn = df_train_nn.drop(columns=drop_nn, axis=1)\n",
    "y_nn = df_train_nn['ProdTaken']\n",
    "\n",
    "df_test_nn = df_test_nn.drop(columns=drop_nn, axis=1)\n",
    "\n",
    "num_features_nn = len(df_test_nn.columns)"
   ]
  },
  {
   "cell_type": "code",
   "execution_count": 8,
   "metadata": {},
   "outputs": [],
   "source": [
    "# スタッキング\n",
    "def predict_cv(model, X, y, df_test):\n",
    "    preds = []\n",
    "    preds_test = []\n",
    "    va_idxes = []\n",
    "\n",
    "    skf = StratifiedKFold(n_splits=5, shuffle=True, random_state=42)\n",
    "\n",
    "    for i, (tr_idx, va_idx) in enumerate(skf.split(X, y)):\n",
    "        tr_x, va_x = X.iloc[tr_idx], X.iloc[va_idx]\n",
    "        tr_y, va_y = y.iloc[tr_idx], y.iloc[va_idx]\n",
    "        \n",
    "        # Target Encoding\n",
    "        \n",
    "        \n",
    "        model.fit(tr_x, tr_y, va_x, va_y)\n",
    "        pred = model.predict(va_x)\n",
    "        preds.append(pred)\n",
    "        pred_test = model.predict(df_test)\n",
    "        preds_test.append(pred_test)\n",
    "        va_idxes.append(va_idx)\n",
    "\n",
    "    # バリデーションデータに対する予測値を連結し、その後元の順序に並べ直す\n",
    "    va_idxes = np.concatenate(va_idxes)\n",
    "    preds = np.concatenate(preds, axis=0)\n",
    "    order = np.argsort(va_idxes)\n",
    "    pred_train = preds[order]\n",
    "\n",
    "    # テストデータに対する予測値の平均をとる\n",
    "    preds_test = np.mean(preds_test, axis=0)\n",
    "\n",
    "    return pred_train, preds_test"
   ]
  },
  {
   "cell_type": "code",
   "execution_count": 9,
   "metadata": {},
   "outputs": [],
   "source": [
    "# 1層目のモデル\n",
    "models_gbdt = [\n",
    "    #Model1_CatBoost_1(),\n",
    "    #Model1_CatBoost_2(),\n",
    "    #Model1_CatBoost_3(),\n",
    "    Model1_XGBoost_1(),\n",
    "    Model1_XGBoost_2(),\n",
    "    Model1_XGBoost_3(),\n",
    "    #Model1_LightGBM_1(),\n",
    "    #Model1_LightGBM_2(),\n",
    "    #Model1_LightGBM_3(),\n",
    "    #Model1_RandomForest_1(),\n",
    "    Model1_RandomForest_2(),\n",
    "    #Model1_RandomForest_3()\n",
    "]\n",
    "\n",
    "models_nn = [\n",
    "    Model1_NN_1(input_shape=num_features_nn),\n",
    "    Model1_NN_2(input_shape=num_features_nn),\n",
    "    Model1_NN_all_1(input_shape=num_features_nn),\n",
    "    Model1_NN_all_2(input_shape=num_features_nn),\n",
    "    #Model1_TabNet_1(input_dim=num_features_nn),\n",
    "    #Model1_TabNet_2(input_dim=num_features_nn),\n",
    "    Model1_Logistic_1(),\n",
    "    Model1_Logistic_2(),\n",
    "    #Model1_Logistic_3(),\n",
    "    #Model1_Logistic_4()\n",
    "]"
   ]
  },
  {
   "cell_type": "code",
   "execution_count": 9,
   "metadata": {},
   "outputs": [
    {
     "name": "stdout",
     "output_type": "stream",
     "text": [
      "[0]\ttrain-auc:1.00000\teval-auc:1.00000\n",
      "[100]\ttrain-auc:1.00000\teval-auc:1.00000\n",
      "[200]\ttrain-auc:1.00000\teval-auc:1.00000\n",
      "[300]\ttrain-auc:1.00000\teval-auc:1.00000\n",
      "[400]\ttrain-auc:1.00000\teval-auc:1.00000\n",
      "[500]\ttrain-auc:1.00000\teval-auc:1.00000\n",
      "[600]\ttrain-auc:1.00000\teval-auc:1.00000\n",
      "[700]\ttrain-auc:1.00000\teval-auc:1.00000\n",
      "[800]\ttrain-auc:1.00000\teval-auc:1.00000\n",
      "[900]\ttrain-auc:1.00000\teval-auc:1.00000\n",
      "[1000]\ttrain-auc:1.00000\teval-auc:1.00000\n",
      "[1100]\ttrain-auc:1.00000\teval-auc:1.00000\n",
      "[1200]\ttrain-auc:1.00000\teval-auc:1.00000\n",
      "[1300]\ttrain-auc:1.00000\teval-auc:1.00000\n",
      "[1400]\ttrain-auc:1.00000\teval-auc:1.00000\n",
      "[1500]\ttrain-auc:1.00000\teval-auc:1.00000\n",
      "[1600]\ttrain-auc:1.00000\teval-auc:1.00000\n",
      "[1700]\ttrain-auc:1.00000\teval-auc:1.00000\n",
      "[1800]\ttrain-auc:1.00000\teval-auc:1.00000\n",
      "[1900]\ttrain-auc:1.00000\teval-auc:1.00000\n",
      "[2000]\ttrain-auc:1.00000\teval-auc:1.00000\n",
      "[2100]\ttrain-auc:1.00000\teval-auc:1.00000\n",
      "[2200]\ttrain-auc:1.00000\teval-auc:1.00000\n",
      "[2300]\ttrain-auc:1.00000\teval-auc:1.00000\n",
      "[2400]\ttrain-auc:1.00000\teval-auc:1.00000\n",
      "[2500]\ttrain-auc:1.00000\teval-auc:1.00000\n",
      "[2600]\ttrain-auc:1.00000\teval-auc:1.00000\n",
      "[2700]\ttrain-auc:1.00000\teval-auc:1.00000\n",
      "[2800]\ttrain-auc:1.00000\teval-auc:1.00000\n",
      "[2900]\ttrain-auc:1.00000\teval-auc:1.00000\n",
      "[3000]\ttrain-auc:1.00000\teval-auc:1.00000\n",
      "[3100]\ttrain-auc:1.00000\teval-auc:1.00000\n",
      "[3200]\ttrain-auc:1.00000\teval-auc:1.00000\n",
      "[3300]\ttrain-auc:1.00000\teval-auc:1.00000\n",
      "[3400]\ttrain-auc:1.00000\teval-auc:1.00000\n",
      "[3500]\ttrain-auc:1.00000\teval-auc:1.00000\n",
      "[3600]\ttrain-auc:1.00000\teval-auc:1.00000\n",
      "[3700]\ttrain-auc:1.00000\teval-auc:1.00000\n",
      "[3800]\ttrain-auc:1.00000\teval-auc:1.00000\n",
      "[3900]\ttrain-auc:1.00000\teval-auc:1.00000\n",
      "[4000]\ttrain-auc:1.00000\teval-auc:1.00000\n",
      "[4100]\ttrain-auc:1.00000\teval-auc:1.00000\n",
      "[4200]\ttrain-auc:1.00000\teval-auc:1.00000\n",
      "[4300]\ttrain-auc:1.00000\teval-auc:1.00000\n",
      "[4400]\ttrain-auc:1.00000\teval-auc:1.00000\n",
      "[4500]\ttrain-auc:1.00000\teval-auc:1.00000\n",
      "[4600]\ttrain-auc:1.00000\teval-auc:1.00000\n",
      "[4700]\ttrain-auc:1.00000\teval-auc:1.00000\n",
      "[4800]\ttrain-auc:1.00000\teval-auc:1.00000\n",
      "[4900]\ttrain-auc:1.00000\teval-auc:1.00000\n",
      "[5000]\ttrain-auc:1.00000\teval-auc:1.00000\n",
      "[5100]\ttrain-auc:1.00000\teval-auc:1.00000\n",
      "[5200]\ttrain-auc:1.00000\teval-auc:1.00000\n",
      "[5300]\ttrain-auc:1.00000\teval-auc:1.00000\n",
      "[5400]\ttrain-auc:1.00000\teval-auc:1.00000\n",
      "[5500]\ttrain-auc:1.00000\teval-auc:1.00000\n",
      "[5600]\ttrain-auc:1.00000\teval-auc:1.00000\n",
      "[5700]\ttrain-auc:1.00000\teval-auc:1.00000\n",
      "[5800]\ttrain-auc:1.00000\teval-auc:1.00000\n",
      "[5900]\ttrain-auc:1.00000\teval-auc:1.00000\n",
      "[6000]\ttrain-auc:1.00000\teval-auc:1.00000\n",
      "[6100]\ttrain-auc:1.00000\teval-auc:1.00000\n",
      "[6200]\ttrain-auc:1.00000\teval-auc:1.00000\n",
      "[6300]\ttrain-auc:1.00000\teval-auc:1.00000\n",
      "[6400]\ttrain-auc:1.00000\teval-auc:1.00000\n",
      "[6500]\ttrain-auc:1.00000\teval-auc:1.00000\n",
      "[6600]\ttrain-auc:1.00000\teval-auc:1.00000\n",
      "[6700]\ttrain-auc:1.00000\teval-auc:1.00000\n",
      "[6800]\ttrain-auc:1.00000\teval-auc:1.00000\n",
      "[6900]\ttrain-auc:1.00000\teval-auc:1.00000\n",
      "[6999]\ttrain-auc:1.00000\teval-auc:1.00000\n"
     ]
    },
    {
     "ename": "ValueError",
     "evalue": "DataFrame.dtypes for data must be int, float, bool or category. When categorical type is supplied, the experimental DMatrix parameter`enable_categorical` must be set to `True`.  Invalid columns:TypeofContact: object, Occupation: object, Gender: object, ProductPitched: object, Designation: object, Marry: object, Car: object, Child: object, AgeGroup: object, TypeofContact_CityTier: object, TypeofContact_Occupation: object, TypeofContact_Gender: object, TypeofContact_ProductPitched: object, TypeofContact_PreferredPropertyStar: object, TypeofContact_Passport: object, TypeofContact_PitchSatisfactionScore: object, TypeofContact_Designation: object, TypeofContact_Marry: object, TypeofContact_Car: object, TypeofContact_Child: object, CityTier_Occupation: object, CityTier_Gender: object, CityTier_ProductPitched: object, CityTier_PreferredPropertyStar: object, CityTier_Passport: object, CityTier_PitchSatisfactionScore: object, CityTier_Designation: object, CityTier_Marry: object, CityTier_Car: object, CityTier_Child: object, Occupation_Gender: object, Occupation_ProductPitched: object, Occupation_PreferredPropertyStar: object, Occupation_Passport: object, Occupation_PitchSatisfactionScore: object, Occupation_Designation: object, Occupation_Marry: object, Occupation_Car: object, Occupation_Child: object, Gender_ProductPitched: object, Gender_PreferredPropertyStar: object, Gender_Passport: object, Gender_PitchSatisfactionScore: object, Gender_Designation: object, Gender_Marry: object, Gender_Car: object, Gender_Child: object, ProductPitched_PreferredPropertyStar: object, ProductPitched_Passport: object, ProductPitched_PitchSatisfactionScore: object, ProductPitched_Designation: object, ProductPitched_Marry: object, ProductPitched_Car: object, ProductPitched_Child: object, PreferredPropertyStar_Passport: object, PreferredPropertyStar_PitchSatisfactionScore: object, PreferredPropertyStar_Designation: object, PreferredPropertyStar_Marry: object, PreferredPropertyStar_Car: object, PreferredPropertyStar_Child: object, Passport_PitchSatisfactionScore: object, Passport_Designation: object, Passport_Marry: object, Passport_Car: object, Passport_Child: object, PitchSatisfactionScore_Designation: object, PitchSatisfactionScore_Marry: object, PitchSatisfactionScore_Car: object, PitchSatisfactionScore_Child: object, Designation_Marry: object, Designation_Car: object, Designation_Child: object, Marry_Car: object, Marry_Child: object, Car_Child: object",
     "output_type": "error",
     "traceback": [
      "\u001b[1;31m---------------------------------------------------------------------------\u001b[0m",
      "\u001b[1;31mValueError\u001b[0m                                Traceback (most recent call last)",
      "Cell \u001b[1;32mIn[9], line 4\u001b[0m\n\u001b[0;32m      2\u001b[0m pred_test_list \u001b[38;5;241m=\u001b[39m []\n\u001b[0;32m      3\u001b[0m \u001b[38;5;28;01mfor\u001b[39;00m model \u001b[38;5;129;01min\u001b[39;00m models_gbdt:\n\u001b[1;32m----> 4\u001b[0m     pred_train, pred_test \u001b[38;5;241m=\u001b[39m \u001b[43mpredict_cv\u001b[49m\u001b[43m(\u001b[49m\u001b[43mmodel\u001b[49m\u001b[43m,\u001b[49m\u001b[43m \u001b[49m\u001b[43mX_gb\u001b[49m\u001b[43m,\u001b[49m\u001b[43m \u001b[49m\u001b[43my_gb\u001b[49m\u001b[43m,\u001b[49m\u001b[43m \u001b[49m\u001b[43mdf_test_gb\u001b[49m\u001b[43m)\u001b[49m\n\u001b[0;32m      5\u001b[0m     pred_train_list\u001b[38;5;241m.\u001b[39mappend(pred_train)\n\u001b[0;32m      6\u001b[0m     pred_test_list\u001b[38;5;241m.\u001b[39mappend(pred_test)\n",
      "Cell \u001b[1;32mIn[7], line 19\u001b[0m, in \u001b[0;36mpredict_cv\u001b[1;34m(model, X, y, df_test)\u001b[0m\n\u001b[0;32m     17\u001b[0m pred \u001b[38;5;241m=\u001b[39m model\u001b[38;5;241m.\u001b[39mpredict(va_x)\n\u001b[0;32m     18\u001b[0m preds\u001b[38;5;241m.\u001b[39mappend(pred)\n\u001b[1;32m---> 19\u001b[0m pred_test \u001b[38;5;241m=\u001b[39m \u001b[43mmodel\u001b[49m\u001b[38;5;241;43m.\u001b[39;49m\u001b[43mpredict\u001b[49m\u001b[43m(\u001b[49m\u001b[43mdf_test\u001b[49m\u001b[43m)\u001b[49m\n\u001b[0;32m     20\u001b[0m preds_test\u001b[38;5;241m.\u001b[39mappend(pred_test)\n\u001b[0;32m     21\u001b[0m va_idxes\u001b[38;5;241m.\u001b[39mappend(va_idx)\n",
      "File \u001b[1;32mc:\\Users\\ricke\\Python\\Competition\\SIGNATE\\SIGNATE Summer Cup 2024\\scr\\models\\gbdt.py:124\u001b[0m, in \u001b[0;36mModel1_XGBoost_1.predict\u001b[1;34m(self, x)\u001b[0m\n\u001b[0;32m    123\u001b[0m \u001b[38;5;28;01mdef\u001b[39;00m \u001b[38;5;21mpredict\u001b[39m(\u001b[38;5;28mself\u001b[39m, x):\n\u001b[1;32m--> 124\u001b[0m     dtest \u001b[38;5;241m=\u001b[39m \u001b[43mxgb\u001b[49m\u001b[38;5;241;43m.\u001b[39;49m\u001b[43mDMatrix\u001b[49m\u001b[43m(\u001b[49m\u001b[43mx\u001b[49m\u001b[43m)\u001b[49m\n\u001b[0;32m    125\u001b[0m     \u001b[38;5;28;01mreturn\u001b[39;00m \u001b[38;5;28mself\u001b[39m\u001b[38;5;241m.\u001b[39mmodel\u001b[38;5;241m.\u001b[39mpredict(dtest)\n",
      "File \u001b[1;32mc:\\Users\\ricke\\anaconda3\\envs\\neuralnet\\lib\\site-packages\\xgboost\\core.py:726\u001b[0m, in \u001b[0;36mrequire_keyword_args.<locals>.throw_if.<locals>.inner_f\u001b[1;34m(*args, **kwargs)\u001b[0m\n\u001b[0;32m    724\u001b[0m \u001b[38;5;28;01mfor\u001b[39;00m k, arg \u001b[38;5;129;01min\u001b[39;00m \u001b[38;5;28mzip\u001b[39m(sig\u001b[38;5;241m.\u001b[39mparameters, args):\n\u001b[0;32m    725\u001b[0m     kwargs[k] \u001b[38;5;241m=\u001b[39m arg\n\u001b[1;32m--> 726\u001b[0m \u001b[38;5;28;01mreturn\u001b[39;00m \u001b[43mfunc\u001b[49m\u001b[43m(\u001b[49m\u001b[38;5;241;43m*\u001b[39;49m\u001b[38;5;241;43m*\u001b[39;49m\u001b[43mkwargs\u001b[49m\u001b[43m)\u001b[49m\n",
      "File \u001b[1;32mc:\\Users\\ricke\\anaconda3\\envs\\neuralnet\\lib\\site-packages\\xgboost\\core.py:878\u001b[0m, in \u001b[0;36mDMatrix.__init__\u001b[1;34m(self, data, label, weight, base_margin, missing, silent, feature_names, feature_types, nthread, group, qid, label_lower_bound, label_upper_bound, feature_weights, enable_categorical, data_split_mode)\u001b[0m\n\u001b[0;32m    875\u001b[0m     \u001b[38;5;28;01massert\u001b[39;00m \u001b[38;5;28mself\u001b[39m\u001b[38;5;241m.\u001b[39mhandle \u001b[38;5;129;01mis\u001b[39;00m \u001b[38;5;129;01mnot\u001b[39;00m \u001b[38;5;28;01mNone\u001b[39;00m\n\u001b[0;32m    876\u001b[0m     \u001b[38;5;28;01mreturn\u001b[39;00m\n\u001b[1;32m--> 878\u001b[0m handle, feature_names, feature_types \u001b[38;5;241m=\u001b[39m \u001b[43mdispatch_data_backend\u001b[49m\u001b[43m(\u001b[49m\n\u001b[0;32m    879\u001b[0m \u001b[43m    \u001b[49m\u001b[43mdata\u001b[49m\u001b[43m,\u001b[49m\n\u001b[0;32m    880\u001b[0m \u001b[43m    \u001b[49m\u001b[43mmissing\u001b[49m\u001b[38;5;241;43m=\u001b[39;49m\u001b[38;5;28;43mself\u001b[39;49m\u001b[38;5;241;43m.\u001b[39;49m\u001b[43mmissing\u001b[49m\u001b[43m,\u001b[49m\n\u001b[0;32m    881\u001b[0m \u001b[43m    \u001b[49m\u001b[43mthreads\u001b[49m\u001b[38;5;241;43m=\u001b[39;49m\u001b[38;5;28;43mself\u001b[39;49m\u001b[38;5;241;43m.\u001b[39;49m\u001b[43mnthread\u001b[49m\u001b[43m,\u001b[49m\n\u001b[0;32m    882\u001b[0m \u001b[43m    \u001b[49m\u001b[43mfeature_names\u001b[49m\u001b[38;5;241;43m=\u001b[39;49m\u001b[43mfeature_names\u001b[49m\u001b[43m,\u001b[49m\n\u001b[0;32m    883\u001b[0m \u001b[43m    \u001b[49m\u001b[43mfeature_types\u001b[49m\u001b[38;5;241;43m=\u001b[39;49m\u001b[43mfeature_types\u001b[49m\u001b[43m,\u001b[49m\n\u001b[0;32m    884\u001b[0m \u001b[43m    \u001b[49m\u001b[43menable_categorical\u001b[49m\u001b[38;5;241;43m=\u001b[39;49m\u001b[43menable_categorical\u001b[49m\u001b[43m,\u001b[49m\n\u001b[0;32m    885\u001b[0m \u001b[43m    \u001b[49m\u001b[43mdata_split_mode\u001b[49m\u001b[38;5;241;43m=\u001b[39;49m\u001b[43mdata_split_mode\u001b[49m\u001b[43m,\u001b[49m\n\u001b[0;32m    886\u001b[0m \u001b[43m\u001b[49m\u001b[43m)\u001b[49m\n\u001b[0;32m    887\u001b[0m \u001b[38;5;28;01massert\u001b[39;00m handle \u001b[38;5;129;01mis\u001b[39;00m \u001b[38;5;129;01mnot\u001b[39;00m \u001b[38;5;28;01mNone\u001b[39;00m\n\u001b[0;32m    888\u001b[0m \u001b[38;5;28mself\u001b[39m\u001b[38;5;241m.\u001b[39mhandle \u001b[38;5;241m=\u001b[39m handle\n",
      "File \u001b[1;32mc:\\Users\\ricke\\anaconda3\\envs\\neuralnet\\lib\\site-packages\\xgboost\\data.py:1223\u001b[0m, in \u001b[0;36mdispatch_data_backend\u001b[1;34m(data, missing, threads, feature_names, feature_types, enable_categorical, data_split_mode)\u001b[0m\n\u001b[0;32m   1221\u001b[0m     data \u001b[38;5;241m=\u001b[39m pd\u001b[38;5;241m.\u001b[39mDataFrame(data)\n\u001b[0;32m   1222\u001b[0m \u001b[38;5;28;01mif\u001b[39;00m _is_pandas_df(data):\n\u001b[1;32m-> 1223\u001b[0m     \u001b[38;5;28;01mreturn\u001b[39;00m \u001b[43m_from_pandas_df\u001b[49m\u001b[43m(\u001b[49m\n\u001b[0;32m   1224\u001b[0m \u001b[43m        \u001b[49m\u001b[43mdata\u001b[49m\u001b[43m,\u001b[49m\n\u001b[0;32m   1225\u001b[0m \u001b[43m        \u001b[49m\u001b[43menable_categorical\u001b[49m\u001b[43m,\u001b[49m\n\u001b[0;32m   1226\u001b[0m \u001b[43m        \u001b[49m\u001b[43mmissing\u001b[49m\u001b[43m,\u001b[49m\n\u001b[0;32m   1227\u001b[0m \u001b[43m        \u001b[49m\u001b[43mthreads\u001b[49m\u001b[43m,\u001b[49m\n\u001b[0;32m   1228\u001b[0m \u001b[43m        \u001b[49m\u001b[43mfeature_names\u001b[49m\u001b[43m,\u001b[49m\n\u001b[0;32m   1229\u001b[0m \u001b[43m        \u001b[49m\u001b[43mfeature_types\u001b[49m\u001b[43m,\u001b[49m\n\u001b[0;32m   1230\u001b[0m \u001b[43m        \u001b[49m\u001b[43mdata_split_mode\u001b[49m\u001b[43m,\u001b[49m\n\u001b[0;32m   1231\u001b[0m \u001b[43m    \u001b[49m\u001b[43m)\u001b[49m\n\u001b[0;32m   1232\u001b[0m \u001b[38;5;28;01mif\u001b[39;00m _is_cudf_df(data) \u001b[38;5;129;01mor\u001b[39;00m _is_cudf_ser(data):\n\u001b[0;32m   1233\u001b[0m     \u001b[38;5;28;01mreturn\u001b[39;00m _from_cudf_df(\n\u001b[0;32m   1234\u001b[0m         data, missing, threads, feature_names, feature_types, enable_categorical\n\u001b[0;32m   1235\u001b[0m     )\n",
      "File \u001b[1;32mc:\\Users\\ricke\\anaconda3\\envs\\neuralnet\\lib\\site-packages\\xgboost\\data.py:640\u001b[0m, in \u001b[0;36m_from_pandas_df\u001b[1;34m(data, enable_categorical, missing, nthread, feature_names, feature_types, data_split_mode)\u001b[0m\n\u001b[0;32m    631\u001b[0m \u001b[38;5;28;01mdef\u001b[39;00m \u001b[38;5;21m_from_pandas_df\u001b[39m(\n\u001b[0;32m    632\u001b[0m     data: DataFrame,\n\u001b[0;32m    633\u001b[0m     enable_categorical: \u001b[38;5;28mbool\u001b[39m,\n\u001b[1;32m   (...)\u001b[0m\n\u001b[0;32m    638\u001b[0m     data_split_mode: DataSplitMode \u001b[38;5;241m=\u001b[39m DataSplitMode\u001b[38;5;241m.\u001b[39mROW,\n\u001b[0;32m    639\u001b[0m ) \u001b[38;5;241m-\u001b[39m\u001b[38;5;241m>\u001b[39m DispatchedDataBackendReturnType:\n\u001b[1;32m--> 640\u001b[0m     df, feature_names, feature_types \u001b[38;5;241m=\u001b[39m \u001b[43m_transform_pandas_df\u001b[49m\u001b[43m(\u001b[49m\n\u001b[0;32m    641\u001b[0m \u001b[43m        \u001b[49m\u001b[43mdata\u001b[49m\u001b[43m,\u001b[49m\u001b[43m \u001b[49m\u001b[43menable_categorical\u001b[49m\u001b[43m,\u001b[49m\u001b[43m \u001b[49m\u001b[43mfeature_names\u001b[49m\u001b[43m,\u001b[49m\u001b[43m \u001b[49m\u001b[43mfeature_types\u001b[49m\n\u001b[0;32m    642\u001b[0m \u001b[43m    \u001b[49m\u001b[43m)\u001b[49m\n\u001b[0;32m    644\u001b[0m     handle \u001b[38;5;241m=\u001b[39m ctypes\u001b[38;5;241m.\u001b[39mc_void_p()\n\u001b[0;32m    645\u001b[0m     _check_call(\n\u001b[0;32m    646\u001b[0m         _LIB\u001b[38;5;241m.\u001b[39mXGDMatrixCreateFromColumnar(\n\u001b[0;32m    647\u001b[0m             df\u001b[38;5;241m.\u001b[39marray_interface(),\n\u001b[1;32m   (...)\u001b[0m\n\u001b[0;32m    652\u001b[0m         )\n\u001b[0;32m    653\u001b[0m     )\n",
      "File \u001b[1;32mc:\\Users\\ricke\\anaconda3\\envs\\neuralnet\\lib\\site-packages\\xgboost\\data.py:603\u001b[0m, in \u001b[0;36m_transform_pandas_df\u001b[1;34m(data, enable_categorical, feature_names, feature_types, meta)\u001b[0m\n\u001b[0;32m    596\u001b[0m \u001b[38;5;28;01mdef\u001b[39;00m \u001b[38;5;21m_transform_pandas_df\u001b[39m(\n\u001b[0;32m    597\u001b[0m     data: DataFrame,\n\u001b[0;32m    598\u001b[0m     enable_categorical: \u001b[38;5;28mbool\u001b[39m,\n\u001b[1;32m   (...)\u001b[0m\n\u001b[0;32m    601\u001b[0m     meta: Optional[\u001b[38;5;28mstr\u001b[39m] \u001b[38;5;241m=\u001b[39m \u001b[38;5;28;01mNone\u001b[39;00m,\n\u001b[0;32m    602\u001b[0m ) \u001b[38;5;241m-\u001b[39m\u001b[38;5;241m>\u001b[39m Tuple[PandasTransformed, Optional[FeatureNames], Optional[FeatureTypes]]:\n\u001b[1;32m--> 603\u001b[0m     \u001b[43mpandas_check_dtypes\u001b[49m\u001b[43m(\u001b[49m\u001b[43mdata\u001b[49m\u001b[43m,\u001b[49m\u001b[43m \u001b[49m\u001b[43menable_categorical\u001b[49m\u001b[43m)\u001b[49m\n\u001b[0;32m    604\u001b[0m     \u001b[38;5;28;01mif\u001b[39;00m meta \u001b[38;5;129;01mand\u001b[39;00m \u001b[38;5;28mlen\u001b[39m(data\u001b[38;5;241m.\u001b[39mcolumns) \u001b[38;5;241m>\u001b[39m \u001b[38;5;241m1\u001b[39m \u001b[38;5;129;01mand\u001b[39;00m meta \u001b[38;5;129;01mnot\u001b[39;00m \u001b[38;5;129;01min\u001b[39;00m _matrix_meta:\n\u001b[0;32m    605\u001b[0m         \u001b[38;5;28;01mraise\u001b[39;00m \u001b[38;5;167;01mValueError\u001b[39;00m(\u001b[38;5;124mf\u001b[39m\u001b[38;5;124m\"\u001b[39m\u001b[38;5;124mDataFrame for \u001b[39m\u001b[38;5;132;01m{\u001b[39;00mmeta\u001b[38;5;132;01m}\u001b[39;00m\u001b[38;5;124m cannot have multiple columns\u001b[39m\u001b[38;5;124m\"\u001b[39m)\n",
      "File \u001b[1;32mc:\\Users\\ricke\\anaconda3\\envs\\neuralnet\\lib\\site-packages\\xgboost\\data.py:569\u001b[0m, in \u001b[0;36mpandas_check_dtypes\u001b[1;34m(data, enable_categorical)\u001b[0m\n\u001b[0;32m    562\u001b[0m \u001b[38;5;28;01mfor\u001b[39;00m dtype \u001b[38;5;129;01min\u001b[39;00m data\u001b[38;5;241m.\u001b[39mdtypes:\n\u001b[0;32m    563\u001b[0m     \u001b[38;5;28;01mif\u001b[39;00m \u001b[38;5;129;01mnot\u001b[39;00m (\n\u001b[0;32m    564\u001b[0m         (dtype\u001b[38;5;241m.\u001b[39mname \u001b[38;5;129;01min\u001b[39;00m _pandas_dtype_mapper)\n\u001b[0;32m    565\u001b[0m         \u001b[38;5;129;01mor\u001b[39;00m is_pd_sparse_dtype(dtype)\n\u001b[0;32m    566\u001b[0m         \u001b[38;5;129;01mor\u001b[39;00m (is_pd_cat_dtype(dtype) \u001b[38;5;129;01mand\u001b[39;00m enable_categorical)\n\u001b[0;32m    567\u001b[0m         \u001b[38;5;129;01mor\u001b[39;00m is_pa_ext_dtype(dtype)\n\u001b[0;32m    568\u001b[0m     ):\n\u001b[1;32m--> 569\u001b[0m         \u001b[43m_invalid_dataframe_dtype\u001b[49m\u001b[43m(\u001b[49m\u001b[43mdata\u001b[49m\u001b[43m)\u001b[49m\n\u001b[0;32m    571\u001b[0m     \u001b[38;5;28;01mif\u001b[39;00m is_pd_sparse_dtype(dtype):\n\u001b[0;32m    572\u001b[0m         sparse_extension \u001b[38;5;241m=\u001b[39m \u001b[38;5;28;01mTrue\u001b[39;00m\n",
      "File \u001b[1;32mc:\\Users\\ricke\\anaconda3\\envs\\neuralnet\\lib\\site-packages\\xgboost\\data.py:356\u001b[0m, in \u001b[0;36m_invalid_dataframe_dtype\u001b[1;34m(data)\u001b[0m\n\u001b[0;32m    354\u001b[0m type_err \u001b[38;5;241m=\u001b[39m \u001b[38;5;124m\"\u001b[39m\u001b[38;5;124mDataFrame.dtypes for data must be int, float, bool or category.\u001b[39m\u001b[38;5;124m\"\u001b[39m\n\u001b[0;32m    355\u001b[0m msg \u001b[38;5;241m=\u001b[39m \u001b[38;5;124mf\u001b[39m\u001b[38;5;124m\"\"\"\u001b[39m\u001b[38;5;132;01m{\u001b[39;00mtype_err\u001b[38;5;132;01m}\u001b[39;00m\u001b[38;5;124m \u001b[39m\u001b[38;5;132;01m{\u001b[39;00m_ENABLE_CAT_ERR\u001b[38;5;132;01m}\u001b[39;00m\u001b[38;5;124m \u001b[39m\u001b[38;5;132;01m{\u001b[39;00merr\u001b[38;5;132;01m}\u001b[39;00m\u001b[38;5;124m\"\"\"\u001b[39m\n\u001b[1;32m--> 356\u001b[0m \u001b[38;5;28;01mraise\u001b[39;00m \u001b[38;5;167;01mValueError\u001b[39;00m(msg)\n",
      "\u001b[1;31mValueError\u001b[0m: DataFrame.dtypes for data must be int, float, bool or category. When categorical type is supplied, the experimental DMatrix parameter`enable_categorical` must be set to `True`.  Invalid columns:TypeofContact: object, Occupation: object, Gender: object, ProductPitched: object, Designation: object, Marry: object, Car: object, Child: object, AgeGroup: object, TypeofContact_CityTier: object, TypeofContact_Occupation: object, TypeofContact_Gender: object, TypeofContact_ProductPitched: object, TypeofContact_PreferredPropertyStar: object, TypeofContact_Passport: object, TypeofContact_PitchSatisfactionScore: object, TypeofContact_Designation: object, TypeofContact_Marry: object, TypeofContact_Car: object, TypeofContact_Child: object, CityTier_Occupation: object, CityTier_Gender: object, CityTier_ProductPitched: object, CityTier_PreferredPropertyStar: object, CityTier_Passport: object, CityTier_PitchSatisfactionScore: object, CityTier_Designation: object, CityTier_Marry: object, CityTier_Car: object, CityTier_Child: object, Occupation_Gender: object, Occupation_ProductPitched: object, Occupation_PreferredPropertyStar: object, Occupation_Passport: object, Occupation_PitchSatisfactionScore: object, Occupation_Designation: object, Occupation_Marry: object, Occupation_Car: object, Occupation_Child: object, Gender_ProductPitched: object, Gender_PreferredPropertyStar: object, Gender_Passport: object, Gender_PitchSatisfactionScore: object, Gender_Designation: object, Gender_Marry: object, Gender_Car: object, Gender_Child: object, ProductPitched_PreferredPropertyStar: object, ProductPitched_Passport: object, ProductPitched_PitchSatisfactionScore: object, ProductPitched_Designation: object, ProductPitched_Marry: object, ProductPitched_Car: object, ProductPitched_Child: object, PreferredPropertyStar_Passport: object, PreferredPropertyStar_PitchSatisfactionScore: object, PreferredPropertyStar_Designation: object, PreferredPropertyStar_Marry: object, PreferredPropertyStar_Car: object, PreferredPropertyStar_Child: object, Passport_PitchSatisfactionScore: object, Passport_Designation: object, Passport_Marry: object, Passport_Car: object, Passport_Child: object, PitchSatisfactionScore_Designation: object, PitchSatisfactionScore_Marry: object, PitchSatisfactionScore_Car: object, PitchSatisfactionScore_Child: object, Designation_Marry: object, Designation_Car: object, Designation_Child: object, Marry_Car: object, Marry_Child: object, Car_Child: object"
     ]
    }
   ],
   "source": [
    "pred_train_list = []\n",
    "pred_test_list = []\n",
    "for model in models_gbdt:\n",
    "    pred_train, pred_test = predict_cv(model, X_gb, y_gb, df_test_gb)\n",
    "    pred_train_list.append(pred_train)\n",
    "    pred_test_list.append(pred_test)\n",
    "for model in models_nn:\n",
    "    pred_train, pred_test = predict_cv(model, X_nn, y_nn, df_test_nn)\n",
    "    pred_train_list.append(pred_train)\n",
    "    pred_test_list.append(pred_test)"
   ]
  },
  {
   "cell_type": "code",
   "execution_count": null,
   "metadata": {},
   "outputs": [
    {
     "name": "stdout",
     "output_type": "stream",
     "text": [
      "AUC for model 1: 0.8087502286445948\n",
      "AUC for model 2: 0.8259819612864352\n",
      "AUC for model 3: 0.8290901828080783\n",
      "AUC for model 4: 0.8206585771312366\n",
      "AUC for model 5: 0.8435089144492625\n",
      "AUC for model 6: 0.8460125727627799\n",
      "AUC for model 7: 0.910081478173856\n",
      "AUC for model 8: 0.915961006681802\n",
      "AUC for model 9: 0.8305629229925003\n",
      "AUC for model 10: 0.8260270177213009\n"
     ]
    }
   ],
   "source": [
    "# 1層目のモデルの評価\n",
    "for i, pred_train in enumerate(pred_train_list):\n",
    "    auc_score = roc_auc_score(y, pred_train)\n",
    "    print(f'AUC for model {i+1}: {auc_score}')"
   ]
  },
  {
   "cell_type": "code",
   "execution_count": null,
   "metadata": {},
   "outputs": [],
   "source": [
    "# 特徴量として使用する列名を作成\n",
    "column_names = [f'pred_{i+1}' for i in range(len(pred_train_list))]\n",
    "\n",
    "# 予測値を特徴量としてデータフレームを作成\n",
    "train_x_2 = pd.DataFrame(\n",
    "    {f'pred_{i+1}': pred_train_list[i] for i in range(len(pred_train_list))},\n",
    "    columns=column_names\n",
    ")\n",
    "\n",
    "test_x_2 = pd.DataFrame(\n",
    "    {f'pred_{i+1}': pred_test_list[i] for i in range(len(pred_test_list))},\n",
    "    columns=column_names\n",
    ")"
   ]
  },
  {
   "cell_type": "code",
   "execution_count": null,
   "metadata": {},
   "outputs": [
    {
     "name": "stdout",
     "output_type": "stream",
     "text": [
      "AUC: 0.9141412647005026\n"
     ]
    }
   ],
   "source": [
    "# 2層目のモデル\n",
    "# pred_train_2は、2層目のモデルの学習データのクロスバリデーションでの予測値\n",
    "# pred_test_2は、2層目のモデルのテストデータの予測値\n",
    "model_2 = Model2_Logistic()\n",
    "pred_train_2, pred_test_2 = predict_cv(model_2, train_x_2, y, test_x_2)\n",
    "print(f'AUC: {roc_auc_score(y, pred_train_2)}')"
   ]
  },
  {
   "cell_type": "code",
   "execution_count": null,
   "metadata": {},
   "outputs": [],
   "source": [
    "index = pd.read_csv('data/test.csv')['id'].values\n",
    "df_submit = pd.DataFrame({\n",
    "    \"id\": index,\n",
    "    \"prediction\": pred_test_2\n",
    "})"
   ]
  },
  {
   "cell_type": "code",
   "execution_count": null,
   "metadata": {},
   "outputs": [],
   "source": [
    "path = 'submission/submit_27.csv'"
   ]
  },
  {
   "cell_type": "code",
   "execution_count": null,
   "metadata": {},
   "outputs": [],
   "source": [
    "df_submit.to_csv(path, index=False, header=None)"
   ]
  },
  {
   "cell_type": "code",
   "execution_count": null,
   "metadata": {},
   "outputs": [],
   "source": []
  }
 ],
 "metadata": {
  "kernelspec": {
   "display_name": "competition",
   "language": "python",
   "name": "python3"
  },
  "language_info": {
   "codemirror_mode": {
    "name": "ipython",
    "version": 3
   },
   "file_extension": ".py",
   "mimetype": "text/x-python",
   "name": "python",
   "nbconvert_exporter": "python",
   "pygments_lexer": "ipython3",
   "version": "3.8.18"
  }
 },
 "nbformat": 4,
 "nbformat_minor": 2
}
