{
 "cells": [
  {
   "cell_type": "code",
   "execution_count": 1,
   "metadata": {},
   "outputs": [],
   "source": [
    "import os\n",
    "os.chdir('../../')"
   ]
  },
  {
   "cell_type": "code",
   "execution_count": 2,
   "metadata": {},
   "outputs": [],
   "source": [
    "import numpy as np\n",
    "import pandas as pd\n",
    "\n",
    "from scr.util import *\n",
    "from scr.engineering import *"
   ]
  },
  {
   "cell_type": "code",
   "execution_count": 3,
   "metadata": {},
   "outputs": [],
   "source": [
    "df_train = pd.read_csv('data/feature_engineered/train_feature_ok.csv')\n",
    "df_test = pd.read_csv('data/feature_engineered/test_feature_ok.csv')"
   ]
  },
  {
   "cell_type": "code",
   "execution_count": 9,
   "metadata": {},
   "outputs": [
    {
     "data": {
      "text/html": [
       "<div>\n",
       "<style scoped>\n",
       "    .dataframe tbody tr th:only-of-type {\n",
       "        vertical-align: middle;\n",
       "    }\n",
       "\n",
       "    .dataframe tbody tr th {\n",
       "        vertical-align: top;\n",
       "    }\n",
       "\n",
       "    .dataframe thead th {\n",
       "        text-align: right;\n",
       "    }\n",
       "</style>\n",
       "<table border=\"1\" class=\"dataframe\">\n",
       "  <thead>\n",
       "    <tr style=\"text-align: right;\">\n",
       "      <th></th>\n",
       "      <th>id</th>\n",
       "      <th>Age</th>\n",
       "      <th>TypeofContact</th>\n",
       "      <th>CityTier</th>\n",
       "      <th>DurationOfPitch</th>\n",
       "      <th>Occupation</th>\n",
       "      <th>Gender</th>\n",
       "      <th>NumberOfPersonVisiting</th>\n",
       "      <th>NumberOfFollowups</th>\n",
       "      <th>ProductPitched</th>\n",
       "      <th>...</th>\n",
       "      <th>NumberOfTrips</th>\n",
       "      <th>Passport</th>\n",
       "      <th>PitchSatisfactionScore</th>\n",
       "      <th>Designation</th>\n",
       "      <th>MonthlyIncome</th>\n",
       "      <th>ProdTaken</th>\n",
       "      <th>Marry</th>\n",
       "      <th>Car</th>\n",
       "      <th>Child</th>\n",
       "      <th>AgeGroup</th>\n",
       "    </tr>\n",
       "  </thead>\n",
       "  <tbody>\n",
       "    <tr>\n",
       "      <th>0</th>\n",
       "      <td>0</td>\n",
       "      <td>50</td>\n",
       "      <td>Self Enquiry</td>\n",
       "      <td>2</td>\n",
       "      <td>6.803505</td>\n",
       "      <td>Large Business</td>\n",
       "      <td>male</td>\n",
       "      <td>1.0</td>\n",
       "      <td>4.0</td>\n",
       "      <td>Basic</td>\n",
       "      <td>...</td>\n",
       "      <td>5.0</td>\n",
       "      <td>1</td>\n",
       "      <td>4</td>\n",
       "      <td>Executive</td>\n",
       "      <td>12.444719</td>\n",
       "      <td>1</td>\n",
       "      <td>Single</td>\n",
       "      <td>No Car</td>\n",
       "      <td>0_child</td>\n",
       "      <td>50s</td>\n",
       "    </tr>\n",
       "    <tr>\n",
       "      <th>1</th>\n",
       "      <td>1</td>\n",
       "      <td>56</td>\n",
       "      <td>Company Invited</td>\n",
       "      <td>1</td>\n",
       "      <td>6.734592</td>\n",
       "      <td>Salaried</td>\n",
       "      <td>male</td>\n",
       "      <td>1.0</td>\n",
       "      <td>4.0</td>\n",
       "      <td>Standard</td>\n",
       "      <td>...</td>\n",
       "      <td>2.0</td>\n",
       "      <td>1</td>\n",
       "      <td>4</td>\n",
       "      <td>Senior Manager</td>\n",
       "      <td>12.910348</td>\n",
       "      <td>0</td>\n",
       "      <td>Divorced</td>\n",
       "      <td>Has Car</td>\n",
       "      <td>0_child</td>\n",
       "      <td>50s</td>\n",
       "    </tr>\n",
       "    <tr>\n",
       "      <th>2</th>\n",
       "      <td>2</td>\n",
       "      <td>35</td>\n",
       "      <td>Self Enquiry</td>\n",
       "      <td>1</td>\n",
       "      <td>6.398595</td>\n",
       "      <td>Large Business</td>\n",
       "      <td>female</td>\n",
       "      <td>1.0</td>\n",
       "      <td>3.0</td>\n",
       "      <td>Basic</td>\n",
       "      <td>...</td>\n",
       "      <td>4.0</td>\n",
       "      <td>0</td>\n",
       "      <td>4</td>\n",
       "      <td>Executive</td>\n",
       "      <td>12.535901</td>\n",
       "      <td>1</td>\n",
       "      <td>Married</td>\n",
       "      <td>No Car</td>\n",
       "      <td>0_child</td>\n",
       "      <td>30s</td>\n",
       "    </tr>\n",
       "    <tr>\n",
       "      <th>3</th>\n",
       "      <td>3</td>\n",
       "      <td>37</td>\n",
       "      <td>Self Enquiry</td>\n",
       "      <td>2</td>\n",
       "      <td>6.985642</td>\n",
       "      <td>Small Business</td>\n",
       "      <td>female</td>\n",
       "      <td>1.0</td>\n",
       "      <td>3.0</td>\n",
       "      <td>Standard</td>\n",
       "      <td>...</td>\n",
       "      <td>1.0</td>\n",
       "      <td>0</td>\n",
       "      <td>5</td>\n",
       "      <td>Senior Manager</td>\n",
       "      <td>12.697122</td>\n",
       "      <td>0</td>\n",
       "      <td>Divorced</td>\n",
       "      <td>Has Car</td>\n",
       "      <td>0_child</td>\n",
       "      <td>30s</td>\n",
       "    </tr>\n",
       "    <tr>\n",
       "      <th>4</th>\n",
       "      <td>4</td>\n",
       "      <td>48</td>\n",
       "      <td>Company Invited</td>\n",
       "      <td>3</td>\n",
       "      <td>6.928538</td>\n",
       "      <td>Small Business</td>\n",
       "      <td>female</td>\n",
       "      <td>1.0</td>\n",
       "      <td>3.0</td>\n",
       "      <td>Basic</td>\n",
       "      <td>...</td>\n",
       "      <td>4.0</td>\n",
       "      <td>0</td>\n",
       "      <td>4</td>\n",
       "      <td>Executive</td>\n",
       "      <td>12.462403</td>\n",
       "      <td>1</td>\n",
       "      <td>Single</td>\n",
       "      <td>Has Car</td>\n",
       "      <td>0_child</td>\n",
       "      <td>40s</td>\n",
       "    </tr>\n",
       "  </tbody>\n",
       "</table>\n",
       "<p>5 rows × 21 columns</p>\n",
       "</div>"
      ],
      "text/plain": [
       "   id  Age    TypeofContact  CityTier  DurationOfPitch      Occupation  \\\n",
       "0   0   50     Self Enquiry         2         6.803505  Large Business   \n",
       "1   1   56  Company Invited         1         6.734592        Salaried   \n",
       "2   2   35     Self Enquiry         1         6.398595  Large Business   \n",
       "3   3   37     Self Enquiry         2         6.985642  Small Business   \n",
       "4   4   48  Company Invited         3         6.928538  Small Business   \n",
       "\n",
       "   Gender  NumberOfPersonVisiting  NumberOfFollowups ProductPitched  ...  \\\n",
       "0    male                     1.0                4.0          Basic  ...   \n",
       "1    male                     1.0                4.0       Standard  ...   \n",
       "2  female                     1.0                3.0          Basic  ...   \n",
       "3  female                     1.0                3.0       Standard  ...   \n",
       "4  female                     1.0                3.0          Basic  ...   \n",
       "\n",
       "   NumberOfTrips  Passport  PitchSatisfactionScore     Designation  \\\n",
       "0            5.0         1                       4       Executive   \n",
       "1            2.0         1                       4  Senior Manager   \n",
       "2            4.0         0                       4       Executive   \n",
       "3            1.0         0                       5  Senior Manager   \n",
       "4            4.0         0                       4       Executive   \n",
       "\n",
       "  MonthlyIncome  ProdTaken     Marry      Car    Child AgeGroup  \n",
       "0     12.444719          1    Single   No Car  0_child      50s  \n",
       "1     12.910348          0  Divorced  Has Car  0_child      50s  \n",
       "2     12.535901          1   Married   No Car  0_child      30s  \n",
       "3     12.697122          0  Divorced  Has Car  0_child      30s  \n",
       "4     12.462403          1    Single  Has Car  0_child      40s  \n",
       "\n",
       "[5 rows x 21 columns]"
      ]
     },
     "metadata": {},
     "output_type": "display_data"
    },
    {
     "data": {
      "text/html": [
       "<div>\n",
       "<style scoped>\n",
       "    .dataframe tbody tr th:only-of-type {\n",
       "        vertical-align: middle;\n",
       "    }\n",
       "\n",
       "    .dataframe tbody tr th {\n",
       "        vertical-align: top;\n",
       "    }\n",
       "\n",
       "    .dataframe thead th {\n",
       "        text-align: right;\n",
       "    }\n",
       "</style>\n",
       "<table border=\"1\" class=\"dataframe\">\n",
       "  <thead>\n",
       "    <tr style=\"text-align: right;\">\n",
       "      <th></th>\n",
       "      <th>id</th>\n",
       "      <th>Age</th>\n",
       "      <th>TypeofContact</th>\n",
       "      <th>CityTier</th>\n",
       "      <th>DurationOfPitch</th>\n",
       "      <th>Occupation</th>\n",
       "      <th>Gender</th>\n",
       "      <th>NumberOfPersonVisiting</th>\n",
       "      <th>NumberOfFollowups</th>\n",
       "      <th>ProductPitched</th>\n",
       "      <th>PreferredPropertyStar</th>\n",
       "      <th>NumberOfTrips</th>\n",
       "      <th>Passport</th>\n",
       "      <th>PitchSatisfactionScore</th>\n",
       "      <th>Designation</th>\n",
       "      <th>MonthlyIncome</th>\n",
       "      <th>Marry</th>\n",
       "      <th>Car</th>\n",
       "      <th>Child</th>\n",
       "      <th>AgeGroup</th>\n",
       "    </tr>\n",
       "  </thead>\n",
       "  <tbody>\n",
       "    <tr>\n",
       "      <th>0</th>\n",
       "      <td>3489</td>\n",
       "      <td>48</td>\n",
       "      <td>Self Enquiry</td>\n",
       "      <td>2</td>\n",
       "      <td>6.660575</td>\n",
       "      <td>Small Business</td>\n",
       "      <td>male</td>\n",
       "      <td>1.0</td>\n",
       "      <td>4.0</td>\n",
       "      <td>Super Deluxe</td>\n",
       "      <td>3.0</td>\n",
       "      <td>7.0</td>\n",
       "      <td>0</td>\n",
       "      <td>3</td>\n",
       "      <td>AVP</td>\n",
       "      <td>13.116247</td>\n",
       "      <td>Married</td>\n",
       "      <td>Has Car</td>\n",
       "      <td>0_child</td>\n",
       "      <td>40s</td>\n",
       "    </tr>\n",
       "    <tr>\n",
       "      <th>1</th>\n",
       "      <td>3490</td>\n",
       "      <td>30</td>\n",
       "      <td>Self Enquiry</td>\n",
       "      <td>2</td>\n",
       "      <td>6.580639</td>\n",
       "      <td>Small Business</td>\n",
       "      <td>female</td>\n",
       "      <td>1.0</td>\n",
       "      <td>4.0</td>\n",
       "      <td>Standard</td>\n",
       "      <td>3.0</td>\n",
       "      <td>4.0</td>\n",
       "      <td>1</td>\n",
       "      <td>3</td>\n",
       "      <td>Senior Manager</td>\n",
       "      <td>12.611541</td>\n",
       "      <td>Married</td>\n",
       "      <td>No Car</td>\n",
       "      <td>0_child</td>\n",
       "      <td>30s</td>\n",
       "    </tr>\n",
       "    <tr>\n",
       "      <th>2</th>\n",
       "      <td>3491</td>\n",
       "      <td>25</td>\n",
       "      <td>Self Enquiry</td>\n",
       "      <td>1</td>\n",
       "      <td>6.293419</td>\n",
       "      <td>Salaried</td>\n",
       "      <td>female</td>\n",
       "      <td>1.0</td>\n",
       "      <td>4.0</td>\n",
       "      <td>Basic</td>\n",
       "      <td>3.0</td>\n",
       "      <td>1.0</td>\n",
       "      <td>0</td>\n",
       "      <td>3</td>\n",
       "      <td>Executive</td>\n",
       "      <td>12.468441</td>\n",
       "      <td>Divorced</td>\n",
       "      <td>No Car</td>\n",
       "      <td>0_child</td>\n",
       "      <td>20s</td>\n",
       "    </tr>\n",
       "    <tr>\n",
       "      <th>3</th>\n",
       "      <td>3492</td>\n",
       "      <td>21</td>\n",
       "      <td>Company Invited</td>\n",
       "      <td>2</td>\n",
       "      <td>6.042633</td>\n",
       "      <td>Salaried</td>\n",
       "      <td>male</td>\n",
       "      <td>1.0</td>\n",
       "      <td>4.0</td>\n",
       "      <td>Basic</td>\n",
       "      <td>4.0</td>\n",
       "      <td>1.0</td>\n",
       "      <td>0</td>\n",
       "      <td>3</td>\n",
       "      <td>Senior Manager</td>\n",
       "      <td>12.467960</td>\n",
       "      <td>Divorced</td>\n",
       "      <td>Has Car</td>\n",
       "      <td>0_child</td>\n",
       "      <td>20s</td>\n",
       "    </tr>\n",
       "    <tr>\n",
       "      <th>4</th>\n",
       "      <td>3493</td>\n",
       "      <td>41</td>\n",
       "      <td>Company Invited</td>\n",
       "      <td>1</td>\n",
       "      <td>6.042633</td>\n",
       "      <td>Salaried</td>\n",
       "      <td>male</td>\n",
       "      <td>1.0</td>\n",
       "      <td>4.0</td>\n",
       "      <td>Basic</td>\n",
       "      <td>3.0</td>\n",
       "      <td>1.0</td>\n",
       "      <td>0</td>\n",
       "      <td>4</td>\n",
       "      <td>Executive</td>\n",
       "      <td>12.501838</td>\n",
       "      <td>Single</td>\n",
       "      <td>Has Car</td>\n",
       "      <td>0_child</td>\n",
       "      <td>40s</td>\n",
       "    </tr>\n",
       "  </tbody>\n",
       "</table>\n",
       "</div>"
      ],
      "text/plain": [
       "     id  Age    TypeofContact  CityTier  DurationOfPitch      Occupation  \\\n",
       "0  3489   48     Self Enquiry         2         6.660575  Small Business   \n",
       "1  3490   30     Self Enquiry         2         6.580639  Small Business   \n",
       "2  3491   25     Self Enquiry         1         6.293419        Salaried   \n",
       "3  3492   21  Company Invited         2         6.042633        Salaried   \n",
       "4  3493   41  Company Invited         1         6.042633        Salaried   \n",
       "\n",
       "   Gender  NumberOfPersonVisiting  NumberOfFollowups ProductPitched  \\\n",
       "0    male                     1.0                4.0   Super Deluxe   \n",
       "1  female                     1.0                4.0       Standard   \n",
       "2  female                     1.0                4.0          Basic   \n",
       "3    male                     1.0                4.0          Basic   \n",
       "4    male                     1.0                4.0          Basic   \n",
       "\n",
       "   PreferredPropertyStar  NumberOfTrips  Passport  PitchSatisfactionScore  \\\n",
       "0                    3.0            7.0         0                       3   \n",
       "1                    3.0            4.0         1                       3   \n",
       "2                    3.0            1.0         0                       3   \n",
       "3                    4.0            1.0         0                       3   \n",
       "4                    3.0            1.0         0                       4   \n",
       "\n",
       "      Designation  MonthlyIncome     Marry      Car    Child AgeGroup  \n",
       "0             AVP      13.116247   Married  Has Car  0_child      40s  \n",
       "1  Senior Manager      12.611541   Married   No Car  0_child      30s  \n",
       "2       Executive      12.468441  Divorced   No Car  0_child      20s  \n",
       "3  Senior Manager      12.467960  Divorced  Has Car  0_child      20s  \n",
       "4       Executive      12.501838    Single  Has Car  0_child      40s  "
      ]
     },
     "metadata": {},
     "output_type": "display_data"
    }
   ],
   "source": [
    "# 特徴量作成前のデータセット\n",
    "\n",
    "# display(df_train.head())\n",
    "# display(df_test.head())"
   ]
  },
  {
   "cell_type": "markdown",
   "metadata": {},
   "source": [
    "# 特徴量作成"
   ]
  },
  {
   "cell_type": "markdown",
   "metadata": {},
   "source": [
    "## TypeOfContactNuLL\n",
    "TypeOfContact が欠損値の場合を、明らかに学習させるための特徴量"
   ]
  },
  {
   "cell_type": "code",
   "execution_count": 13,
   "metadata": {},
   "outputs": [],
   "source": [
    "df_train['TypeofContactNULL'] = df_train['TypeofContact'].apply(make_TypeOfContactNULL)\n",
    "df_test['TypeofContactNULL'] = df_test['TypeofContact'].apply(make_TypeOfContactNULL)"
   ]
  },
  {
   "cell_type": "markdown",
   "metadata": {},
   "source": [
    "## Motivation\n",
    "顧客の旅行に対する意欲を表す特徴量"
   ]
  },
  {
   "cell_type": "code",
   "execution_count": 18,
   "metadata": {},
   "outputs": [],
   "source": [
    "df_train['Motivation'] = df_train['NumberOfPersonVisiting'] * df_train['NumberOfFollowups'] + (df_train['Passport'] * 10)\n",
    "df_test['Motivation'] = df_test['NumberOfPersonVisiting'] * df_test['NumberOfFollowups'] + (df_test['Passport'] * 10)"
   ]
  },
  {
   "cell_type": "markdown",
   "metadata": {},
   "source": [
    "## EconomicPower\n",
    "顧客の経済力を表す特徴量"
   ]
  },
  {
   "cell_type": "code",
   "execution_count": 21,
   "metadata": {},
   "outputs": [],
   "source": [
    "df_train['EconomicPower'] = df_train['MonthlyIncome'] * (4 - df_train['CityTier']) * df_train['Gender'].apply(make_motivation_gender)\n",
    "df_test['EconomicPower'] = df_test['MonthlyIncome'] * (4 - df_test['CityTier']) * df_test['Gender'].apply(make_motivation_gender)"
   ]
  },
  {
   "cell_type": "markdown",
   "metadata": {},
   "source": [
    "## Child01\n",
    "顧客に子どもがいるかどうかを表す特徴量"
   ]
  },
  {
   "cell_type": "code",
   "execution_count": 6,
   "metadata": {},
   "outputs": [],
   "source": [
    "df_train['Child01'] = df_train['Child'].apply(make_child01)\n",
    "df_test['Child01'] = df_test['Child'].apply(make_child01)"
   ]
  },
  {
   "cell_type": "markdown",
   "metadata": {},
   "source": [
    "## TripEasier\n",
    "旅行の行きやすさを表す特徴量"
   ]
  },
  {
   "cell_type": "code",
   "execution_count": 22,
   "metadata": {},
   "outputs": [],
   "source": [
    "df_train['TripEasier'] = (5 - df_train['NumberOfPersonVisiting']) * df_train['ProductPitched'].apply(make_TripEasier_ProductPitched) * df_train['Marry'].apply(make_TripEasier_Marry) * df_train['Child'].apply(make_TripEasier_Child)\n",
    "df_test['TripEasier'] = (5 - df_test['NumberOfPersonVisiting']) * df_test['ProductPitched'].apply(make_TripEasier_ProductPitched) * df_test['Marry'].apply(make_TripEasier_Marry) * df_test['Child'].apply(make_TripEasier_Child)"
   ]
  },
  {
   "cell_type": "markdown",
   "metadata": {},
   "source": [
    "## SalesPerformance\n",
    "営業担当者の単位時間当たりのパフォーマンス"
   ]
  },
  {
   "cell_type": "code",
   "execution_count": 13,
   "metadata": {},
   "outputs": [],
   "source": [
    "df_train['SalesPerformance'] = df_train['NumberOfFollowups'] * df_train['PitchSatisfactionScore'] / df_train['DurationOfPitch']\n",
    "df_test['SalesPerformance'] = df_train['NumberOfFollowups'] * df_test['PitchSatisfactionScore'] / df_test['DurationOfPitch']"
   ]
  },
  {
   "cell_type": "markdown",
   "metadata": {},
   "source": [
    "## LivingCost\n",
    "生活コストを表す数値"
   ]
  },
  {
   "cell_type": "code",
   "execution_count": 5,
   "metadata": {},
   "outputs": [],
   "source": [
    "def make_LivingCost_CityTier(citytier):\n",
    "    if citytier == 1:\n",
    "        return 1.5\n",
    "    elif citytier == 2:\n",
    "        return 1.3\n",
    "    else:\n",
    "        return 1"
   ]
  },
  {
   "cell_type": "code",
   "execution_count": 6,
   "metadata": {},
   "outputs": [],
   "source": [
    "def make_LivingCost_Child(child):\n",
    "    if child == '0_child':\n",
    "        return 0\n",
    "    elif child == '1_child':\n",
    "        return 0.1\n",
    "    elif child == '2_child':\n",
    "        return 0.2\n",
    "    else:\n",
    "        return 0.3"
   ]
  },
  {
   "cell_type": "code",
   "execution_count": 7,
   "metadata": {},
   "outputs": [],
   "source": [
    "def make_LivingCost_Marry(marry):\n",
    "    if marry == 'Married':\n",
    "        return 0.1\n",
    "    else:\n",
    "        return 0"
   ]
  },
  {
   "cell_type": "code",
   "execution_count": 8,
   "metadata": {},
   "outputs": [],
   "source": [
    "def make_LivingCost_Car(car):\n",
    "    if car == 'Has Car':\n",
    "        return 0.05\n",
    "    else:\n",
    "        return 0"
   ]
  },
  {
   "cell_type": "code",
   "execution_count": 9,
   "metadata": {},
   "outputs": [],
   "source": [
    "df_train['LivingCost'] = df_train['MonthlyIncome'] / (df_train['CityTier'].apply(make_LivingCost_CityTier) * (1 + df_train['Child'].apply(make_LivingCost_Child) + df_train['Marry'].apply(make_LivingCost_Marry) + df_train['Car'].apply(make_LivingCost_Car)))\n",
    "df_test['LivingCost'] = df_test['MonthlyIncome'] / (df_test['CityTier'].apply(make_LivingCost_CityTier) * (1 + df_test['Child'].apply(make_LivingCost_Child) + df_test['Marry'].apply(make_LivingCost_Marry) + df_test['Car'].apply(make_LivingCost_Car)))"
   ]
  },
  {
   "cell_type": "markdown",
   "metadata": {},
   "source": [
    "## EconomicStability\n",
    "経済安定性指標"
   ]
  },
  {
   "cell_type": "code",
   "execution_count": 17,
   "metadata": {},
   "outputs": [],
   "source": [
    "def make_EconomicStability_Occupation(occupation):\n",
    "    if occupation == 'Large Business':\n",
    "        return 1.2\n",
    "    elif occupation == 'Salaried':\n",
    "        return 1.1\n",
    "    else:\n",
    "        return 0.9"
   ]
  },
  {
   "cell_type": "code",
   "execution_count": 18,
   "metadata": {},
   "outputs": [],
   "source": [
    "def make_EconomicStability_Disignation(designation):\n",
    "    if designation == 'VP':\n",
    "        return 1.5\n",
    "    elif designation == 'AVP':\n",
    "        return 1.4\n",
    "    elif designation == 'Senior Manager':\n",
    "        return 1.3\n",
    "    elif designation == 'Manager':\n",
    "        return 1.2\n",
    "    else:\n",
    "        return 1.1"
   ]
  },
  {
   "cell_type": "code",
   "execution_count": 20,
   "metadata": {},
   "outputs": [],
   "source": [
    "df_train['EconomicStability'] = df_train['MonthlyIncome'] * df_train['Occupation'].apply(make_EconomicStability_Occupation) * df_train['Designation'].apply(make_EconomicStability_Disignation)\n",
    "df_test['EconomicStability'] = df_test['MonthlyIncome'] * df_test['Occupation'].apply(make_EconomicStability_Occupation) * df_test['Designation'].apply(make_EconomicStability_Disignation)"
   ]
  },
  {
   "cell_type": "markdown",
   "metadata": {},
   "source": [
    "# CSV出力"
   ]
  },
  {
   "cell_type": "code",
   "execution_count": 22,
   "metadata": {},
   "outputs": [],
   "source": [
    "if 'test' in df_train.columns:\n",
    "    df_train = df_train.drop(columns='test', axis=1)"
   ]
  },
  {
   "cell_type": "code",
   "execution_count": 23,
   "metadata": {},
   "outputs": [],
   "source": [
    "df_train.to_csv('data/feature_engineered/train_feature_ok.csv', index=False)\n",
    "df_test.to_csv('data/feature_engineered/test_feature_ok.csv', index=False)"
   ]
  }
 ],
 "metadata": {
  "kernelspec": {
   "display_name": "competition",
   "language": "python",
   "name": "python3"
  },
  "language_info": {
   "codemirror_mode": {
    "name": "ipython",
    "version": 3
   },
   "file_extension": ".py",
   "mimetype": "text/x-python",
   "name": "python",
   "nbconvert_exporter": "python",
   "pygments_lexer": "ipython3",
   "version": "3.12.4"
  }
 },
 "nbformat": 4,
 "nbformat_minor": 2
}
