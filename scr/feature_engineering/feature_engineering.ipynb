{
 "cells": [
  {
   "cell_type": "code",
   "execution_count": 2,
   "metadata": {},
   "outputs": [],
   "source": [
    "import os\n",
    "os.chdir('../../')"
   ]
  },
  {
   "cell_type": "code",
   "execution_count": 3,
   "metadata": {},
   "outputs": [],
   "source": [
    "import numpy as np\n",
    "import pandas as pd\n",
    "\n",
    "from scr.util import *\n",
    "from scr.feature_engineering.engineering import *"
   ]
  },
  {
   "cell_type": "code",
   "execution_count": 69,
   "metadata": {},
   "outputs": [],
   "source": [
    "df_train = pd.read_csv('data/feature_engineered/null_cat/train_null_cat.csv')\n",
    "df_test = pd.read_csv('data/feature_engineered/null_cat/test_null_cat.csv')"
   ]
  },
  {
   "cell_type": "code",
   "execution_count": 71,
   "metadata": {},
   "outputs": [
    {
     "data": {
      "text/html": [
       "<div>\n",
       "<style scoped>\n",
       "    .dataframe tbody tr th:only-of-type {\n",
       "        vertical-align: middle;\n",
       "    }\n",
       "\n",
       "    .dataframe tbody tr th {\n",
       "        vertical-align: top;\n",
       "    }\n",
       "\n",
       "    .dataframe thead th {\n",
       "        text-align: right;\n",
       "    }\n",
       "</style>\n",
       "<table border=\"1\" class=\"dataframe\">\n",
       "  <thead>\n",
       "    <tr style=\"text-align: right;\">\n",
       "      <th></th>\n",
       "      <th>TypeofContactNULL</th>\n",
       "      <th>Motivation</th>\n",
       "      <th>EconomicPower</th>\n",
       "      <th>Child01</th>\n",
       "      <th>TripEasier</th>\n",
       "      <th>SalesPerformance</th>\n",
       "      <th>LivingCost</th>\n",
       "      <th>EconomicStability</th>\n",
       "      <th>TripFreaqency</th>\n",
       "      <th>NumberOfTrips_log</th>\n",
       "      <th>TravelCost</th>\n",
       "      <th>EconomicSegment</th>\n",
       "      <th>PackageMatch</th>\n",
       "      <th>IsFamily</th>\n",
       "    </tr>\n",
       "  </thead>\n",
       "  <tbody>\n",
       "    <tr>\n",
       "      <th>0</th>\n",
       "      <td>0</td>\n",
       "      <td>14</td>\n",
       "      <td>32.356270</td>\n",
       "      <td>0</td>\n",
       "      <td>48</td>\n",
       "      <td>2.351729</td>\n",
       "      <td>9.572861</td>\n",
       "      <td>16.427030</td>\n",
       "      <td>1</td>\n",
       "      <td>1.791759</td>\n",
       "      <td>2.791759</td>\n",
       "      <td>0</td>\n",
       "      <td>1.0</td>\n",
       "      <td>0</td>\n",
       "    </tr>\n",
       "    <tr>\n",
       "      <th>1</th>\n",
       "      <td>0</td>\n",
       "      <td>14</td>\n",
       "      <td>50.350356</td>\n",
       "      <td>0</td>\n",
       "      <td>8</td>\n",
       "      <td>2.375794</td>\n",
       "      <td>8.197046</td>\n",
       "      <td>18.461797</td>\n",
       "      <td>0</td>\n",
       "      <td>1.098612</td>\n",
       "      <td>2.098612</td>\n",
       "      <td>1</td>\n",
       "      <td>1.0</td>\n",
       "      <td>0</td>\n",
       "    </tr>\n",
       "    <tr>\n",
       "      <th>2</th>\n",
       "      <td>0</td>\n",
       "      <td>3</td>\n",
       "      <td>37.607704</td>\n",
       "      <td>0</td>\n",
       "      <td>24</td>\n",
       "      <td>1.875412</td>\n",
       "      <td>7.597516</td>\n",
       "      <td>16.547390</td>\n",
       "      <td>0</td>\n",
       "      <td>1.609438</td>\n",
       "      <td>2.609438</td>\n",
       "      <td>2</td>\n",
       "      <td>1.0</td>\n",
       "      <td>1</td>\n",
       "    </tr>\n",
       "    <tr>\n",
       "      <th>3</th>\n",
       "      <td>0</td>\n",
       "      <td>3</td>\n",
       "      <td>25.394244</td>\n",
       "      <td>0</td>\n",
       "      <td>8</td>\n",
       "      <td>2.147262</td>\n",
       "      <td>9.301921</td>\n",
       "      <td>14.855633</td>\n",
       "      <td>0</td>\n",
       "      <td>0.693147</td>\n",
       "      <td>2.539721</td>\n",
       "      <td>3</td>\n",
       "      <td>0.8</td>\n",
       "      <td>0</td>\n",
       "    </tr>\n",
       "    <tr>\n",
       "      <th>4</th>\n",
       "      <td>0</td>\n",
       "      <td>3</td>\n",
       "      <td>12.462403</td>\n",
       "      <td>0</td>\n",
       "      <td>48</td>\n",
       "      <td>1.731967</td>\n",
       "      <td>11.868956</td>\n",
       "      <td>12.337779</td>\n",
       "      <td>0</td>\n",
       "      <td>1.609438</td>\n",
       "      <td>3.914157</td>\n",
       "      <td>4</td>\n",
       "      <td>0.8</td>\n",
       "      <td>0</td>\n",
       "    </tr>\n",
       "  </tbody>\n",
       "</table>\n",
       "</div>"
      ],
      "text/plain": [
       "   TypeofContactNULL  Motivation  EconomicPower  Child01  TripEasier  \\\n",
       "0                  0          14      32.356270        0          48   \n",
       "1                  0          14      50.350356        0           8   \n",
       "2                  0           3      37.607704        0          24   \n",
       "3                  0           3      25.394244        0           8   \n",
       "4                  0           3      12.462403        0          48   \n",
       "\n",
       "   SalesPerformance  LivingCost  EconomicStability  TripFreaqency  \\\n",
       "0          2.351729    9.572861          16.427030              1   \n",
       "1          2.375794    8.197046          18.461797              0   \n",
       "2          1.875412    7.597516          16.547390              0   \n",
       "3          2.147262    9.301921          14.855633              0   \n",
       "4          1.731967   11.868956          12.337779              0   \n",
       "\n",
       "   NumberOfTrips_log  TravelCost  EconomicSegment  PackageMatch  IsFamily  \n",
       "0           1.791759    2.791759                0           1.0         0  \n",
       "1           1.098612    2.098612                1           1.0         0  \n",
       "2           1.609438    2.609438                2           1.0         1  \n",
       "3           0.693147    2.539721                3           0.8         0  \n",
       "4           1.609438    3.914157                4           0.8         0  "
      ]
     },
     "metadata": {},
     "output_type": "display_data"
    },
    {
     "data": {
      "text/html": [
       "<div>\n",
       "<style scoped>\n",
       "    .dataframe tbody tr th:only-of-type {\n",
       "        vertical-align: middle;\n",
       "    }\n",
       "\n",
       "    .dataframe tbody tr th {\n",
       "        vertical-align: top;\n",
       "    }\n",
       "\n",
       "    .dataframe thead th {\n",
       "        text-align: right;\n",
       "    }\n",
       "</style>\n",
       "<table border=\"1\" class=\"dataframe\">\n",
       "  <thead>\n",
       "    <tr style=\"text-align: right;\">\n",
       "      <th></th>\n",
       "      <th>TypeofContactNULL</th>\n",
       "      <th>Motivation</th>\n",
       "      <th>EconomicPower</th>\n",
       "      <th>Child01</th>\n",
       "      <th>TripEasier</th>\n",
       "      <th>SalesPerformance</th>\n",
       "      <th>LivingCost</th>\n",
       "      <th>EconomicStability</th>\n",
       "      <th>TripFreaqency</th>\n",
       "      <th>NumberOfTrips_log</th>\n",
       "      <th>TravelCost</th>\n",
       "      <th>EconomicSegment</th>\n",
       "      <th>PackageMatch</th>\n",
       "      <th>IsFamily</th>\n",
       "    </tr>\n",
       "  </thead>\n",
       "  <tbody>\n",
       "    <tr>\n",
       "      <th>0</th>\n",
       "      <td>0</td>\n",
       "      <td>4</td>\n",
       "      <td>34.102241</td>\n",
       "      <td>0</td>\n",
       "      <td>0</td>\n",
       "      <td>1.801646</td>\n",
       "      <td>8.773409</td>\n",
       "      <td>16.526471</td>\n",
       "      <td>1</td>\n",
       "      <td>2.079442</td>\n",
       "      <td>3.079442</td>\n",
       "      <td>10</td>\n",
       "      <td>0.6</td>\n",
       "      <td>1</td>\n",
       "    </tr>\n",
       "    <tr>\n",
       "      <th>1</th>\n",
       "      <td>0</td>\n",
       "      <td>14</td>\n",
       "      <td>25.223082</td>\n",
       "      <td>0</td>\n",
       "      <td>8</td>\n",
       "      <td>1.823531</td>\n",
       "      <td>8.819260</td>\n",
       "      <td>14.755503</td>\n",
       "      <td>0</td>\n",
       "      <td>1.609438</td>\n",
       "      <td>2.609438</td>\n",
       "      <td>3</td>\n",
       "      <td>1.0</td>\n",
       "      <td>1</td>\n",
       "    </tr>\n",
       "    <tr>\n",
       "      <th>2</th>\n",
       "      <td>0</td>\n",
       "      <td>4</td>\n",
       "      <td>37.405322</td>\n",
       "      <td>0</td>\n",
       "      <td>24</td>\n",
       "      <td>1.430065</td>\n",
       "      <td>8.312294</td>\n",
       "      <td>15.086813</td>\n",
       "      <td>0</td>\n",
       "      <td>0.693147</td>\n",
       "      <td>1.693147</td>\n",
       "      <td>13</td>\n",
       "      <td>1.0</td>\n",
       "      <td>0</td>\n",
       "    </tr>\n",
       "    <tr>\n",
       "      <th>3</th>\n",
       "      <td>0</td>\n",
       "      <td>4</td>\n",
       "      <td>32.416696</td>\n",
       "      <td>0</td>\n",
       "      <td>24</td>\n",
       "      <td>1.489417</td>\n",
       "      <td>9.134037</td>\n",
       "      <td>17.829183</td>\n",
       "      <td>0</td>\n",
       "      <td>0.693147</td>\n",
       "      <td>2.539721</td>\n",
       "      <td>20</td>\n",
       "      <td>0.8</td>\n",
       "      <td>0</td>\n",
       "    </tr>\n",
       "    <tr>\n",
       "      <th>4</th>\n",
       "      <td>0</td>\n",
       "      <td>4</td>\n",
       "      <td>48.757169</td>\n",
       "      <td>0</td>\n",
       "      <td>48</td>\n",
       "      <td>1.985889</td>\n",
       "      <td>7.937675</td>\n",
       "      <td>15.127224</td>\n",
       "      <td>0</td>\n",
       "      <td>0.693147</td>\n",
       "      <td>1.693147</td>\n",
       "      <td>13</td>\n",
       "      <td>1.0</td>\n",
       "      <td>0</td>\n",
       "    </tr>\n",
       "  </tbody>\n",
       "</table>\n",
       "</div>"
      ],
      "text/plain": [
       "   TypeofContactNULL  Motivation  EconomicPower  Child01  TripEasier  \\\n",
       "0                  0           4      34.102241        0           0   \n",
       "1                  0          14      25.223082        0           8   \n",
       "2                  0           4      37.405322        0          24   \n",
       "3                  0           4      32.416696        0          24   \n",
       "4                  0           4      48.757169        0          48   \n",
       "\n",
       "   SalesPerformance  LivingCost  EconomicStability  TripFreaqency  \\\n",
       "0          1.801646    8.773409          16.526471              1   \n",
       "1          1.823531    8.819260          14.755503              0   \n",
       "2          1.430065    8.312294          15.086813              0   \n",
       "3          1.489417    9.134037          17.829183              0   \n",
       "4          1.985889    7.937675          15.127224              0   \n",
       "\n",
       "   NumberOfTrips_log  TravelCost  EconomicSegment  PackageMatch  IsFamily  \n",
       "0           2.079442    3.079442               10           0.6         1  \n",
       "1           1.609438    2.609438                3           1.0         1  \n",
       "2           0.693147    1.693147               13           1.0         0  \n",
       "3           0.693147    2.539721               20           0.8         0  \n",
       "4           0.693147    1.693147               13           1.0         0  "
      ]
     },
     "metadata": {},
     "output_type": "display_data"
    }
   ],
   "source": [
    "display(df_train.iloc[:5, 21:])\n",
    "display(df_test.iloc[:5, 20:])"
   ]
  },
  {
   "cell_type": "markdown",
   "metadata": {},
   "source": [
    "# 特徴量作成"
   ]
  },
  {
   "cell_type": "markdown",
   "metadata": {},
   "source": [
    "## TypeOfContactNuLL\n",
    "TypeOfContact が欠損値の場合を、明らかに学習させるための特徴量"
   ]
  },
  {
   "cell_type": "code",
   "execution_count": 47,
   "metadata": {},
   "outputs": [],
   "source": [
    "df_train['TypeofContactNULL'] = df_train['TypeofContact'].apply(make_TypeOfContactNULL)\n",
    "df_test['TypeofContactNULL'] = df_test['TypeofContact'].apply(make_TypeOfContactNULL)"
   ]
  },
  {
   "cell_type": "markdown",
   "metadata": {},
   "source": [
    "## Motivation\n",
    "顧客の旅行に対する意欲を表す特徴量"
   ]
  },
  {
   "cell_type": "code",
   "execution_count": 48,
   "metadata": {},
   "outputs": [],
   "source": [
    "df_train['Motivation'] = df_train['NumberOfPersonVisiting'] * df_train['NumberOfFollowups'] + (df_train['Passport'] * 10)\n",
    "df_test['Motivation'] = df_test['NumberOfPersonVisiting'] * df_test['NumberOfFollowups'] + (df_test['Passport'] * 10)"
   ]
  },
  {
   "cell_type": "markdown",
   "metadata": {},
   "source": [
    "## EconomicPower\n",
    "顧客の経済力を表す特徴量"
   ]
  },
  {
   "cell_type": "code",
   "execution_count": 49,
   "metadata": {},
   "outputs": [],
   "source": [
    "df_train['EconomicPower'] = df_train['MonthlyIncome'] * (4 - df_train['CityTier']) * df_train['Gender'].apply(make_motivation_gender)\n",
    "df_test['EconomicPower'] = df_test['MonthlyIncome'] * (4 - df_test['CityTier']) * df_test['Gender'].apply(make_motivation_gender)"
   ]
  },
  {
   "cell_type": "markdown",
   "metadata": {},
   "source": [
    "## Child01\n",
    "顧客に子どもがいるかどうかを表す特徴量"
   ]
  },
  {
   "cell_type": "code",
   "execution_count": 50,
   "metadata": {},
   "outputs": [],
   "source": [
    "df_train['Child01'] = df_train['Child'].apply(make_child01)\n",
    "df_test['Child01'] = df_test['Child'].apply(make_child01)"
   ]
  },
  {
   "cell_type": "markdown",
   "metadata": {},
   "source": [
    "## TripEasier\n",
    "旅行の行きやすさを表す特徴量"
   ]
  },
  {
   "cell_type": "code",
   "execution_count": 51,
   "metadata": {},
   "outputs": [],
   "source": [
    "df_train['TripEasier'] = (5 - df_train['NumberOfPersonVisiting']) * df_train['ProductPitched'].apply(make_TripEasier_ProductPitched) * df_train['Marry'].apply(make_TripEasier_Marry) * df_train['Child'].apply(make_TripEasier_Child)\n",
    "df_test['TripEasier'] = (5 - df_test['NumberOfPersonVisiting']) * df_test['ProductPitched'].apply(make_TripEasier_ProductPitched) * df_test['Marry'].apply(make_TripEasier_Marry) * df_test['Child'].apply(make_TripEasier_Child)"
   ]
  },
  {
   "cell_type": "markdown",
   "metadata": {},
   "source": [
    "## SalesPerformance\n",
    "営業担当者の単位時間当たりのパフォーマンス"
   ]
  },
  {
   "cell_type": "code",
   "execution_count": 52,
   "metadata": {},
   "outputs": [],
   "source": [
    "df_train['SalesPerformance'] = df_train['NumberOfFollowups'] * df_train['PitchSatisfactionScore'] / df_train['DurationOfPitch']\n",
    "df_test['SalesPerformance'] = df_train['NumberOfFollowups'] * df_test['PitchSatisfactionScore'] / df_test['DurationOfPitch']"
   ]
  },
  {
   "cell_type": "markdown",
   "metadata": {},
   "source": [
    "## LivingCost\n",
    "生活コストを表す数値"
   ]
  },
  {
   "cell_type": "code",
   "execution_count": 53,
   "metadata": {},
   "outputs": [],
   "source": [
    "df_train['LivingCost'] = df_train['MonthlyIncome'] / (df_train['CityTier'].apply(make_LivingCost_CityTier) * (1 + df_train['Child'].apply(make_LivingCost_Child) + df_train['Marry'].apply(make_LivingCost_Marry) + df_train['Car'].apply(make_LivingCost_Car)))\n",
    "df_test['LivingCost'] = df_test['MonthlyIncome'] / (df_test['CityTier'].apply(make_LivingCost_CityTier) * (1 + df_test['Child'].apply(make_LivingCost_Child) + df_test['Marry'].apply(make_LivingCost_Marry) + df_test['Car'].apply(make_LivingCost_Car)))"
   ]
  },
  {
   "cell_type": "markdown",
   "metadata": {},
   "source": [
    "## EconomicStability\n",
    "経済安定性指標"
   ]
  },
  {
   "cell_type": "code",
   "execution_count": 54,
   "metadata": {},
   "outputs": [],
   "source": [
    "df_train['EconomicStability'] = df_train['MonthlyIncome'] * df_train['Occupation'].apply(make_EconomicStability_Occupation) * df_train['Designation'].apply(make_EconomicStability_Disignation)\n",
    "df_test['EconomicStability'] = df_test['MonthlyIncome'] * df_test['Occupation'].apply(make_EconomicStability_Occupation) * df_test['Designation'].apply(make_EconomicStability_Disignation)"
   ]
  },
  {
   "cell_type": "markdown",
   "metadata": {},
   "source": [
    "## TripFreaqency\n",
    "旅行頻度"
   ]
  },
  {
   "cell_type": "code",
   "execution_count": 55,
   "metadata": {},
   "outputs": [],
   "source": [
    "df_train['TripFreaqency'] = df_train['NumberOfTrips'].apply(make_TripFreaqency)\n",
    "df_test['TripFreaqency'] = df_test['NumberOfTrips'].apply(make_TripFreaqency)"
   ]
  },
  {
   "cell_type": "markdown",
   "metadata": {},
   "source": [
    "## NumberOfTrips_log"
   ]
  },
  {
   "cell_type": "code",
   "execution_count": 56,
   "metadata": {},
   "outputs": [],
   "source": [
    "df_train['NumberOfTrips_log'] = np.log1p(df_train['NumberOfTrips'])\n",
    "df_test['NumberOfTrips_log'] = np.log1p(df_test['NumberOfTrips'])"
   ]
  },
  {
   "cell_type": "markdown",
   "metadata": {},
   "source": [
    "## TravelCost\n",
    "総旅行費の推定"
   ]
  },
  {
   "cell_type": "code",
   "execution_count": 57,
   "metadata": {},
   "outputs": [],
   "source": [
    "df_train['TravelCost'] = df_train['PreferredPropertyStar'].apply(make_TravelCost_PreferredPropertyStar) * (1 + df_train['NumberOfTrips_log'])\n",
    "df_test['TravelCost'] = df_test['PreferredPropertyStar'].apply(make_TravelCost_PreferredPropertyStar) * (1 + df_test['NumberOfTrips_log'])"
   ]
  },
  {
   "cell_type": "markdown",
   "metadata": {},
   "source": [
    "## EconomicSegment\n",
    "経済力のセグメント"
   ]
  },
  {
   "cell_type": "code",
   "execution_count": 58,
   "metadata": {},
   "outputs": [],
   "source": [
    "df_train['EconomicSegment'] = df_train['Occupation'] + df_train['Designation'] + df_train['CityTier'].astype(str)\n",
    "df_test['EconomicSegment'] = df_test['Occupation'] + df_test['Designation'] + df_test['CityTier'].astype(str)\n",
    "\n",
    "df_train = mapping_EconomicSegment(df_train)\n",
    "df_test = mapping_EconomicSegment(df_test)"
   ]
  },
  {
   "cell_type": "markdown",
   "metadata": {},
   "source": [
    "## PacakgeMatch\n",
    "営業担当者がセールスした商品と、顧客の希望するホテルのランクがマッチしているかを表す数値"
   ]
  },
  {
   "cell_type": "code",
   "execution_count": 59,
   "metadata": {},
   "outputs": [],
   "source": [
    "product_to_star = {\n",
    "    'Basic': 3,\n",
    "    'Standard': 3,\n",
    "    'Deluxe': 4,\n",
    "    'Super Deluxe': 5,\n",
    "    'King': 5\n",
    "}\n",
    "\n",
    "# 製品と希望ホテルの星評価の適合度を計算\n",
    "def calculate_fit(product, preferred_star):\n",
    "    ideal_star = product_to_star[product]\n",
    "    max_star_difference = 5  # 星評価の最大差（1星から5星）\n",
    "    return max(0, 1 - abs(ideal_star - preferred_star) / max_star_difference)\n",
    "\n",
    "# 新しい特徴量をデータフレームに追加\n",
    "df_train['PackageMatch'] = df_train.apply(lambda row: calculate_fit(row['ProductPitched'], row['PreferredPropertyStar']), axis=1)\n",
    "df_test['PackageMatch'] = df_test.apply(lambda row: calculate_fit(row['ProductPitched'], row['PreferredPropertyStar']), axis=1)"
   ]
  },
  {
   "cell_type": "code",
   "execution_count": 60,
   "metadata": {},
   "outputs": [
    {
     "data": {
      "text/html": [
       "<div>\n",
       "<style scoped>\n",
       "    .dataframe tbody tr th:only-of-type {\n",
       "        vertical-align: middle;\n",
       "    }\n",
       "\n",
       "    .dataframe tbody tr th {\n",
       "        vertical-align: top;\n",
       "    }\n",
       "\n",
       "    .dataframe thead th {\n",
       "        text-align: right;\n",
       "    }\n",
       "</style>\n",
       "<table border=\"1\" class=\"dataframe\">\n",
       "  <thead>\n",
       "    <tr style=\"text-align: right;\">\n",
       "      <th></th>\n",
       "      <th>PackageMatch</th>\n",
       "      <th>ProductPitched</th>\n",
       "      <th>PreferredPropertyStar</th>\n",
       "    </tr>\n",
       "  </thead>\n",
       "  <tbody>\n",
       "    <tr>\n",
       "      <th>0</th>\n",
       "      <td>1.0</td>\n",
       "      <td>Basic</td>\n",
       "      <td>3.0</td>\n",
       "    </tr>\n",
       "    <tr>\n",
       "      <th>1</th>\n",
       "      <td>1.0</td>\n",
       "      <td>Standard</td>\n",
       "      <td>3.0</td>\n",
       "    </tr>\n",
       "    <tr>\n",
       "      <th>2</th>\n",
       "      <td>1.0</td>\n",
       "      <td>Basic</td>\n",
       "      <td>3.0</td>\n",
       "    </tr>\n",
       "    <tr>\n",
       "      <th>3</th>\n",
       "      <td>0.8</td>\n",
       "      <td>Standard</td>\n",
       "      <td>4.0</td>\n",
       "    </tr>\n",
       "    <tr>\n",
       "      <th>4</th>\n",
       "      <td>0.8</td>\n",
       "      <td>Basic</td>\n",
       "      <td>4.0</td>\n",
       "    </tr>\n",
       "    <tr>\n",
       "      <th>...</th>\n",
       "      <td>...</td>\n",
       "      <td>...</td>\n",
       "      <td>...</td>\n",
       "    </tr>\n",
       "    <tr>\n",
       "      <th>3484</th>\n",
       "      <td>1.0</td>\n",
       "      <td>Basic</td>\n",
       "      <td>3.0</td>\n",
       "    </tr>\n",
       "    <tr>\n",
       "      <th>3485</th>\n",
       "      <td>0.6</td>\n",
       "      <td>Basic</td>\n",
       "      <td>5.0</td>\n",
       "    </tr>\n",
       "    <tr>\n",
       "      <th>3486</th>\n",
       "      <td>1.0</td>\n",
       "      <td>Standard</td>\n",
       "      <td>3.0</td>\n",
       "    </tr>\n",
       "    <tr>\n",
       "      <th>3487</th>\n",
       "      <td>0.6</td>\n",
       "      <td>King</td>\n",
       "      <td>3.0</td>\n",
       "    </tr>\n",
       "    <tr>\n",
       "      <th>3488</th>\n",
       "      <td>1.0</td>\n",
       "      <td>Basic</td>\n",
       "      <td>3.0</td>\n",
       "    </tr>\n",
       "  </tbody>\n",
       "</table>\n",
       "<p>3489 rows × 3 columns</p>\n",
       "</div>"
      ],
      "text/plain": [
       "      PackageMatch ProductPitched  PreferredPropertyStar\n",
       "0              1.0          Basic                    3.0\n",
       "1              1.0       Standard                    3.0\n",
       "2              1.0          Basic                    3.0\n",
       "3              0.8       Standard                    4.0\n",
       "4              0.8          Basic                    4.0\n",
       "...            ...            ...                    ...\n",
       "3484           1.0          Basic                    3.0\n",
       "3485           0.6          Basic                    5.0\n",
       "3486           1.0       Standard                    3.0\n",
       "3487           0.6           King                    3.0\n",
       "3488           1.0          Basic                    3.0\n",
       "\n",
       "[3489 rows x 3 columns]"
      ]
     },
     "execution_count": 60,
     "metadata": {},
     "output_type": "execute_result"
    }
   ],
   "source": [
    "df_train[['PackageMatch', 'ProductPitched', 'PreferredPropertyStar']]"
   ]
  },
  {
   "cell_type": "markdown",
   "metadata": {},
   "source": [
    "## Family\n",
    "家族か、そうでないか、2人以上ならば家族とする。"
   ]
  },
  {
   "cell_type": "code",
   "execution_count": 61,
   "metadata": {},
   "outputs": [],
   "source": [
    "df_train['IsFamily'] = df_train.apply(lambda x: int(x['Marry'] == 'Married' or x['Child'] != '0_child'), axis=1)\n",
    "df_test['IsFamily'] = df_test.apply(lambda x: int(x['Marry'] == 'Married' or x['Child'] != '0_child'), axis=1)"
   ]
  },
  {
   "cell_type": "markdown",
   "metadata": {},
   "source": [
    "## IncomeGrouped (float)\n",
    "顧客セグメント毎の1人当たりの収入（年齢、性別、都市層）"
   ]
  },
  {
   "cell_type": "markdown",
   "metadata": {},
   "source": [
    "訓練データとテストデータで統計量が変化するが、訓練データの統計量をテストデータに結合する？"
   ]
  },
  {
   "cell_type": "code",
   "execution_count": 72,
   "metadata": {},
   "outputs": [],
   "source": [
    "tmp_train = df_train.groupby(by=['AgeGroup', 'Gender', 'CityTier']).agg(\n",
    "    count = ('id', 'count'),\n",
    "    total = ('MonthlyIncome', 'sum')\n",
    ")\n",
    "tmp_train['IncomeGrouped'] = tmp_train['total'] / tmp_train['count']\n",
    "\n",
    "tmp_test = df_test.groupby(by=['AgeGroup', 'Gender', 'CityTier']).agg(\n",
    "    count = ('id', 'count'),\n",
    "    total = ('MonthlyIncome', 'sum')\n",
    ")\n",
    "tmp_test['IncomeGrouped'] = tmp_test['total'] / tmp_test['count']"
   ]
  },
  {
   "cell_type": "code",
   "execution_count": 75,
   "metadata": {},
   "outputs": [],
   "source": [
    "df_train = df_train.merge(\n",
    "    tmp_train[['IncomeGrouped']],\n",
    "    on=['AgeGroup', 'Gender', 'CityTier'],  # 結合キー\n",
    "    how='left'  # 左外部結合\n",
    ")"
   ]
  },
  {
   "cell_type": "code",
   "execution_count": 77,
   "metadata": {},
   "outputs": [
    {
     "data": {
      "text/plain": [
       "array([12.92407039, 12.92507803, 12.66429419, 12.67161398, 12.80091165,\n",
       "       12.5856174 , 12.83303871, 12.81567312, 12.69336213, 12.89783703,\n",
       "       12.81364152, 12.79144637, 12.86101875, 12.60222591, 12.66119593,\n",
       "       12.63679905, 12.73235341, 12.84377047, 12.63103358, 12.88853989,\n",
       "       12.76152665, 12.6759726 , 12.77518506, 12.69783626, 12.63856051,\n",
       "       13.0339539 , 13.00223735, 12.87892855, 12.60493186, 12.70766677,\n",
       "       12.89735489, 12.54795597, 12.48006519, 12.83147288])"
      ]
     },
     "execution_count": 77,
     "metadata": {},
     "output_type": "execute_result"
    }
   ],
   "source": [
    "df_test = df_test.merge(\n",
    "    tmp_train[['IncomeGrouped']],\n",
    "    on=['AgeGroup', 'Gender', 'CityTier'],  # 結合キー\n",
    "    how='left'  # 左外部結合\n",
    ")"
   ]
  },
  {
   "cell_type": "markdown",
   "metadata": {},
   "source": []
  },
  {
   "cell_type": "markdown",
   "metadata": {},
   "source": [
    "# 特徴量のデータ型"
   ]
  },
  {
   "cell_type": "code",
   "execution_count": 130,
   "metadata": {},
   "outputs": [],
   "source": [
    "feature = [\n",
    "    'Age',\n",
    "    'TypeofContact',\n",
    "    'CityTier',\n",
    "    'DurationOfPitch',\n",
    "    'Occupation',\n",
    "    'Gender',\n",
    "    'NumberOfPersonVisiting',\n",
    "    'NumberOfFollowups',\n",
    "    'ProductPitched',\n",
    "    'PreferredPropertyStar',\n",
    "    'NumberOfTrips',\n",
    "    'Passport',\n",
    "    'PitchSatisfactionScore',\n",
    "    'Designation',\n",
    "    'MonthlyIncome',\n",
    "    'Marry',\n",
    "    'Car',\n",
    "    'Child',\n",
    "    # 以下、作成特徴量\n",
    "    'AgeGroup',\n",
    "    'TypeofContactNULL',\n",
    "    'Motivation',\n",
    "    'EconomicPower',\n",
    "    'Child01',\n",
    "    'TripEasier',\n",
    "    'SalesPerformance',\n",
    "    'LivingCost',\n",
    "    'EconomicStability',\n",
    "    'TripFreaqency',\n",
    "    'TravelCost',\n",
    "    'NumberOfTrips_log',\n",
    "    'EconomicSegment',\n",
    "    'PackageMatch',\n",
    "    'IsFamily'\n",
    "]"
   ]
  },
  {
   "cell_type": "code",
   "execution_count": 62,
   "metadata": {},
   "outputs": [],
   "source": [
    "float_columns = ['DurationOfPitch', 'MonthlyIncome', 'EconomicPower', 'SalesPerformance',\n",
    "                'LivingCost', 'EconomicStability', 'TravelCost', 'NumberOfTrips_log',\n",
    "                'PackageMatch']\n",
    "int_columns = ['Age', 'CityTier', 'NumberOfPersonVisiting', 'NumberOfFollowups', 'PreferredPropertyStar',\n",
    "                'NumberOfTrips', 'Passport', 'PitchSatisfactionScore', 'TypeofContactNULL',\n",
    "                'Motivation', 'Child01', 'TripEasier', 'TripFreaqency', 'EconomicSegment',\n",
    "                'IsFamily']"
   ]
  },
  {
   "cell_type": "code",
   "execution_count": 63,
   "metadata": {},
   "outputs": [],
   "source": [
    "for col in float_columns:\n",
    "    df_train[col] = df_train[col].astype(float)\n",
    "    df_test[col] = df_test[col].astype(float)\n",
    "\n",
    "for col in int_columns:\n",
    "    df_train[col] = df_train[col].astype(int)\n",
    "    df_test[col] = df_test[col].astype(int)"
   ]
  },
  {
   "cell_type": "markdown",
   "metadata": {},
   "source": [
    "# 確認"
   ]
  },
  {
   "cell_type": "code",
   "execution_count": 64,
   "metadata": {},
   "outputs": [
    {
     "data": {
      "text/html": [
       "<div>\n",
       "<style scoped>\n",
       "    .dataframe tbody tr th:only-of-type {\n",
       "        vertical-align: middle;\n",
       "    }\n",
       "\n",
       "    .dataframe tbody tr th {\n",
       "        vertical-align: top;\n",
       "    }\n",
       "\n",
       "    .dataframe thead th {\n",
       "        text-align: right;\n",
       "    }\n",
       "</style>\n",
       "<table border=\"1\" class=\"dataframe\">\n",
       "  <thead>\n",
       "    <tr style=\"text-align: right;\">\n",
       "      <th></th>\n",
       "      <th>AgeGroup</th>\n",
       "      <th>TypeofContactNULL</th>\n",
       "      <th>Motivation</th>\n",
       "      <th>EconomicPower</th>\n",
       "      <th>Child01</th>\n",
       "      <th>TripEasier</th>\n",
       "      <th>SalesPerformance</th>\n",
       "      <th>LivingCost</th>\n",
       "      <th>EconomicStability</th>\n",
       "      <th>TripFreaqency</th>\n",
       "      <th>NumberOfTrips_log</th>\n",
       "      <th>TravelCost</th>\n",
       "      <th>EconomicSegment</th>\n",
       "      <th>PackageMatch</th>\n",
       "      <th>IsFamily</th>\n",
       "    </tr>\n",
       "  </thead>\n",
       "  <tbody>\n",
       "    <tr>\n",
       "      <th>0</th>\n",
       "      <td>50s</td>\n",
       "      <td>0</td>\n",
       "      <td>14</td>\n",
       "      <td>32.356270</td>\n",
       "      <td>0</td>\n",
       "      <td>48</td>\n",
       "      <td>2.351729</td>\n",
       "      <td>9.572861</td>\n",
       "      <td>16.427030</td>\n",
       "      <td>1</td>\n",
       "      <td>1.791759</td>\n",
       "      <td>2.791759</td>\n",
       "      <td>0</td>\n",
       "      <td>1.0</td>\n",
       "      <td>0</td>\n",
       "    </tr>\n",
       "    <tr>\n",
       "      <th>1</th>\n",
       "      <td>50s</td>\n",
       "      <td>0</td>\n",
       "      <td>14</td>\n",
       "      <td>50.350356</td>\n",
       "      <td>0</td>\n",
       "      <td>8</td>\n",
       "      <td>2.375794</td>\n",
       "      <td>8.197046</td>\n",
       "      <td>18.461797</td>\n",
       "      <td>0</td>\n",
       "      <td>1.098612</td>\n",
       "      <td>2.098612</td>\n",
       "      <td>1</td>\n",
       "      <td>1.0</td>\n",
       "      <td>0</td>\n",
       "    </tr>\n",
       "    <tr>\n",
       "      <th>2</th>\n",
       "      <td>30s</td>\n",
       "      <td>0</td>\n",
       "      <td>3</td>\n",
       "      <td>37.607704</td>\n",
       "      <td>0</td>\n",
       "      <td>24</td>\n",
       "      <td>1.875412</td>\n",
       "      <td>7.597516</td>\n",
       "      <td>16.547390</td>\n",
       "      <td>0</td>\n",
       "      <td>1.609438</td>\n",
       "      <td>2.609438</td>\n",
       "      <td>2</td>\n",
       "      <td>1.0</td>\n",
       "      <td>1</td>\n",
       "    </tr>\n",
       "    <tr>\n",
       "      <th>3</th>\n",
       "      <td>30s</td>\n",
       "      <td>0</td>\n",
       "      <td>3</td>\n",
       "      <td>25.394244</td>\n",
       "      <td>0</td>\n",
       "      <td>8</td>\n",
       "      <td>2.147262</td>\n",
       "      <td>9.301921</td>\n",
       "      <td>14.855633</td>\n",
       "      <td>0</td>\n",
       "      <td>0.693147</td>\n",
       "      <td>2.539721</td>\n",
       "      <td>3</td>\n",
       "      <td>0.8</td>\n",
       "      <td>0</td>\n",
       "    </tr>\n",
       "    <tr>\n",
       "      <th>4</th>\n",
       "      <td>40s</td>\n",
       "      <td>0</td>\n",
       "      <td>3</td>\n",
       "      <td>12.462403</td>\n",
       "      <td>0</td>\n",
       "      <td>48</td>\n",
       "      <td>1.731967</td>\n",
       "      <td>11.868956</td>\n",
       "      <td>12.337779</td>\n",
       "      <td>0</td>\n",
       "      <td>1.609438</td>\n",
       "      <td>3.914157</td>\n",
       "      <td>4</td>\n",
       "      <td>0.8</td>\n",
       "      <td>0</td>\n",
       "    </tr>\n",
       "  </tbody>\n",
       "</table>\n",
       "</div>"
      ],
      "text/plain": [
       "  AgeGroup  TypeofContactNULL  Motivation  EconomicPower  Child01  TripEasier  \\\n",
       "0      50s                  0          14      32.356270        0          48   \n",
       "1      50s                  0          14      50.350356        0           8   \n",
       "2      30s                  0           3      37.607704        0          24   \n",
       "3      30s                  0           3      25.394244        0           8   \n",
       "4      40s                  0           3      12.462403        0          48   \n",
       "\n",
       "   SalesPerformance  LivingCost  EconomicStability  TripFreaqency  \\\n",
       "0          2.351729    9.572861          16.427030              1   \n",
       "1          2.375794    8.197046          18.461797              0   \n",
       "2          1.875412    7.597516          16.547390              0   \n",
       "3          2.147262    9.301921          14.855633              0   \n",
       "4          1.731967   11.868956          12.337779              0   \n",
       "\n",
       "   NumberOfTrips_log  TravelCost  EconomicSegment  PackageMatch  IsFamily  \n",
       "0           1.791759    2.791759                0           1.0         0  \n",
       "1           1.098612    2.098612                1           1.0         0  \n",
       "2           1.609438    2.609438                2           1.0         1  \n",
       "3           0.693147    2.539721                3           0.8         0  \n",
       "4           1.609438    3.914157                4           0.8         0  "
      ]
     },
     "metadata": {},
     "output_type": "display_data"
    },
    {
     "data": {
      "text/html": [
       "<div>\n",
       "<style scoped>\n",
       "    .dataframe tbody tr th:only-of-type {\n",
       "        vertical-align: middle;\n",
       "    }\n",
       "\n",
       "    .dataframe tbody tr th {\n",
       "        vertical-align: top;\n",
       "    }\n",
       "\n",
       "    .dataframe thead th {\n",
       "        text-align: right;\n",
       "    }\n",
       "</style>\n",
       "<table border=\"1\" class=\"dataframe\">\n",
       "  <thead>\n",
       "    <tr style=\"text-align: right;\">\n",
       "      <th></th>\n",
       "      <th>AgeGroup</th>\n",
       "      <th>TypeofContactNULL</th>\n",
       "      <th>Motivation</th>\n",
       "      <th>EconomicPower</th>\n",
       "      <th>Child01</th>\n",
       "      <th>TripEasier</th>\n",
       "      <th>SalesPerformance</th>\n",
       "      <th>LivingCost</th>\n",
       "      <th>EconomicStability</th>\n",
       "      <th>TripFreaqency</th>\n",
       "      <th>NumberOfTrips_log</th>\n",
       "      <th>TravelCost</th>\n",
       "      <th>EconomicSegment</th>\n",
       "      <th>PackageMatch</th>\n",
       "      <th>IsFamily</th>\n",
       "    </tr>\n",
       "  </thead>\n",
       "  <tbody>\n",
       "    <tr>\n",
       "      <th>0</th>\n",
       "      <td>40s</td>\n",
       "      <td>0</td>\n",
       "      <td>4</td>\n",
       "      <td>34.102241</td>\n",
       "      <td>0</td>\n",
       "      <td>0</td>\n",
       "      <td>1.801646</td>\n",
       "      <td>8.773409</td>\n",
       "      <td>16.526471</td>\n",
       "      <td>1</td>\n",
       "      <td>2.079442</td>\n",
       "      <td>3.079442</td>\n",
       "      <td>10</td>\n",
       "      <td>0.6</td>\n",
       "      <td>1</td>\n",
       "    </tr>\n",
       "    <tr>\n",
       "      <th>1</th>\n",
       "      <td>30s</td>\n",
       "      <td>0</td>\n",
       "      <td>14</td>\n",
       "      <td>25.223082</td>\n",
       "      <td>0</td>\n",
       "      <td>8</td>\n",
       "      <td>1.823531</td>\n",
       "      <td>8.819260</td>\n",
       "      <td>14.755503</td>\n",
       "      <td>0</td>\n",
       "      <td>1.609438</td>\n",
       "      <td>2.609438</td>\n",
       "      <td>3</td>\n",
       "      <td>1.0</td>\n",
       "      <td>1</td>\n",
       "    </tr>\n",
       "    <tr>\n",
       "      <th>2</th>\n",
       "      <td>20s</td>\n",
       "      <td>0</td>\n",
       "      <td>4</td>\n",
       "      <td>37.405322</td>\n",
       "      <td>0</td>\n",
       "      <td>24</td>\n",
       "      <td>1.430065</td>\n",
       "      <td>8.312294</td>\n",
       "      <td>15.086813</td>\n",
       "      <td>0</td>\n",
       "      <td>0.693147</td>\n",
       "      <td>1.693147</td>\n",
       "      <td>13</td>\n",
       "      <td>1.0</td>\n",
       "      <td>0</td>\n",
       "    </tr>\n",
       "    <tr>\n",
       "      <th>3</th>\n",
       "      <td>20s</td>\n",
       "      <td>0</td>\n",
       "      <td>4</td>\n",
       "      <td>32.416696</td>\n",
       "      <td>0</td>\n",
       "      <td>24</td>\n",
       "      <td>1.489417</td>\n",
       "      <td>9.134037</td>\n",
       "      <td>17.829183</td>\n",
       "      <td>0</td>\n",
       "      <td>0.693147</td>\n",
       "      <td>2.539721</td>\n",
       "      <td>20</td>\n",
       "      <td>0.8</td>\n",
       "      <td>0</td>\n",
       "    </tr>\n",
       "    <tr>\n",
       "      <th>4</th>\n",
       "      <td>40s</td>\n",
       "      <td>0</td>\n",
       "      <td>4</td>\n",
       "      <td>48.757169</td>\n",
       "      <td>0</td>\n",
       "      <td>48</td>\n",
       "      <td>1.985889</td>\n",
       "      <td>7.937675</td>\n",
       "      <td>15.127224</td>\n",
       "      <td>0</td>\n",
       "      <td>0.693147</td>\n",
       "      <td>1.693147</td>\n",
       "      <td>13</td>\n",
       "      <td>1.0</td>\n",
       "      <td>0</td>\n",
       "    </tr>\n",
       "  </tbody>\n",
       "</table>\n",
       "</div>"
      ],
      "text/plain": [
       "  AgeGroup  TypeofContactNULL  Motivation  EconomicPower  Child01  TripEasier  \\\n",
       "0      40s                  0           4      34.102241        0           0   \n",
       "1      30s                  0          14      25.223082        0           8   \n",
       "2      20s                  0           4      37.405322        0          24   \n",
       "3      20s                  0           4      32.416696        0          24   \n",
       "4      40s                  0           4      48.757169        0          48   \n",
       "\n",
       "   SalesPerformance  LivingCost  EconomicStability  TripFreaqency  \\\n",
       "0          1.801646    8.773409          16.526471              1   \n",
       "1          1.823531    8.819260          14.755503              0   \n",
       "2          1.430065    8.312294          15.086813              0   \n",
       "3          1.489417    9.134037          17.829183              0   \n",
       "4          1.985889    7.937675          15.127224              0   \n",
       "\n",
       "   NumberOfTrips_log  TravelCost  EconomicSegment  PackageMatch  IsFamily  \n",
       "0           2.079442    3.079442               10           0.6         1  \n",
       "1           1.609438    2.609438                3           1.0         1  \n",
       "2           0.693147    1.693147               13           1.0         0  \n",
       "3           0.693147    2.539721               20           0.8         0  \n",
       "4           0.693147    1.693147               13           1.0         0  "
      ]
     },
     "metadata": {},
     "output_type": "display_data"
    }
   ],
   "source": [
    "display(df_train.iloc[:5, 20:])\n",
    "display(df_test.iloc[:5, 19:])"
   ]
  },
  {
   "cell_type": "markdown",
   "metadata": {},
   "source": [
    "# CSV出力"
   ]
  },
  {
   "cell_type": "code",
   "execution_count": 65,
   "metadata": {},
   "outputs": [],
   "source": [
    "if 'test' in df_train.columns:\n",
    "    df_train = df_train.drop(columns='test', axis=1)\n",
    "    df_test = df_test.drop(columns='test', axis=1)"
   ]
  },
  {
   "cell_type": "code",
   "execution_count": 68,
   "metadata": {},
   "outputs": [],
   "source": [
    "df_train.to_csv('data/feature_engineered/null_cat/train_null_cat.csv', index=False)\n",
    "df_test.to_csv('data/feature_engineered/null_cat/test_null_cat.csv', index=False)"
   ]
  }
 ],
 "metadata": {
  "kernelspec": {
   "display_name": "competition",
   "language": "python",
   "name": "python3"
  },
  "language_info": {
   "codemirror_mode": {
    "name": "ipython",
    "version": 3
   },
   "file_extension": ".py",
   "mimetype": "text/x-python",
   "name": "python",
   "nbconvert_exporter": "python",
   "pygments_lexer": "ipython3",
   "version": "3.12.4"
  }
 },
 "nbformat": 4,
 "nbformat_minor": 2
}
