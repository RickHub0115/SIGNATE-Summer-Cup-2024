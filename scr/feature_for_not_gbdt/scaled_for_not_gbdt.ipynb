{
 "cells": [
  {
   "cell_type": "code",
   "execution_count": 1,
   "metadata": {},
   "outputs": [],
   "source": [
    "import os\n",
    "os.chdir('../../')"
   ]
  },
  {
   "cell_type": "code",
   "execution_count": 2,
   "metadata": {},
   "outputs": [],
   "source": [
    "import numpy as np\n",
    "import pandas as pd\n",
    "from sklearn.preprocessing import StandardScaler"
   ]
  },
  {
   "cell_type": "code",
   "execution_count": 6,
   "metadata": {},
   "outputs": [],
   "source": [
    "df_train = pd.read_csv('data/middle/for_not_gbdt/train_for_not_gbdt_encoded.csv')\n",
    "df_test = pd.read_csv('data/middle/for_not_gbdt/test_for_not_gbdt_encoded.csv')"
   ]
  },
  {
   "cell_type": "code",
   "execution_count": 8,
   "metadata": {},
   "outputs": [
    {
     "data": {
      "text/plain": [
       "Index(['id', 'Age', 'DurationOfPitch', 'NumberOfPersonVisiting',\n",
       "       'NumberOfFollowups', 'NumberOfTrips', 'MonthlyIncome', 'ProdTaken',\n",
       "       'AgeGroup', 'TypeofContactNULL', 'Motivation', 'EconomicPower',\n",
       "       'Child01', 'TripEasier', 'SalesPerformance', 'LivingCost',\n",
       "       'EconomicStability', 'NumberOfTrips_log', 'TravelCost',\n",
       "       'EconomicSegment', 'PackageMatch', 'Monetary', 'ContractRate_FM',\n",
       "       'ContractRate_G1', 'ContractRate_G2', 'ContractRate_G3',\n",
       "       'ContractRate_G4', 'ContractRate_G5', 'ContractRate_G6',\n",
       "       'TypeofContact_No', 'TypeofContact_Self Enquiry', 'CityTier_2',\n",
       "       'CityTier_3', 'Occupation_Salaried', 'Occupation_Small Business',\n",
       "       'Gender_male', 'ProductPitched_Deluxe', 'ProductPitched_King',\n",
       "       'ProductPitched_Standard', 'ProductPitched_Super Deluxe',\n",
       "       'PreferredPropertyStar_4', 'PreferredPropertyStar_5', 'Passport_1',\n",
       "       'PitchSatisfactionScore_2', 'PitchSatisfactionScore_3',\n",
       "       'PitchSatisfactionScore_4', 'PitchSatisfactionScore_5',\n",
       "       'Designation_Executive', 'Designation_Manager',\n",
       "       'Designation_Senior Manager', 'Designation_VP', 'Marry_Married',\n",
       "       'Marry_Single', 'Car_No Car', 'Child_1_child', 'Child_2_child',\n",
       "       'Child_3_child', 'IsFamily_1', 'FreaqencySeg_1', 'FreaqencySeg_2',\n",
       "       'MonetarySeg_2', 'MonetarySeg_3', 'MonetarySeg_4'],\n",
       "      dtype='object')"
      ]
     },
     "execution_count": 8,
     "metadata": {},
     "output_type": "execute_result"
    }
   ],
   "source": [
    "df_train.columns"
   ]
  },
  {
   "cell_type": "code",
   "execution_count": null,
   "metadata": {},
   "outputs": [],
   "source": [
    "columns = [\n",
    "    'Age',\n",
    "    'DurationOfPitch',\n",
    "    '',\n",
    "]"
   ]
  }
 ],
 "metadata": {
  "kernelspec": {
   "display_name": "competition",
   "language": "python",
   "name": "python3"
  },
  "language_info": {
   "codemirror_mode": {
    "name": "ipython",
    "version": 3
   },
   "file_extension": ".py",
   "mimetype": "text/x-python",
   "name": "python",
   "nbconvert_exporter": "python",
   "pygments_lexer": "ipython3",
   "version": "3.12.4"
  }
 },
 "nbformat": 4,
 "nbformat_minor": 2
}
