{
 "cells": [
  {
   "cell_type": "code",
   "execution_count": 35,
   "metadata": {},
   "outputs": [],
   "source": [
    "# import os\n",
    "# os.chdir('../')"
   ]
  },
  {
   "cell_type": "code",
   "execution_count": 36,
   "metadata": {},
   "outputs": [],
   "source": [
    "import numpy as np\n",
    "import pandas as pd\n",
    "import matplotlib.pyplot as plt\n",
    "import seaborn as sns\n",
    "\n",
    "from scr.util import *"
   ]
  },
  {
   "cell_type": "markdown",
   "metadata": {},
   "source": [
    "# Gradient Boosting Dicision Tree"
   ]
  },
  {
   "cell_type": "code",
   "execution_count": 37,
   "metadata": {},
   "outputs": [],
   "source": [
    "df_train = pd.read_csv('data/train.csv')\n",
    "df_test = pd.read_csv('data/test.csv')"
   ]
  },
  {
   "cell_type": "code",
   "execution_count": 38,
   "metadata": {},
   "outputs": [
    {
     "data": {
      "text/plain": [
       "ProdTaken\n",
       "0    2992\n",
       "1     497\n",
       "Name: count, dtype: int64"
      ]
     },
     "execution_count": 38,
     "metadata": {},
     "output_type": "execute_result"
    }
   ],
   "source": [
    "# 目的変数\n",
    "\n",
    "df_train['ProdTaken'].value_counts()"
   ]
  },
  {
   "cell_type": "code",
   "execution_count": 39,
   "metadata": {},
   "outputs": [
    {
     "data": {
      "text/plain": [
       "id                          0\n",
       "Age                       100\n",
       "TypeofContact               6\n",
       "CityTier                    0\n",
       "DurationOfPitch           121\n",
       "Occupation                  0\n",
       "Gender                      0\n",
       "NumberOfPersonVisiting      0\n",
       "NumberOfFollowups          33\n",
       "ProductPitched              0\n",
       "PreferredPropertyStar       0\n",
       "NumberOfTrips              22\n",
       "Passport                    0\n",
       "PitchSatisfactionScore      0\n",
       "Designation                 0\n",
       "MonthlyIncome              56\n",
       "customer_info               0\n",
       "ProdTaken                   0\n",
       "dtype: int64"
      ]
     },
     "execution_count": 39,
     "metadata": {},
     "output_type": "execute_result"
    }
   ],
   "source": [
    "df_train.isna().sum()"
   ]
  },
  {
   "cell_type": "code",
   "execution_count": 40,
   "metadata": {},
   "outputs": [
    {
     "data": {
      "text/plain": [
       "id                          0\n",
       "Age                        93\n",
       "TypeofContact              12\n",
       "CityTier                    0\n",
       "DurationOfPitch           131\n",
       "Occupation                  0\n",
       "Gender                      0\n",
       "NumberOfPersonVisiting      0\n",
       "NumberOfFollowups          24\n",
       "ProductPitched              0\n",
       "PreferredPropertyStar       0\n",
       "NumberOfTrips              42\n",
       "Passport                    0\n",
       "PitchSatisfactionScore      0\n",
       "Designation                 0\n",
       "MonthlyIncome              49\n",
       "customer_info               0\n",
       "dtype: int64"
      ]
     },
     "execution_count": 40,
     "metadata": {},
     "output_type": "execute_result"
    }
   ],
   "source": [
    "df_test.isna().sum()"
   ]
  },
  {
   "cell_type": "code",
   "execution_count": 41,
   "metadata": {},
   "outputs": [
    {
     "data": {
      "image/png": "[encoded data removed]",
      "text/plain": [
       "<Figure size 1500x500 with 2 Axes>"
      ]
     },
     "metadata": {},
     "output_type": "display_data"
    }
   ],
   "source": [
    "# Age Normalization\n",
    "# 年齢\n",
    "\n",
    "df_train['Age'] = df_train['Age'].astype(str).apply(japanese_to_int)\n",
    "df_test['Age'] = df_test['Age'].astype(str).apply(japanese_to_int)\n",
    "\n",
    "tmp = df_train[~(df_train['Age'] == 0)]\n",
    "df_train.loc[df_train['Age'] == 0, 'Age'] = tmp['Age'].median()\n",
    "\n",
    "tmp = df_test[~(df_test['Age'] == 0)]\n",
    "df_test.loc[df_test['Age'] == 0, 'Age'] = tmp['Age'].median()\n",
    "\n",
    "fig, axes = plt.subplots(1, 2, figsize=(15, 5))\n",
    "df_list = [df_train, df_test]\n",
    "for i, df in enumerate(df_list):\n",
    "    sns.histplot(df['Age'], ax=axes[i])"
   ]
  },
  {
   "cell_type": "code",
   "execution_count": 42,
   "metadata": {},
   "outputs": [
    {
     "name": "stdout",
     "output_type": "stream",
     "text": [
      "Train ['Self Enquiry' 'Company Invited' 'No']\n",
      "Test ['Self Enquiry' 'Company Invited' 'No']\n"
     ]
    },
    {
     "data": {
      "text/html": [
       "<div>\n",
       "<style scoped>\n",
       "    .dataframe tbody tr th:only-of-type {\n",
       "        vertical-align: middle;\n",
       "    }\n",
       "\n",
       "    .dataframe tbody tr th {\n",
       "        vertical-align: top;\n",
       "    }\n",
       "\n",
       "    .dataframe thead th {\n",
       "        text-align: right;\n",
       "    }\n",
       "</style>\n",
       "<table border=\"1\" class=\"dataframe\">\n",
       "  <thead>\n",
       "    <tr style=\"text-align: right;\">\n",
       "      <th></th>\n",
       "      <th>mean</th>\n",
       "      <th>count</th>\n",
       "    </tr>\n",
       "    <tr>\n",
       "      <th>TypeofContact</th>\n",
       "      <th></th>\n",
       "      <th></th>\n",
       "    </tr>\n",
       "  </thead>\n",
       "  <tbody>\n",
       "    <tr>\n",
       "      <th>Company Invited</th>\n",
       "      <td>0.182312</td>\n",
       "      <td>1289</td>\n",
       "    </tr>\n",
       "    <tr>\n",
       "      <th>No</th>\n",
       "      <td>0.000000</td>\n",
       "      <td>6</td>\n",
       "    </tr>\n",
       "    <tr>\n",
       "      <th>Self Enquiry</th>\n",
       "      <td>0.119417</td>\n",
       "      <td>2194</td>\n",
       "    </tr>\n",
       "  </tbody>\n",
       "</table>\n",
       "</div>"
      ],
      "text/plain": [
       "                     mean  count\n",
       "TypeofContact                   \n",
       "Company Invited  0.182312   1289\n",
       "No               0.000000      6\n",
       "Self Enquiry     0.119417   2194"
      ]
     },
     "metadata": {},
     "output_type": "display_data"
    }
   ],
   "source": [
    "# TypeofContact Normalization\n",
    "# 顧客への連絡・接触方法\n",
    "# 欠損値意味アリ\n",
    "\n",
    "df_train['TypeofContact'] = df_train['TypeofContact'].fillna('No')\n",
    "df_test['TypeofContact'] = df_test['TypeofContact'].fillna('No')\n",
    "\n",
    "print('Train', df_train['TypeofContact'].unique())\n",
    "print('Test', df_test['TypeofContact'].unique())\n",
    "display(df_train.groupby(by=['TypeofContact'])['ProdTaken'].agg(['mean', ('count')]))"
   ]
  },
  {
   "cell_type": "code",
   "execution_count": 43,
   "metadata": {},
   "outputs": [
    {
     "name": "stdout",
     "output_type": "stream",
     "text": [
      "Train [2 1 3]\n",
      "Test [2 1 3]\n"
     ]
    },
    {
     "data": {
      "text/html": [
       "<div>\n",
       "<style scoped>\n",
       "    .dataframe tbody tr th:only-of-type {\n",
       "        vertical-align: middle;\n",
       "    }\n",
       "\n",
       "    .dataframe tbody tr th {\n",
       "        vertical-align: top;\n",
       "    }\n",
       "\n",
       "    .dataframe thead th {\n",
       "        text-align: right;\n",
       "    }\n",
       "</style>\n",
       "<table border=\"1\" class=\"dataframe\">\n",
       "  <thead>\n",
       "    <tr style=\"text-align: right;\">\n",
       "      <th></th>\n",
       "      <th>mean</th>\n",
       "      <th>count</th>\n",
       "    </tr>\n",
       "    <tr>\n",
       "      <th>CityTier</th>\n",
       "      <th></th>\n",
       "      <th></th>\n",
       "    </tr>\n",
       "  </thead>\n",
       "  <tbody>\n",
       "    <tr>\n",
       "      <th>1</th>\n",
       "      <td>0.111864</td>\n",
       "      <td>1475</td>\n",
       "    </tr>\n",
       "    <tr>\n",
       "      <th>2</th>\n",
       "      <td>0.168546</td>\n",
       "      <td>1596</td>\n",
       "    </tr>\n",
       "    <tr>\n",
       "      <th>3</th>\n",
       "      <td>0.150718</td>\n",
       "      <td>418</td>\n",
       "    </tr>\n",
       "  </tbody>\n",
       "</table>\n",
       "</div>"
      ],
      "text/plain": [
       "              mean  count\n",
       "CityTier                 \n",
       "1         0.111864   1475\n",
       "2         0.168546   1596\n",
       "3         0.150718    418"
      ]
     },
     "metadata": {},
     "output_type": "display_data"
    }
   ],
   "source": [
    "# CityTier Normalization\n",
    "# 都市層(1>2>3)\n",
    "\n",
    "print('Train', df_train['CityTier'].unique())\n",
    "print('Test', df_test['CityTier'].unique())\n",
    "display(df_train.groupby(by=['CityTier'])['ProdTaken'].agg(['mean', 'count']))"
   ]
  },
  {
   "cell_type": "code",
   "execution_count": 44,
   "metadata": {},
   "outputs": [
    {
     "data": {
      "image/png": "[encoded data removed]",
      "text/plain": [
       "<Figure size 1500x500 with 2 Axes>"
      ]
     },
     "metadata": {},
     "output_type": "display_data"
    }
   ],
   "source": [
    "# DurationOfPitch Normalization\n",
    "# 営業担当者による顧客への商品セールス時間\n",
    "\n",
    "df_train['DurationOfPitch'] = df_train['DurationOfPitch'].dropna().apply(convert_to_second)\n",
    "df_test['DurationOfPitch'] = df_test['DurationOfPitch'].dropna().apply(convert_to_second)\n",
    "\n",
    "df_train['DurationOfPitch'] = df_train['DurationOfPitch'].fillna(df_train['DurationOfPitch'].median())\n",
    "df_test['DurationOfPitch'] = df_test['DurationOfPitch'].fillna(df_test['DurationOfPitch'].median())\n",
    "\n",
    "fig, axes = plt.subplots(1, 2, figsize=(15, 5))\n",
    "df_list = [df_train, df_test]\n",
    "for i, df in enumerate(df_list):\n",
    "    sns.histplot(df['DurationOfPitch'], ax=axes[i])"
   ]
  },
  {
   "cell_type": "code",
   "execution_count": 45,
   "metadata": {},
   "outputs": [
    {
     "name": "stdout",
     "output_type": "stream",
     "text": [
      "Train ['Large Business' 'Salaried' 'Small Business']\n",
      "Test ['Small Business' 'Salaried' 'Large Business']\n"
     ]
    },
    {
     "data": {
      "text/html": [
       "<div>\n",
       "<style scoped>\n",
       "    .dataframe tbody tr th:only-of-type {\n",
       "        vertical-align: middle;\n",
       "    }\n",
       "\n",
       "    .dataframe tbody tr th {\n",
       "        vertical-align: top;\n",
       "    }\n",
       "\n",
       "    .dataframe thead th {\n",
       "        text-align: right;\n",
       "    }\n",
       "</style>\n",
       "<table border=\"1\" class=\"dataframe\">\n",
       "  <thead>\n",
       "    <tr style=\"text-align: right;\">\n",
       "      <th></th>\n",
       "      <th>mean</th>\n",
       "      <th>count</th>\n",
       "    </tr>\n",
       "    <tr>\n",
       "      <th>Occupation</th>\n",
       "      <th></th>\n",
       "      <th></th>\n",
       "    </tr>\n",
       "  </thead>\n",
       "  <tbody>\n",
       "    <tr>\n",
       "      <th>Large Business</th>\n",
       "      <td>0.227147</td>\n",
       "      <td>361</td>\n",
       "    </tr>\n",
       "    <tr>\n",
       "      <th>Salaried</th>\n",
       "      <td>0.102070</td>\n",
       "      <td>1401</td>\n",
       "    </tr>\n",
       "    <tr>\n",
       "      <th>Small Business</th>\n",
       "      <td>0.157499</td>\n",
       "      <td>1727</td>\n",
       "    </tr>\n",
       "  </tbody>\n",
       "</table>\n",
       "</div>"
      ],
      "text/plain": [
       "                    mean  count\n",
       "Occupation                     \n",
       "Large Business  0.227147    361\n",
       "Salaried        0.102070   1401\n",
       "Small Business  0.157499   1727"
      ]
     },
     "metadata": {},
     "output_type": "display_data"
    }
   ],
   "source": [
    "# Occupation Normalization\n",
    "# 顧客の職業\n",
    "\n",
    "print('Train', df_train['Occupation'].unique())\n",
    "print('Test', df_test['Occupation'].unique())\n",
    "display(df_train.groupby(by=['Occupation'])['ProdTaken'].agg(['mean', 'count']))"
   ]
  },
  {
   "cell_type": "code",
   "execution_count": 46,
   "metadata": {},
   "outputs": [
    {
     "data": {
      "text/html": [
       "<div>\n",
       "<style scoped>\n",
       "    .dataframe tbody tr th:only-of-type {\n",
       "        vertical-align: middle;\n",
       "    }\n",
       "\n",
       "    .dataframe tbody tr th {\n",
       "        vertical-align: top;\n",
       "    }\n",
       "\n",
       "    .dataframe thead th {\n",
       "        text-align: right;\n",
       "    }\n",
       "</style>\n",
       "<table border=\"1\" class=\"dataframe\">\n",
       "  <thead>\n",
       "    <tr style=\"text-align: right;\">\n",
       "      <th></th>\n",
       "      <th>mean</th>\n",
       "      <th>count</th>\n",
       "    </tr>\n",
       "    <tr>\n",
       "      <th>Gender</th>\n",
       "      <th></th>\n",
       "      <th></th>\n",
       "    </tr>\n",
       "  </thead>\n",
       "  <tbody>\n",
       "    <tr>\n",
       "      <th>female</th>\n",
       "      <td>0.109968</td>\n",
       "      <td>1264</td>\n",
       "    </tr>\n",
       "    <tr>\n",
       "      <th>male</th>\n",
       "      <td>0.160899</td>\n",
       "      <td>2225</td>\n",
       "    </tr>\n",
       "  </tbody>\n",
       "</table>\n",
       "</div>"
      ],
      "text/plain": [
       "            mean  count\n",
       "Gender                 \n",
       "female  0.109968   1264\n",
       "male    0.160899   2225"
      ]
     },
     "metadata": {},
     "output_type": "display_data"
    }
   ],
   "source": [
    "# Gender Normalization\n",
    "# 顧客の性別\n",
    "\n",
    "df_train['Gender'] = df_train['Gender'].apply(normalize_gender)\n",
    "df_test['Gender'] = df_test['Gender'].apply(normalize_gender)\n",
    "display(df_train.groupby(by=['Gender'])['ProdTaken'].agg(['mean', 'count']))"
   ]
  },
  {
   "cell_type": "code",
   "execution_count": 47,
   "metadata": {},
   "outputs": [
    {
     "name": "stdout",
     "output_type": "stream",
     "text": [
      "Train [1. 2. 3. 4.]\n",
      "Test [1. 2. 3. 4.]\n"
     ]
    },
    {
     "data": {
      "text/html": [
       "<div>\n",
       "<style scoped>\n",
       "    .dataframe tbody tr th:only-of-type {\n",
       "        vertical-align: middle;\n",
       "    }\n",
       "\n",
       "    .dataframe tbody tr th {\n",
       "        vertical-align: top;\n",
       "    }\n",
       "\n",
       "    .dataframe thead th {\n",
       "        text-align: right;\n",
       "    }\n",
       "</style>\n",
       "<table border=\"1\" class=\"dataframe\">\n",
       "  <thead>\n",
       "    <tr style=\"text-align: right;\">\n",
       "      <th></th>\n",
       "      <th>mean</th>\n",
       "      <th>count</th>\n",
       "    </tr>\n",
       "    <tr>\n",
       "      <th>NumberOfPersonVisiting</th>\n",
       "      <th></th>\n",
       "      <th></th>\n",
       "    </tr>\n",
       "  </thead>\n",
       "  <tbody>\n",
       "    <tr>\n",
       "      <th>1.0</th>\n",
       "      <td>0.247024</td>\n",
       "      <td>336</td>\n",
       "    </tr>\n",
       "    <tr>\n",
       "      <th>2.0</th>\n",
       "      <td>0.152363</td>\n",
       "      <td>1608</td>\n",
       "    </tr>\n",
       "    <tr>\n",
       "      <th>3.0</th>\n",
       "      <td>0.115468</td>\n",
       "      <td>1377</td>\n",
       "    </tr>\n",
       "    <tr>\n",
       "      <th>4.0</th>\n",
       "      <td>0.059524</td>\n",
       "      <td>168</td>\n",
       "    </tr>\n",
       "  </tbody>\n",
       "</table>\n",
       "</div>"
      ],
      "text/plain": [
       "                            mean  count\n",
       "NumberOfPersonVisiting                 \n",
       "1.0                     0.247024    336\n",
       "2.0                     0.152363   1608\n",
       "3.0                     0.115468   1377\n",
       "4.0                     0.059524    168"
      ]
     },
     "metadata": {},
     "output_type": "display_data"
    }
   ],
   "source": [
    "# NumberOfPersonVisiting Normalization\n",
    "# 予定している旅行の同行者の数\n",
    "\n",
    "print('Train', df_train['NumberOfPersonVisiting'].unique())\n",
    "print('Test', df_test['NumberOfPersonVisiting'].unique())\n",
    "display(df_train.groupby(by=['NumberOfPersonVisiting'])['ProdTaken'].agg(['mean', 'count']))"
   ]
  },
  {
   "cell_type": "code",
   "execution_count": 48,
   "metadata": {},
   "outputs": [
    {
     "data": {
      "text/html": [
       "<div>\n",
       "<style scoped>\n",
       "    .dataframe tbody tr th:only-of-type {\n",
       "        vertical-align: middle;\n",
       "    }\n",
       "\n",
       "    .dataframe tbody tr th {\n",
       "        vertical-align: top;\n",
       "    }\n",
       "\n",
       "    .dataframe thead th {\n",
       "        text-align: right;\n",
       "    }\n",
       "</style>\n",
       "<table border=\"1\" class=\"dataframe\">\n",
       "  <thead>\n",
       "    <tr style=\"text-align: right;\">\n",
       "      <th></th>\n",
       "      <th>mean</th>\n",
       "      <th>count</th>\n",
       "    </tr>\n",
       "    <tr>\n",
       "      <th>NumberOfFollowups</th>\n",
       "      <th></th>\n",
       "      <th></th>\n",
       "    </tr>\n",
       "  </thead>\n",
       "  <tbody>\n",
       "    <tr>\n",
       "      <th>1.0</th>\n",
       "      <td>0.128205</td>\n",
       "      <td>78</td>\n",
       "    </tr>\n",
       "    <tr>\n",
       "      <th>2.0</th>\n",
       "      <td>0.055556</td>\n",
       "      <td>108</td>\n",
       "    </tr>\n",
       "    <tr>\n",
       "      <th>3.0</th>\n",
       "      <td>0.166667</td>\n",
       "      <td>1296</td>\n",
       "    </tr>\n",
       "    <tr>\n",
       "      <th>4.0</th>\n",
       "      <td>0.133948</td>\n",
       "      <td>1411</td>\n",
       "    </tr>\n",
       "    <tr>\n",
       "      <th>5.0</th>\n",
       "      <td>0.114504</td>\n",
       "      <td>524</td>\n",
       "    </tr>\n",
       "    <tr>\n",
       "      <th>6.0</th>\n",
       "      <td>0.358974</td>\n",
       "      <td>39</td>\n",
       "    </tr>\n",
       "  </tbody>\n",
       "</table>\n",
       "</div>"
      ],
      "text/plain": [
       "                       mean  count\n",
       "NumberOfFollowups                 \n",
       "1.0                0.128205     78\n",
       "2.0                0.055556    108\n",
       "3.0                0.166667   1296\n",
       "4.0                0.133948   1411\n",
       "5.0                0.114504    524\n",
       "6.0                0.358974     39"
      ]
     },
     "metadata": {},
     "output_type": "display_data"
    },
    {
     "data": {
      "text/plain": [
       "ProdTaken\n",
       "0    31\n",
       "1     2\n",
       "Name: count, dtype: int64"
      ]
     },
     "metadata": {},
     "output_type": "display_data"
    },
    {
     "data": {
      "text/html": [
       "<div>\n",
       "<style scoped>\n",
       "    .dataframe tbody tr th:only-of-type {\n",
       "        vertical-align: middle;\n",
       "    }\n",
       "\n",
       "    .dataframe tbody tr th {\n",
       "        vertical-align: top;\n",
       "    }\n",
       "\n",
       "    .dataframe thead th {\n",
       "        text-align: right;\n",
       "    }\n",
       "</style>\n",
       "<table border=\"1\" class=\"dataframe\">\n",
       "  <thead>\n",
       "    <tr style=\"text-align: right;\">\n",
       "      <th></th>\n",
       "      <th>mean</th>\n",
       "      <th>count</th>\n",
       "    </tr>\n",
       "    <tr>\n",
       "      <th>NumberOfFollowups</th>\n",
       "      <th></th>\n",
       "      <th></th>\n",
       "    </tr>\n",
       "  </thead>\n",
       "  <tbody>\n",
       "    <tr>\n",
       "      <th>0.0</th>\n",
       "      <td>0.060606</td>\n",
       "      <td>33</td>\n",
       "    </tr>\n",
       "    <tr>\n",
       "      <th>1.0</th>\n",
       "      <td>0.128205</td>\n",
       "      <td>78</td>\n",
       "    </tr>\n",
       "    <tr>\n",
       "      <th>2.0</th>\n",
       "      <td>0.055556</td>\n",
       "      <td>108</td>\n",
       "    </tr>\n",
       "    <tr>\n",
       "      <th>3.0</th>\n",
       "      <td>0.166667</td>\n",
       "      <td>1296</td>\n",
       "    </tr>\n",
       "    <tr>\n",
       "      <th>4.0</th>\n",
       "      <td>0.133948</td>\n",
       "      <td>1411</td>\n",
       "    </tr>\n",
       "    <tr>\n",
       "      <th>5.0</th>\n",
       "      <td>0.114504</td>\n",
       "      <td>524</td>\n",
       "    </tr>\n",
       "    <tr>\n",
       "      <th>6.0</th>\n",
       "      <td>0.358974</td>\n",
       "      <td>39</td>\n",
       "    </tr>\n",
       "  </tbody>\n",
       "</table>\n",
       "</div>"
      ],
      "text/plain": [
       "                       mean  count\n",
       "NumberOfFollowups                 \n",
       "0.0                0.060606     33\n",
       "1.0                0.128205     78\n",
       "2.0                0.055556    108\n",
       "3.0                0.166667   1296\n",
       "4.0                0.133948   1411\n",
       "5.0                0.114504    524\n",
       "6.0                0.358974     39"
      ]
     },
     "metadata": {},
     "output_type": "display_data"
    }
   ],
   "source": [
    "# NumberOfFollowups Normalization\n",
    "# セールス後に営業担当者が行ったフォローアップの回数\n",
    "\n",
    "df_train['NumberOfFollowups'] = df_train['NumberOfFollowups'].apply(lambda x: x if x < 100 else x / 100)\n",
    "df_test['NumberOfFollowups'] = df_test['NumberOfFollowups'].apply(lambda x: x if x < 100 else x / 100)\n",
    "\n",
    "display(df_train.groupby(by=['NumberOfFollowups'])['ProdTaken'].agg(['mean', 'count']))\n",
    "display(df_train[df_train['NumberOfFollowups'].isna()]['ProdTaken'].value_counts())\n",
    "\n",
    "# 欠損値意味アリ\n",
    "df_train['NumberOfFollowups'] = df_train['NumberOfFollowups'].fillna(0)\n",
    "df_test['NumberOfFollowups'] = df_test['NumberOfFollowups'].fillna(0)\n",
    "\n",
    "display(df_train.groupby(by=['NumberOfFollowups'])['ProdTaken'].agg(['mean', 'count']))"
   ]
  },
  {
   "cell_type": "code",
   "execution_count": 49,
   "metadata": {},
   "outputs": [
    {
     "name": "stdout",
     "output_type": "stream",
     "text": [
      "Train ['Basic' 'Standard' 'Deluxe' 'Super Deluxe' 'King']\n",
      "Test ['Super Deluxe' 'Standard' 'Basic' 'Deluxe' 'King']\n"
     ]
    },
    {
     "data": {
      "text/html": [
       "<div>\n",
       "<style scoped>\n",
       "    .dataframe tbody tr th:only-of-type {\n",
       "        vertical-align: middle;\n",
       "    }\n",
       "\n",
       "    .dataframe tbody tr th {\n",
       "        vertical-align: top;\n",
       "    }\n",
       "\n",
       "    .dataframe thead th {\n",
       "        text-align: right;\n",
       "    }\n",
       "</style>\n",
       "<table border=\"1\" class=\"dataframe\">\n",
       "  <thead>\n",
       "    <tr style=\"text-align: right;\">\n",
       "      <th></th>\n",
       "      <th>mean</th>\n",
       "      <th>count</th>\n",
       "    </tr>\n",
       "    <tr>\n",
       "      <th>ProductPitched</th>\n",
       "      <th></th>\n",
       "      <th></th>\n",
       "    </tr>\n",
       "  </thead>\n",
       "  <tbody>\n",
       "    <tr>\n",
       "      <th>Basic</th>\n",
       "      <td>0.303371</td>\n",
       "      <td>1157</td>\n",
       "    </tr>\n",
       "    <tr>\n",
       "      <th>Deluxe</th>\n",
       "      <td>0.046426</td>\n",
       "      <td>1357</td>\n",
       "    </tr>\n",
       "    <tr>\n",
       "      <th>King</th>\n",
       "      <td>0.055556</td>\n",
       "      <td>126</td>\n",
       "    </tr>\n",
       "    <tr>\n",
       "      <th>Standard</th>\n",
       "      <td>0.090369</td>\n",
       "      <td>841</td>\n",
       "    </tr>\n",
       "    <tr>\n",
       "      <th>Super Deluxe</th>\n",
       "      <td>0.000000</td>\n",
       "      <td>8</td>\n",
       "    </tr>\n",
       "  </tbody>\n",
       "</table>\n",
       "</div>"
      ],
      "text/plain": [
       "                    mean  count\n",
       "ProductPitched                 \n",
       "Basic           0.303371   1157\n",
       "Deluxe          0.046426   1357\n",
       "King            0.055556    126\n",
       "Standard        0.090369    841\n",
       "Super Deluxe    0.000000      8"
      ]
     },
     "metadata": {},
     "output_type": "display_data"
    }
   ],
   "source": [
    "# ProductPitched Normalization\n",
    "# 営業担当者のセールスした商品の種類\n",
    "\n",
    "df_train['ProductPitched'] = df_train['ProductPitched'].apply(normalize_product_pitched_1)\n",
    "df_train['ProductPitched'] = df_train['ProductPitched'].apply(normalize_product_pitched_2)\n",
    "df_test['ProductPitched'] = df_test['ProductPitched'].apply(normalize_product_pitched_1)\n",
    "df_test['ProductPitched'] = df_test['ProductPitched'].apply(normalize_product_pitched_2)\n",
    "\n",
    "print('Train', df_train['ProductPitched'].unique())\n",
    "print('Test', df_test['ProductPitched'].unique())\n",
    "display(df_train.groupby(by=['ProductPitched'])['ProdTaken'].agg(['mean', 'count']))"
   ]
  },
  {
   "cell_type": "code",
   "execution_count": 50,
   "metadata": {},
   "outputs": [
    {
     "name": "stdout",
     "output_type": "stream",
     "text": [
      "Train [3. 4. 5.]\n",
      "Test [3. 4. 5.]\n"
     ]
    },
    {
     "data": {
      "text/html": [
       "<div>\n",
       "<style scoped>\n",
       "    .dataframe tbody tr th:only-of-type {\n",
       "        vertical-align: middle;\n",
       "    }\n",
       "\n",
       "    .dataframe tbody tr th {\n",
       "        vertical-align: top;\n",
       "    }\n",
       "\n",
       "    .dataframe thead th {\n",
       "        text-align: right;\n",
       "    }\n",
       "</style>\n",
       "<table border=\"1\" class=\"dataframe\">\n",
       "  <thead>\n",
       "    <tr style=\"text-align: right;\">\n",
       "      <th></th>\n",
       "      <th>mean</th>\n",
       "      <th>count</th>\n",
       "    </tr>\n",
       "    <tr>\n",
       "      <th>PreferredPropertyStar</th>\n",
       "      <th></th>\n",
       "      <th></th>\n",
       "    </tr>\n",
       "  </thead>\n",
       "  <tbody>\n",
       "    <tr>\n",
       "      <th>3.0</th>\n",
       "      <td>0.139264</td>\n",
       "      <td>2147</td>\n",
       "    </tr>\n",
       "    <tr>\n",
       "      <th>4.0</th>\n",
       "      <td>0.158079</td>\n",
       "      <td>1145</td>\n",
       "    </tr>\n",
       "    <tr>\n",
       "      <th>5.0</th>\n",
       "      <td>0.086294</td>\n",
       "      <td>197</td>\n",
       "    </tr>\n",
       "  </tbody>\n",
       "</table>\n",
       "</div>"
      ],
      "text/plain": [
       "                           mean  count\n",
       "PreferredPropertyStar                 \n",
       "3.0                    0.139264   2147\n",
       "4.0                    0.158079   1145\n",
       "5.0                    0.086294    197"
      ]
     },
     "metadata": {},
     "output_type": "display_data"
    }
   ],
   "source": [
    "# PreferredPropertyStar Normalization\n",
    "# 顧客の希望するホテルのランク\n",
    "\n",
    "print('Train', df_train['PreferredPropertyStar'].unique())\n",
    "print('Test', df_test['PreferredPropertyStar'].unique())\n",
    "display(df_train.groupby(by=['PreferredPropertyStar'])['ProdTaken'].agg(['mean', 'count']))"
   ]
  },
  {
   "cell_type": "code",
   "execution_count": 51,
   "metadata": {},
   "outputs": [
    {
     "data": {
      "image/png": "[encoded data removed]",
      "text/plain": [
       "<Figure size 1500x500 with 2 Axes>"
      ]
     },
     "metadata": {},
     "output_type": "display_data"
    }
   ],
   "source": [
    "# NumberOfTrips Normalization\n",
    "# 顧客の年間旅行数\n",
    "# 他のカラムと相関関係？\n",
    "\n",
    "df_train['NumberOfTrips'] = df_train['NumberOfTrips'].apply(normalize_trips)\n",
    "df_test['NumberOfTrips'] = df_test['NumberOfTrips'].apply(normalize_trips)\n",
    "df_train.loc[df_train['NumberOfTrips'] == 'nan', 'NumberOfTrips'] = df_train['NumberOfTrips'].median()\n",
    "df_test.loc[df_test['NumberOfTrips'] == 'nan', 'NumberOfTrips'] = df_test['NumberOfTrips'].median()\n",
    "\n",
    "fig, axes = plt.subplots(1, 2, figsize=(15, 5))\n",
    "df_list = [df_train, df_test]\n",
    "for i, df in enumerate(df_list):\n",
    "    sns.histplot(df['NumberOfTrips'], ax=axes[i])"
   ]
  },
  {
   "cell_type": "code",
   "execution_count": 52,
   "metadata": {},
   "outputs": [
    {
     "name": "stdout",
     "output_type": "stream",
     "text": [
      "Train [1 0]\n",
      "Test [0 1]\n"
     ]
    },
    {
     "data": {
      "text/html": [
       "<div>\n",
       "<style scoped>\n",
       "    .dataframe tbody tr th:only-of-type {\n",
       "        vertical-align: middle;\n",
       "    }\n",
       "\n",
       "    .dataframe tbody tr th {\n",
       "        vertical-align: top;\n",
       "    }\n",
       "\n",
       "    .dataframe thead th {\n",
       "        text-align: right;\n",
       "    }\n",
       "</style>\n",
       "<table border=\"1\" class=\"dataframe\">\n",
       "  <thead>\n",
       "    <tr style=\"text-align: right;\">\n",
       "      <th></th>\n",
       "      <th>mean</th>\n",
       "      <th>count</th>\n",
       "    </tr>\n",
       "    <tr>\n",
       "      <th>Passport</th>\n",
       "      <th></th>\n",
       "      <th></th>\n",
       "    </tr>\n",
       "  </thead>\n",
       "  <tbody>\n",
       "    <tr>\n",
       "      <th>0</th>\n",
       "      <td>0.119451</td>\n",
       "      <td>3131</td>\n",
       "    </tr>\n",
       "    <tr>\n",
       "      <th>1</th>\n",
       "      <td>0.343575</td>\n",
       "      <td>358</td>\n",
       "    </tr>\n",
       "  </tbody>\n",
       "</table>\n",
       "</div>"
      ],
      "text/plain": [
       "              mean  count\n",
       "Passport                 \n",
       "0         0.119451   3131\n",
       "1         0.343575    358"
      ]
     },
     "metadata": {},
     "output_type": "display_data"
    }
   ],
   "source": [
    "# Passport Normalization\n",
    "# パスポートの所持(0: 不所持、1: 所持)\n",
    "\n",
    "print('Train', df_train['Passport'].unique())\n",
    "print('Test', df_test['Passport'].unique())\n",
    "display(df_train.groupby(by=['Passport'])['ProdTaken'].agg(['mean', 'count']))"
   ]
  },
  {
   "cell_type": "code",
   "execution_count": 53,
   "metadata": {},
   "outputs": [
    {
     "name": "stdout",
     "output_type": "stream",
     "text": [
      "Train [4 5 3 2 1]\n",
      "Test [3 4 5 2 1]\n"
     ]
    },
    {
     "data": {
      "text/html": [
       "<div>\n",
       "<style scoped>\n",
       "    .dataframe tbody tr th:only-of-type {\n",
       "        vertical-align: middle;\n",
       "    }\n",
       "\n",
       "    .dataframe tbody tr th {\n",
       "        vertical-align: top;\n",
       "    }\n",
       "\n",
       "    .dataframe thead th {\n",
       "        text-align: right;\n",
       "    }\n",
       "</style>\n",
       "<table border=\"1\" class=\"dataframe\">\n",
       "  <thead>\n",
       "    <tr style=\"text-align: right;\">\n",
       "      <th></th>\n",
       "      <th>mean</th>\n",
       "      <th>count</th>\n",
       "    </tr>\n",
       "    <tr>\n",
       "      <th>PitchSatisfactionScore</th>\n",
       "      <th></th>\n",
       "      <th></th>\n",
       "    </tr>\n",
       "  </thead>\n",
       "  <tbody>\n",
       "    <tr>\n",
       "      <th>1</th>\n",
       "      <td>0.080175</td>\n",
       "      <td>686</td>\n",
       "    </tr>\n",
       "    <tr>\n",
       "      <th>2</th>\n",
       "      <td>0.174941</td>\n",
       "      <td>1269</td>\n",
       "    </tr>\n",
       "    <tr>\n",
       "      <th>3</th>\n",
       "      <td>0.141618</td>\n",
       "      <td>692</td>\n",
       "    </tr>\n",
       "    <tr>\n",
       "      <th>4</th>\n",
       "      <td>0.151556</td>\n",
       "      <td>739</td>\n",
       "    </tr>\n",
       "    <tr>\n",
       "      <th>5</th>\n",
       "      <td>0.097087</td>\n",
       "      <td>103</td>\n",
       "    </tr>\n",
       "  </tbody>\n",
       "</table>\n",
       "</div>"
      ],
      "text/plain": [
       "                            mean  count\n",
       "PitchSatisfactionScore                 \n",
       "1                       0.080175    686\n",
       "2                       0.174941   1269\n",
       "3                       0.141618    692\n",
       "4                       0.151556    739\n",
       "5                       0.097087    103"
      ]
     },
     "metadata": {},
     "output_type": "display_data"
    }
   ],
   "source": [
    "# PitchSatisfactionScore Normalization\n",
    "# 営業担当者のセールストークに対する顧客の満足度\n",
    "\n",
    "print('Train', df_train['PitchSatisfactionScore'].unique())\n",
    "print('Test', df_test['PitchSatisfactionScore'].unique())\n",
    "display(df_train.groupby(by=['PitchSatisfactionScore'])['ProdTaken'].agg(['mean', 'count']))"
   ]
  },
  {
   "cell_type": "code",
   "execution_count": 54,
   "metadata": {},
   "outputs": [
    {
     "name": "stdout",
     "output_type": "stream",
     "text": [
      "Train ['Executive' 'Senior Manager' 'AVP' 'Manager' 'VP']\n",
      "Test ['AVP' 'Senior Manager' 'Executive' 'Manager' 'VP']\n"
     ]
    },
    {
     "data": {
      "text/html": [
       "<div>\n",
       "<style scoped>\n",
       "    .dataframe tbody tr th:only-of-type {\n",
       "        vertical-align: middle;\n",
       "    }\n",
       "\n",
       "    .dataframe tbody tr th {\n",
       "        vertical-align: top;\n",
       "    }\n",
       "\n",
       "    .dataframe thead th {\n",
       "        text-align: right;\n",
       "    }\n",
       "</style>\n",
       "<table border=\"1\" class=\"dataframe\">\n",
       "  <thead>\n",
       "    <tr style=\"text-align: right;\">\n",
       "      <th></th>\n",
       "      <th>mean</th>\n",
       "      <th>count</th>\n",
       "    </tr>\n",
       "    <tr>\n",
       "      <th>Designation</th>\n",
       "      <th></th>\n",
       "      <th></th>\n",
       "    </tr>\n",
       "  </thead>\n",
       "  <tbody>\n",
       "    <tr>\n",
       "      <th>AVP</th>\n",
       "      <td>0.077170</td>\n",
       "      <td>311</td>\n",
       "    </tr>\n",
       "    <tr>\n",
       "      <th>Executive</th>\n",
       "      <td>0.307826</td>\n",
       "      <td>1150</td>\n",
       "    </tr>\n",
       "    <tr>\n",
       "      <th>Manager</th>\n",
       "      <td>0.035917</td>\n",
       "      <td>1058</td>\n",
       "    </tr>\n",
       "    <tr>\n",
       "      <th>Senior Manager</th>\n",
       "      <td>0.086957</td>\n",
       "      <td>851</td>\n",
       "    </tr>\n",
       "    <tr>\n",
       "      <th>VP</th>\n",
       "      <td>0.058824</td>\n",
       "      <td>119</td>\n",
       "    </tr>\n",
       "  </tbody>\n",
       "</table>\n",
       "</div>"
      ],
      "text/plain": [
       "                    mean  count\n",
       "Designation                    \n",
       "AVP             0.077170    311\n",
       "Executive       0.307826   1150\n",
       "Manager         0.035917   1058\n",
       "Senior Manager  0.086957    851\n",
       "VP              0.058824    119"
      ]
     },
     "metadata": {},
     "output_type": "display_data"
    }
   ],
   "source": [
    "# Designation Normalization\n",
    "# 顧客の役職\n",
    "\n",
    "df_train['Designation'] = df_train['Designation'].apply(normalize_designation_1)\n",
    "df_train['Designation'] = df_train['Designation'].apply(normalize_designation_2)\n",
    "df_test['Designation'] = df_test['Designation'].apply(normalize_designation_1)\n",
    "df_test['Designation'] = df_test['Designation'].apply(normalize_designation_2)\n",
    "\n",
    "print('Train', df_train['Designation'].unique())\n",
    "print('Test', df_test['Designation'].unique())\n",
    "display(df_train.groupby(by=['Designation'])['ProdTaken'].agg(['mean', 'count']))"
   ]
  },
  {
   "cell_type": "code",
   "execution_count": 55,
   "metadata": {},
   "outputs": [
    {
     "data": {
      "image/png": "[encoded data removed]",
      "text/plain": [
       "<Figure size 1500x500 with 2 Axes>"
      ]
     },
     "metadata": {},
     "output_type": "display_data"
    }
   ],
   "source": [
    "# MonthlyIncome Normalization\n",
    "# 顧客の月収\n",
    "# 性別で重み\n",
    "\n",
    "df_train['MonthlyIncome'] = df_train['MonthlyIncome'].apply(normalize_monthly_income)\n",
    "df_test['MonthlyIncome'] = df_test['MonthlyIncome'].apply(normalize_monthly_income)\n",
    "\n",
    "df_train['MonthlyIncome'] = df_train['MonthlyIncome'].fillna(df_train['MonthlyIncome'].median())\n",
    "df_test['MonthlyIncome'] = df_test['MonthlyIncome'].fillna(df_test['MonthlyIncome'].median())\n",
    "\n",
    "fig, axes = plt.subplots(1, 2, figsize=(15, 5))\n",
    "df_list = [df_train, df_test]\n",
    "for i, df in enumerate(df_list):\n",
    "    sns.histplot(df['MonthlyIncome'], ax=axes[i])"
   ]
  },
  {
   "cell_type": "code",
   "execution_count": 57,
   "metadata": {},
   "outputs": [],
   "source": [
    "# customer_info Normalization\n",
    "# 顧客の情報のメモ(婚姻状況や車の有無、旅行への子どもの同伴の有無)\n",
    "\n",
    "df_train[['Marry', 'Car', 'Child']] = df_train['customer_info'].apply(divide_customer_info)\n",
    "df_test[['Marry', 'Car', 'Child']] = df_test['customer_info'].apply(divide_customer_info)\n",
    "\n",
    "df_train['Marry'] = df_train['Marry'].apply(normalize_info_1)\n",
    "df_test['Marry'] = df_test['Marry'].apply(normalize_info_1)\n",
    "df_train['Car'] = df_train['Car'].apply(normalize_info_2)\n",
    "df_test['Car'] = df_test['Car'].apply(normalize_info_2)\n",
    "df_train['Child'] = df_train['Child'].apply(normalize_info_3)\n",
    "df_test['Child'] = df_test['Child'].apply(normalize_info_3)"
   ]
  },
  {
   "cell_type": "code",
   "execution_count": 58,
   "metadata": {},
   "outputs": [
    {
     "name": "stdout",
     "output_type": "stream",
     "text": [
      "Train ['Single' 'Divorced' 'Married']\n",
      "Test ['Married' 'Divorced' 'Single']\n"
     ]
    },
    {
     "data": {
      "text/html": [
       "<div>\n",
       "<style scoped>\n",
       "    .dataframe tbody tr th:only-of-type {\n",
       "        vertical-align: middle;\n",
       "    }\n",
       "\n",
       "    .dataframe tbody tr th {\n",
       "        vertical-align: top;\n",
       "    }\n",
       "\n",
       "    .dataframe thead th {\n",
       "        text-align: right;\n",
       "    }\n",
       "</style>\n",
       "<table border=\"1\" class=\"dataframe\">\n",
       "  <thead>\n",
       "    <tr style=\"text-align: right;\">\n",
       "      <th></th>\n",
       "      <th>mean</th>\n",
       "      <th>count</th>\n",
       "    </tr>\n",
       "    <tr>\n",
       "      <th>Marry</th>\n",
       "      <th></th>\n",
       "      <th></th>\n",
       "    </tr>\n",
       "  </thead>\n",
       "  <tbody>\n",
       "    <tr>\n",
       "      <th>Divorced</th>\n",
       "      <td>0.116173</td>\n",
       "      <td>878</td>\n",
       "    </tr>\n",
       "    <tr>\n",
       "      <th>Married</th>\n",
       "      <td>0.098266</td>\n",
       "      <td>1384</td>\n",
       "    </tr>\n",
       "    <tr>\n",
       "      <th>Single</th>\n",
       "      <td>0.211084</td>\n",
       "      <td>1227</td>\n",
       "    </tr>\n",
       "  </tbody>\n",
       "</table>\n",
       "</div>"
      ],
      "text/plain": [
       "              mean  count\n",
       "Marry                    \n",
       "Divorced  0.116173    878\n",
       "Married   0.098266   1384\n",
       "Single    0.211084   1227"
      ]
     },
     "metadata": {},
     "output_type": "display_data"
    }
   ],
   "source": [
    "print('Train', df_train['Marry'].unique())\n",
    "print('Test', df_test['Marry'].unique())\n",
    "display(df_train.groupby(by=['Marry'])['ProdTaken'].agg(['mean', 'count']))"
   ]
  },
  {
   "cell_type": "code",
   "execution_count": 59,
   "metadata": {},
   "outputs": [
    {
     "name": "stdout",
     "output_type": "stream",
     "text": [
      "Train ['No Car' 'Has Car']\n",
      "Test ['Has Car' 'No Car']\n"
     ]
    },
    {
     "data": {
      "text/html": [
       "<div>\n",
       "<style scoped>\n",
       "    .dataframe tbody tr th:only-of-type {\n",
       "        vertical-align: middle;\n",
       "    }\n",
       "\n",
       "    .dataframe tbody tr th {\n",
       "        vertical-align: top;\n",
       "    }\n",
       "\n",
       "    .dataframe thead th {\n",
       "        text-align: right;\n",
       "    }\n",
       "</style>\n",
       "<table border=\"1\" class=\"dataframe\">\n",
       "  <thead>\n",
       "    <tr style=\"text-align: right;\">\n",
       "      <th></th>\n",
       "      <th>mean</th>\n",
       "      <th>count</th>\n",
       "    </tr>\n",
       "    <tr>\n",
       "      <th>Car</th>\n",
       "      <th></th>\n",
       "      <th></th>\n",
       "    </tr>\n",
       "  </thead>\n",
       "  <tbody>\n",
       "    <tr>\n",
       "      <th>Has Car</th>\n",
       "      <td>0.120305</td>\n",
       "      <td>1704</td>\n",
       "    </tr>\n",
       "    <tr>\n",
       "      <th>No Car</th>\n",
       "      <td>0.163585</td>\n",
       "      <td>1785</td>\n",
       "    </tr>\n",
       "  </tbody>\n",
       "</table>\n",
       "</div>"
      ],
      "text/plain": [
       "             mean  count\n",
       "Car                     \n",
       "Has Car  0.120305   1704\n",
       "No Car   0.163585   1785"
      ]
     },
     "metadata": {},
     "output_type": "display_data"
    }
   ],
   "source": [
    "print('Train', df_train['Car'].unique())\n",
    "print('Test', df_test['Car'].unique())\n",
    "display(df_train.groupby(by=['Car'])['ProdTaken'].agg(['mean', 'count']))"
   ]
  },
  {
   "cell_type": "code",
   "execution_count": 60,
   "metadata": {},
   "outputs": [
    {
     "name": "stdout",
     "output_type": "stream",
     "text": [
      "Train ['0_child' '1_child' '2_child' '3_child']\n",
      "Test ['0_child' '1_child' '2_child' '3_child']\n"
     ]
    },
    {
     "data": {
      "text/html": [
       "<div>\n",
       "<style scoped>\n",
       "    .dataframe tbody tr th:only-of-type {\n",
       "        vertical-align: middle;\n",
       "    }\n",
       "\n",
       "    .dataframe tbody tr th {\n",
       "        vertical-align: top;\n",
       "    }\n",
       "\n",
       "    .dataframe thead th {\n",
       "        text-align: right;\n",
       "    }\n",
       "</style>\n",
       "<table border=\"1\" class=\"dataframe\">\n",
       "  <thead>\n",
       "    <tr style=\"text-align: right;\">\n",
       "      <th></th>\n",
       "      <th>mean</th>\n",
       "      <th>count</th>\n",
       "    </tr>\n",
       "    <tr>\n",
       "      <th>Child</th>\n",
       "      <th></th>\n",
       "      <th></th>\n",
       "    </tr>\n",
       "  </thead>\n",
       "  <tbody>\n",
       "    <tr>\n",
       "      <th>0_child</th>\n",
       "      <td>0.209393</td>\n",
       "      <td>1022</td>\n",
       "    </tr>\n",
       "    <tr>\n",
       "      <th>1_child</th>\n",
       "      <td>0.117971</td>\n",
       "      <td>1636</td>\n",
       "    </tr>\n",
       "    <tr>\n",
       "      <th>2_child</th>\n",
       "      <td>0.114024</td>\n",
       "      <td>763</td>\n",
       "    </tr>\n",
       "    <tr>\n",
       "      <th>3_child</th>\n",
       "      <td>0.044118</td>\n",
       "      <td>68</td>\n",
       "    </tr>\n",
       "  </tbody>\n",
       "</table>\n",
       "</div>"
      ],
      "text/plain": [
       "             mean  count\n",
       "Child                   \n",
       "0_child  0.209393   1022\n",
       "1_child  0.117971   1636\n",
       "2_child  0.114024    763\n",
       "3_child  0.044118     68"
      ]
     },
     "metadata": {},
     "output_type": "display_data"
    }
   ],
   "source": [
    "print('Train', df_train['Child'].unique())\n",
    "print('Test', df_test['Child'].unique())\n",
    "display(df_train.groupby(by=['Child'])['ProdTaken'].agg(['mean', 'count']))"
   ]
  },
  {
   "cell_type": "code",
   "execution_count": 61,
   "metadata": {},
   "outputs": [],
   "source": [
    "drop_list = ['id', 'customer_info']\n",
    "\n",
    "df_train = df_train.drop(columns=drop_list)\n",
    "df_test = df_test.drop(columns=drop_list)"
   ]
  },
  {
   "cell_type": "code",
   "execution_count": 62,
   "metadata": {},
   "outputs": [
    {
     "data": {
      "text/html": [
       "<div>\n",
       "<style scoped>\n",
       "    .dataframe tbody tr th:only-of-type {\n",
       "        vertical-align: middle;\n",
       "    }\n",
       "\n",
       "    .dataframe tbody tr th {\n",
       "        vertical-align: top;\n",
       "    }\n",
       "\n",
       "    .dataframe thead th {\n",
       "        text-align: right;\n",
       "    }\n",
       "</style>\n",
       "<table border=\"1\" class=\"dataframe\">\n",
       "  <thead>\n",
       "    <tr style=\"text-align: right;\">\n",
       "      <th></th>\n",
       "      <th>Age</th>\n",
       "      <th>TypeofContact</th>\n",
       "      <th>CityTier</th>\n",
       "      <th>DurationOfPitch</th>\n",
       "      <th>Occupation</th>\n",
       "      <th>Gender</th>\n",
       "      <th>NumberOfPersonVisiting</th>\n",
       "      <th>NumberOfFollowups</th>\n",
       "      <th>ProductPitched</th>\n",
       "      <th>PreferredPropertyStar</th>\n",
       "      <th>NumberOfTrips</th>\n",
       "      <th>Passport</th>\n",
       "      <th>PitchSatisfactionScore</th>\n",
       "      <th>Designation</th>\n",
       "      <th>MonthlyIncome</th>\n",
       "      <th>ProdTaken</th>\n",
       "      <th>Marry</th>\n",
       "      <th>Car</th>\n",
       "      <th>Child</th>\n",
       "    </tr>\n",
       "  </thead>\n",
       "  <tbody>\n",
       "    <tr>\n",
       "      <th>0</th>\n",
       "      <td>50</td>\n",
       "      <td>Self Enquiry</td>\n",
       "      <td>2</td>\n",
       "      <td>900.0</td>\n",
       "      <td>Large Business</td>\n",
       "      <td>male</td>\n",
       "      <td>1.0</td>\n",
       "      <td>4.0</td>\n",
       "      <td>Basic</td>\n",
       "      <td>3.0</td>\n",
       "      <td>5</td>\n",
       "      <td>1</td>\n",
       "      <td>4</td>\n",
       "      <td>Executive</td>\n",
       "      <td>253905.0</td>\n",
       "      <td>1</td>\n",
       "      <td>Single</td>\n",
       "      <td>No Car</td>\n",
       "      <td>0_child</td>\n",
       "    </tr>\n",
       "    <tr>\n",
       "      <th>1</th>\n",
       "      <td>56</td>\n",
       "      <td>Company Invited</td>\n",
       "      <td>1</td>\n",
       "      <td>840.0</td>\n",
       "      <td>Salaried</td>\n",
       "      <td>male</td>\n",
       "      <td>1.0</td>\n",
       "      <td>4.0</td>\n",
       "      <td>Standard</td>\n",
       "      <td>3.0</td>\n",
       "      <td>2</td>\n",
       "      <td>1</td>\n",
       "      <td>4</td>\n",
       "      <td>Senior Manager</td>\n",
       "      <td>404475.0</td>\n",
       "      <td>0</td>\n",
       "      <td>Divorced</td>\n",
       "      <td>Has Car</td>\n",
       "      <td>0_child</td>\n",
       "    </tr>\n",
       "    <tr>\n",
       "      <th>2</th>\n",
       "      <td>38</td>\n",
       "      <td>Self Enquiry</td>\n",
       "      <td>1</td>\n",
       "      <td>600.0</td>\n",
       "      <td>Large Business</td>\n",
       "      <td>female</td>\n",
       "      <td>1.0</td>\n",
       "      <td>3.0</td>\n",
       "      <td>Basic</td>\n",
       "      <td>3.0</td>\n",
       "      <td>4</td>\n",
       "      <td>0</td>\n",
       "      <td>4</td>\n",
       "      <td>Executive</td>\n",
       "      <td>278145.0</td>\n",
       "      <td>1</td>\n",
       "      <td>Married</td>\n",
       "      <td>No Car</td>\n",
       "      <td>0_child</td>\n",
       "    </tr>\n",
       "    <tr>\n",
       "      <th>3</th>\n",
       "      <td>37</td>\n",
       "      <td>Self Enquiry</td>\n",
       "      <td>2</td>\n",
       "      <td>1080.0</td>\n",
       "      <td>Small Business</td>\n",
       "      <td>female</td>\n",
       "      <td>1.0</td>\n",
       "      <td>3.0</td>\n",
       "      <td>Standard</td>\n",
       "      <td>4.0</td>\n",
       "      <td>1</td>\n",
       "      <td>0</td>\n",
       "      <td>5</td>\n",
       "      <td>Senior Manager</td>\n",
       "      <td>326805.0</td>\n",
       "      <td>0</td>\n",
       "      <td>Divorced</td>\n",
       "      <td>Has Car</td>\n",
       "      <td>0_child</td>\n",
       "    </tr>\n",
       "    <tr>\n",
       "      <th>4</th>\n",
       "      <td>48</td>\n",
       "      <td>Company Invited</td>\n",
       "      <td>3</td>\n",
       "      <td>1020.0</td>\n",
       "      <td>Small Business</td>\n",
       "      <td>female</td>\n",
       "      <td>1.0</td>\n",
       "      <td>3.0</td>\n",
       "      <td>Basic</td>\n",
       "      <td>4.0</td>\n",
       "      <td>4</td>\n",
       "      <td>0</td>\n",
       "      <td>4</td>\n",
       "      <td>Executive</td>\n",
       "      <td>258435.0</td>\n",
       "      <td>1</td>\n",
       "      <td>Single</td>\n",
       "      <td>Has Car</td>\n",
       "      <td>0_child</td>\n",
       "    </tr>\n",
       "  </tbody>\n",
       "</table>\n",
       "</div>"
      ],
      "text/plain": [
       "   Age    TypeofContact  CityTier  DurationOfPitch      Occupation  Gender  \\\n",
       "0   50     Self Enquiry         2            900.0  Large Business    male   \n",
       "1   56  Company Invited         1            840.0        Salaried    male   \n",
       "2   38     Self Enquiry         1            600.0  Large Business  female   \n",
       "3   37     Self Enquiry         2           1080.0  Small Business  female   \n",
       "4   48  Company Invited         3           1020.0  Small Business  female   \n",
       "\n",
       "   NumberOfPersonVisiting  NumberOfFollowups ProductPitched  \\\n",
       "0                     1.0                4.0          Basic   \n",
       "1                     1.0                4.0       Standard   \n",
       "2                     1.0                3.0          Basic   \n",
       "3                     1.0                3.0       Standard   \n",
       "4                     1.0                3.0          Basic   \n",
       "\n",
       "   PreferredPropertyStar NumberOfTrips  Passport  PitchSatisfactionScore  \\\n",
       "0                    3.0             5         1                       4   \n",
       "1                    3.0             2         1                       4   \n",
       "2                    3.0             4         0                       4   \n",
       "3                    4.0             1         0                       5   \n",
       "4                    4.0             4         0                       4   \n",
       "\n",
       "      Designation  MonthlyIncome  ProdTaken     Marry      Car    Child  \n",
       "0       Executive       253905.0          1    Single   No Car  0_child  \n",
       "1  Senior Manager       404475.0          0  Divorced  Has Car  0_child  \n",
       "2       Executive       278145.0          1   Married   No Car  0_child  \n",
       "3  Senior Manager       326805.0          0  Divorced  Has Car  0_child  \n",
       "4       Executive       258435.0          1    Single  Has Car  0_child  "
      ]
     },
     "execution_count": 62,
     "metadata": {},
     "output_type": "execute_result"
    }
   ],
   "source": [
    "df_train.head()"
   ]
  },
  {
   "cell_type": "code",
   "execution_count": 63,
   "metadata": {},
   "outputs": [
    {
     "data": {
      "text/html": [
       "<div>\n",
       "<style scoped>\n",
       "    .dataframe tbody tr th:only-of-type {\n",
       "        vertical-align: middle;\n",
       "    }\n",
       "\n",
       "    .dataframe tbody tr th {\n",
       "        vertical-align: top;\n",
       "    }\n",
       "\n",
       "    .dataframe thead th {\n",
       "        text-align: right;\n",
       "    }\n",
       "</style>\n",
       "<table border=\"1\" class=\"dataframe\">\n",
       "  <thead>\n",
       "    <tr style=\"text-align: right;\">\n",
       "      <th></th>\n",
       "      <th>Age</th>\n",
       "      <th>TypeofContact</th>\n",
       "      <th>CityTier</th>\n",
       "      <th>DurationOfPitch</th>\n",
       "      <th>Occupation</th>\n",
       "      <th>Gender</th>\n",
       "      <th>NumberOfPersonVisiting</th>\n",
       "      <th>NumberOfFollowups</th>\n",
       "      <th>ProductPitched</th>\n",
       "      <th>PreferredPropertyStar</th>\n",
       "      <th>NumberOfTrips</th>\n",
       "      <th>Passport</th>\n",
       "      <th>PitchSatisfactionScore</th>\n",
       "      <th>Designation</th>\n",
       "      <th>MonthlyIncome</th>\n",
       "      <th>Marry</th>\n",
       "      <th>Car</th>\n",
       "      <th>Child</th>\n",
       "    </tr>\n",
       "  </thead>\n",
       "  <tbody>\n",
       "    <tr>\n",
       "      <th>0</th>\n",
       "      <td>48</td>\n",
       "      <td>Self Enquiry</td>\n",
       "      <td>2</td>\n",
       "      <td>780.0</td>\n",
       "      <td>Small Business</td>\n",
       "      <td>male</td>\n",
       "      <td>1.0</td>\n",
       "      <td>4.0</td>\n",
       "      <td>Super Deluxe</td>\n",
       "      <td>3.0</td>\n",
       "      <td>7</td>\n",
       "      <td>0</td>\n",
       "      <td>3</td>\n",
       "      <td>AVP</td>\n",
       "      <td>496950.0</td>\n",
       "      <td>Married</td>\n",
       "      <td>Has Car</td>\n",
       "      <td>0_child</td>\n",
       "    </tr>\n",
       "    <tr>\n",
       "      <th>1</th>\n",
       "      <td>30</td>\n",
       "      <td>Self Enquiry</td>\n",
       "      <td>2</td>\n",
       "      <td>720.0</td>\n",
       "      <td>Small Business</td>\n",
       "      <td>female</td>\n",
       "      <td>1.0</td>\n",
       "      <td>4.0</td>\n",
       "      <td>Standard</td>\n",
       "      <td>3.0</td>\n",
       "      <td>4</td>\n",
       "      <td>1</td>\n",
       "      <td>3</td>\n",
       "      <td>Senior Manager</td>\n",
       "      <td>300000.0</td>\n",
       "      <td>Married</td>\n",
       "      <td>No Car</td>\n",
       "      <td>0_child</td>\n",
       "    </tr>\n",
       "    <tr>\n",
       "      <th>2</th>\n",
       "      <td>25</td>\n",
       "      <td>Self Enquiry</td>\n",
       "      <td>1</td>\n",
       "      <td>540.0</td>\n",
       "      <td>Salaried</td>\n",
       "      <td>female</td>\n",
       "      <td>1.0</td>\n",
       "      <td>4.0</td>\n",
       "      <td>Basic</td>\n",
       "      <td>3.0</td>\n",
       "      <td>1</td>\n",
       "      <td>0</td>\n",
       "      <td>3</td>\n",
       "      <td>Executive</td>\n",
       "      <td>260000.0</td>\n",
       "      <td>Divorced</td>\n",
       "      <td>No Car</td>\n",
       "      <td>0_child</td>\n",
       "    </tr>\n",
       "    <tr>\n",
       "      <th>3</th>\n",
       "      <td>21</td>\n",
       "      <td>Company Invited</td>\n",
       "      <td>2</td>\n",
       "      <td>420.0</td>\n",
       "      <td>Salaried</td>\n",
       "      <td>male</td>\n",
       "      <td>1.0</td>\n",
       "      <td>4.0</td>\n",
       "      <td>Basic</td>\n",
       "      <td>4.0</td>\n",
       "      <td>1</td>\n",
       "      <td>0</td>\n",
       "      <td>3</td>\n",
       "      <td>Senior Manager</td>\n",
       "      <td>259875.0</td>\n",
       "      <td>Divorced</td>\n",
       "      <td>Has Car</td>\n",
       "      <td>0_child</td>\n",
       "    </tr>\n",
       "    <tr>\n",
       "      <th>4</th>\n",
       "      <td>41</td>\n",
       "      <td>Company Invited</td>\n",
       "      <td>1</td>\n",
       "      <td>420.0</td>\n",
       "      <td>Salaried</td>\n",
       "      <td>male</td>\n",
       "      <td>1.0</td>\n",
       "      <td>4.0</td>\n",
       "      <td>Basic</td>\n",
       "      <td>3.0</td>\n",
       "      <td>1</td>\n",
       "      <td>0</td>\n",
       "      <td>4</td>\n",
       "      <td>Executive</td>\n",
       "      <td>268830.0</td>\n",
       "      <td>Single</td>\n",
       "      <td>Has Car</td>\n",
       "      <td>0_child</td>\n",
       "    </tr>\n",
       "  </tbody>\n",
       "</table>\n",
       "</div>"
      ],
      "text/plain": [
       "   Age    TypeofContact  CityTier  DurationOfPitch      Occupation  Gender  \\\n",
       "0   48     Self Enquiry         2            780.0  Small Business    male   \n",
       "1   30     Self Enquiry         2            720.0  Small Business  female   \n",
       "2   25     Self Enquiry         1            540.0        Salaried  female   \n",
       "3   21  Company Invited         2            420.0        Salaried    male   \n",
       "4   41  Company Invited         1            420.0        Salaried    male   \n",
       "\n",
       "   NumberOfPersonVisiting  NumberOfFollowups ProductPitched  \\\n",
       "0                     1.0                4.0   Super Deluxe   \n",
       "1                     1.0                4.0       Standard   \n",
       "2                     1.0                4.0          Basic   \n",
       "3                     1.0                4.0          Basic   \n",
       "4                     1.0                4.0          Basic   \n",
       "\n",
       "   PreferredPropertyStar NumberOfTrips  Passport  PitchSatisfactionScore  \\\n",
       "0                    3.0             7         0                       3   \n",
       "1                    3.0             4         1                       3   \n",
       "2                    3.0             1         0                       3   \n",
       "3                    4.0             1         0                       3   \n",
       "4                    3.0             1         0                       4   \n",
       "\n",
       "      Designation  MonthlyIncome     Marry      Car    Child  \n",
       "0             AVP       496950.0   Married  Has Car  0_child  \n",
       "1  Senior Manager       300000.0   Married   No Car  0_child  \n",
       "2       Executive       260000.0  Divorced   No Car  0_child  \n",
       "3  Senior Manager       259875.0  Divorced  Has Car  0_child  \n",
       "4       Executive       268830.0    Single  Has Car  0_child  "
      ]
     },
     "execution_count": 63,
     "metadata": {},
     "output_type": "execute_result"
    }
   ],
   "source": [
    "df_test.head()"
   ]
  },
  {
   "cell_type": "code",
   "execution_count": 64,
   "metadata": {},
   "outputs": [],
   "source": [
    "df_train.to_csv('data/collect/before_labeled/train_gbdt_before_labeled.csv', index=False)\n",
    "df_test.to_csv('data/collect/before_labeled/test_gbdt_before_labeled.csv', index=False)"
   ]
  },
  {
   "cell_type": "markdown",
   "metadata": {},
   "source": [
    "## Labeling"
   ]
  },
  {
   "cell_type": "code",
   "execution_count": 66,
   "metadata": {},
   "outputs": [],
   "source": [
    "df_train = pd.read_csv('data/collect/before_labeled/train_gbdt_before_labeled.csv')\n",
    "df_test = pd.read_csv('data/collect/before_labeled/test_gbdt_before_labeled.csv')"
   ]
  },
  {
   "cell_type": "code",
   "execution_count": 70,
   "metadata": {},
   "outputs": [],
   "source": [
    "# TypeofContact labeling\n",
    "\n",
    "mapping = {\n",
    "    'No': 0,\n",
    "    'Self Enquiry': 1,\n",
    "    'Company Invited': 2\n",
    "}\n",
    "\n",
    "df_train.loc[:, 'TypeofContact'] = df_train.loc[:, 'TypeofContact'].map(mapping)\n",
    "df_test.loc[:, 'TypeofContact'] = df_test.loc[:, 'TypeofContact'].map(mapping)"
   ]
  },
  {
   "cell_type": "code",
   "execution_count": 72,
   "metadata": {},
   "outputs": [],
   "source": [
    "# Occupation labeling\n",
    "\n",
    "mapping = {\n",
    "    'Salaried': 0,\n",
    "    'Small Business': 1,\n",
    "    'Large Business': 2\n",
    "}\n",
    "\n",
    "df_train.loc[:, 'Occupation'] = df_train.loc[:, 'Occupation'].map(mapping)\n",
    "df_test.loc[:, 'Occupation'] = df_test.loc[:, 'Occupation'].map(mapping)"
   ]
  },
  {
   "cell_type": "code",
   "execution_count": 73,
   "metadata": {},
   "outputs": [],
   "source": [
    "# Gender labeling\n",
    "\n",
    "mapping = {\n",
    "    'male': 0,\n",
    "    'female': 1\n",
    "}\n",
    "\n",
    "df_train.loc[:, 'Gender'] = df_train.loc[:, 'Gender'].map(mapping)\n",
    "df_test.loc[:, 'Gender'] = df_test.loc[:, 'Gender'].map(mapping)"
   ]
  },
  {
   "cell_type": "code",
   "execution_count": 74,
   "metadata": {},
   "outputs": [],
   "source": [
    "# ProductPitched labeling\n",
    "\n",
    "mapping = {\n",
    "    'Super Deluxe': 0,\n",
    "    'Standard': 1,\n",
    "    'King': 2,\n",
    "    'Deluxe': 3,\n",
    "    'Basic': 4\n",
    "}\n",
    "\n",
    "df_train.loc[:, 'ProductPitched'] = df_train.loc[:, 'ProductPitched'].map(mapping)\n",
    "df_test.loc[:, 'ProductPitched'] = df_test.loc[:, 'ProductPitched'].map(mapping)"
   ]
  },
  {
   "cell_type": "code",
   "execution_count": 75,
   "metadata": {},
   "outputs": [],
   "source": [
    "# Designation labeling\n",
    "\n",
    "mapping = {\n",
    "    'Manager': 0,\n",
    "    'VP': 1,\n",
    "    'AVP': 2,\n",
    "    'Senior Manager': 3,\n",
    "    'Executive': 4\n",
    "}\n",
    "\n",
    "df_train.loc[:, 'Designation'] = df_train.loc[:, 'Designation'].map(mapping)\n",
    "df_test.loc[:, 'Designation'] = df_test.loc[:, 'Designation'].map(mapping)"
   ]
  },
  {
   "cell_type": "code",
   "execution_count": 76,
   "metadata": {},
   "outputs": [],
   "source": [
    "# Marry labeling\n",
    "\n",
    "mapping = {\n",
    "    'Married': 0,\n",
    "    'Single': 1,\n",
    "    'Divorced': 2,\n",
    "}\n",
    "\n",
    "df_train.loc[:, 'Marry'] = df_train.loc[:, 'Marry'].map(mapping)\n",
    "df_test.loc[:, 'Marry'] = df_test.loc[:, 'Marry'].map(mapping)"
   ]
  },
  {
   "cell_type": "code",
   "execution_count": 77,
   "metadata": {},
   "outputs": [],
   "source": [
    "# Car labeling\n",
    "\n",
    "mapping = {\n",
    "    'No Car': 0,\n",
    "    'Has Car': 1,\n",
    "}\n",
    "\n",
    "df_train.loc[:, 'Car'] = df_train.loc[:, 'Car'].map(mapping)\n",
    "df_test.loc[:, 'Car'] = df_test.loc[:, 'Car'].map(mapping)"
   ]
  },
  {
   "cell_type": "code",
   "execution_count": 78,
   "metadata": {},
   "outputs": [],
   "source": [
    "# Child labeling\n",
    "\n",
    "mapping = {\n",
    "    '0_child': 0,\n",
    "    '1_child': 1,\n",
    "    '2_child': 2,\n",
    "    '3_child': 3\n",
    "}\n",
    "\n",
    "df_train.loc[:, 'Child'] = df_train.loc[:, 'Child'].map(mapping)\n",
    "df_test.loc[:, 'Child'] = df_test.loc[:, 'Child'].map(mapping)"
   ]
  },
  {
   "cell_type": "code",
   "execution_count": 79,
   "metadata": {},
   "outputs": [],
   "source": [
    "column_list_train = df_train.columns\n",
    "column_list_test = df_test.columns\n",
    "\n",
    "for col in column_list_train:\n",
    "    df_train[col] = df_train[col].astype(int)\n",
    "\n",
    "for col in column_list_test:\n",
    "    df_test[col] = df_test[col].astype(int)"
   ]
  },
  {
   "cell_type": "code",
   "execution_count": 81,
   "metadata": {},
   "outputs": [],
   "source": [
    "df_train.to_csv('data/collect/labeled/train_gbdt_labeled.csv', index=False)\n",
    "df_test.to_csv('data/collect/labeled/test_gbdt_labeled.csv', index=False)"
   ]
  },
  {
   "cell_type": "markdown",
   "metadata": {},
   "source": [
    "# Feature Engineering"
   ]
  },
  {
   "cell_type": "code",
   "execution_count": null,
   "metadata": {},
   "outputs": [],
   "source": []
  }
 ],
 "metadata": {
  "kernelspec": {
   "display_name": "competition",
   "language": "python",
   "name": "python3"
  },
  "language_info": {
   "codemirror_mode": {
    "name": "ipython",
    "version": 3
   },
   "file_extension": ".py",
   "mimetype": "text/x-python",
   "name": "python",
   "nbconvert_exporter": "python",
   "pygments_lexer": "ipython3",
   "version": "3.12.4"
  }
 },
 "nbformat": 4,
 "nbformat_minor": 2
}
