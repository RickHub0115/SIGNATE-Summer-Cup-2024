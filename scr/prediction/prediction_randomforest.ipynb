{
 "cells": [
  {
   "cell_type": "code",
   "execution_count": 1,
   "metadata": {},
   "outputs": [],
   "source": [
    "import os\n",
    "os.chdir('../../')"
   ]
  },
  {
   "cell_type": "code",
   "execution_count": 2,
   "metadata": {},
   "outputs": [],
   "source": [
    "import numpy as np\n",
    "import pandas as pd\n",
    "import matplotlib.pyplot as plt\n",
    "import seaborn as sns\n",
    "import pickle\n",
    "from sklearn.model_selection import train_test_split\n",
    "from sklearn.model_selection import StratifiedKFold\n",
    "from sklearn.metrics import roc_auc_score\n",
    "from sklearn.ensemble import RandomForestClassifier\n",
    "from scr.util import *"
   ]
  },
  {
   "cell_type": "code",
   "execution_count": 8,
   "metadata": {},
   "outputs": [],
   "source": [
    "df_train = pd.read_csv('data/feature_engineered/null_cat/train_scaled_for_not_gbdt.csv')\n",
    "df_test = pd.read_csv('data/feature_engineered/null_cat/train_scaled_for_not_gbdt.csv')"
   ]
  },
  {
   "cell_type": "code",
   "execution_count": 9,
   "metadata": {},
   "outputs": [],
   "source": [
    "feature = [\n",
    "    'Age', \n",
    "    'DurationOfPitch', \n",
    "    'NumberOfPersonVisiting',\n",
    "    'NumberOfFollowups', \n",
    "    'NumberOfTrips', \n",
    "    'MonthlyIncome', \n",
    "    #'ProdTaken',\n",
    "    'Motivation', \n",
    "    'EconomicPower', \n",
    "    'TripEasier', \n",
    "    'SalesPerformance',\n",
    "    'LivingCost', \n",
    "    'EconomicStability', \n",
    "    'NumberOfTrips_log', \n",
    "    'TravelCost',\n",
    "    'EconomicSegment', \n",
    "    'PackageMatch', \n",
    "    'Monetary', \n",
    "    #'ContractRate_FM',\n",
    "    #'ContractRate_G1',\n",
    "    #'ContractRate_G2', \n",
    "    #'ContractRate_G3',\n",
    "    #'ContractRate_G4',\n",
    "    #'ContractRate_G5', \n",
    "    #'ContractRate_G6',\n",
    "    'TypeofContact_No',\n",
    "    'TypeofContact_Self Enquiry',\n",
    "    'CityTier_2',\n",
    "    'CityTier_3',\n",
    "    'Occupation_Salaried',\n",
    "    'Occupation_Small Business',\n",
    "    'Gender_male', \n",
    "    'ProductPitched_Deluxe', \n",
    "    'ProductPitched_King',\n",
    "    'ProductPitched_Standard',\n",
    "    'ProductPitched_Super Deluxe',\n",
    "    'PreferredPropertyStar_4',\n",
    "    'PreferredPropertyStar_5', \n",
    "    'Passport_1',\n",
    "    'PitchSatisfactionScore_2', \n",
    "    'PitchSatisfactionScore_3',\n",
    "    'PitchSatisfactionScore_4',\n",
    "    'PitchSatisfactionScore_5',\n",
    "    'Designation_Executive',\n",
    "    'Designation_Manager',\n",
    "    'Designation_Senior Manager', \n",
    "    'Designation_VP',\n",
    "    'Marry_Married',\n",
    "    'Marry_Single', \n",
    "    'Car_No Car', \n",
    "    'Child_1_child', \n",
    "    'Child_2_child',\n",
    "    'Child_3_child',\n",
    "    'AgeGroup_20s',\n",
    "    'AgeGroup_30s',\n",
    "    'AgeGroup_40s',\n",
    "    'AgeGroup_50s', \n",
    "    'AgeGroup_60s', \n",
    "    'TypeofContactNULL_1',\n",
    "    'Child01_1',\n",
    "    'IsFamily_1',\n",
    "    'FreaqencySeg_1',\n",
    "    'FreaqencySeg_2',\n",
    "    'MonetarySeg_2',\n",
    "    'MonetarySeg_3', \n",
    "    'MonetarySeg_4', \n",
    "    'AgeNull', \n",
    "    'DurationOfPitchNull',\n",
    "    'NumberOfTripsNull', \n",
    "    'MonthlyIncomeNull'\n",
    "]\n",
    "\n",
    "X = df_train[feature]\n",
    "y = df_train['ProdTaken']"
   ]
  },
  {
   "cell_type": "code",
   "execution_count": 10,
   "metadata": {},
   "outputs": [
    {
     "name": "stdout",
     "output_type": "stream",
     "text": [
      "AUC :  [0.8450501672240803, 0.8411371237458194, 0.8048262255273942, 0.8249439301192223, 0.7877943312725921]\n"
     ]
    }
   ],
   "source": [
    "models = []\n",
    "scores = []\n",
    "\n",
    "params = {\n",
    "    'n_estimators': 100,  # ツリーの数\n",
    "    'max_depth': 6,\n",
    "    'min_samples_split': 2,\n",
    "    'min_samples_leaf': 1,\n",
    "    'max_features': 'sqrt',\n",
    "    'bootstrap': True,\n",
    "    'random_state': 42\n",
    "}\n",
    "\n",
    "skf = StratifiedKFold(n_splits=5, shuffle=True, random_state=42)\n",
    "for tr_idx, va_idx in skf.split(X, y):\n",
    "    tr_x, va_x = X.iloc[tr_idx], X.iloc[va_idx]\n",
    "    tr_y, va_y = y.iloc[tr_idx], y.iloc[va_idx]\n",
    "    \n",
    "    model = RandomForestClassifier(**params)\n",
    "    model.fit(tr_x, tr_y)\n",
    "    \n",
    "    pred = model.predict_proba(va_x)[:, 1]\n",
    "    models.append(model)\n",
    "    score = roc_auc_score(va_y, pred)\n",
    "    scores.append(score)\n",
    "\n",
    "print('AUC : ', scores)"
   ]
  }
 ],
 "metadata": {
  "kernelspec": {
   "display_name": "competition",
   "language": "python",
   "name": "python3"
  },
  "language_info": {
   "codemirror_mode": {
    "name": "ipython",
    "version": 3
   },
   "file_extension": ".py",
   "mimetype": "text/x-python",
   "name": "python",
   "nbconvert_exporter": "python",
   "pygments_lexer": "ipython3",
   "version": "3.12.4"
  }
 },
 "nbformat": 4,
 "nbformat_minor": 2
}
