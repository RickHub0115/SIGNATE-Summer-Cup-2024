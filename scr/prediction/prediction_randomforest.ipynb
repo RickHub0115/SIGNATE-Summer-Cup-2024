{
 "cells": [
  {
   "cell_type": "code",
   "execution_count": 2,
   "metadata": {},
   "outputs": [],
   "source": [
    "import os\n",
    "os.chdir('../../')"
   ]
  },
  {
   "cell_type": "code",
   "execution_count": 4,
   "metadata": {},
   "outputs": [],
   "source": [
    "import numpy as np\n",
    "import pandas as pd\n",
    "import matplotlib.pyplot as plt\n",
    "import seaborn as sns\n",
    "import pickle\n",
    "from sklearn.model_selection import train_test_split\n",
    "from sklearn.model_selection import StratifiedKFold\n",
    "from sklearn.metrics import roc_auc_score\n",
    "from sklearn.ensemble import RandomForestClassifier\n",
    "from scr.util import *"
   ]
  },
  {
   "cell_type": "code",
   "execution_count": 15,
   "metadata": {},
   "outputs": [],
   "source": [
    "files = os.listdir('data/sampling/under_sampling/mean_gb')\n",
    "df_trains = []\n",
    "for file in files:\n",
    "    file_path = os.path.join('data/sampling/under_sampling/mean_gb', file)\n",
    "    df = pd.read_csv(file_path)\n",
    "    df_trains.append(df)"
   ]
  },
  {
   "cell_type": "code",
   "execution_count": 19,
   "metadata": {},
   "outputs": [],
   "source": [
    "df_train = df_trains[0]\n",
    "df_test = pd.read_csv('data/feature_engineered/null_representative/test_null_mean.csv')\n",
    "combination_columns = df_train.columns[44:110]"
   ]
  },
  {
   "cell_type": "code",
   "execution_count": 20,
   "metadata": {},
   "outputs": [],
   "source": [
    "# 特徴量が多いので、落とす特徴量を選択\n",
    "drop = [\n",
    "    'EconomicSegment',\n",
    "    'ContractRate_FM',\n",
    "    'ContractRate_G1',\n",
    "    'ContractRate_G2',\n",
    "    'ContractRate_G3',\n",
    "    'ContractRate_G4',\n",
    "    'ContractRate_G5',\n",
    "    'ContractRate_G6'\n",
    "]\n",
    "\n",
    "# catboostでカテゴリ変数を指定するためのリスト\n",
    "category_columns = ['TypeofContact', 'CityTier', 'Occupation', 'Gender','NumberOfPersonVisiting','NumberOfFollowups', 'ProductPitched', 'PreferredPropertyStar', 'Passport','PitchSatisfactionScore', 'Designation', 'Marry', 'Car', 'Child'] + ['EconomicSegment', 'IsFamily', 'FreaqencySeg','MonetarySeg', 'ContractRate_FM', 'ContractRate_G1','ContractRate_G2', 'ContractRate_G3', 'ContractRate_G4', 'ContractRate_G5', 'ContractRate_G6']\n",
    "\n",
    "##----------------------------------------------------------------------------------\n",
    "df_train = mapping_columns_if_exist(df_train)\n",
    "df_test = mapping_columns_if_exist(df_test)\n",
    "\n",
    "def handle_unknown_label(train_series, test_series):\n",
    "    unique_labels = train_series.unique()\n",
    "    label_map = {label: idx for idx, label in enumerate(unique_labels)}\n",
    "    train_encoded = train_series.map(label_map)\n",
    "    test_encoded = test_series.map(lambda x: label_map.get(x, -1))\n",
    "    return train_encoded, test_encoded\n",
    "\n",
    "# 各カラムに対してカスタムエンコーディング関数を適用\n",
    "for col in combination_columns:\n",
    "    df_train[col], df_test[col] = handle_unknown_label(df_train[col], df_test[col])\n",
    "##-----------------------------------------------------------------------------------\n",
    "\n",
    "X = df_train.drop(columns=drop, axis=1)\n",
    "y = df_train['ProdTaken']\n",
    "\n",
    "test_feature = X.columns.drop('ProdTaken')\n",
    "df_test = df_test[test_feature]\n",
    "\n",
    "tmp = X.groupby(by=['AgeGroup', 'ProductPitched'], as_index=False)['ProdTaken'].mean()\n",
    "tmp = tmp.rename(columns={'ProdTaken': 'ContractRate_G4'})\n",
    "df_test = df_test.merge(tmp, on=['AgeGroup', 'ProductPitched'], how='left')"
   ]
  },
  {
   "cell_type": "code",
   "execution_count": 21,
   "metadata": {},
   "outputs": [
    {
     "name": "stdout",
     "output_type": "stream",
     "text": [
      "AUC :  [0.8600000000000001, 0.8278151260504202, 0.7861952861952862, 0.8254208754208754, 0.7740740740740741]\n"
     ]
    }
   ],
   "source": [
    "models = []\n",
    "scores = []\n",
    "\n",
    "params = {\n",
    "    \n",
    "    'n_estimators': 1000,  # ツリーの数\n",
    "    'max_depth': 6,\n",
    "    'min_samples_split': 2,\n",
    "    'min_samples_leaf': 1,\n",
    "    'max_features': 'sqrt',\n",
    "    'bootstrap': True,\n",
    "    'random_state': 42\n",
    "}\n",
    "\n",
    "skf = StratifiedKFold(n_splits=5, shuffle=True, random_state=42)\n",
    "for tr_idx, va_idx in skf.split(X, y):\n",
    "    tr_x, va_x = X.iloc[tr_idx], X.iloc[va_idx]\n",
    "    tr_y, va_y = y.iloc[tr_idx], y.iloc[va_idx]\n",
    "    \n",
    "    # 各foldでtarget encodingのやり直し\n",
    "    tmp = tr_x.groupby(by=['AgeGroup', 'ProductPitched'], as_index=False)['ProdTaken'].mean()\n",
    "    tmp = tmp.rename(columns={'ProdTaken': 'ContractRate_G4'})\n",
    "    tr_x = tr_x.merge(tmp, on=['AgeGroup', 'ProductPitched'], how='left')\n",
    "    va_x = va_x.merge(tmp, on=['AgeGroup', 'ProductPitched'], how='left')\n",
    "    \n",
    "    # tr_x = tr_x.drop(labels='AgeGroup', axis=1)\n",
    "    # va_x = va_x.drop(labels='AgeGroup', axis=1)\n",
    "    tr_x = tr_x.drop(labels='ProdTaken', axis=1)\n",
    "    va_x = va_x.drop(labels='ProdTaken', axis=1)\n",
    "    \n",
    "    model = RandomForestClassifier(**params)\n",
    "    model.fit(tr_x, tr_y)\n",
    "    \n",
    "    pred = model.predict_proba(va_x)[:, 1]\n",
    "    models.append(model)\n",
    "    score = roc_auc_score(va_y, pred)\n",
    "    scores.append(score)\n",
    "\n",
    "print('AUC : ', scores)"
   ]
  }
 ],
 "metadata": {
  "kernelspec": {
   "display_name": "competition",
   "language": "python",
   "name": "python3"
  },
  "language_info": {
   "codemirror_mode": {
    "name": "ipython",
    "version": 3
   },
   "file_extension": ".py",
   "mimetype": "text/x-python",
   "name": "python",
   "nbconvert_exporter": "python",
   "pygments_lexer": "ipython3",
   "version": "3.12.4"
  }
 },
 "nbformat": 4,
 "nbformat_minor": 2
}
