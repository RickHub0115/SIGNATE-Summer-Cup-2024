{
 "cells": [
  {
   "cell_type": "code",
   "execution_count": 2,
   "metadata": {},
   "outputs": [],
   "source": [
    "import os\n",
    "os.chdir(\"../../\")"
   ]
  },
  {
   "cell_type": "code",
   "execution_count": 3,
   "metadata": {},
   "outputs": [],
   "source": [
    "import numpy as np\n",
    "import pandas as pd\n",
    "import matplotlib.pyplot as plt\n",
    "import seaborn as sns\n",
    "import pickle\n",
    "from sklearn.model_selection import train_test_split\n",
    "from sklearn.model_selection import StratifiedKFold\n",
    "from sklearn.metrics import roc_auc_score\n",
    "import lightgbm as lgb\n",
    "from scr.util import *"
   ]
  },
  {
   "cell_type": "code",
   "execution_count": 4,
   "metadata": {},
   "outputs": [],
   "source": [
    "# データセットを整形\n",
    "\n",
    "pass_train = 'data/feature_engineered/train_feature_ok.csv'\n",
    "pass_test = 'data/feature_engineered/test_feature_ok.csv'\n",
    "\n",
    "df = pd.read_csv(pass_train)\n",
    "df_submit = pd.read_csv(pass_test)\n",
    "\n",
    "\n",
    "# 特徴量選択\n",
    "feature = [\n",
    "    'Age',\n",
    "    'TypeofContact',\n",
    "    'CityTier',\n",
    "    'DurationOfPitch',\n",
    "    'Occupation',\n",
    "    'Gender',\n",
    "    'NumberOfPersonVisiting',\n",
    "    'NumberOfFollowups',\n",
    "    'ProductPitched',\n",
    "    'PreferredPropertyStar',\n",
    "    #'NumberOfTrips',\n",
    "    'Passport',\n",
    "    'PitchSatisfactionScore',\n",
    "    'Designation',\n",
    "    'MonthlyIncome',\n",
    "    'Marry',\n",
    "    'Car',\n",
    "    'Child',\n",
    "    # 以下、作成特徴量\n",
    "    #'AgeGroup',\n",
    "    #'TypeofContactNULL',\n",
    "    #'Motivation',\n",
    "    'EconomicPower',\n",
    "    #'Child01',\n",
    "    'TripEasier',\n",
    "    'SalesPerformance',\n",
    "    'LivingCost',\n",
    "    'EconomicStability',\n",
    "    'TravelCost',\n",
    "    'NumberOfTrips_log',\n",
    "    'EconomicSegment',\n",
    "    'PackageMatch'\n",
    "]\n",
    "\n",
    "# 型選択\n",
    "float_columns = ['DurationOfPitch', 'MonthlyIncome'] + ['EconomicPower', 'TravelCost', 'NumberOfTrips_log']\n",
    "int_columns = ['Age', 'NumberOfTrips', 'TypeofContact', 'CityTier', 'Occupation', \n",
    "                'Gender', 'NumberOfPersonVisiting', 'NumberOfFollowups', 'ProductPitched', \n",
    "                'PreferredPropertyStar', 'Passport', 'PitchSatisfactionScore', 'Designation',\n",
    "                'Marry', 'Car', 'Child'] + ['AgeGroup', 'TypeofContactNULL', 'Motivation', 'TripEasier', 'SalesPerformance', 'LivingCost', 'EconomicStability', 'PackageMatch']\n",
    "# catboostで措定\n",
    "category_columns = ['TypeofContact', 'CityTier', 'Occupation', 'Gender', 'NumberOfPersonVisiting', 'NumberOfFollowups', 'ProductPitched', \n",
    "                'PreferredPropertyStar', 'Passport', 'PitchSatisfactionScore', 'Designation', 'Marry', 'Car', 'Child'] + ['EconomicSegment']\n",
    "\n",
    "\n",
    "df = mapping_columns_if_exist(df)\n",
    "df_submit = mapping_columns_if_exist(df_submit)\n",
    "df, df_submit = convert_type(df, df_submit, float_columns=float_columns, int_columns=int_columns)\n",
    "\n",
    "\n",
    "X = df[feature]\n",
    "y = df['ProdTaken']\n",
    "df_submit = df_submit[feature]\n",
    "X_train, X_test, y_train, y_test = train_test_split(X, y, test_size=0.2, stratify=y, random_state=42)"
   ]
  },
  {
   "cell_type": "code",
   "execution_count": 23,
   "metadata": {},
   "outputs": [
    {
     "name": "stdout",
     "output_type": "stream",
     "text": [
      "Best AUC: 0.81603, reached at round: 54\n"
     ]
    }
   ],
   "source": [
    "dataset = lgb.Dataset(X, label=y)\n",
    "\n",
    "# パラメータの設定\n",
    "params = {\n",
    "    'boosting_type': 'gbdt',\n",
    "    'objective': 'binary',\n",
    "    'metric': 'auc',\n",
    "    'num_leaves': 31,\n",
    "    'learning_rate': 0.05,\n",
    "    'feature_fraction': 0.9,\n",
    "    'bagging_fraction': 0.8,\n",
    "    'bagging_freq': 5,\n",
    "    'verbose': 0\n",
    "}\n",
    "\n",
    "# 交差検証の実行\n",
    "cv_results = lgb.cv(\n",
    "    params,\n",
    "    dataset,\n",
    "    num_boost_round=100,\n",
    "    nfold=5,\n",
    "    stratified=False,\n",
    "    shuffle=True,\n",
    "    metrics='auc',\n",
    "    seed=42\n",
    ")\n",
    "\n",
    "# 最良のAUCスコアとラウンド数を表示\n",
    "best_auc = np.max(cv_results['valid auc-mean'])\n",
    "best_round = np.argmax(cv_results['valid auc-mean'])\n",
    "print(\"Best AUC: {:.5f}, reached at round: {}\".format(best_auc, best_round + 1))"
   ]
  }
 ],
 "metadata": {
  "kernelspec": {
   "display_name": "competition",
   "language": "python",
   "name": "python3"
  },
  "language_info": {
   "codemirror_mode": {
    "name": "ipython",
    "version": 3
   },
   "file_extension": ".py",
   "mimetype": "text/x-python",
   "name": "python",
   "nbconvert_exporter": "python",
   "pygments_lexer": "ipython3",
   "version": "3.12.4"
  }
 },
 "nbformat": 4,
 "nbformat_minor": 2
}
