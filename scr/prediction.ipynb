{
 "cells": [
  {
   "cell_type": "code",
   "execution_count": 1,
   "metadata": {},
   "outputs": [],
   "source": [
    "import os\n",
    "os.chdir(\"../\")"
   ]
  },
  {
   "cell_type": "code",
   "execution_count": 16,
   "metadata": {},
   "outputs": [],
   "source": [
    "import numpy as np\n",
    "import pandas as pd\n",
    "import pickle\n",
    "from sklearn.model_selection import train_test_split\n",
    "from sklearn.metrics import roc_auc_score"
   ]
  },
  {
   "cell_type": "code",
   "execution_count": 3,
   "metadata": {},
   "outputs": [],
   "source": [
    "import xgboost as xgb\n",
    "from xgboost import XGBClassifier\n",
    "import lightgbm as lgb\n",
    "import catboost as cb\n",
    "from sklearn.pipeline import Pipeline"
   ]
  },
  {
   "cell_type": "markdown",
   "metadata": {},
   "source": [
    "# Data Set"
   ]
  },
  {
   "cell_type": "code",
   "execution_count": 9,
   "metadata": {},
   "outputs": [],
   "source": [
    "feature = [\n",
    "    'Age',\n",
    "    'TypeofContact',\n",
    "    'CityTier',\n",
    "    'DurationOfPitch',\n",
    "    'Occupation',\n",
    "    'Gender',\n",
    "    'NumberOfPersonVisiting',\n",
    "    'NumberOfFollowups',\n",
    "    'ProductPitched',\n",
    "    'PreferredPropertyStar',\n",
    "    'NumberOfTrips',\n",
    "    'Passport',\n",
    "    'PitchSatisfactionScore',\n",
    "    'Designation',\n",
    "    'MonthlyIncome',\n",
    "    'Marry',\n",
    "    'Car',\n",
    "    'Child'\n",
    "]"
   ]
  },
  {
   "cell_type": "code",
   "execution_count": 29,
   "metadata": {},
   "outputs": [],
   "source": [
    "df = pd.read_csv('data/collect/labeled/train_gbdt_labeled.csv')\n",
    "X_submit = pd.read_csv('data/collect/labeled/test_gbdt_labeled.csv')\n",
    "\n",
    "X = df[feature]\n",
    "y = df['ProdTaken']\n",
    "\n",
    "X_train, X_test, y_train, y_test = train_test_split(X, y, test_size=0.2, stratify=y, random_state=42)"
   ]
  },
  {
   "cell_type": "code",
   "execution_count": 44,
   "metadata": {},
   "outputs": [],
   "source": [
    "# X_train = pd.read_csv('data/preprocessed/X_train_scaled.csv')\n",
    "# X_test = pd.read_csv('data/preprocessed/X_test_scaled.csv')\n",
    "# y_train = pd.read_csv('data/preprocessed/y_train.csv')\n",
    "# y_test = pd.read_csv('data/preprocessed/y_test.csv')\n",
    "\n",
    "# X = pd.concat([X_train, X_test], ignore_index=True)\n",
    "# y = pd.concat([y_train, y_test], ignore_index=True)\n",
    "\n",
    "# X_submit = pd.read_csv('data/preprocessed/X_submission_scaled.csv')"
   ]
  },
  {
   "cell_type": "markdown",
   "metadata": {},
   "source": [
    "# Gradient Boosting Decision Tree"
   ]
  },
  {
   "cell_type": "markdown",
   "metadata": {},
   "source": [
    "## xgboost"
   ]
  },
  {
   "cell_type": "code",
   "execution_count": 35,
   "metadata": {},
   "outputs": [
    {
     "name": "stdout",
     "output_type": "stream",
     "text": [
      "[0]\ttrain-logloss:0.39944\teval-logloss:0.39880\n",
      "[1]\ttrain-logloss:0.38384\teval-logloss:0.38478\n",
      "[2]\ttrain-logloss:0.37057\teval-logloss:0.37385\n"
     ]
    },
    {
     "name": "stdout",
     "output_type": "stream",
     "text": [
      "[3]\ttrain-logloss:0.35844\teval-logloss:0.36391\n",
      "[4]\ttrain-logloss:0.34863\teval-logloss:0.35704\n",
      "[5]\ttrain-logloss:0.33959\teval-logloss:0.34971\n",
      "[6]\ttrain-logloss:0.33175\teval-logloss:0.34364\n",
      "[7]\ttrain-logloss:0.32456\teval-logloss:0.33831\n",
      "[8]\ttrain-logloss:0.31776\teval-logloss:0.33353\n",
      "[9]\ttrain-logloss:0.31146\teval-logloss:0.32926\n",
      "[10]\ttrain-logloss:0.30589\teval-logloss:0.32495\n",
      "[11]\ttrain-logloss:0.30107\teval-logloss:0.32250\n",
      "[12]\ttrain-logloss:0.29689\teval-logloss:0.31937\n",
      "[13]\ttrain-logloss:0.29258\teval-logloss:0.31693\n",
      "[14]\ttrain-logloss:0.28900\teval-logloss:0.31593\n",
      "[15]\ttrain-logloss:0.28546\teval-logloss:0.31477\n",
      "[16]\ttrain-logloss:0.28231\teval-logloss:0.31373\n",
      "[17]\ttrain-logloss:0.27909\teval-logloss:0.31273\n",
      "[18]\ttrain-logloss:0.27556\teval-logloss:0.31217\n",
      "[19]\ttrain-logloss:0.27245\teval-logloss:0.31186\n",
      "[20]\ttrain-logloss:0.26954\teval-logloss:0.31134\n",
      "[21]\ttrain-logloss:0.26661\teval-logloss:0.31058\n",
      "[22]\ttrain-logloss:0.26414\teval-logloss:0.31003\n",
      "[23]\ttrain-logloss:0.26204\teval-logloss:0.30929\n",
      "[24]\ttrain-logloss:0.26001\teval-logloss:0.30865\n",
      "[25]\ttrain-logloss:0.25809\teval-logloss:0.30883\n",
      "[26]\ttrain-logloss:0.25654\teval-logloss:0.30907\n",
      "[27]\ttrain-logloss:0.25382\teval-logloss:0.30976\n",
      "[28]\ttrain-logloss:0.25174\teval-logloss:0.30975\n",
      "[29]\ttrain-logloss:0.24905\teval-logloss:0.30866\n",
      "[30]\ttrain-logloss:0.24683\teval-logloss:0.30804\n",
      "[31]\ttrain-logloss:0.24450\teval-logloss:0.30762\n",
      "[32]\ttrain-logloss:0.24284\teval-logloss:0.30687\n",
      "[33]\ttrain-logloss:0.24121\teval-logloss:0.30616\n",
      "[34]\ttrain-logloss:0.23916\teval-logloss:0.30651\n",
      "[35]\ttrain-logloss:0.23796\teval-logloss:0.30638\n",
      "[36]\ttrain-logloss:0.23673\teval-logloss:0.30643\n",
      "[37]\ttrain-logloss:0.23483\teval-logloss:0.30633\n",
      "[38]\ttrain-logloss:0.23307\teval-logloss:0.30696\n",
      "[39]\ttrain-logloss:0.23196\teval-logloss:0.30725\n",
      "[40]\ttrain-logloss:0.23022\teval-logloss:0.30691\n",
      "[41]\ttrain-logloss:0.22899\teval-logloss:0.30695\n",
      "[42]\ttrain-logloss:0.22795\teval-logloss:0.30790\n",
      "[43]\ttrain-logloss:0.22661\teval-logloss:0.30869\n",
      "AUC Score: 0.8281\n"
     ]
    }
   ],
   "source": [
    "dtrain = xgb.DMatrix(X_train, label=y_train)\n",
    "dtest = xgb.DMatrix(X_test, label=y_test)\n",
    "\n",
    "params = {\n",
    "    'booster': 'gbtree',\n",
    "    'objective': 'binary:logistic',\n",
    "    'eta': 0.1,\n",
    "    'gamma': 0.0,\n",
    "    'alpha': 0.0,\n",
    "    'lambda': 1.0,\n",
    "    'min_child_weight': 1,\n",
    "    'max_depth': 5,\n",
    "    'subsample': 0.8,\n",
    "    'colsample_bytree': 0.8,\n",
    "    'seed': 42\n",
    "}\n",
    "\n",
    "num_round = 100\n",
    "\n",
    "evals = [(dtrain, 'train'), (dtest, 'eval')]\n",
    "\n",
    "model = xgb.train(params, dtrain, num_round, evals=evals, early_stopping_rounds=10)\n",
    "\n",
    "y_pred = model.predict(dtest)\n",
    "\n",
    "auc_score = roc_auc_score(y_test, y_pred)\n",
    "print(f\"AUC Score: {auc_score:.4f}\")"
   ]
  },
  {
   "cell_type": "markdown",
   "metadata": {},
   "source": [
    "## xgboost cross validation"
   ]
  },
  {
   "cell_type": "code",
   "execution_count": 27,
   "metadata": {},
   "outputs": [
    {
     "name": "stdout",
     "output_type": "stream",
     "text": [
      "AUC Score: 0.8264\n"
     ]
    }
   ],
   "source": [
    "dtrain = xgb.DMatrix(data=X_train, label=y_train)\n",
    "dtest = xgb.DMatrix(data=X_test, label=y_test)\n",
    "\n",
    "# パラメータ設定\n",
    "params = {\n",
    "    'booster': 'gbtree',\n",
    "    'objective': 'binary:logistic',\n",
    "    'eta': 0.1,\n",
    "    'gamma': 0.0,\n",
    "    'alpha': 0.0,\n",
    "    'lambda': 1.0,\n",
    "    'min_child_weight': 1,\n",
    "    'max_depth': 5,\n",
    "    'subsample': 0.8,\n",
    "    'colsample_bytree': 0.8,\n",
    "    'seed': 42\n",
    "}\n",
    "\n",
    "# 交差検証\n",
    "cv_results = xgb.cv(dtrain=dtrain, params=params, nfold=5,\n",
    "                    num_boost_round=50, early_stopping_rounds=10, metrics=\"auc\", as_pandas=True, seed=42)\n",
    "\n",
    "best_rounds = cv_results.shape[0]\n",
    "final_model = xgb.train(params, dtrain, num_boost_round=best_rounds)\n",
    "\n",
    "# 結果の表示\n",
    "y_pred = final_model.predict(dtest)\n",
    "\n",
    "auc_score = roc_auc_score(y_test, y_pred)\n",
    "print(f\"AUC Score: {auc_score:.4f}\")"
   ]
  },
  {
   "cell_type": "code",
   "execution_count": null,
   "metadata": {},
   "outputs": [],
   "source": []
  },
  {
   "cell_type": "code",
   "execution_count": 12,
   "metadata": {},
   "outputs": [],
   "source": [
    "X_submit = xgb.DMatrix(X_submit)\n",
    "\n",
    "y_submit = final_model.predict(X_submit)"
   ]
  },
  {
   "cell_type": "markdown",
   "metadata": {},
   "source": [
    "## lightgbm"
   ]
  },
  {
   "cell_type": "code",
   "execution_count": 38,
   "metadata": {},
   "outputs": [
    {
     "name": "stdout",
     "output_type": "stream",
     "text": [
      "[LightGBM] [Warning] Found whitespace in feature_names, replace with underlines\n",
      "[LightGBM] [Info] Number of positive: 398, number of negative: 2393\n",
      "[LightGBM] [Info] Auto-choosing row-wise multi-threading, the overhead of testing was 0.086169 seconds.\n",
      "You can set `force_row_wise=true` to remove the overhead.\n",
      "And if memory is not enough, you can set `force_col_wise=true`.\n",
      "[LightGBM] [Info] Total Bins 410\n",
      "[LightGBM] [Info] Number of data points in the train set: 2791, number of used features: 32\n",
      "[LightGBM] [Warning] Found whitespace in feature_names, replace with underlines\n",
      "[LightGBM] [Info] [binary:BoostFromScore]: pavg=0.142601 -> initscore=-1.793851\n",
      "[LightGBM] [Info] Start training from score -1.793851\n",
      "AUC Score: 0.8245\n"
     ]
    }
   ],
   "source": [
    "train_data = lgb.Dataset(X_train, label=y_train)\n",
    "test_data = lgb.Dataset(X_test, label=y_test, reference=train_data)\n",
    "\n",
    "# パラメータの設定\n",
    "params = {\n",
    "    'boosting_type': 'gbdt',  # Gradient Boosting Decision Tree\n",
    "    'objective': 'binary',  # 二値分類問題\n",
    "    'metric': 'auc',  # 評価指標としてAUCを使用\n",
    "    'learning_rate': 0.1,\n",
    "    'num_leaves': 31,  # 葉の数（XGBoostのmax_depthと異なり、より大きい値）\n",
    "    'min_child_weight': 1,\n",
    "    'lambda_l1': 0.0,  # L1正則化\n",
    "    'lambda_l2': 1.0,  # L2正則化\n",
    "    'subsample': 0.8,  # データのサブサンプリング\n",
    "    'colsample_bytree': 0.8,  # 特徴量のサブサンプリング\n",
    "    'seed': 42\n",
    "}\n",
    "\n",
    "# モデルの訓練\n",
    "model = lgb.train(\n",
    "    params, \n",
    "    train_data, \n",
    "    num_boost_round=100, \n",
    "    valid_sets=[train_data, test_data]\n",
    ")\n",
    "\n",
    "# 予測\n",
    "y_pred = model.predict(X_test, num_iteration=model.best_iteration)\n",
    "\n",
    "# AUCスコアの計算\n",
    "auc_score = roc_auc_score(y_test, y_pred)\n",
    "print(f\"AUC Score: {auc_score:.4f}\")"
   ]
  },
  {
   "cell_type": "markdown",
   "metadata": {},
   "source": [
    "## catboost"
   ]
  },
  {
   "cell_type": "code",
   "execution_count": 40,
   "metadata": {},
   "outputs": [],
   "source": [
    "N_SPLITS = 5\n",
    "from sklearn.model_selection import StratifiedKFold\n",
    "skf = StratifiedKFold(n_splits=N_SPLITS, shuffle=True, random_state=0)\n",
    "cv_list = list(skf.split(X, y))"
   ]
  },
  {
   "cell_type": "code",
   "execution_count": 41,
   "metadata": {},
   "outputs": [],
   "source": [
    "def train_catboost(X, y, cv, params: dict = None):\n",
    "    if params is None:\n",
    "        params = {}\n",
    "\n",
    "    models = []\n",
    "    n_records = len(X)\n",
    "    oof_pred = np.zeros((n_records, ))\n",
    "    for i, (tr_idx, va_idx) in enumerate(cv):\n",
    "        tr_x, va_x = X.iloc[tr_idx], X.iloc[va_idx]\n",
    "        tr_y, va_y = y.iloc[tr_idx], y.iloc[va_idx]\n",
    "        model = cb.CatBoostRegressor(**params)\n",
    "        model.fit(tr_x, tr_y, eval_set=(va_x, va_y), use_best_model=True, verbose=100)\n",
    "        oof_pred[va_idx] = model.predict(va_x)\n",
    "        models.append(model)\n",
    "    return oof_pred, models"
   ]
  },
  {
   "cell_type": "code",
   "execution_count": 42,
   "metadata": {},
   "outputs": [
    {
     "name": "stdout",
     "output_type": "stream",
     "text": [
      "0:\ttest: 0.7626338\tbest: 0.7626338 (0)\ttotal: 228ms\tremaining: 11.2s\n",
      "49:\ttest: 0.8049498\tbest: 0.8073746 (31)\ttotal: 452ms\tremaining: 0us\n",
      "\n",
      "bestTest = 0.8073745819\n",
      "bestIteration = 31\n",
      "\n",
      "Shrink model to first 32 iterations.\n",
      "0:\ttest: 0.7909030\tbest: 0.7909030 (0)\ttotal: 6.19ms\tremaining: 303ms\n",
      "49:\ttest: 0.8343144\tbest: 0.8344314 (48)\ttotal: 211ms\tremaining: 0us\n",
      "\n",
      "bestTest = 0.8344314381\n",
      "bestIteration = 48\n",
      "\n",
      "Shrink model to first 49 iterations.\n",
      "0:\ttest: 0.7329556\tbest: 0.7329556 (0)\ttotal: 4.89ms\tremaining: 240ms\n",
      "49:\ttest: 0.7784692\tbest: 0.7787390 (46)\ttotal: 177ms\tremaining: 0us\n",
      "\n",
      "bestTest = 0.7787389757\n",
      "bestIteration = 46\n",
      "\n",
      "Shrink model to first 47 iterations.\n",
      "0:\ttest: 0.7867321\tbest: 0.7867321 (0)\ttotal: 4.53ms\tremaining: 222ms\n",
      "49:\ttest: 0.8207787\tbest: 0.8228782 (3)\ttotal: 225ms\tremaining: 0us\n",
      "\n",
      "bestTest = 0.8228781977\n",
      "bestIteration = 3\n",
      "\n",
      "Shrink model to first 4 iterations.\n",
      "0:\ttest: 0.7822455\tbest: 0.7822455 (0)\ttotal: 6.78ms\tremaining: 332ms\n",
      "49:\ttest: 0.8119658\tbest: 0.8127428 (27)\ttotal: 243ms\tremaining: 0us\n",
      "\n",
      "bestTest = 0.8127428127\n",
      "bestIteration = 27\n",
      "\n",
      "Shrink model to first 28 iterations.\n"
     ]
    }
   ],
   "source": [
    "params = {\n",
    "    'loss_function': 'RMSE',\n",
    "    'eval_metric': 'AUC',\n",
    "    'iterations': 50,\n",
    "    'learning_rate': 0.005,\n",
    "    'depth': 6,\n",
    "    'verbose': 200,\n",
    "    'random_seed': 42,\n",
    "}\n",
    "\n",
    "oof, models = train_catboost(X, y, cv_list, params)"
   ]
  },
  {
   "cell_type": "code",
   "execution_count": 46,
   "metadata": {},
   "outputs": [],
   "source": [
    "def predict_with_average(models, X_submit):\n",
    "    # 各モデルによる予測値を格納する配列\n",
    "    preds = np.zeros((len(X_submit), len(models)))\n",
    "    \n",
    "    # 各モデルを利用して予測を行う\n",
    "    for i, model in enumerate(models):\n",
    "        preds[:, i] = model.predict(X_submit)\n",
    "    \n",
    "    # 予測値の平均を求める\n",
    "    final_preds = preds.mean(axis=1)\n",
    "    return final_preds\n",
    "\n",
    "# X_submitに対する予測値を計算\n",
    "y_submit = predict_with_average(models, X_submit)"
   ]
  },
  {
   "cell_type": "code",
   "execution_count": null,
   "metadata": {},
   "outputs": [],
   "source": []
  },
  {
   "cell_type": "markdown",
   "metadata": {},
   "source": [
    "# Nural Network"
   ]
  },
  {
   "cell_type": "code",
   "execution_count": null,
   "metadata": {},
   "outputs": [],
   "source": []
  },
  {
   "cell_type": "code",
   "execution_count": null,
   "metadata": {},
   "outputs": [],
   "source": []
  },
  {
   "cell_type": "markdown",
   "metadata": {},
   "source": [
    "# 提出"
   ]
  },
  {
   "cell_type": "code",
   "execution_count": 13,
   "metadata": {},
   "outputs": [
    {
     "data": {
      "text/html": [
       "<div>\n",
       "<style scoped>\n",
       "    .dataframe tbody tr th:only-of-type {\n",
       "        vertical-align: middle;\n",
       "    }\n",
       "\n",
       "    .dataframe tbody tr th {\n",
       "        vertical-align: top;\n",
       "    }\n",
       "\n",
       "    .dataframe thead th {\n",
       "        text-align: right;\n",
       "    }\n",
       "</style>\n",
       "<table border=\"1\" class=\"dataframe\">\n",
       "  <thead>\n",
       "    <tr style=\"text-align: right;\">\n",
       "      <th></th>\n",
       "      <th>id</th>\n",
       "      <th>prediction</th>\n",
       "    </tr>\n",
       "  </thead>\n",
       "  <tbody>\n",
       "    <tr>\n",
       "      <th>0</th>\n",
       "      <td>3489</td>\n",
       "      <td>0.073447</td>\n",
       "    </tr>\n",
       "    <tr>\n",
       "      <th>1</th>\n",
       "      <td>3490</td>\n",
       "      <td>0.148930</td>\n",
       "    </tr>\n",
       "    <tr>\n",
       "      <th>2</th>\n",
       "      <td>3491</td>\n",
       "      <td>0.362340</td>\n",
       "    </tr>\n",
       "    <tr>\n",
       "      <th>3</th>\n",
       "      <td>3492</td>\n",
       "      <td>0.353634</td>\n",
       "    </tr>\n",
       "    <tr>\n",
       "      <th>4</th>\n",
       "      <td>3493</td>\n",
       "      <td>0.282913</td>\n",
       "    </tr>\n",
       "  </tbody>\n",
       "</table>\n",
       "</div>"
      ],
      "text/plain": [
       "     id  prediction\n",
       "0  3489    0.073447\n",
       "1  3490    0.148930\n",
       "2  3491    0.362340\n",
       "3  3492    0.353634\n",
       "4  3493    0.282913"
      ]
     },
     "execution_count": 13,
     "metadata": {},
     "output_type": "execute_result"
    }
   ],
   "source": [
    "index = pd.read_csv('data/test.csv')['id'].values\n",
    "\n",
    "df_submit = pd.DataFrame({\n",
    "    \"id\": index,\n",
    "    \"prediction\": y_submit\n",
    "})\n",
    "\n",
    "df_submit.head()"
   ]
  },
  {
   "cell_type": "code",
   "execution_count": 14,
   "metadata": {},
   "outputs": [],
   "source": [
    "path = 'submission/submit_7_xgboost_crossval_labeled.csv'"
   ]
  },
  {
   "cell_type": "code",
   "execution_count": 15,
   "metadata": {},
   "outputs": [],
   "source": [
    "df_submit.to_csv(path, index=False, header=None)"
   ]
  }
 ],
 "metadata": {
  "kernelspec": {
   "display_name": "competition",
   "language": "python",
   "name": "python3"
  },
  "language_info": {
   "codemirror_mode": {
    "name": "ipython",
    "version": 3
   },
   "file_extension": ".py",
   "mimetype": "text/x-python",
   "name": "python",
   "nbconvert_exporter": "python",
   "pygments_lexer": "ipython3",
   "version": "3.12.4"
  }
 },
 "nbformat": 4,
 "nbformat_minor": 2
}
