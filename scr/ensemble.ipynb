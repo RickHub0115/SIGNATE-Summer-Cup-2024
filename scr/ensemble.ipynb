{
 "cells": [
  {
   "cell_type": "code",
   "execution_count": 1,
   "metadata": {},
   "outputs": [],
   "source": [
    "import os\n",
    "os.chdir('../')"
   ]
  },
  {
   "cell_type": "code",
   "execution_count": 2,
   "metadata": {},
   "outputs": [],
   "source": [
    "import pandas as pd"
   ]
  },
  {
   "cell_type": "code",
   "execution_count": 52,
   "metadata": {},
   "outputs": [],
   "source": [
    "df_1 = pd.read_csv('submission/submit_2.csv', header=None)\n",
    "df_2 = pd.read_csv('submission/submit_3.csv', header=None)\n",
    "df_3 = pd.read_csv('submission/submit_4.csv', header=None)"
   ]
  },
  {
   "cell_type": "code",
   "execution_count": 53,
   "metadata": {},
   "outputs": [],
   "source": [
    "df = pd.concat([df_1, df_2, df_3], axis=1)"
   ]
  },
  {
   "cell_type": "code",
   "execution_count": 54,
   "metadata": {},
   "outputs": [],
   "source": [
    "df = df.iloc[:, [0, 1, 3, 5]]"
   ]
  },
  {
   "cell_type": "code",
   "execution_count": 55,
   "metadata": {},
   "outputs": [],
   "source": [
    "df['ensemble'] = (df.iloc[:, 1] + df.iloc[:, 2] + df.iloc[:, 3]) / 3"
   ]
  },
  {
   "cell_type": "code",
   "execution_count": 56,
   "metadata": {},
   "outputs": [
    {
     "data": {
      "text/html": [
       "<div>\n",
       "<style scoped>\n",
       "    .dataframe tbody tr th:only-of-type {\n",
       "        vertical-align: middle;\n",
       "    }\n",
       "\n",
       "    .dataframe tbody tr th {\n",
       "        vertical-align: top;\n",
       "    }\n",
       "\n",
       "    .dataframe thead th {\n",
       "        text-align: right;\n",
       "    }\n",
       "</style>\n",
       "<table border=\"1\" class=\"dataframe\">\n",
       "  <thead>\n",
       "    <tr style=\"text-align: right;\">\n",
       "      <th></th>\n",
       "      <th>0</th>\n",
       "      <th>1</th>\n",
       "      <th>1</th>\n",
       "      <th>1</th>\n",
       "      <th>ensemble</th>\n",
       "    </tr>\n",
       "  </thead>\n",
       "  <tbody>\n",
       "    <tr>\n",
       "      <th>0</th>\n",
       "      <td>3489</td>\n",
       "      <td>0.106707</td>\n",
       "      <td>0.100772</td>\n",
       "      <td>0.131698</td>\n",
       "      <td>0.113059</td>\n",
       "    </tr>\n",
       "    <tr>\n",
       "      <th>1</th>\n",
       "      <td>3490</td>\n",
       "      <td>0.267420</td>\n",
       "      <td>0.341966</td>\n",
       "      <td>0.261307</td>\n",
       "      <td>0.290231</td>\n",
       "    </tr>\n",
       "    <tr>\n",
       "      <th>2</th>\n",
       "      <td>3491</td>\n",
       "      <td>0.248299</td>\n",
       "      <td>0.380860</td>\n",
       "      <td>0.337750</td>\n",
       "      <td>0.322303</td>\n",
       "    </tr>\n",
       "    <tr>\n",
       "      <th>3</th>\n",
       "      <td>3492</td>\n",
       "      <td>0.380568</td>\n",
       "      <td>0.525810</td>\n",
       "      <td>0.531514</td>\n",
       "      <td>0.479297</td>\n",
       "    </tr>\n",
       "    <tr>\n",
       "      <th>4</th>\n",
       "      <td>3493</td>\n",
       "      <td>0.202863</td>\n",
       "      <td>0.222709</td>\n",
       "      <td>0.286238</td>\n",
       "      <td>0.237270</td>\n",
       "    </tr>\n",
       "    <tr>\n",
       "      <th>...</th>\n",
       "      <td>...</td>\n",
       "      <td>...</td>\n",
       "      <td>...</td>\n",
       "      <td>...</td>\n",
       "      <td>...</td>\n",
       "    </tr>\n",
       "    <tr>\n",
       "      <th>3484</th>\n",
       "      <td>6973</td>\n",
       "      <td>0.199992</td>\n",
       "      <td>0.139575</td>\n",
       "      <td>0.139276</td>\n",
       "      <td>0.159614</td>\n",
       "    </tr>\n",
       "    <tr>\n",
       "      <th>3485</th>\n",
       "      <td>6974</td>\n",
       "      <td>0.025589</td>\n",
       "      <td>0.028467</td>\n",
       "      <td>0.008130</td>\n",
       "      <td>0.020729</td>\n",
       "    </tr>\n",
       "    <tr>\n",
       "      <th>3486</th>\n",
       "      <td>6975</td>\n",
       "      <td>0.533829</td>\n",
       "      <td>0.626565</td>\n",
       "      <td>0.648383</td>\n",
       "      <td>0.602926</td>\n",
       "    </tr>\n",
       "    <tr>\n",
       "      <th>3487</th>\n",
       "      <td>6976</td>\n",
       "      <td>0.222886</td>\n",
       "      <td>0.376857</td>\n",
       "      <td>0.229808</td>\n",
       "      <td>0.276517</td>\n",
       "    </tr>\n",
       "    <tr>\n",
       "      <th>3488</th>\n",
       "      <td>6977</td>\n",
       "      <td>0.023589</td>\n",
       "      <td>0.026264</td>\n",
       "      <td>0.009579</td>\n",
       "      <td>0.019811</td>\n",
       "    </tr>\n",
       "  </tbody>\n",
       "</table>\n",
       "<p>3489 rows × 5 columns</p>\n",
       "</div>"
      ],
      "text/plain": [
       "         0         1         1         1  ensemble\n",
       "0     3489  0.106707  0.100772  0.131698  0.113059\n",
       "1     3490  0.267420  0.341966  0.261307  0.290231\n",
       "2     3491  0.248299  0.380860  0.337750  0.322303\n",
       "3     3492  0.380568  0.525810  0.531514  0.479297\n",
       "4     3493  0.202863  0.222709  0.286238  0.237270\n",
       "...    ...       ...       ...       ...       ...\n",
       "3484  6973  0.199992  0.139575  0.139276  0.159614\n",
       "3485  6974  0.025589  0.028467  0.008130  0.020729\n",
       "3486  6975  0.533829  0.626565  0.648383  0.602926\n",
       "3487  6976  0.222886  0.376857  0.229808  0.276517\n",
       "3488  6977  0.023589  0.026264  0.009579  0.019811\n",
       "\n",
       "[3489 rows x 5 columns]"
      ]
     },
     "execution_count": 56,
     "metadata": {},
     "output_type": "execute_result"
    }
   ],
   "source": [
    "df"
   ]
  },
  {
   "cell_type": "code",
   "execution_count": 57,
   "metadata": {},
   "outputs": [],
   "source": [
    "df[[0, 'ensemble']].to_csv('submission/submit_2_3_4.csv', index=False, header=None)"
   ]
  },
  {
   "cell_type": "code",
   "execution_count": null,
   "metadata": {},
   "outputs": [],
   "source": []
  }
 ],
 "metadata": {
  "kernelspec": {
   "display_name": "competition",
   "language": "python",
   "name": "python3"
  },
  "language_info": {
   "codemirror_mode": {
    "name": "ipython",
    "version": 3
   },
   "file_extension": ".py",
   "mimetype": "text/x-python",
   "name": "python",
   "nbconvert_exporter": "python",
   "pygments_lexer": "ipython3",
   "version": "3.12.4"
  }
 },
 "nbformat": 4,
 "nbformat_minor": 2
}
