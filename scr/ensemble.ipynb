{
 "cells": [
  {
   "cell_type": "code",
   "execution_count": 1,
   "metadata": {},
   "outputs": [],
   "source": [
    "import os\n",
    "os.chdir('../')"
   ]
  },
  {
   "cell_type": "code",
   "execution_count": 2,
   "metadata": {},
   "outputs": [],
   "source": [
    "import pandas as pd"
   ]
  },
  {
   "cell_type": "code",
   "execution_count": 35,
   "metadata": {},
   "outputs": [],
   "source": [
    "df_1 = pd.read_csv('submission/submit_2.csv', header=None)\n",
    "df_2 = pd.read_csv('submission/submit_3.csv', header=None)\n",
    "df_3 = pd.read_csv('submission/submit_4.csv', header=None)"
   ]
  },
  {
   "cell_type": "code",
   "execution_count": 37,
   "metadata": {},
   "outputs": [],
   "source": [
    "df = pd.concat([df_1, df_2, df_3], axis=1)"
   ]
  },
  {
   "cell_type": "code",
   "execution_count": 38,
   "metadata": {},
   "outputs": [],
   "source": [
    "df = df.iloc[:, [1, 3, 5]]"
   ]
  },
  {
   "cell_type": "code",
   "execution_count": 40,
   "metadata": {},
   "outputs": [],
   "source": [
    "df['ensemble'] = (df.iloc[:, 0] + df.iloc[:, 1] + df.iloc[:, 2]) / 3"
   ]
  },
  {
   "cell_type": "code",
   "execution_count": 41,
   "metadata": {},
   "outputs": [
    {
     "data": {
      "text/html": [
       "<div>\n",
       "<style scoped>\n",
       "    .dataframe tbody tr th:only-of-type {\n",
       "        vertical-align: middle;\n",
       "    }\n",
       "\n",
       "    .dataframe tbody tr th {\n",
       "        vertical-align: top;\n",
       "    }\n",
       "\n",
       "    .dataframe thead th {\n",
       "        text-align: right;\n",
       "    }\n",
       "</style>\n",
       "<table border=\"1\" class=\"dataframe\">\n",
       "  <thead>\n",
       "    <tr style=\"text-align: right;\">\n",
       "      <th></th>\n",
       "      <th>1</th>\n",
       "      <th>1</th>\n",
       "      <th>1</th>\n",
       "      <th>ensemble</th>\n",
       "    </tr>\n",
       "  </thead>\n",
       "  <tbody>\n",
       "    <tr>\n",
       "      <th>0</th>\n",
       "      <td>0.106707</td>\n",
       "      <td>0.100772</td>\n",
       "      <td>0.131698</td>\n",
       "      <td>0.113059</td>\n",
       "    </tr>\n",
       "    <tr>\n",
       "      <th>1</th>\n",
       "      <td>0.267420</td>\n",
       "      <td>0.341966</td>\n",
       "      <td>0.261307</td>\n",
       "      <td>0.290231</td>\n",
       "    </tr>\n",
       "    <tr>\n",
       "      <th>2</th>\n",
       "      <td>0.248299</td>\n",
       "      <td>0.380860</td>\n",
       "      <td>0.337750</td>\n",
       "      <td>0.322303</td>\n",
       "    </tr>\n",
       "    <tr>\n",
       "      <th>3</th>\n",
       "      <td>0.380568</td>\n",
       "      <td>0.525810</td>\n",
       "      <td>0.531514</td>\n",
       "      <td>0.479297</td>\n",
       "    </tr>\n",
       "    <tr>\n",
       "      <th>4</th>\n",
       "      <td>0.202863</td>\n",
       "      <td>0.222709</td>\n",
       "      <td>0.286238</td>\n",
       "      <td>0.237270</td>\n",
       "    </tr>\n",
       "    <tr>\n",
       "      <th>...</th>\n",
       "      <td>...</td>\n",
       "      <td>...</td>\n",
       "      <td>...</td>\n",
       "      <td>...</td>\n",
       "    </tr>\n",
       "    <tr>\n",
       "      <th>3484</th>\n",
       "      <td>0.199992</td>\n",
       "      <td>0.139575</td>\n",
       "      <td>0.139276</td>\n",
       "      <td>0.159614</td>\n",
       "    </tr>\n",
       "    <tr>\n",
       "      <th>3485</th>\n",
       "      <td>0.025589</td>\n",
       "      <td>0.028467</td>\n",
       "      <td>0.008130</td>\n",
       "      <td>0.020729</td>\n",
       "    </tr>\n",
       "    <tr>\n",
       "      <th>3486</th>\n",
       "      <td>0.533829</td>\n",
       "      <td>0.626565</td>\n",
       "      <td>0.648383</td>\n",
       "      <td>0.602926</td>\n",
       "    </tr>\n",
       "    <tr>\n",
       "      <th>3487</th>\n",
       "      <td>0.222886</td>\n",
       "      <td>0.376857</td>\n",
       "      <td>0.229808</td>\n",
       "      <td>0.276517</td>\n",
       "    </tr>\n",
       "    <tr>\n",
       "      <th>3488</th>\n",
       "      <td>0.023589</td>\n",
       "      <td>0.026264</td>\n",
       "      <td>0.009579</td>\n",
       "      <td>0.019811</td>\n",
       "    </tr>\n",
       "  </tbody>\n",
       "</table>\n",
       "<p>3489 rows × 4 columns</p>\n",
       "</div>"
      ],
      "text/plain": [
       "             1         1         1  ensemble\n",
       "0     0.106707  0.100772  0.131698  0.113059\n",
       "1     0.267420  0.341966  0.261307  0.290231\n",
       "2     0.248299  0.380860  0.337750  0.322303\n",
       "3     0.380568  0.525810  0.531514  0.479297\n",
       "4     0.202863  0.222709  0.286238  0.237270\n",
       "...        ...       ...       ...       ...\n",
       "3484  0.199992  0.139575  0.139276  0.159614\n",
       "3485  0.025589  0.028467  0.008130  0.020729\n",
       "3486  0.533829  0.626565  0.648383  0.602926\n",
       "3487  0.222886  0.376857  0.229808  0.276517\n",
       "3488  0.023589  0.026264  0.009579  0.019811\n",
       "\n",
       "[3489 rows x 4 columns]"
      ]
     },
     "execution_count": 41,
     "metadata": {},
     "output_type": "execute_result"
    }
   ],
   "source": [
    "df"
   ]
  },
  {
   "cell_type": "code",
   "execution_count": 44,
   "metadata": {},
   "outputs": [],
   "source": [
    "df['ensemble'].to_csv('submission/submit_2_3_4.csv', index=False, header=None)"
   ]
  }
 ],
 "metadata": {
  "kernelspec": {
   "display_name": "competition",
   "language": "python",
   "name": "python3"
  },
  "language_info": {
   "codemirror_mode": {
    "name": "ipython",
    "version": 3
   },
   "file_extension": ".py",
   "mimetype": "text/x-python",
   "name": "python",
   "nbconvert_exporter": "python",
   "pygments_lexer": "ipython3",
   "version": "3.12.4"
  }
 },
 "nbformat": 4,
 "nbformat_minor": 2
}
