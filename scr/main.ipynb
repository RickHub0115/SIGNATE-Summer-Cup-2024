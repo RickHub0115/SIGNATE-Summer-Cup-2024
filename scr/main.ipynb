{
 "cells": [
  {
   "cell_type": "code",
   "execution_count": 3,
   "metadata": {},
   "outputs": [],
   "source": [
    "import os\n",
    "os.chdir(\"../\")"
   ]
  },
  {
   "cell_type": "code",
   "execution_count": 4,
   "metadata": {},
   "outputs": [],
   "source": [
    "import pandas as pd"
   ]
  },
  {
   "cell_type": "code",
   "execution_count": 9,
   "metadata": {},
   "outputs": [],
   "source": [
    "from scr.util import *"
   ]
  },
  {
   "cell_type": "markdown",
   "metadata": {},
   "source": [
    "# Base Infomation"
   ]
  },
  {
   "cell_type": "code",
   "execution_count": 10,
   "metadata": {},
   "outputs": [],
   "source": [
    "df = pd.read_csv(\"data/train.csv\")"
   ]
  },
  {
   "cell_type": "code",
   "execution_count": 11,
   "metadata": {},
   "outputs": [
    {
     "data": {
      "text/html": [
       "<div>\n",
       "<style scoped>\n",
       "    .dataframe tbody tr th:only-of-type {\n",
       "        vertical-align: middle;\n",
       "    }\n",
       "\n",
       "    .dataframe tbody tr th {\n",
       "        vertical-align: top;\n",
       "    }\n",
       "\n",
       "    .dataframe thead th {\n",
       "        text-align: right;\n",
       "    }\n",
       "</style>\n",
       "<table border=\"1\" class=\"dataframe\">\n",
       "  <thead>\n",
       "    <tr style=\"text-align: right;\">\n",
       "      <th></th>\n",
       "      <th>id</th>\n",
       "      <th>Age</th>\n",
       "      <th>TypeofContact</th>\n",
       "      <th>CityTier</th>\n",
       "      <th>DurationOfPitch</th>\n",
       "      <th>Occupation</th>\n",
       "      <th>Gender</th>\n",
       "      <th>NumberOfPersonVisiting</th>\n",
       "      <th>NumberOfFollowups</th>\n",
       "      <th>ProductPitched</th>\n",
       "      <th>PreferredPropertyStar</th>\n",
       "      <th>NumberOfTrips</th>\n",
       "      <th>Passport</th>\n",
       "      <th>PitchSatisfactionScore</th>\n",
       "      <th>Designation</th>\n",
       "      <th>MonthlyIncome</th>\n",
       "      <th>customer_info</th>\n",
       "      <th>ProdTaken</th>\n",
       "    </tr>\n",
       "  </thead>\n",
       "  <tbody>\n",
       "    <tr>\n",
       "      <th>0</th>\n",
       "      <td>0</td>\n",
       "      <td>50歳</td>\n",
       "      <td>Self Enquiry</td>\n",
       "      <td>2</td>\n",
       "      <td>900秒</td>\n",
       "      <td>Large Business</td>\n",
       "      <td>male</td>\n",
       "      <td>1.0</td>\n",
       "      <td>4.0</td>\n",
       "      <td>Basic</td>\n",
       "      <td>3.0</td>\n",
       "      <td>5</td>\n",
       "      <td>1</td>\n",
       "      <td>4</td>\n",
       "      <td>Executive</td>\n",
       "      <td>253905.0</td>\n",
       "      <td>未婚 車未所持 子供なし</td>\n",
       "      <td>1</td>\n",
       "    </tr>\n",
       "    <tr>\n",
       "      <th>1</th>\n",
       "      <td>1</td>\n",
       "      <td>56歳</td>\n",
       "      <td>Company Invited</td>\n",
       "      <td>1</td>\n",
       "      <td>14分</td>\n",
       "      <td>Salaried</td>\n",
       "      <td>Male</td>\n",
       "      <td>1.0</td>\n",
       "      <td>4.0</td>\n",
       "      <td>Standard</td>\n",
       "      <td>3.0</td>\n",
       "      <td>2</td>\n",
       "      <td>1</td>\n",
       "      <td>4</td>\n",
       "      <td>Senior Manager</td>\n",
       "      <td>404475.0</td>\n",
       "      <td>離婚済み,車あり,子供無し</td>\n",
       "      <td>0</td>\n",
       "    </tr>\n",
       "    <tr>\n",
       "      <th>2</th>\n",
       "      <td>2</td>\n",
       "      <td>NaN</td>\n",
       "      <td>Self Enquiry</td>\n",
       "      <td>1</td>\n",
       "      <td>10分</td>\n",
       "      <td>Large Business</td>\n",
       "      <td>Female</td>\n",
       "      <td>1.0</td>\n",
       "      <td>3.0</td>\n",
       "      <td>Basic</td>\n",
       "      <td>3.0</td>\n",
       "      <td>4</td>\n",
       "      <td>0</td>\n",
       "      <td>4</td>\n",
       "      <td>Executive</td>\n",
       "      <td>278145.0</td>\n",
       "      <td>結婚済み、自動車未所有,子供なし</td>\n",
       "      <td>1</td>\n",
       "    </tr>\n",
       "    <tr>\n",
       "      <th>3</th>\n",
       "      <td>3</td>\n",
       "      <td>三十七歳</td>\n",
       "      <td>Self Enquiry</td>\n",
       "      <td>2</td>\n",
       "      <td>1080秒</td>\n",
       "      <td>Small Business</td>\n",
       "      <td>female</td>\n",
       "      <td>1.0</td>\n",
       "      <td>3.0</td>\n",
       "      <td>Standard</td>\n",
       "      <td>4.0</td>\n",
       "      <td>1</td>\n",
       "      <td>0</td>\n",
       "      <td>5</td>\n",
       "      <td>Senior Manager</td>\n",
       "      <td>326805.0</td>\n",
       "      <td>離婚済み、車所持、子供無し</td>\n",
       "      <td>0</td>\n",
       "    </tr>\n",
       "    <tr>\n",
       "      <th>4</th>\n",
       "      <td>4</td>\n",
       "      <td>48歳</td>\n",
       "      <td>Company Invited</td>\n",
       "      <td>3</td>\n",
       "      <td>1020秒</td>\n",
       "      <td>Small Business</td>\n",
       "      <td>female</td>\n",
       "      <td>1.0</td>\n",
       "      <td>3.0</td>\n",
       "      <td>Basic</td>\n",
       "      <td>4.0</td>\n",
       "      <td>4</td>\n",
       "      <td>0</td>\n",
       "      <td>4</td>\n",
       "      <td>Executive</td>\n",
       "      <td>258435.0</td>\n",
       "      <td>独身／車所持／無子</td>\n",
       "      <td>1</td>\n",
       "    </tr>\n",
       "  </tbody>\n",
       "</table>\n",
       "</div>"
      ],
      "text/plain": [
       "   id   Age    TypeofContact  CityTier DurationOfPitch      Occupation  \\\n",
       "0   0   50歳     Self Enquiry         2            900秒  Large Business   \n",
       "1   1   56歳  Company Invited         1             14分        Salaried   \n",
       "2   2   NaN     Self Enquiry         1             10分  Large Business   \n",
       "3   3  三十七歳     Self Enquiry         2           1080秒  Small Business   \n",
       "4   4   48歳  Company Invited         3           1020秒  Small Business   \n",
       "\n",
       "   Gender  NumberOfPersonVisiting  NumberOfFollowups ProductPitched  \\\n",
       "0    male                     1.0                4.0          Basic   \n",
       "1    Male                     1.0                4.0       Standard   \n",
       "2  Female                     1.0                3.0          Basic   \n",
       "3  female                     1.0                3.0       Standard   \n",
       "4  female                     1.0                3.0          Basic   \n",
       "\n",
       "   PreferredPropertyStar NumberOfTrips  Passport  PitchSatisfactionScore  \\\n",
       "0                    3.0             5         1                       4   \n",
       "1                    3.0             2         1                       4   \n",
       "2                    3.0             4         0                       4   \n",
       "3                    4.0             1         0                       5   \n",
       "4                    4.0             4         0                       4   \n",
       "\n",
       "      Designation MonthlyIncome     customer_info  ProdTaken  \n",
       "0       Executive      253905.0      未婚 車未所持 子供なし          1  \n",
       "1  Senior Manager      404475.0     離婚済み,車あり,子供無し          0  \n",
       "2       Executive      278145.0  結婚済み、自動車未所有,子供なし          1  \n",
       "3  Senior Manager      326805.0     離婚済み、車所持、子供無し          0  \n",
       "4       Executive      258435.0         独身／車所持／無子          1  "
      ]
     },
     "execution_count": 11,
     "metadata": {},
     "output_type": "execute_result"
    }
   ],
   "source": [
    "df.head()"
   ]
  },
  {
   "cell_type": "code",
   "execution_count": 12,
   "metadata": {},
   "outputs": [
    {
     "name": "stdout",
     "output_type": "stream",
     "text": [
      "<class 'pandas.core.frame.DataFrame'>\n",
      "RangeIndex: 3489 entries, 0 to 3488\n",
      "Data columns (total 18 columns):\n",
      " #   Column                  Non-Null Count  Dtype  \n",
      "---  ------                  --------------  -----  \n",
      " 0   id                      3489 non-null   int64  \n",
      " 1   Age                     3389 non-null   object \n",
      " 2   TypeofContact           3483 non-null   object \n",
      " 3   CityTier                3489 non-null   int64  \n",
      " 4   DurationOfPitch         3368 non-null   object \n",
      " 5   Occupation              3489 non-null   object \n",
      " 6   Gender                  3489 non-null   object \n",
      " 7   NumberOfPersonVisiting  3489 non-null   float64\n",
      " 8   NumberOfFollowups       3456 non-null   float64\n",
      " 9   ProductPitched          3489 non-null   object \n",
      " 10  PreferredPropertyStar   3489 non-null   float64\n",
      " 11  NumberOfTrips           3467 non-null   object \n",
      " 12  Passport                3489 non-null   int64  \n",
      " 13  PitchSatisfactionScore  3489 non-null   int64  \n",
      " 14  Designation             3489 non-null   object \n",
      " 15  MonthlyIncome           3433 non-null   object \n",
      " 16  customer_info           3489 non-null   object \n",
      " 17  ProdTaken               3489 non-null   int64  \n",
      "dtypes: float64(3), int64(5), object(10)\n",
      "memory usage: 490.8+ KB\n"
     ]
    }
   ],
   "source": [
    "df.info()"
   ]
  },
  {
   "cell_type": "code",
   "execution_count": 13,
   "metadata": {},
   "outputs": [
    {
     "data": {
      "text/html": [
       "<div>\n",
       "<style scoped>\n",
       "    .dataframe tbody tr th:only-of-type {\n",
       "        vertical-align: middle;\n",
       "    }\n",
       "\n",
       "    .dataframe tbody tr th {\n",
       "        vertical-align: top;\n",
       "    }\n",
       "\n",
       "    .dataframe thead th {\n",
       "        text-align: right;\n",
       "    }\n",
       "</style>\n",
       "<table border=\"1\" class=\"dataframe\">\n",
       "  <thead>\n",
       "    <tr style=\"text-align: right;\">\n",
       "      <th></th>\n",
       "      <th>id</th>\n",
       "      <th>CityTier</th>\n",
       "      <th>NumberOfPersonVisiting</th>\n",
       "      <th>NumberOfFollowups</th>\n",
       "      <th>PreferredPropertyStar</th>\n",
       "      <th>Passport</th>\n",
       "      <th>PitchSatisfactionScore</th>\n",
       "      <th>ProdTaken</th>\n",
       "    </tr>\n",
       "  </thead>\n",
       "  <tbody>\n",
       "    <tr>\n",
       "      <th>count</th>\n",
       "      <td>3489.000000</td>\n",
       "      <td>3489.000000</td>\n",
       "      <td>3489.000000</td>\n",
       "      <td>3456.000000</td>\n",
       "      <td>3489.000000</td>\n",
       "      <td>3489.000000</td>\n",
       "      <td>3489.000000</td>\n",
       "      <td>3489.000000</td>\n",
       "    </tr>\n",
       "    <tr>\n",
       "      <th>mean</th>\n",
       "      <td>1744.000000</td>\n",
       "      <td>1.697048</td>\n",
       "      <td>2.394669</td>\n",
       "      <td>7.765336</td>\n",
       "      <td>3.441101</td>\n",
       "      <td>0.102608</td>\n",
       "      <td>2.513901</td>\n",
       "      <td>0.142448</td>\n",
       "    </tr>\n",
       "    <tr>\n",
       "      <th>std</th>\n",
       "      <td>1007.331872</td>\n",
       "      <td>0.671500</td>\n",
       "      <td>0.726612</td>\n",
       "      <td>39.498670</td>\n",
       "      <td>0.599633</td>\n",
       "      <td>0.303490</td>\n",
       "      <td>1.115412</td>\n",
       "      <td>0.349559</td>\n",
       "    </tr>\n",
       "    <tr>\n",
       "      <th>min</th>\n",
       "      <td>0.000000</td>\n",
       "      <td>1.000000</td>\n",
       "      <td>1.000000</td>\n",
       "      <td>1.000000</td>\n",
       "      <td>3.000000</td>\n",
       "      <td>0.000000</td>\n",
       "      <td>1.000000</td>\n",
       "      <td>0.000000</td>\n",
       "    </tr>\n",
       "    <tr>\n",
       "      <th>25%</th>\n",
       "      <td>872.000000</td>\n",
       "      <td>1.000000</td>\n",
       "      <td>2.000000</td>\n",
       "      <td>3.000000</td>\n",
       "      <td>3.000000</td>\n",
       "      <td>0.000000</td>\n",
       "      <td>2.000000</td>\n",
       "      <td>0.000000</td>\n",
       "    </tr>\n",
       "    <tr>\n",
       "      <th>50%</th>\n",
       "      <td>1744.000000</td>\n",
       "      <td>2.000000</td>\n",
       "      <td>2.000000</td>\n",
       "      <td>4.000000</td>\n",
       "      <td>3.000000</td>\n",
       "      <td>0.000000</td>\n",
       "      <td>2.000000</td>\n",
       "      <td>0.000000</td>\n",
       "    </tr>\n",
       "    <tr>\n",
       "      <th>75%</th>\n",
       "      <td>2616.000000</td>\n",
       "      <td>2.000000</td>\n",
       "      <td>3.000000</td>\n",
       "      <td>4.000000</td>\n",
       "      <td>4.000000</td>\n",
       "      <td>0.000000</td>\n",
       "      <td>3.000000</td>\n",
       "      <td>0.000000</td>\n",
       "    </tr>\n",
       "    <tr>\n",
       "      <th>max</th>\n",
       "      <td>3488.000000</td>\n",
       "      <td>3.000000</td>\n",
       "      <td>4.000000</td>\n",
       "      <td>600.000000</td>\n",
       "      <td>5.000000</td>\n",
       "      <td>1.000000</td>\n",
       "      <td>5.000000</td>\n",
       "      <td>1.000000</td>\n",
       "    </tr>\n",
       "  </tbody>\n",
       "</table>\n",
       "</div>"
      ],
      "text/plain": [
       "                id     CityTier  NumberOfPersonVisiting  NumberOfFollowups  \\\n",
       "count  3489.000000  3489.000000             3489.000000        3456.000000   \n",
       "mean   1744.000000     1.697048                2.394669           7.765336   \n",
       "std    1007.331872     0.671500                0.726612          39.498670   \n",
       "min       0.000000     1.000000                1.000000           1.000000   \n",
       "25%     872.000000     1.000000                2.000000           3.000000   \n",
       "50%    1744.000000     2.000000                2.000000           4.000000   \n",
       "75%    2616.000000     2.000000                3.000000           4.000000   \n",
       "max    3488.000000     3.000000                4.000000         600.000000   \n",
       "\n",
       "       PreferredPropertyStar     Passport  PitchSatisfactionScore    ProdTaken  \n",
       "count            3489.000000  3489.000000             3489.000000  3489.000000  \n",
       "mean                3.441101     0.102608                2.513901     0.142448  \n",
       "std                 0.599633     0.303490                1.115412     0.349559  \n",
       "min                 3.000000     0.000000                1.000000     0.000000  \n",
       "25%                 3.000000     0.000000                2.000000     0.000000  \n",
       "50%                 3.000000     0.000000                2.000000     0.000000  \n",
       "75%                 4.000000     0.000000                3.000000     0.000000  \n",
       "max                 5.000000     1.000000                5.000000     1.000000  "
      ]
     },
     "execution_count": 13,
     "metadata": {},
     "output_type": "execute_result"
    }
   ],
   "source": [
    "df.describe()"
   ]
  },
  {
   "cell_type": "code",
   "execution_count": 14,
   "metadata": {},
   "outputs": [
    {
     "data": {
      "text/plain": [
       "id                          0\n",
       "Age                       100\n",
       "TypeofContact               6\n",
       "CityTier                    0\n",
       "DurationOfPitch           121\n",
       "Occupation                  0\n",
       "Gender                      0\n",
       "NumberOfPersonVisiting      0\n",
       "NumberOfFollowups          33\n",
       "ProductPitched              0\n",
       "PreferredPropertyStar       0\n",
       "NumberOfTrips              22\n",
       "Passport                    0\n",
       "PitchSatisfactionScore      0\n",
       "Designation                 0\n",
       "MonthlyIncome              56\n",
       "customer_info               0\n",
       "ProdTaken                   0\n",
       "dtype: int64"
      ]
     },
     "execution_count": 14,
     "metadata": {},
     "output_type": "execute_result"
    }
   ],
   "source": [
    "df.isna().sum()"
   ]
  },
  {
   "cell_type": "code",
   "execution_count": 15,
   "metadata": {},
   "outputs": [
    {
     "name": "stdout",
     "output_type": "stream",
     "text": [
      "TypeofContact\n",
      "['Self Enquiry' 'Company Invited' nan] \n",
      "\n",
      "Occupation\n",
      "['Large Business' 'Salaried' 'Small Business'] \n",
      "\n",
      "Gender\n",
      "['male' 'Male' 'Female' 'female' 'ｆｅｍａｌｅ' 'FEMALE' 'Ｍａｌｅ' 'Fe Male' 'MALE'\n",
      " 'ｆｅ\\u3000ｍａｌｅ' 'fe male' 'Ｆｅｍａｌｅ' 'ｍａｌｅ' 'FE MALE' 'Ｆｅ\\u3000Ｍａｌｅ'\n",
      " 'ＦＥＭＡＬＥ' 'ＦＥ\\u3000ＭＡＬＥ' 'ＭＡＬＥ'] \n",
      "\n",
      "ProductPitched\n",
      "['Basic' 'Standard' 'Super Deluxe' 'basic' 'SUPER DELUXE' 'super deluxe'\n",
      " 'BASIC' 'Deluxe' 'deluxe' 'STANᗞARD' 'STANDARD' 'Вasic' 'DELUXE'\n",
      " 'ꓢuper De|uxe' 'Ѕuper Deluxe' 'BAՏIC' 'Basıc' 'King' 'Super De|uxe'\n",
      " 'king' 'standard' 'KING' 'BΑSIC' 'B𝖺sic' 'De|uxe' 'ᎠELUXE' 'Basiϲ'\n",
      " 'de|u×e' 'Delu×e' 'Standar𝔡' 'Basi𝘤' 'Βasic' 'Տuper Deluxe' 'Staոdard'\n",
      " 'BAꓢIC' 'ᗞeluxe' 'Տtandard' 'Βası𝘤' 'Kıng' 'Baｓic' 'basıc' 'super de|uxe'\n",
      " 'Stand𝖺rd' 'S𝘵andard' '𐊡asic' 'St𝖺ndard' 'Super ᗞeluxe' 'de|uxe'\n",
      " 'ｓuper deluxe' 'STANDARᎠ' 'Basiс' 'DΕLUXΕ' 'ꓢuper Deluxe' 'BASΙC'\n",
      " 'ꓢtandard' 'В𝖺sic' 'Standa𝘳d' 'basiϲ' 'staոdard' 'Super Ꭰeluxe' 'DELUXΕ'\n",
      " 'Ѕtandard' '𐊡asi𝘤' 'Ꭰeluxe' 'Kıոg' '𝙳eluxe' 'Kiոg' 'Βasıc' 'BASIС'\n",
      " 'SUPER DΕLUXE' 'B𝖺si𝘤' 'ΒASIС' 'Super 𝙳eluxe' 'Տtanda𝘳d' 'Basıϲ'\n",
      " 'ЅTANDARD'] \n",
      "\n",
      "NumberOfTrips\n",
      "['5' '2' '4' '1' '年に1回' '年に2回' '年に6回' '3' '年に5回' '7' '6' '半年に1回' '年に4回'\n",
      " '年に3回' '8' '年に8回' nan '年に7回' '四半期に1回'] \n",
      "\n",
      "Designation\n",
      "['Executive' 'Senior Manager' 'AVP' 'Manager' 'Senior Manage𝙧' 'Execuｔive'\n",
      " 'Μanager' 'VP' 'Sеnior Manager' 'ΑVP' 'АVP' 'E×ecutive' 'Mαnage𝙧'\n",
      " 'Executiѵе' 'Ѕenior Manager' 'Managеr' 'Еxecutivе' 'Senior Μanαger'\n",
      " 'Еxecuｔive' 'Exеcutivе' 'Exеcutive' 'Senior Managе𝙧' 'Manage𝙧'\n",
      " 'Senio𝙧 Manager' 'Manαger' 'Μanage𝙧' 'Manαgеr' 'Senior Managеr'\n",
      " 'Executivе' 'Executiѵe' 'Е×еcutive' 'Еxecutive' 'VＰ' 'Տenior Μanager'\n",
      " 'Exеcutiѵе' 'Senior Manαger' 'Mαnager' 'Senior Mαnαger' 'E×еcutiѵe'\n",
      " 'Ѕenior Manαger' 'Exеcｕtive' 'Execｕtive' 'Mαnαger' 'Μanagеr' 'E×ecｕtive'\n",
      " 'Sеnior Managеr' 'Տenior Manager' 'AVＰ' 'Exеcｕtivе' 'Mαnagеr' 'Еxеcutivе'\n",
      " 'Senior Mαnager' 'Е×ecutive'] \n",
      "\n",
      "customer_info\n",
      "['未婚 車未所持 子供なし' '離婚済み,車あり,子供無し' '結婚済み、自動車未所有,子供なし' ...\n",
      " '結婚済み,車保有なし,子供有り 1人' '結婚済み/自家用車なし/1児' '独身／車所持／こども1人'] \n",
      "\n"
     ]
    }
   ],
   "source": [
    "tmp = [\"TypeofContact\", \"Occupation\", \"Gender\", \"ProductPitched\", \"NumberOfTrips\", \"Designation\", \"customer_info\"]\n",
    "for column in tmp:\n",
    "    print(column)\n",
    "    print(df[column].unique(), \"\\n\")"
   ]
  },
  {
   "cell_type": "markdown",
   "metadata": {},
   "source": [
    "# Preprocessing"
   ]
  },
  {
   "cell_type": "markdown",
   "metadata": {},
   "source": [
    "## NuLL"
   ]
  },
  {
   "cell_type": "markdown",
   "metadata": {},
   "source": [
    "### Age -> age"
   ]
  },
  {
   "cell_type": "code",
   "execution_count": 16,
   "metadata": {},
   "outputs": [
    {
     "data": {
      "text/plain": [
       "array(['50歳', '56歳', nan, '三十七歳', '48歳', '19歳', '47歳', '49歳', '33歳',\n",
       "       '３１歳', '51歳', '46歳', '４９歳', '53才', '20歳', '25歳', '五十三歳', '20代',\n",
       "       '44歳', '30歳', '34歳', '29歳', '30代', '41歳', '50代', '52歳', '22歳',\n",
       "       '３６歳', '28歳', '25才', '五十一歳', '48才', '38才', '三十三歳', '42際', '５０代',\n",
       "       '35才', '59歳', '四十三歳', '32歳', '４２才', '53歳', '58歳', '40代', '二十六歳',\n",
       "       '52際', '54歳', '59才', '29才', '21才', '57歳', '37歳', '35歳', '36才',\n",
       "       '38歳', '３７歳', '50才', '51才', '43歳', '四十歳', '26歳', '31歳', '27歳',\n",
       "       '40歳', '３４歳', '40際', '21歳', '24才', '45歳', '36歳', '41才', '38際',\n",
       "       '18歳', '39歳', '４６歳', '４０代', '５５歳', '58際', '24歳', '41際', '三十一歳',\n",
       "       '52才', '３０代', '28才', '55際', '60代', '27際', '３２歳', '60歳', '五十四歳',\n",
       "       '29際', '三十四歳', '４７歳', '37際', '二十四歳', '四十七歳', '58才', '39才', '23才',\n",
       "       '３３歳', '４２歳', '４５歳', '３９歳', '５４歳', '55歳', '42歳', '３８歳', '47才',\n",
       "       '５１歳', '３９才', '51際', '二十七歳', '30才', '２６歳', '４０歳', '36際', '三十歳',\n",
       "       '23歳', '二十二歳', '37才', '３０歳', '２８歳', '34才', '五十歳', '四十一歳', '５９歳',\n",
       "       '３５歳', '２２歳', '３７才', '四十九歳', '42才', '４４歳', '２５歳', '44際', '33才',\n",
       "       '28際', '２４才', '55才', '４８歳', '四十四歳', '31才', '２０代', '二十歳', '22際',\n",
       "       '31際', '二十三歳', '39際', '59際', '３３才', '三十六歳', '10代', '２７歳', '49才',\n",
       "       '４３歳', '32際', '４１歳', '33際', '二十五歳', '27才', '46際', '二十九歳', '32才',\n",
       "       '22才', '２９才', '43才', '四十八歳', '30際', '２９歳', '４３才', '三十八歳', '４５才',\n",
       "       '45才', '二十一歳', '57才', '40才', '５２歳', '１９歳', '５３歳', '35際', '61歳',\n",
       "       '34際', '２４歳', '四十二歳', '５６才', '26際', '５０歳', '五十八歳', '20才', '50際',\n",
       "       '57際', '23際', '１９才', '５７歳', '26才', '五十六歳', '54才', '５８歳', '６０歳',\n",
       "       '三十五歳', '44才', '４０才', '２２才', '４４才', '２８才', '３８才', '三十九歳', '54際',\n",
       "       '二十八歳', '56際', '五十二歳', '３６才', '46才', '43際', '２０歳', '４１才', '24際',\n",
       "       '53際', '45際', '21際', '60際', '２１歳', '３５才', '五十五歳', '47際', '三十二歳',\n",
       "       '18際', '四十六歳', '３４才', '56才', '３２才', '５６歳', '４７才', '49際', '48際',\n",
       "       '５１才', '五十九歳', '六十一歳', '２１才'], dtype=object)"
      ]
     },
     "execution_count": 16,
     "metadata": {},
     "output_type": "execute_result"
    }
   ],
   "source": [
    "df[\"Age\"].unique()"
   ]
  },
  {
   "cell_type": "code",
   "execution_count": 17,
   "metadata": {},
   "outputs": [],
   "source": [
    "# 日本語をすべてInt型に変換\n",
    "df[\"age\"] = df[\"Age\"].astype(str).apply(japanese_to_int)\n",
    "\n",
    "# 欠損値を中央値で補完\n",
    "# japanese_to_int関数により、欠損値は0と出力されている。\n",
    "tmp = df[~(df[\"age\"] == 0)]\n",
    "df.loc[df[\"age\"] == 0, \"age\"] = tmp[\"age\"].median()"
   ]
  },
  {
   "cell_type": "code",
   "execution_count": 18,
   "metadata": {},
   "outputs": [
    {
     "data": {
      "text/plain": [
       "array([50, 56, 38, 37, 48, 19, 47, 49, 33, 31, 51, 46, 53, 20, 25, 44, 30,\n",
       "       34, 29, 41, 52, 22, 36, 28, 42, 35, 59, 43, 32, 58, 40, 26, 54, 21,\n",
       "       57, 27, 24, 45, 18, 39, 55, 60, 23, 10, 61], dtype=int64)"
      ]
     },
     "execution_count": 18,
     "metadata": {},
     "output_type": "execute_result"
    }
   ],
   "source": [
    "df[\"age\"].unique()"
   ]
  },
  {
   "cell_type": "markdown",
   "metadata": {},
   "source": [
    "### DurationOfPitch -> duration"
   ]
  },
  {
   "cell_type": "code",
   "execution_count": 19,
   "metadata": {},
   "outputs": [
    {
     "data": {
      "text/plain": [
       "array(['900秒', '14分', '10分', '1080秒', '1020秒', '16分', '840秒', '22分',\n",
       "       '20分', '11分', '32分', '17分', '24分', '1380秒', '35分', '420秒', '5分',\n",
       "       '480秒', '8分', '15分', '960秒', nan, '540秒', '26分', '13分', '12分',\n",
       "       '21分', '25分', '720秒', '9分', '7分', '780秒', '6分', '18分', '31分',\n",
       "       '600秒', '23分', '28分', '2160秒', '660秒', '1500秒', '1920秒', '27分',\n",
       "       '33分', '360秒', '1320秒', '1740秒', '1680秒', '29分', '1620秒', '1440秒',\n",
       "       '1800秒', '30分', '34分', '4分', '19分', '1860秒', '1260秒', '2100秒',\n",
       "       '300秒', '2040秒', '1200秒', '1560秒', '1980秒', '36分', '1140秒'],\n",
       "      dtype=object)"
      ]
     },
     "execution_count": 19,
     "metadata": {},
     "output_type": "execute_result"
    }
   ],
   "source": [
    "df[\"DurationOfPitch\"].unique()"
   ]
  },
  {
   "cell_type": "code",
   "execution_count": 20,
   "metadata": {},
   "outputs": [],
   "source": [
    "# 単位をすべて秒に統一\n",
    "df[\"duration\"] = df[\"DurationOfPitch\"].dropna().apply(convert_to_second)\n",
    "\n",
    "# 欠損値を中央値で補完\n",
    "df[\"duration\"] = df[\"duration\"].fillna(df[\"duration\"].median())"
   ]
  },
  {
   "cell_type": "code",
   "execution_count": 21,
   "metadata": {},
   "outputs": [
    {
     "data": {
      "text/plain": [
       "array([ 900.,  840.,  600., 1080., 1020.,  960., 1320., 1200.,  660.,\n",
       "       1920., 1440., 1380., 2100.,  420.,  300.,  480.,  780.,  540.,\n",
       "       1560.,  720., 1260., 1500.,  360., 1860., 1680., 2160., 1620.,\n",
       "       1980., 1740., 1800., 2040.,  240., 1140.])"
      ]
     },
     "execution_count": 21,
     "metadata": {},
     "output_type": "execute_result"
    }
   ],
   "source": [
    "df[\"duration\"].unique()"
   ]
  },
  {
   "cell_type": "markdown",
   "metadata": {},
   "source": [
    "### NumberOfFollowups, MonthlyIncome, TypeofContact"
   ]
  },
  {
   "cell_type": "code",
   "execution_count": 22,
   "metadata": {},
   "outputs": [
    {
     "name": "stdout",
     "output_type": "stream",
     "text": [
      "NumberOfFollowups :  33\n",
      "NumberOfTrips :  22\n",
      "MonthlyIncome :  56\n",
      "TypeofContact :  6\n"
     ]
    }
   ],
   "source": [
    "print(\"NumberOfFollowups : \", df[\"NumberOfFollowups\"].isna().sum())\n",
    "print(\"NumberOfTrips : \", df[\"NumberOfTrips\"].isna().sum())\n",
    "print(\"MonthlyIncome : \", df[\"MonthlyIncome\"].isna().sum())\n",
    "print(\"TypeofContact : \", df[\"TypeofContact\"].isna().sum())"
   ]
  },
  {
   "cell_type": "code",
   "execution_count": 23,
   "metadata": {},
   "outputs": [],
   "source": [
    "df.dropna(subset=[\"NumberOfFollowups\", \"NumberOfTrips\", \"MonthlyIncome\", \"TypeofContact\"], inplace=True)"
   ]
  },
  {
   "cell_type": "code",
   "execution_count": 24,
   "metadata": {},
   "outputs": [
    {
     "name": "stdout",
     "output_type": "stream",
     "text": [
      "NumberOfFollowups :  0\n",
      "NumberOfTrips :  0\n",
      "MonthlyIncome :  0\n",
      "TypeofContact :  0\n"
     ]
    }
   ],
   "source": [
    "print(\"NumberOfFollowups : \", df[\"NumberOfFollowups\"].isna().sum())\n",
    "print(\"NumberOfTrips : \", df[\"NumberOfTrips\"].isna().sum())\n",
    "print(\"MonthlyIncome : \", df[\"MonthlyIncome\"].isna().sum())\n",
    "print(\"TypeofContact : \", df[\"TypeofContact\"].isna().sum())"
   ]
  },
  {
   "cell_type": "code",
   "execution_count": 25,
   "metadata": {},
   "outputs": [
    {
     "data": {
      "text/plain": [
       "id                          0\n",
       "Age                        62\n",
       "TypeofContact               0\n",
       "CityTier                    0\n",
       "DurationOfPitch           107\n",
       "Occupation                  0\n",
       "Gender                      0\n",
       "NumberOfPersonVisiting      0\n",
       "NumberOfFollowups           0\n",
       "ProductPitched              0\n",
       "PreferredPropertyStar       0\n",
       "NumberOfTrips               0\n",
       "Passport                    0\n",
       "PitchSatisfactionScore      0\n",
       "Designation                 0\n",
       "MonthlyIncome               0\n",
       "customer_info               0\n",
       "ProdTaken                   0\n",
       "age                         0\n",
       "duration                    0\n",
       "dtype: int64"
      ]
     },
     "execution_count": 25,
     "metadata": {},
     "output_type": "execute_result"
    }
   ],
   "source": [
    "df.isna().sum()"
   ]
  },
  {
   "cell_type": "code",
   "execution_count": 26,
   "metadata": {},
   "outputs": [
    {
     "data": {
      "text/html": [
       "<div>\n",
       "<style scoped>\n",
       "    .dataframe tbody tr th:only-of-type {\n",
       "        vertical-align: middle;\n",
       "    }\n",
       "\n",
       "    .dataframe tbody tr th {\n",
       "        vertical-align: top;\n",
       "    }\n",
       "\n",
       "    .dataframe thead th {\n",
       "        text-align: right;\n",
       "    }\n",
       "</style>\n",
       "<table border=\"1\" class=\"dataframe\">\n",
       "  <thead>\n",
       "    <tr style=\"text-align: right;\">\n",
       "      <th></th>\n",
       "      <th>id</th>\n",
       "      <th>Age</th>\n",
       "      <th>TypeofContact</th>\n",
       "      <th>CityTier</th>\n",
       "      <th>DurationOfPitch</th>\n",
       "      <th>Occupation</th>\n",
       "      <th>Gender</th>\n",
       "      <th>NumberOfPersonVisiting</th>\n",
       "      <th>NumberOfFollowups</th>\n",
       "      <th>ProductPitched</th>\n",
       "      <th>PreferredPropertyStar</th>\n",
       "      <th>NumberOfTrips</th>\n",
       "      <th>Passport</th>\n",
       "      <th>PitchSatisfactionScore</th>\n",
       "      <th>Designation</th>\n",
       "      <th>MonthlyIncome</th>\n",
       "      <th>customer_info</th>\n",
       "      <th>ProdTaken</th>\n",
       "      <th>age</th>\n",
       "      <th>duration</th>\n",
       "    </tr>\n",
       "  </thead>\n",
       "  <tbody>\n",
       "    <tr>\n",
       "      <th>0</th>\n",
       "      <td>0</td>\n",
       "      <td>50歳</td>\n",
       "      <td>Self Enquiry</td>\n",
       "      <td>2</td>\n",
       "      <td>900秒</td>\n",
       "      <td>Large Business</td>\n",
       "      <td>male</td>\n",
       "      <td>1.0</td>\n",
       "      <td>4.0</td>\n",
       "      <td>Basic</td>\n",
       "      <td>3.0</td>\n",
       "      <td>5</td>\n",
       "      <td>1</td>\n",
       "      <td>4</td>\n",
       "      <td>Executive</td>\n",
       "      <td>253905.0</td>\n",
       "      <td>未婚 車未所持 子供なし</td>\n",
       "      <td>1</td>\n",
       "      <td>50</td>\n",
       "      <td>900.0</td>\n",
       "    </tr>\n",
       "    <tr>\n",
       "      <th>1</th>\n",
       "      <td>1</td>\n",
       "      <td>56歳</td>\n",
       "      <td>Company Invited</td>\n",
       "      <td>1</td>\n",
       "      <td>14分</td>\n",
       "      <td>Salaried</td>\n",
       "      <td>Male</td>\n",
       "      <td>1.0</td>\n",
       "      <td>4.0</td>\n",
       "      <td>Standard</td>\n",
       "      <td>3.0</td>\n",
       "      <td>2</td>\n",
       "      <td>1</td>\n",
       "      <td>4</td>\n",
       "      <td>Senior Manager</td>\n",
       "      <td>404475.0</td>\n",
       "      <td>離婚済み,車あり,子供無し</td>\n",
       "      <td>0</td>\n",
       "      <td>56</td>\n",
       "      <td>840.0</td>\n",
       "    </tr>\n",
       "    <tr>\n",
       "      <th>2</th>\n",
       "      <td>2</td>\n",
       "      <td>NaN</td>\n",
       "      <td>Self Enquiry</td>\n",
       "      <td>1</td>\n",
       "      <td>10分</td>\n",
       "      <td>Large Business</td>\n",
       "      <td>Female</td>\n",
       "      <td>1.0</td>\n",
       "      <td>3.0</td>\n",
       "      <td>Basic</td>\n",
       "      <td>3.0</td>\n",
       "      <td>4</td>\n",
       "      <td>0</td>\n",
       "      <td>4</td>\n",
       "      <td>Executive</td>\n",
       "      <td>278145.0</td>\n",
       "      <td>結婚済み、自動車未所有,子供なし</td>\n",
       "      <td>1</td>\n",
       "      <td>38</td>\n",
       "      <td>600.0</td>\n",
       "    </tr>\n",
       "    <tr>\n",
       "      <th>3</th>\n",
       "      <td>3</td>\n",
       "      <td>三十七歳</td>\n",
       "      <td>Self Enquiry</td>\n",
       "      <td>2</td>\n",
       "      <td>1080秒</td>\n",
       "      <td>Small Business</td>\n",
       "      <td>female</td>\n",
       "      <td>1.0</td>\n",
       "      <td>3.0</td>\n",
       "      <td>Standard</td>\n",
       "      <td>4.0</td>\n",
       "      <td>1</td>\n",
       "      <td>0</td>\n",
       "      <td>5</td>\n",
       "      <td>Senior Manager</td>\n",
       "      <td>326805.0</td>\n",
       "      <td>離婚済み、車所持、子供無し</td>\n",
       "      <td>0</td>\n",
       "      <td>37</td>\n",
       "      <td>1080.0</td>\n",
       "    </tr>\n",
       "    <tr>\n",
       "      <th>4</th>\n",
       "      <td>4</td>\n",
       "      <td>48歳</td>\n",
       "      <td>Company Invited</td>\n",
       "      <td>3</td>\n",
       "      <td>1020秒</td>\n",
       "      <td>Small Business</td>\n",
       "      <td>female</td>\n",
       "      <td>1.0</td>\n",
       "      <td>3.0</td>\n",
       "      <td>Basic</td>\n",
       "      <td>4.0</td>\n",
       "      <td>4</td>\n",
       "      <td>0</td>\n",
       "      <td>4</td>\n",
       "      <td>Executive</td>\n",
       "      <td>258435.0</td>\n",
       "      <td>独身／車所持／無子</td>\n",
       "      <td>1</td>\n",
       "      <td>48</td>\n",
       "      <td>1020.0</td>\n",
       "    </tr>\n",
       "  </tbody>\n",
       "</table>\n",
       "</div>"
      ],
      "text/plain": [
       "   id   Age    TypeofContact  CityTier DurationOfPitch      Occupation  \\\n",
       "0   0   50歳     Self Enquiry         2            900秒  Large Business   \n",
       "1   1   56歳  Company Invited         1             14分        Salaried   \n",
       "2   2   NaN     Self Enquiry         1             10分  Large Business   \n",
       "3   3  三十七歳     Self Enquiry         2           1080秒  Small Business   \n",
       "4   4   48歳  Company Invited         3           1020秒  Small Business   \n",
       "\n",
       "   Gender  NumberOfPersonVisiting  NumberOfFollowups ProductPitched  \\\n",
       "0    male                     1.0                4.0          Basic   \n",
       "1    Male                     1.0                4.0       Standard   \n",
       "2  Female                     1.0                3.0          Basic   \n",
       "3  female                     1.0                3.0       Standard   \n",
       "4  female                     1.0                3.0          Basic   \n",
       "\n",
       "   PreferredPropertyStar NumberOfTrips  Passport  PitchSatisfactionScore  \\\n",
       "0                    3.0             5         1                       4   \n",
       "1                    3.0             2         1                       4   \n",
       "2                    3.0             4         0                       4   \n",
       "3                    4.0             1         0                       5   \n",
       "4                    4.0             4         0                       4   \n",
       "\n",
       "      Designation MonthlyIncome     customer_info  ProdTaken  age  duration  \n",
       "0       Executive      253905.0      未婚 車未所持 子供なし          1   50     900.0  \n",
       "1  Senior Manager      404475.0     離婚済み,車あり,子供無し          0   56     840.0  \n",
       "2       Executive      278145.0  結婚済み、自動車未所有,子供なし          1   38     600.0  \n",
       "3  Senior Manager      326805.0     離婚済み、車所持、子供無し          0   37    1080.0  \n",
       "4       Executive      258435.0         独身／車所持／無子          1   48    1020.0  "
      ]
     },
     "execution_count": 26,
     "metadata": {},
     "output_type": "execute_result"
    }
   ],
   "source": [
    "df.head()"
   ]
  },
  {
   "cell_type": "markdown",
   "metadata": {},
   "source": [
    "## Extract Features"
   ]
  },
  {
   "cell_type": "code",
   "execution_count": 27,
   "metadata": {},
   "outputs": [],
   "source": [
    "df = df.drop(columns=[\"id\", \"Age\", \"DurationOfPitch\"], axis=1)"
   ]
  },
  {
   "cell_type": "code",
   "execution_count": 28,
   "metadata": {},
   "outputs": [
    {
     "data": {
      "text/html": [
       "<div>\n",
       "<style scoped>\n",
       "    .dataframe tbody tr th:only-of-type {\n",
       "        vertical-align: middle;\n",
       "    }\n",
       "\n",
       "    .dataframe tbody tr th {\n",
       "        vertical-align: top;\n",
       "    }\n",
       "\n",
       "    .dataframe thead th {\n",
       "        text-align: right;\n",
       "    }\n",
       "</style>\n",
       "<table border=\"1\" class=\"dataframe\">\n",
       "  <thead>\n",
       "    <tr style=\"text-align: right;\">\n",
       "      <th></th>\n",
       "      <th>TypeofContact</th>\n",
       "      <th>CityTier</th>\n",
       "      <th>Occupation</th>\n",
       "      <th>Gender</th>\n",
       "      <th>NumberOfPersonVisiting</th>\n",
       "      <th>NumberOfFollowups</th>\n",
       "      <th>ProductPitched</th>\n",
       "      <th>PreferredPropertyStar</th>\n",
       "      <th>NumberOfTrips</th>\n",
       "      <th>Passport</th>\n",
       "      <th>PitchSatisfactionScore</th>\n",
       "      <th>Designation</th>\n",
       "      <th>MonthlyIncome</th>\n",
       "      <th>customer_info</th>\n",
       "      <th>ProdTaken</th>\n",
       "      <th>age</th>\n",
       "      <th>duration</th>\n",
       "    </tr>\n",
       "  </thead>\n",
       "  <tbody>\n",
       "    <tr>\n",
       "      <th>0</th>\n",
       "      <td>Self Enquiry</td>\n",
       "      <td>2</td>\n",
       "      <td>Large Business</td>\n",
       "      <td>male</td>\n",
       "      <td>1.0</td>\n",
       "      <td>4.0</td>\n",
       "      <td>Basic</td>\n",
       "      <td>3.0</td>\n",
       "      <td>5</td>\n",
       "      <td>1</td>\n",
       "      <td>4</td>\n",
       "      <td>Executive</td>\n",
       "      <td>253905.0</td>\n",
       "      <td>未婚 車未所持 子供なし</td>\n",
       "      <td>1</td>\n",
       "      <td>50</td>\n",
       "      <td>900.0</td>\n",
       "    </tr>\n",
       "    <tr>\n",
       "      <th>1</th>\n",
       "      <td>Company Invited</td>\n",
       "      <td>1</td>\n",
       "      <td>Salaried</td>\n",
       "      <td>Male</td>\n",
       "      <td>1.0</td>\n",
       "      <td>4.0</td>\n",
       "      <td>Standard</td>\n",
       "      <td>3.0</td>\n",
       "      <td>2</td>\n",
       "      <td>1</td>\n",
       "      <td>4</td>\n",
       "      <td>Senior Manager</td>\n",
       "      <td>404475.0</td>\n",
       "      <td>離婚済み,車あり,子供無し</td>\n",
       "      <td>0</td>\n",
       "      <td>56</td>\n",
       "      <td>840.0</td>\n",
       "    </tr>\n",
       "    <tr>\n",
       "      <th>2</th>\n",
       "      <td>Self Enquiry</td>\n",
       "      <td>1</td>\n",
       "      <td>Large Business</td>\n",
       "      <td>Female</td>\n",
       "      <td>1.0</td>\n",
       "      <td>3.0</td>\n",
       "      <td>Basic</td>\n",
       "      <td>3.0</td>\n",
       "      <td>4</td>\n",
       "      <td>0</td>\n",
       "      <td>4</td>\n",
       "      <td>Executive</td>\n",
       "      <td>278145.0</td>\n",
       "      <td>結婚済み、自動車未所有,子供なし</td>\n",
       "      <td>1</td>\n",
       "      <td>38</td>\n",
       "      <td>600.0</td>\n",
       "    </tr>\n",
       "    <tr>\n",
       "      <th>3</th>\n",
       "      <td>Self Enquiry</td>\n",
       "      <td>2</td>\n",
       "      <td>Small Business</td>\n",
       "      <td>female</td>\n",
       "      <td>1.0</td>\n",
       "      <td>3.0</td>\n",
       "      <td>Standard</td>\n",
       "      <td>4.0</td>\n",
       "      <td>1</td>\n",
       "      <td>0</td>\n",
       "      <td>5</td>\n",
       "      <td>Senior Manager</td>\n",
       "      <td>326805.0</td>\n",
       "      <td>離婚済み、車所持、子供無し</td>\n",
       "      <td>0</td>\n",
       "      <td>37</td>\n",
       "      <td>1080.0</td>\n",
       "    </tr>\n",
       "    <tr>\n",
       "      <th>4</th>\n",
       "      <td>Company Invited</td>\n",
       "      <td>3</td>\n",
       "      <td>Small Business</td>\n",
       "      <td>female</td>\n",
       "      <td>1.0</td>\n",
       "      <td>3.0</td>\n",
       "      <td>Basic</td>\n",
       "      <td>4.0</td>\n",
       "      <td>4</td>\n",
       "      <td>0</td>\n",
       "      <td>4</td>\n",
       "      <td>Executive</td>\n",
       "      <td>258435.0</td>\n",
       "      <td>独身／車所持／無子</td>\n",
       "      <td>1</td>\n",
       "      <td>48</td>\n",
       "      <td>1020.0</td>\n",
       "    </tr>\n",
       "  </tbody>\n",
       "</table>\n",
       "</div>"
      ],
      "text/plain": [
       "     TypeofContact  CityTier      Occupation  Gender  NumberOfPersonVisiting  \\\n",
       "0     Self Enquiry         2  Large Business    male                     1.0   \n",
       "1  Company Invited         1        Salaried    Male                     1.0   \n",
       "2     Self Enquiry         1  Large Business  Female                     1.0   \n",
       "3     Self Enquiry         2  Small Business  female                     1.0   \n",
       "4  Company Invited         3  Small Business  female                     1.0   \n",
       "\n",
       "   NumberOfFollowups ProductPitched  PreferredPropertyStar NumberOfTrips  \\\n",
       "0                4.0          Basic                    3.0             5   \n",
       "1                4.0       Standard                    3.0             2   \n",
       "2                3.0          Basic                    3.0             4   \n",
       "3                3.0       Standard                    4.0             1   \n",
       "4                3.0          Basic                    4.0             4   \n",
       "\n",
       "   Passport  PitchSatisfactionScore     Designation MonthlyIncome  \\\n",
       "0         1                       4       Executive      253905.0   \n",
       "1         1                       4  Senior Manager      404475.0   \n",
       "2         0                       4       Executive      278145.0   \n",
       "3         0                       5  Senior Manager      326805.0   \n",
       "4         0                       4       Executive      258435.0   \n",
       "\n",
       "      customer_info  ProdTaken  age  duration  \n",
       "0      未婚 車未所持 子供なし          1   50     900.0  \n",
       "1     離婚済み,車あり,子供無し          0   56     840.0  \n",
       "2  結婚済み、自動車未所有,子供なし          1   38     600.0  \n",
       "3     離婚済み、車所持、子供無し          0   37    1080.0  \n",
       "4         独身／車所持／無子          1   48    1020.0  "
      ]
     },
     "execution_count": 28,
     "metadata": {},
     "output_type": "execute_result"
    }
   ],
   "source": [
    "df.head()"
   ]
  },
  {
   "cell_type": "code",
   "execution_count": 29,
   "metadata": {},
   "outputs": [],
   "source": [
    "df.to_csv(\"data/train_non_null.csv\", index=False)"
   ]
  },
  {
   "cell_type": "markdown",
   "metadata": {},
   "source": [
    "## Normalization"
   ]
  },
  {
   "cell_type": "code",
   "execution_count": 30,
   "metadata": {},
   "outputs": [],
   "source": [
    "df = pd.read_csv(\"data/train_non_null.csv\")"
   ]
  },
  {
   "cell_type": "code",
   "execution_count": 31,
   "metadata": {},
   "outputs": [
    {
     "data": {
      "text/html": [
       "<div>\n",
       "<style scoped>\n",
       "    .dataframe tbody tr th:only-of-type {\n",
       "        vertical-align: middle;\n",
       "    }\n",
       "\n",
       "    .dataframe tbody tr th {\n",
       "        vertical-align: top;\n",
       "    }\n",
       "\n",
       "    .dataframe thead th {\n",
       "        text-align: right;\n",
       "    }\n",
       "</style>\n",
       "<table border=\"1\" class=\"dataframe\">\n",
       "  <thead>\n",
       "    <tr style=\"text-align: right;\">\n",
       "      <th></th>\n",
       "      <th>TypeofContact</th>\n",
       "      <th>CityTier</th>\n",
       "      <th>Occupation</th>\n",
       "      <th>Gender</th>\n",
       "      <th>NumberOfPersonVisiting</th>\n",
       "      <th>NumberOfFollowups</th>\n",
       "      <th>ProductPitched</th>\n",
       "      <th>PreferredPropertyStar</th>\n",
       "      <th>NumberOfTrips</th>\n",
       "      <th>Passport</th>\n",
       "      <th>PitchSatisfactionScore</th>\n",
       "      <th>Designation</th>\n",
       "      <th>MonthlyIncome</th>\n",
       "      <th>customer_info</th>\n",
       "      <th>ProdTaken</th>\n",
       "      <th>age</th>\n",
       "      <th>duration</th>\n",
       "    </tr>\n",
       "  </thead>\n",
       "  <tbody>\n",
       "    <tr>\n",
       "      <th>0</th>\n",
       "      <td>Self Enquiry</td>\n",
       "      <td>2</td>\n",
       "      <td>Large Business</td>\n",
       "      <td>male</td>\n",
       "      <td>1.0</td>\n",
       "      <td>4.0</td>\n",
       "      <td>Basic</td>\n",
       "      <td>3.0</td>\n",
       "      <td>5</td>\n",
       "      <td>1</td>\n",
       "      <td>4</td>\n",
       "      <td>Executive</td>\n",
       "      <td>253905.0</td>\n",
       "      <td>未婚 車未所持 子供なし</td>\n",
       "      <td>1</td>\n",
       "      <td>50</td>\n",
       "      <td>900.0</td>\n",
       "    </tr>\n",
       "    <tr>\n",
       "      <th>1</th>\n",
       "      <td>Company Invited</td>\n",
       "      <td>1</td>\n",
       "      <td>Salaried</td>\n",
       "      <td>Male</td>\n",
       "      <td>1.0</td>\n",
       "      <td>4.0</td>\n",
       "      <td>Standard</td>\n",
       "      <td>3.0</td>\n",
       "      <td>2</td>\n",
       "      <td>1</td>\n",
       "      <td>4</td>\n",
       "      <td>Senior Manager</td>\n",
       "      <td>404475.0</td>\n",
       "      <td>離婚済み,車あり,子供無し</td>\n",
       "      <td>0</td>\n",
       "      <td>56</td>\n",
       "      <td>840.0</td>\n",
       "    </tr>\n",
       "    <tr>\n",
       "      <th>2</th>\n",
       "      <td>Self Enquiry</td>\n",
       "      <td>1</td>\n",
       "      <td>Large Business</td>\n",
       "      <td>Female</td>\n",
       "      <td>1.0</td>\n",
       "      <td>3.0</td>\n",
       "      <td>Basic</td>\n",
       "      <td>3.0</td>\n",
       "      <td>4</td>\n",
       "      <td>0</td>\n",
       "      <td>4</td>\n",
       "      <td>Executive</td>\n",
       "      <td>278145.0</td>\n",
       "      <td>結婚済み、自動車未所有,子供なし</td>\n",
       "      <td>1</td>\n",
       "      <td>38</td>\n",
       "      <td>600.0</td>\n",
       "    </tr>\n",
       "    <tr>\n",
       "      <th>3</th>\n",
       "      <td>Self Enquiry</td>\n",
       "      <td>2</td>\n",
       "      <td>Small Business</td>\n",
       "      <td>female</td>\n",
       "      <td>1.0</td>\n",
       "      <td>3.0</td>\n",
       "      <td>Standard</td>\n",
       "      <td>4.0</td>\n",
       "      <td>1</td>\n",
       "      <td>0</td>\n",
       "      <td>5</td>\n",
       "      <td>Senior Manager</td>\n",
       "      <td>326805.0</td>\n",
       "      <td>離婚済み、車所持、子供無し</td>\n",
       "      <td>0</td>\n",
       "      <td>37</td>\n",
       "      <td>1080.0</td>\n",
       "    </tr>\n",
       "    <tr>\n",
       "      <th>4</th>\n",
       "      <td>Company Invited</td>\n",
       "      <td>3</td>\n",
       "      <td>Small Business</td>\n",
       "      <td>female</td>\n",
       "      <td>1.0</td>\n",
       "      <td>3.0</td>\n",
       "      <td>Basic</td>\n",
       "      <td>4.0</td>\n",
       "      <td>4</td>\n",
       "      <td>0</td>\n",
       "      <td>4</td>\n",
       "      <td>Executive</td>\n",
       "      <td>258435.0</td>\n",
       "      <td>独身／車所持／無子</td>\n",
       "      <td>1</td>\n",
       "      <td>48</td>\n",
       "      <td>1020.0</td>\n",
       "    </tr>\n",
       "  </tbody>\n",
       "</table>\n",
       "</div>"
      ],
      "text/plain": [
       "     TypeofContact  CityTier      Occupation  Gender  NumberOfPersonVisiting  \\\n",
       "0     Self Enquiry         2  Large Business    male                     1.0   \n",
       "1  Company Invited         1        Salaried    Male                     1.0   \n",
       "2     Self Enquiry         1  Large Business  Female                     1.0   \n",
       "3     Self Enquiry         2  Small Business  female                     1.0   \n",
       "4  Company Invited         3  Small Business  female                     1.0   \n",
       "\n",
       "   NumberOfFollowups ProductPitched  PreferredPropertyStar NumberOfTrips  \\\n",
       "0                4.0          Basic                    3.0             5   \n",
       "1                4.0       Standard                    3.0             2   \n",
       "2                3.0          Basic                    3.0             4   \n",
       "3                3.0       Standard                    4.0             1   \n",
       "4                3.0          Basic                    4.0             4   \n",
       "\n",
       "   Passport  PitchSatisfactionScore     Designation MonthlyIncome  \\\n",
       "0         1                       4       Executive      253905.0   \n",
       "1         1                       4  Senior Manager      404475.0   \n",
       "2         0                       4       Executive      278145.0   \n",
       "3         0                       5  Senior Manager      326805.0   \n",
       "4         0                       4       Executive      258435.0   \n",
       "\n",
       "      customer_info  ProdTaken  age  duration  \n",
       "0      未婚 車未所持 子供なし          1   50     900.0  \n",
       "1     離婚済み,車あり,子供無し          0   56     840.0  \n",
       "2  結婚済み、自動車未所有,子供なし          1   38     600.0  \n",
       "3     離婚済み、車所持、子供無し          0   37    1080.0  \n",
       "4         独身／車所持／無子          1   48    1020.0  "
      ]
     },
     "execution_count": 31,
     "metadata": {},
     "output_type": "execute_result"
    }
   ],
   "source": [
    "df.head()"
   ]
  },
  {
   "cell_type": "code",
   "execution_count": 32,
   "metadata": {},
   "outputs": [
    {
     "name": "stdout",
     "output_type": "stream",
     "text": [
      "<class 'pandas.core.frame.DataFrame'>\n",
      "RangeIndex: 3373 entries, 0 to 3372\n",
      "Data columns (total 17 columns):\n",
      " #   Column                  Non-Null Count  Dtype  \n",
      "---  ------                  --------------  -----  \n",
      " 0   TypeofContact           3373 non-null   object \n",
      " 1   CityTier                3373 non-null   int64  \n",
      " 2   Occupation              3373 non-null   object \n",
      " 3   Gender                  3373 non-null   object \n",
      " 4   NumberOfPersonVisiting  3373 non-null   float64\n",
      " 5   NumberOfFollowups       3373 non-null   float64\n",
      " 6   ProductPitched          3373 non-null   object \n",
      " 7   PreferredPropertyStar   3373 non-null   float64\n",
      " 8   NumberOfTrips           3373 non-null   object \n",
      " 9   Passport                3373 non-null   int64  \n",
      " 10  PitchSatisfactionScore  3373 non-null   int64  \n",
      " 11  Designation             3373 non-null   object \n",
      " 12  MonthlyIncome           3373 non-null   object \n",
      " 13  customer_info           3373 non-null   object \n",
      " 14  ProdTaken               3373 non-null   int64  \n",
      " 15  age                     3373 non-null   int64  \n",
      " 16  duration                3373 non-null   float64\n",
      "dtypes: float64(4), int64(5), object(8)\n",
      "memory usage: 448.1+ KB\n"
     ]
    }
   ],
   "source": [
    "df.info()"
   ]
  },
  {
   "cell_type": "code",
   "execution_count": 33,
   "metadata": {},
   "outputs": [
    {
     "name": "stdout",
     "output_type": "stream",
     "text": [
      "TypeofContact\n",
      "['Self Enquiry' 'Company Invited'] \n",
      "\n",
      "CityTier\n",
      "[2 1 3] \n",
      "\n",
      "Occupation\n",
      "['Large Business' 'Salaried' 'Small Business'] \n",
      "\n",
      "Gender\n",
      "['male' 'Male' 'Female' 'female' 'ｆｅｍａｌｅ' 'FEMALE' 'Ｍａｌｅ' 'Fe Male' 'MALE'\n",
      " 'ｆｅ\\u3000ｍａｌｅ' 'fe male' 'Ｆｅｍａｌｅ' 'ｍａｌｅ' 'FE MALE' 'Ｆｅ\\u3000Ｍａｌｅ'\n",
      " 'ＦＥＭＡＬＥ' 'ＦＥ\\u3000ＭＡＬＥ' 'ＭＡＬＥ'] \n",
      "\n",
      "NumberOfTrips\n",
      "['5' '2' '4' '1' '年に1回' '年に2回' '年に6回' '3' '年に5回' '7' '6' '半年に1回' '年に4回'\n",
      " '年に3回' '8' '年に8回' '年に7回' '四半期に1回'] \n",
      "\n",
      "customer_info\n",
      "['未婚 車未所持 子供なし' '離婚済み,車あり,子供無し' '結婚済み、自動車未所有,子供なし' ...\n",
      " '結婚済み,車保有なし,子供有り 1人' '結婚済み/自家用車なし/1児' '独身／車所持／こども1人'] \n",
      "\n",
      "ProductPitched\n",
      "['Basic' 'Standard' 'Super Deluxe' 'basic' 'SUPER DELUXE' 'super deluxe'\n",
      " 'BASIC' 'Deluxe' 'deluxe' 'STANᗞARD' 'STANDARD' 'Вasic' 'DELUXE'\n",
      " 'ꓢuper De|uxe' 'Ѕuper Deluxe' 'BAՏIC' 'Basıc' 'King' 'Super De|uxe'\n",
      " 'king' 'standard' 'KING' 'BΑSIC' 'B𝖺sic' 'De|uxe' 'ᎠELUXE' 'Basiϲ'\n",
      " 'de|u×e' 'Delu×e' 'Standar𝔡' 'Basi𝘤' 'Βasic' 'Տuper Deluxe' 'Staոdard'\n",
      " 'BAꓢIC' 'ᗞeluxe' 'Տtandard' 'Βası𝘤' 'Baｓic' 'basıc' 'super de|uxe'\n",
      " 'Stand𝖺rd' 'S𝘵andard' '𐊡asic' 'St𝖺ndard' 'Super ᗞeluxe' 'de|uxe'\n",
      " 'ｓuper deluxe' 'STANDARᎠ' 'Basiс' 'DΕLUXΕ' 'ꓢuper Deluxe' 'BASΙC'\n",
      " 'ꓢtandard' 'В𝖺sic' 'Standa𝘳d' 'basiϲ' 'staոdard' 'Super Ꭰeluxe' 'DELUXΕ'\n",
      " 'Ѕtandard' '𐊡asi𝘤' 'Ꭰeluxe' 'Kıոg' '𝙳eluxe' 'Kiոg' 'Βasıc' 'BASIС'\n",
      " 'SUPER DΕLUXE' 'B𝖺si𝘤' 'ΒASIС' 'Super 𝙳eluxe' 'Տtanda𝘳d' 'ЅTANDARD'] \n",
      "\n",
      "Designation\n",
      "['Executive' 'Senior Manager' 'AVP' 'Manager' 'Senior Manage𝙧' 'Execuｔive'\n",
      " 'Μanager' 'VP' 'Sеnior Manager' 'ΑVP' 'АVP' 'E×ecutive' 'Mαnage𝙧'\n",
      " 'Executiѵе' 'Ѕenior Manager' 'Managеr' 'Еxecutivе' 'Senior Μanαger'\n",
      " 'Еxecuｔive' 'Exеcutivе' 'Exеcutive' 'Senior Managе𝙧' 'Manage𝙧'\n",
      " 'Senio𝙧 Manager' 'Manαger' 'Μanage𝙧' 'Manαgеr' 'Senior Managеr'\n",
      " 'Executivе' 'Е×еcutive' 'Еxecutive' 'VＰ' 'Տenior Μanager' 'Executiѵe'\n",
      " 'Exеcutiѵе' 'Senior Manαger' 'Mαnager' 'Senior Mαnαger' 'E×еcutiѵe'\n",
      " 'Ѕenior Manαger' 'Exеcｕtive' 'Execｕtive' 'Mαnαger' 'Μanagеr' 'E×ecｕtive'\n",
      " 'Sеnior Managеr' 'Տenior Manager' 'AVＰ' 'Exеcｕtivе' 'Mαnagеr' 'Еxеcutivе'\n",
      " 'Senior Mαnager' 'Е×ecutive'] \n",
      "\n"
     ]
    }
   ],
   "source": [
    "tmp = [\"TypeofContact\", \"CityTier\", \"Occupation\", \"Gender\", \"NumberOfTrips\", \"customer_info\", \"ProductPitched\", \"Designation\"]\n",
    "for column in tmp:\n",
    "    print(column)\n",
    "    print(df[column].unique(), \"\\n\")"
   ]
  },
  {
   "cell_type": "markdown",
   "metadata": {},
   "source": [
    "### Gender -> gender"
   ]
  },
  {
   "cell_type": "code",
   "execution_count": 34,
   "metadata": {},
   "outputs": [
    {
     "data": {
      "text/plain": [
       "array(['male', 'Male', 'Female', 'female', 'ｆｅｍａｌｅ', 'FEMALE', 'Ｍａｌｅ',\n",
       "       'Fe Male', 'MALE', 'ｆｅ\\u3000ｍａｌｅ', 'fe male', 'Ｆｅｍａｌｅ', 'ｍａｌｅ',\n",
       "       'FE MALE', 'Ｆｅ\\u3000Ｍａｌｅ', 'ＦＥＭＡＬＥ', 'ＦＥ\\u3000ＭＡＬＥ', 'ＭＡＬＥ'],\n",
       "      dtype=object)"
      ]
     },
     "execution_count": 34,
     "metadata": {},
     "output_type": "execute_result"
    }
   ],
   "source": [
    "df['Gender'].unique()"
   ]
  },
  {
   "cell_type": "code",
   "execution_count": 35,
   "metadata": {},
   "outputs": [],
   "source": [
    "df['gender'] = df['Gender'].apply(normalize_gender)"
   ]
  },
  {
   "cell_type": "code",
   "execution_count": 36,
   "metadata": {},
   "outputs": [
    {
     "data": {
      "text/plain": [
       "array(['male', 'female'], dtype=object)"
      ]
     },
     "execution_count": 36,
     "metadata": {},
     "output_type": "execute_result"
    }
   ],
   "source": [
    "df['gender'].unique()"
   ]
  },
  {
   "cell_type": "markdown",
   "metadata": {},
   "source": [
    "### ProductPitched -> product_pitched"
   ]
  },
  {
   "cell_type": "code",
   "execution_count": 37,
   "metadata": {},
   "outputs": [
    {
     "data": {
      "text/plain": [
       "array(['Basic', 'Standard', 'Super Deluxe', 'basic', 'SUPER DELUXE',\n",
       "       'super deluxe', 'BASIC', 'Deluxe', 'deluxe', 'STANᗞARD',\n",
       "       'STANDARD', 'Вasic', 'DELUXE', 'ꓢuper De|uxe', 'Ѕuper Deluxe',\n",
       "       'BAՏIC', 'Basıc', 'King', 'Super De|uxe', 'king', 'standard',\n",
       "       'KING', 'BΑSIC', 'B𝖺sic', 'De|uxe', 'ᎠELUXE', 'Basiϲ', 'de|u×e',\n",
       "       'Delu×e', 'Standar𝔡', 'Basi𝘤', 'Βasic', 'Տuper Deluxe', 'Staոdard',\n",
       "       'BAꓢIC', 'ᗞeluxe', 'Տtandard', 'Βası𝘤', 'Baｓic', 'basıc',\n",
       "       'super de|uxe', 'Stand𝖺rd', 'S𝘵andard', '𐊡asic', 'St𝖺ndard',\n",
       "       'Super ᗞeluxe', 'de|uxe', 'ｓuper deluxe', 'STANDARᎠ', 'Basiс',\n",
       "       'DΕLUXΕ', 'ꓢuper Deluxe', 'BASΙC', 'ꓢtandard', 'В𝖺sic', 'Standa𝘳d',\n",
       "       'basiϲ', 'staոdard', 'Super Ꭰeluxe', 'DELUXΕ', 'Ѕtandard', '𐊡asi𝘤',\n",
       "       'Ꭰeluxe', 'Kıոg', '𝙳eluxe', 'Kiոg', 'Βasıc', 'BASIС',\n",
       "       'SUPER DΕLUXE', 'B𝖺si𝘤', 'ΒASIС', 'Super 𝙳eluxe', 'Տtanda𝘳d',\n",
       "       'ЅTANDARD'], dtype=object)"
      ]
     },
     "execution_count": 37,
     "metadata": {},
     "output_type": "execute_result"
    }
   ],
   "source": [
    "df['ProductPitched'].unique()"
   ]
  },
  {
   "cell_type": "code",
   "execution_count": 38,
   "metadata": {},
   "outputs": [],
   "source": [
    "df['product_pitched'] = df['ProductPitched'].apply(normalize_product_pitched_1)"
   ]
  },
  {
   "cell_type": "code",
   "execution_count": 39,
   "metadata": {},
   "outputs": [
    {
     "data": {
      "text/plain": [
       "array(['Basic', 'Standard', 'Deluxe', 'super deiuxe', 'banic', 'King',\n",
       "       'deiuxe', 'seluxe', 'basis', 'ntandard', 'iasic', 'standars',\n",
       "       'basιc', 'super seluxe', 'ѕtandard'], dtype=object)"
      ]
     },
     "execution_count": 39,
     "metadata": {},
     "output_type": "execute_result"
    }
   ],
   "source": [
    "df['product_pitched'].unique()"
   ]
  },
  {
   "cell_type": "code",
   "execution_count": 40,
   "metadata": {},
   "outputs": [],
   "source": [
    "df['product_pitched'] = df['product_pitched'].apply(normalize_product_pitched_2)"
   ]
  },
  {
   "cell_type": "code",
   "execution_count": 41,
   "metadata": {},
   "outputs": [
    {
     "data": {
      "text/plain": [
       "array(['Basic', 'Standard', 'Deluxe', 'Super Deluxe', 'King'],\n",
       "      dtype=object)"
      ]
     },
     "execution_count": 41,
     "metadata": {},
     "output_type": "execute_result"
    }
   ],
   "source": [
    "df['product_pitched'].unique()"
   ]
  },
  {
   "cell_type": "markdown",
   "metadata": {},
   "source": [
    "### NumberOfTrips -> trip_per_year"
   ]
  },
  {
   "cell_type": "code",
   "execution_count": 42,
   "metadata": {},
   "outputs": [
    {
     "data": {
      "text/plain": [
       "array(['5', '2', '4', '1', '年に1回', '年に2回', '年に6回', '3', '年に5回', '7', '6',\n",
       "       '半年に1回', '年に4回', '年に3回', '8', '年に8回', '年に7回', '四半期に1回'],\n",
       "      dtype=object)"
      ]
     },
     "execution_count": 42,
     "metadata": {},
     "output_type": "execute_result"
    }
   ],
   "source": [
    "df['NumberOfTrips'].unique()"
   ]
  },
  {
   "cell_type": "code",
   "execution_count": 43,
   "metadata": {},
   "outputs": [],
   "source": [
    "df['trip_per_year'] = df['NumberOfTrips'].apply(normalize_trips)"
   ]
  },
  {
   "cell_type": "code",
   "execution_count": 44,
   "metadata": {},
   "outputs": [
    {
     "data": {
      "text/plain": [
       "array([ 5,  2,  4,  1,  8, 24,  3, 20,  7,  6, 16, 12, 32, 28],\n",
       "      dtype=int64)"
      ]
     },
     "execution_count": 44,
     "metadata": {},
     "output_type": "execute_result"
    }
   ],
   "source": [
    "df['trip_per_year'].unique()"
   ]
  },
  {
   "cell_type": "markdown",
   "metadata": {},
   "source": [
    "### Designation -> designation"
   ]
  },
  {
   "cell_type": "code",
   "execution_count": 45,
   "metadata": {},
   "outputs": [
    {
     "data": {
      "text/plain": [
       "array(['Executive', 'Senior Manager', 'AVP', 'Manager', 'Senior Manage𝙧',\n",
       "       'Execuｔive', 'Μanager', 'VP', 'Sеnior Manager', 'ΑVP', 'АVP',\n",
       "       'E×ecutive', 'Mαnage𝙧', 'Executiѵе', 'Ѕenior Manager', 'Managеr',\n",
       "       'Еxecutivе', 'Senior Μanαger', 'Еxecuｔive', 'Exеcutivе',\n",
       "       'Exеcutive', 'Senior Managе𝙧', 'Manage𝙧', 'Senio𝙧 Manager',\n",
       "       'Manαger', 'Μanage𝙧', 'Manαgеr', 'Senior Managеr', 'Executivе',\n",
       "       'Е×еcutive', 'Еxecutive', 'VＰ', 'Տenior Μanager', 'Executiѵe',\n",
       "       'Exеcutiѵе', 'Senior Manαger', 'Mαnager', 'Senior Mαnαger',\n",
       "       'E×еcutiѵe', 'Ѕenior Manαger', 'Exеcｕtive', 'Execｕtive', 'Mαnαger',\n",
       "       'Μanagеr', 'E×ecｕtive', 'Sеnior Managеr', 'Տenior Manager', 'AVＰ',\n",
       "       'Exеcｕtivе', 'Mαnagеr', 'Еxеcutivе', 'Senior Mαnager', 'Е×ecutive'],\n",
       "      dtype=object)"
      ]
     },
     "execution_count": 45,
     "metadata": {},
     "output_type": "execute_result"
    }
   ],
   "source": [
    "df['Designation'].unique()"
   ]
  },
  {
   "cell_type": "code",
   "execution_count": 46,
   "metadata": {},
   "outputs": [],
   "source": [
    "df['designation'] = df['Designation'].apply(normalize_designation_1)"
   ]
  },
  {
   "cell_type": "code",
   "execution_count": 47,
   "metadata": {},
   "outputs": [
    {
     "data": {
      "text/plain": [
       "array(['Executive', 'Senior Manager', 'AVP', 'Manager', 'μanager', 'VP',\n",
       "       'e×ecutive', 'senior μanager'], dtype=object)"
      ]
     },
     "execution_count": 47,
     "metadata": {},
     "output_type": "execute_result"
    }
   ],
   "source": [
    "df['designation'].unique()"
   ]
  },
  {
   "cell_type": "code",
   "execution_count": 48,
   "metadata": {},
   "outputs": [],
   "source": [
    "df['designation'] = df['designation'].apply(normalize_designation_2)"
   ]
  },
  {
   "cell_type": "code",
   "execution_count": 49,
   "metadata": {},
   "outputs": [
    {
     "data": {
      "text/plain": [
       "array(['Executive', 'Senior Manager', 'AVP', 'Manager', 'VP'],\n",
       "      dtype=object)"
      ]
     },
     "execution_count": 49,
     "metadata": {},
     "output_type": "execute_result"
    }
   ],
   "source": [
    "df['designation'].unique()"
   ]
  },
  {
   "cell_type": "markdown",
   "metadata": {},
   "source": [
    "### MonthlyIncome -> income"
   ]
  },
  {
   "cell_type": "code",
   "execution_count": 50,
   "metadata": {},
   "outputs": [
    {
     "data": {
      "text/plain": [
       "array(['253905.0', '404475.0', '278145.0', ..., '317340.0', '527910.0',\n",
       "       '278190.0'], dtype=object)"
      ]
     },
     "execution_count": 50,
     "metadata": {},
     "output_type": "execute_result"
    }
   ],
   "source": [
    "df['MonthlyIncome'].unique()"
   ]
  },
  {
   "cell_type": "code",
   "execution_count": 51,
   "metadata": {},
   "outputs": [],
   "source": [
    "df['income'] = df['MonthlyIncome'].apply(normalize_monthly_income)"
   ]
  },
  {
   "cell_type": "code",
   "execution_count": 52,
   "metadata": {},
   "outputs": [
    {
     "data": {
      "text/plain": [
       "array([253905., 404475., 278145., ..., 317340., 527910., 278190.])"
      ]
     },
     "execution_count": 52,
     "metadata": {},
     "output_type": "execute_result"
    }
   ],
   "source": [
    "df['income'].unique()"
   ]
  },
  {
   "cell_type": "markdown",
   "metadata": {},
   "source": [
    "### customer_info -> info_1, info_2, info_3"
   ]
  },
  {
   "cell_type": "code",
   "execution_count": 53,
   "metadata": {},
   "outputs": [],
   "source": [
    "df[['info_1', 'info_2', 'info_3']] = df['customer_info'].apply(divide_customer_info)"
   ]
  },
  {
   "cell_type": "code",
   "execution_count": 54,
   "metadata": {},
   "outputs": [
    {
     "data": {
      "text/html": [
       "<div>\n",
       "<style scoped>\n",
       "    .dataframe tbody tr th:only-of-type {\n",
       "        vertical-align: middle;\n",
       "    }\n",
       "\n",
       "    .dataframe tbody tr th {\n",
       "        vertical-align: top;\n",
       "    }\n",
       "\n",
       "    .dataframe thead th {\n",
       "        text-align: right;\n",
       "    }\n",
       "</style>\n",
       "<table border=\"1\" class=\"dataframe\">\n",
       "  <thead>\n",
       "    <tr style=\"text-align: right;\">\n",
       "      <th></th>\n",
       "      <th>info_1</th>\n",
       "      <th>info_2</th>\n",
       "      <th>info_3</th>\n",
       "    </tr>\n",
       "  </thead>\n",
       "  <tbody>\n",
       "    <tr>\n",
       "      <th>0</th>\n",
       "      <td>未婚</td>\n",
       "      <td>車未所持</td>\n",
       "      <td>子供なし</td>\n",
       "    </tr>\n",
       "    <tr>\n",
       "      <th>1</th>\n",
       "      <td>離婚済み</td>\n",
       "      <td>車あり</td>\n",
       "      <td>子供無し</td>\n",
       "    </tr>\n",
       "    <tr>\n",
       "      <th>2</th>\n",
       "      <td>結婚済み</td>\n",
       "      <td>自動車未所有</td>\n",
       "      <td>子供なし</td>\n",
       "    </tr>\n",
       "    <tr>\n",
       "      <th>3</th>\n",
       "      <td>離婚済み</td>\n",
       "      <td>車所持</td>\n",
       "      <td>子供無し</td>\n",
       "    </tr>\n",
       "    <tr>\n",
       "      <th>4</th>\n",
       "      <td>独身</td>\n",
       "      <td>車所持</td>\n",
       "      <td>無子</td>\n",
       "    </tr>\n",
       "  </tbody>\n",
       "</table>\n",
       "</div>"
      ],
      "text/plain": [
       "  info_1  info_2 info_3\n",
       "0     未婚    車未所持   子供なし\n",
       "1   離婚済み     車あり   子供無し\n",
       "2   結婚済み  自動車未所有   子供なし\n",
       "3   離婚済み     車所持   子供無し\n",
       "4     独身     車所持     無子"
      ]
     },
     "execution_count": 54,
     "metadata": {},
     "output_type": "execute_result"
    }
   ],
   "source": [
    "df[['info_1', 'info_2', 'info_3']].head()"
   ]
  },
  {
   "cell_type": "code",
   "execution_count": 55,
   "metadata": {},
   "outputs": [
    {
     "name": "stdout",
     "output_type": "stream",
     "text": [
      "NuLL (info_1) :  0\n",
      "NuLL (info_2) :  0\n",
      "NuLL (info_3) :  0\n"
     ]
    }
   ],
   "source": [
    "print('NuLL (info_1) : ', df['info_1'].isna().sum())\n",
    "print('NuLL (info_2) : ', df['info_2'].isna().sum())\n",
    "print('NuLL (info_3) : ', df['info_3'].isna().sum())"
   ]
  },
  {
   "cell_type": "code",
   "execution_count": 56,
   "metadata": {},
   "outputs": [
    {
     "name": "stdout",
     "output_type": "stream",
     "text": [
      "info_1 unique :  ['未婚' '離婚済み' '結婚済み' '独身'] \n",
      "\n",
      "info_2 unique :  ['車未所持' '車あり' '自動車未所有' '車所持' '自家用車あり' '車保有' '車保有なし' '乗用車所持' '乗用車なし'\n",
      " '自動車所有' '自家用車なし' '車なし'] \n",
      "\n",
      "info_3 unique :  ['子供なし' '子供無し' '無子' '子供ゼロ' '非育児家庭' '子育て状況不明' '子の数不詳' '子供の数不明' 'こども1人' '1児'\n",
      " '子供1人' '子供有り(1人)' 'わからない' '子供有り' 'こども2人' '子供2人' '子供有り(2人)' 'こども3人' '子供3人'\n",
      " '不明' '2児' '3児' '子供有り(3人)']\n"
     ]
    }
   ],
   "source": [
    "print('info_1 unique : ', df['info_1'].unique(), '\\n')\n",
    "print('info_2 unique : ', df['info_2'].unique(), '\\n')\n",
    "print('info_3 unique : ', df['info_3'].unique())"
   ]
  },
  {
   "cell_type": "code",
   "execution_count": 57,
   "metadata": {},
   "outputs": [],
   "source": [
    "def normalize_info_3(info):\n",
    "    no_children = {'子供なし', '子供無し', '無子', '子供ゼロ', '非育児家庭', '子育て状況不明', '子の数不詳', '子供の数不明', 'わからない', '不明'}\n",
    "    one_child = {'こども1人', '1児', '子供1人', '子供有り(1人)', '子供有り'}\n",
    "    two_children = {'こども2人', '子供2人', '子供有り(2人)', '2児'}\n",
    "    three_children = {'こども3人', '子供3人', '子供有り(3人)', '3児'}\n",
    "    \n",
    "    if info in no_children:\n",
    "        return '0'\n",
    "    elif info in one_child:\n",
    "        return '1'\n",
    "    elif info in two_children:\n",
    "        return '2'\n",
    "    elif info in three_children:\n",
    "        return '3'\n",
    "    else:\n",
    "        return info"
   ]
  },
  {
   "cell_type": "code",
   "execution_count": 58,
   "metadata": {},
   "outputs": [],
   "source": [
    "df['info_1'] = df['info_1'].apply(normalize_info_1)\n",
    "df['info_2'] = df['info_2'].apply(normalize_info_2)\n",
    "df['info_3'] = df['info_3'].apply(normalize_info_3)"
   ]
  },
  {
   "cell_type": "code",
   "execution_count": 59,
   "metadata": {},
   "outputs": [
    {
     "name": "stdout",
     "output_type": "stream",
     "text": [
      "info_1 unique :  ['Single' 'Divorced' 'Married'] \n",
      "\n",
      "info_2 unique :  ['No Car' 'Has Car'] \n",
      "\n",
      "info_3 unique :  ['0' '1' '2' '3']\n"
     ]
    }
   ],
   "source": [
    "print('info_1 unique : ', df['info_1'].unique(), '\\n')\n",
    "print('info_2 unique : ', df['info_2'].unique(), '\\n')\n",
    "print('info_3 unique : ', df['info_3'].unique())"
   ]
  },
  {
   "cell_type": "markdown",
   "metadata": {},
   "source": [
    "### Confirm"
   ]
  },
  {
   "cell_type": "code",
   "execution_count": 60,
   "metadata": {},
   "outputs": [
    {
     "name": "stdout",
     "output_type": "stream",
     "text": [
      "gender\n",
      "['male' 'female'] \n",
      "\n",
      "product_pitched\n",
      "['Basic' 'Standard' 'Deluxe' 'Super Deluxe' 'King'] \n",
      "\n",
      "trip_per_year\n",
      "[ 5  2  4  1  8 24  3 20  7  6 16 12 32 28] \n",
      "\n",
      "designation\n",
      "['Executive' 'Senior Manager' 'AVP' 'Manager' 'VP'] \n",
      "\n",
      "info_1\n",
      "['Single' 'Divorced' 'Married'] \n",
      "\n",
      "info_2\n",
      "['No Car' 'Has Car'] \n",
      "\n",
      "info_3\n",
      "['0' '1' '2' '3'] \n",
      "\n"
     ]
    }
   ],
   "source": [
    "tmp = [\"gender\", \"product_pitched\", \"trip_per_year\", \"designation\", \"info_1\", \"info_2\", \"info_3\"]\n",
    "for column in tmp:\n",
    "    print(column)\n",
    "    print(df[column].unique(), \"\\n\")"
   ]
  },
  {
   "cell_type": "markdown",
   "metadata": {},
   "source": [
    "### Output CSV"
   ]
  },
  {
   "cell_type": "code",
   "execution_count": 61,
   "metadata": {},
   "outputs": [],
   "source": [
    "df = df.drop(columns=['Gender', 'ProductPitched', 'NumberOfTrips', 'Designation', 'customer_info','MonthlyIncome'])"
   ]
  },
  {
   "cell_type": "code",
   "execution_count": 62,
   "metadata": {},
   "outputs": [
    {
     "data": {
      "text/html": [
       "<div>\n",
       "<style scoped>\n",
       "    .dataframe tbody tr th:only-of-type {\n",
       "        vertical-align: middle;\n",
       "    }\n",
       "\n",
       "    .dataframe tbody tr th {\n",
       "        vertical-align: top;\n",
       "    }\n",
       "\n",
       "    .dataframe thead th {\n",
       "        text-align: right;\n",
       "    }\n",
       "</style>\n",
       "<table border=\"1\" class=\"dataframe\">\n",
       "  <thead>\n",
       "    <tr style=\"text-align: right;\">\n",
       "      <th></th>\n",
       "      <th>TypeofContact</th>\n",
       "      <th>CityTier</th>\n",
       "      <th>Occupation</th>\n",
       "      <th>NumberOfPersonVisiting</th>\n",
       "      <th>NumberOfFollowups</th>\n",
       "      <th>PreferredPropertyStar</th>\n",
       "      <th>Passport</th>\n",
       "      <th>PitchSatisfactionScore</th>\n",
       "      <th>ProdTaken</th>\n",
       "      <th>age</th>\n",
       "      <th>duration</th>\n",
       "      <th>gender</th>\n",
       "      <th>product_pitched</th>\n",
       "      <th>trip_per_year</th>\n",
       "      <th>designation</th>\n",
       "      <th>income</th>\n",
       "      <th>info_1</th>\n",
       "      <th>info_2</th>\n",
       "      <th>info_3</th>\n",
       "    </tr>\n",
       "  </thead>\n",
       "  <tbody>\n",
       "    <tr>\n",
       "      <th>0</th>\n",
       "      <td>Self Enquiry</td>\n",
       "      <td>2</td>\n",
       "      <td>Large Business</td>\n",
       "      <td>1.0</td>\n",
       "      <td>4.0</td>\n",
       "      <td>3.0</td>\n",
       "      <td>1</td>\n",
       "      <td>4</td>\n",
       "      <td>1</td>\n",
       "      <td>50</td>\n",
       "      <td>900.0</td>\n",
       "      <td>male</td>\n",
       "      <td>Basic</td>\n",
       "      <td>5</td>\n",
       "      <td>Executive</td>\n",
       "      <td>253905.0</td>\n",
       "      <td>Single</td>\n",
       "      <td>No Car</td>\n",
       "      <td>0</td>\n",
       "    </tr>\n",
       "    <tr>\n",
       "      <th>1</th>\n",
       "      <td>Company Invited</td>\n",
       "      <td>1</td>\n",
       "      <td>Salaried</td>\n",
       "      <td>1.0</td>\n",
       "      <td>4.0</td>\n",
       "      <td>3.0</td>\n",
       "      <td>1</td>\n",
       "      <td>4</td>\n",
       "      <td>0</td>\n",
       "      <td>56</td>\n",
       "      <td>840.0</td>\n",
       "      <td>male</td>\n",
       "      <td>Standard</td>\n",
       "      <td>2</td>\n",
       "      <td>Senior Manager</td>\n",
       "      <td>404475.0</td>\n",
       "      <td>Divorced</td>\n",
       "      <td>Has Car</td>\n",
       "      <td>0</td>\n",
       "    </tr>\n",
       "    <tr>\n",
       "      <th>2</th>\n",
       "      <td>Self Enquiry</td>\n",
       "      <td>1</td>\n",
       "      <td>Large Business</td>\n",
       "      <td>1.0</td>\n",
       "      <td>3.0</td>\n",
       "      <td>3.0</td>\n",
       "      <td>0</td>\n",
       "      <td>4</td>\n",
       "      <td>1</td>\n",
       "      <td>38</td>\n",
       "      <td>600.0</td>\n",
       "      <td>female</td>\n",
       "      <td>Basic</td>\n",
       "      <td>4</td>\n",
       "      <td>Executive</td>\n",
       "      <td>278145.0</td>\n",
       "      <td>Married</td>\n",
       "      <td>No Car</td>\n",
       "      <td>0</td>\n",
       "    </tr>\n",
       "    <tr>\n",
       "      <th>3</th>\n",
       "      <td>Self Enquiry</td>\n",
       "      <td>2</td>\n",
       "      <td>Small Business</td>\n",
       "      <td>1.0</td>\n",
       "      <td>3.0</td>\n",
       "      <td>4.0</td>\n",
       "      <td>0</td>\n",
       "      <td>5</td>\n",
       "      <td>0</td>\n",
       "      <td>37</td>\n",
       "      <td>1080.0</td>\n",
       "      <td>female</td>\n",
       "      <td>Standard</td>\n",
       "      <td>1</td>\n",
       "      <td>Senior Manager</td>\n",
       "      <td>326805.0</td>\n",
       "      <td>Divorced</td>\n",
       "      <td>Has Car</td>\n",
       "      <td>0</td>\n",
       "    </tr>\n",
       "    <tr>\n",
       "      <th>4</th>\n",
       "      <td>Company Invited</td>\n",
       "      <td>3</td>\n",
       "      <td>Small Business</td>\n",
       "      <td>1.0</td>\n",
       "      <td>3.0</td>\n",
       "      <td>4.0</td>\n",
       "      <td>0</td>\n",
       "      <td>4</td>\n",
       "      <td>1</td>\n",
       "      <td>48</td>\n",
       "      <td>1020.0</td>\n",
       "      <td>female</td>\n",
       "      <td>Basic</td>\n",
       "      <td>4</td>\n",
       "      <td>Executive</td>\n",
       "      <td>258435.0</td>\n",
       "      <td>Single</td>\n",
       "      <td>Has Car</td>\n",
       "      <td>0</td>\n",
       "    </tr>\n",
       "  </tbody>\n",
       "</table>\n",
       "</div>"
      ],
      "text/plain": [
       "     TypeofContact  CityTier      Occupation  NumberOfPersonVisiting  \\\n",
       "0     Self Enquiry         2  Large Business                     1.0   \n",
       "1  Company Invited         1        Salaried                     1.0   \n",
       "2     Self Enquiry         1  Large Business                     1.0   \n",
       "3     Self Enquiry         2  Small Business                     1.0   \n",
       "4  Company Invited         3  Small Business                     1.0   \n",
       "\n",
       "   NumberOfFollowups  PreferredPropertyStar  Passport  PitchSatisfactionScore  \\\n",
       "0                4.0                    3.0         1                       4   \n",
       "1                4.0                    3.0         1                       4   \n",
       "2                3.0                    3.0         0                       4   \n",
       "3                3.0                    4.0         0                       5   \n",
       "4                3.0                    4.0         0                       4   \n",
       "\n",
       "   ProdTaken  age  duration  gender product_pitched  trip_per_year  \\\n",
       "0          1   50     900.0    male           Basic              5   \n",
       "1          0   56     840.0    male        Standard              2   \n",
       "2          1   38     600.0  female           Basic              4   \n",
       "3          0   37    1080.0  female        Standard              1   \n",
       "4          1   48    1020.0  female           Basic              4   \n",
       "\n",
       "      designation    income    info_1   info_2 info_3  \n",
       "0       Executive  253905.0    Single   No Car      0  \n",
       "1  Senior Manager  404475.0  Divorced  Has Car      0  \n",
       "2       Executive  278145.0   Married   No Car      0  \n",
       "3  Senior Manager  326805.0  Divorced  Has Car      0  \n",
       "4       Executive  258435.0    Single  Has Car      0  "
      ]
     },
     "execution_count": 62,
     "metadata": {},
     "output_type": "execute_result"
    }
   ],
   "source": [
    "df.head()"
   ]
  },
  {
   "cell_type": "code",
   "execution_count": 63,
   "metadata": {},
   "outputs": [],
   "source": [
    "df.to_csv('data/train_normalized.csv', index=False)"
   ]
  },
  {
   "cell_type": "markdown",
   "metadata": {},
   "source": [
    "## Data Type"
   ]
  },
  {
   "cell_type": "code",
   "execution_count": 64,
   "metadata": {},
   "outputs": [],
   "source": [
    "df = pd.read_csv('data/train_normalized.csv')"
   ]
  },
  {
   "cell_type": "code",
   "execution_count": 65,
   "metadata": {},
   "outputs": [
    {
     "data": {
      "text/html": [
       "<div>\n",
       "<style scoped>\n",
       "    .dataframe tbody tr th:only-of-type {\n",
       "        vertical-align: middle;\n",
       "    }\n",
       "\n",
       "    .dataframe tbody tr th {\n",
       "        vertical-align: top;\n",
       "    }\n",
       "\n",
       "    .dataframe thead th {\n",
       "        text-align: right;\n",
       "    }\n",
       "</style>\n",
       "<table border=\"1\" class=\"dataframe\">\n",
       "  <thead>\n",
       "    <tr style=\"text-align: right;\">\n",
       "      <th></th>\n",
       "      <th>TypeofContact</th>\n",
       "      <th>CityTier</th>\n",
       "      <th>Occupation</th>\n",
       "      <th>NumberOfPersonVisiting</th>\n",
       "      <th>NumberOfFollowups</th>\n",
       "      <th>PreferredPropertyStar</th>\n",
       "      <th>Passport</th>\n",
       "      <th>PitchSatisfactionScore</th>\n",
       "      <th>ProdTaken</th>\n",
       "      <th>age</th>\n",
       "      <th>duration</th>\n",
       "      <th>gender</th>\n",
       "      <th>product_pitched</th>\n",
       "      <th>trip_per_year</th>\n",
       "      <th>designation</th>\n",
       "      <th>income</th>\n",
       "      <th>info_1</th>\n",
       "      <th>info_2</th>\n",
       "      <th>info_3</th>\n",
       "    </tr>\n",
       "  </thead>\n",
       "  <tbody>\n",
       "    <tr>\n",
       "      <th>0</th>\n",
       "      <td>Self Enquiry</td>\n",
       "      <td>2</td>\n",
       "      <td>Large Business</td>\n",
       "      <td>1.0</td>\n",
       "      <td>4.0</td>\n",
       "      <td>3.0</td>\n",
       "      <td>1</td>\n",
       "      <td>4</td>\n",
       "      <td>1</td>\n",
       "      <td>50</td>\n",
       "      <td>900.0</td>\n",
       "      <td>male</td>\n",
       "      <td>Basic</td>\n",
       "      <td>5</td>\n",
       "      <td>Executive</td>\n",
       "      <td>253905.0</td>\n",
       "      <td>Single</td>\n",
       "      <td>No Car</td>\n",
       "      <td>0</td>\n",
       "    </tr>\n",
       "    <tr>\n",
       "      <th>1</th>\n",
       "      <td>Company Invited</td>\n",
       "      <td>1</td>\n",
       "      <td>Salaried</td>\n",
       "      <td>1.0</td>\n",
       "      <td>4.0</td>\n",
       "      <td>3.0</td>\n",
       "      <td>1</td>\n",
       "      <td>4</td>\n",
       "      <td>0</td>\n",
       "      <td>56</td>\n",
       "      <td>840.0</td>\n",
       "      <td>male</td>\n",
       "      <td>Standard</td>\n",
       "      <td>2</td>\n",
       "      <td>Senior Manager</td>\n",
       "      <td>404475.0</td>\n",
       "      <td>Divorced</td>\n",
       "      <td>Has Car</td>\n",
       "      <td>0</td>\n",
       "    </tr>\n",
       "    <tr>\n",
       "      <th>2</th>\n",
       "      <td>Self Enquiry</td>\n",
       "      <td>1</td>\n",
       "      <td>Large Business</td>\n",
       "      <td>1.0</td>\n",
       "      <td>3.0</td>\n",
       "      <td>3.0</td>\n",
       "      <td>0</td>\n",
       "      <td>4</td>\n",
       "      <td>1</td>\n",
       "      <td>38</td>\n",
       "      <td>600.0</td>\n",
       "      <td>female</td>\n",
       "      <td>Basic</td>\n",
       "      <td>4</td>\n",
       "      <td>Executive</td>\n",
       "      <td>278145.0</td>\n",
       "      <td>Married</td>\n",
       "      <td>No Car</td>\n",
       "      <td>0</td>\n",
       "    </tr>\n",
       "    <tr>\n",
       "      <th>3</th>\n",
       "      <td>Self Enquiry</td>\n",
       "      <td>2</td>\n",
       "      <td>Small Business</td>\n",
       "      <td>1.0</td>\n",
       "      <td>3.0</td>\n",
       "      <td>4.0</td>\n",
       "      <td>0</td>\n",
       "      <td>5</td>\n",
       "      <td>0</td>\n",
       "      <td>37</td>\n",
       "      <td>1080.0</td>\n",
       "      <td>female</td>\n",
       "      <td>Standard</td>\n",
       "      <td>1</td>\n",
       "      <td>Senior Manager</td>\n",
       "      <td>326805.0</td>\n",
       "      <td>Divorced</td>\n",
       "      <td>Has Car</td>\n",
       "      <td>0</td>\n",
       "    </tr>\n",
       "    <tr>\n",
       "      <th>4</th>\n",
       "      <td>Company Invited</td>\n",
       "      <td>3</td>\n",
       "      <td>Small Business</td>\n",
       "      <td>1.0</td>\n",
       "      <td>3.0</td>\n",
       "      <td>4.0</td>\n",
       "      <td>0</td>\n",
       "      <td>4</td>\n",
       "      <td>1</td>\n",
       "      <td>48</td>\n",
       "      <td>1020.0</td>\n",
       "      <td>female</td>\n",
       "      <td>Basic</td>\n",
       "      <td>4</td>\n",
       "      <td>Executive</td>\n",
       "      <td>258435.0</td>\n",
       "      <td>Single</td>\n",
       "      <td>Has Car</td>\n",
       "      <td>0</td>\n",
       "    </tr>\n",
       "  </tbody>\n",
       "</table>\n",
       "</div>"
      ],
      "text/plain": [
       "     TypeofContact  CityTier      Occupation  NumberOfPersonVisiting  \\\n",
       "0     Self Enquiry         2  Large Business                     1.0   \n",
       "1  Company Invited         1        Salaried                     1.0   \n",
       "2     Self Enquiry         1  Large Business                     1.0   \n",
       "3     Self Enquiry         2  Small Business                     1.0   \n",
       "4  Company Invited         3  Small Business                     1.0   \n",
       "\n",
       "   NumberOfFollowups  PreferredPropertyStar  Passport  PitchSatisfactionScore  \\\n",
       "0                4.0                    3.0         1                       4   \n",
       "1                4.0                    3.0         1                       4   \n",
       "2                3.0                    3.0         0                       4   \n",
       "3                3.0                    4.0         0                       5   \n",
       "4                3.0                    4.0         0                       4   \n",
       "\n",
       "   ProdTaken  age  duration  gender product_pitched  trip_per_year  \\\n",
       "0          1   50     900.0    male           Basic              5   \n",
       "1          0   56     840.0    male        Standard              2   \n",
       "2          1   38     600.0  female           Basic              4   \n",
       "3          0   37    1080.0  female        Standard              1   \n",
       "4          1   48    1020.0  female           Basic              4   \n",
       "\n",
       "      designation    income    info_1   info_2  info_3  \n",
       "0       Executive  253905.0    Single   No Car       0  \n",
       "1  Senior Manager  404475.0  Divorced  Has Car       0  \n",
       "2       Executive  278145.0   Married   No Car       0  \n",
       "3  Senior Manager  326805.0  Divorced  Has Car       0  \n",
       "4       Executive  258435.0    Single  Has Car       0  "
      ]
     },
     "execution_count": 65,
     "metadata": {},
     "output_type": "execute_result"
    }
   ],
   "source": [
    "df.head()"
   ]
  },
  {
   "cell_type": "code",
   "execution_count": 66,
   "metadata": {},
   "outputs": [
    {
     "name": "stdout",
     "output_type": "stream",
     "text": [
      "<class 'pandas.core.frame.DataFrame'>\n",
      "RangeIndex: 3373 entries, 0 to 3372\n",
      "Data columns (total 19 columns):\n",
      " #   Column                  Non-Null Count  Dtype  \n",
      "---  ------                  --------------  -----  \n",
      " 0   TypeofContact           3373 non-null   object \n",
      " 1   CityTier                3373 non-null   int64  \n",
      " 2   Occupation              3373 non-null   object \n",
      " 3   NumberOfPersonVisiting  3373 non-null   float64\n",
      " 4   NumberOfFollowups       3373 non-null   float64\n",
      " 5   PreferredPropertyStar   3373 non-null   float64\n",
      " 6   Passport                3373 non-null   int64  \n",
      " 7   PitchSatisfactionScore  3373 non-null   int64  \n",
      " 8   ProdTaken               3373 non-null   int64  \n",
      " 9   age                     3373 non-null   int64  \n",
      " 10  duration                3373 non-null   float64\n",
      " 11  gender                  3373 non-null   object \n",
      " 12  product_pitched         3373 non-null   object \n",
      " 13  trip_per_year           3373 non-null   int64  \n",
      " 14  designation             3373 non-null   object \n",
      " 15  income                  3373 non-null   float64\n",
      " 16  info_1                  3373 non-null   object \n",
      " 17  info_2                  3373 non-null   object \n",
      " 18  info_3                  3373 non-null   int64  \n",
      "dtypes: float64(5), int64(7), object(7)\n",
      "memory usage: 500.8+ KB\n"
     ]
    }
   ],
   "source": [
    "df.info()"
   ]
  },
  {
   "cell_type": "code",
   "execution_count": 67,
   "metadata": {},
   "outputs": [],
   "source": [
    "# not necessary to convert dtypes\n",
    "# [CityTier, Passport, age, duration, trip_per_year]\n",
    "int_columns = ['NumberOfPersonVisiting', 'NumberOfFollowups', 'PreferredPropertyStar']\n",
    "category_columns = ['TypeofContact', 'Occupation', 'gender', 'product_pitched', 'designation', 'info_1', 'info_2', 'info_3']\n",
    "\n",
    "for col in int_columns:\n",
    "    df[col] = df[col].astype('int')\n",
    "\n",
    "for col in category_columns:\n",
    "    df[col] = df[col].astype('category')"
   ]
  },
  {
   "cell_type": "code",
   "execution_count": 68,
   "metadata": {},
   "outputs": [
    {
     "name": "stdout",
     "output_type": "stream",
     "text": [
      "<class 'pandas.core.frame.DataFrame'>\n",
      "RangeIndex: 3373 entries, 0 to 3372\n",
      "Data columns (total 19 columns):\n",
      " #   Column                  Non-Null Count  Dtype   \n",
      "---  ------                  --------------  -----   \n",
      " 0   TypeofContact           3373 non-null   category\n",
      " 1   CityTier                3373 non-null   int64   \n",
      " 2   Occupation              3373 non-null   category\n",
      " 3   NumberOfPersonVisiting  3373 non-null   int32   \n",
      " 4   NumberOfFollowups       3373 non-null   int32   \n",
      " 5   PreferredPropertyStar   3373 non-null   int32   \n",
      " 6   Passport                3373 non-null   int64   \n",
      " 7   PitchSatisfactionScore  3373 non-null   int64   \n",
      " 8   ProdTaken               3373 non-null   int64   \n",
      " 9   age                     3373 non-null   int64   \n",
      " 10  duration                3373 non-null   float64 \n",
      " 11  gender                  3373 non-null   category\n",
      " 12  product_pitched         3373 non-null   category\n",
      " 13  trip_per_year           3373 non-null   int64   \n",
      " 14  designation             3373 non-null   category\n",
      " 15  income                  3373 non-null   float64 \n",
      " 16  info_1                  3373 non-null   category\n",
      " 17  info_2                  3373 non-null   category\n",
      " 18  info_3                  3373 non-null   category\n",
      "dtypes: category(8), float64(2), int32(3), int64(6)\n",
      "memory usage: 278.1 KB\n"
     ]
    }
   ],
   "source": [
    "df.info()"
   ]
  },
  {
   "cell_type": "code",
   "execution_count": 69,
   "metadata": {},
   "outputs": [],
   "source": [
    "df.to_csv('data/train_categorized.csv', index=False)"
   ]
  },
  {
   "cell_type": "markdown",
   "metadata": {},
   "source": [
    "## One-Hot-Encoding"
   ]
  },
  {
   "cell_type": "code",
   "execution_count": 5,
   "metadata": {},
   "outputs": [],
   "source": [
    "df = pd.read_csv('data/train_categorized.csv')\n",
    "\n",
    "category_columns = ['TypeofContact', 'Occupation', 'gender', 'product_pitched', 'designation', 'info_1', 'info_2', 'info_3']\n",
    "for col in category_columns:\n",
    "    df[col] = df[col].astype('category')"
   ]
  },
  {
   "cell_type": "code",
   "execution_count": 76,
   "metadata": {},
   "outputs": [
    {
     "name": "stdout",
     "output_type": "stream",
     "text": [
      "<class 'pandas.core.frame.DataFrame'>\n",
      "RangeIndex: 3373 entries, 0 to 3372\n",
      "Data columns (total 19 columns):\n",
      " #   Column                  Non-Null Count  Dtype   \n",
      "---  ------                  --------------  -----   \n",
      " 0   TypeofContact           3373 non-null   category\n",
      " 1   CityTier                3373 non-null   int64   \n",
      " 2   Occupation              3373 non-null   category\n",
      " 3   NumberOfPersonVisiting  3373 non-null   int64   \n",
      " 4   NumberOfFollowups       3373 non-null   int64   \n",
      " 5   PreferredPropertyStar   3373 non-null   int64   \n",
      " 6   Passport                3373 non-null   int64   \n",
      " 7   PitchSatisfactionScore  3373 non-null   int64   \n",
      " 8   ProdTaken               3373 non-null   int64   \n",
      " 9   age                     3373 non-null   int64   \n",
      " 10  duration                3373 non-null   float64 \n",
      " 11  gender                  3373 non-null   category\n",
      " 12  product_pitched         3373 non-null   category\n",
      " 13  trip_per_year           3373 non-null   int64   \n",
      " 14  designation             3373 non-null   category\n",
      " 15  income                  3373 non-null   float64 \n",
      " 16  info_1                  3373 non-null   category\n",
      " 17  info_2                  3373 non-null   category\n",
      " 18  info_3                  3373 non-null   category\n",
      "dtypes: category(8), float64(2), int64(9)\n",
      "memory usage: 317.6 KB\n"
     ]
    }
   ],
   "source": [
    "df.info()"
   ]
  },
  {
   "cell_type": "code",
   "execution_count": 77,
   "metadata": {},
   "outputs": [
    {
     "data": {
      "text/html": [
       "<div>\n",
       "<style scoped>\n",
       "    .dataframe tbody tr th:only-of-type {\n",
       "        vertical-align: middle;\n",
       "    }\n",
       "\n",
       "    .dataframe tbody tr th {\n",
       "        vertical-align: top;\n",
       "    }\n",
       "\n",
       "    .dataframe thead th {\n",
       "        text-align: right;\n",
       "    }\n",
       "</style>\n",
       "<table border=\"1\" class=\"dataframe\">\n",
       "  <thead>\n",
       "    <tr style=\"text-align: right;\">\n",
       "      <th></th>\n",
       "      <th>CityTier</th>\n",
       "      <th>NumberOfPersonVisiting</th>\n",
       "      <th>NumberOfFollowups</th>\n",
       "      <th>PreferredPropertyStar</th>\n",
       "      <th>Passport</th>\n",
       "      <th>PitchSatisfactionScore</th>\n",
       "      <th>ProdTaken</th>\n",
       "      <th>age</th>\n",
       "      <th>duration</th>\n",
       "      <th>trip_per_year</th>\n",
       "      <th>income</th>\n",
       "    </tr>\n",
       "  </thead>\n",
       "  <tbody>\n",
       "    <tr>\n",
       "      <th>count</th>\n",
       "      <td>3373.000000</td>\n",
       "      <td>3373.000000</td>\n",
       "      <td>3373.000000</td>\n",
       "      <td>3373.000000</td>\n",
       "      <td>3373.000000</td>\n",
       "      <td>3373.00000</td>\n",
       "      <td>3373.000000</td>\n",
       "      <td>3373.000000</td>\n",
       "      <td>3373.000000</td>\n",
       "      <td>3373.000000</td>\n",
       "      <td>3373.000000</td>\n",
       "    </tr>\n",
       "    <tr>\n",
       "      <th>mean</th>\n",
       "      <td>1.702639</td>\n",
       "      <td>2.391936</td>\n",
       "      <td>7.781500</td>\n",
       "      <td>3.446190</td>\n",
       "      <td>0.104655</td>\n",
       "      <td>2.50756</td>\n",
       "      <td>0.143492</td>\n",
       "      <td>38.839016</td>\n",
       "      <td>857.681589</td>\n",
       "      <td>4.572487</td>\n",
       "      <td>355090.388378</td>\n",
       "    </tr>\n",
       "    <tr>\n",
       "      <th>std</th>\n",
       "      <td>0.671118</td>\n",
       "      <td>0.728561</td>\n",
       "      <td>39.658185</td>\n",
       "      <td>0.600386</td>\n",
       "      <td>0.306153</td>\n",
       "      <td>1.11299</td>\n",
       "      <td>0.350626</td>\n",
       "      <td>9.905478</td>\n",
       "      <td>411.075850</td>\n",
       "      <td>4.645995</td>\n",
       "      <td>74451.007142</td>\n",
       "    </tr>\n",
       "    <tr>\n",
       "      <th>min</th>\n",
       "      <td>1.000000</td>\n",
       "      <td>1.000000</td>\n",
       "      <td>1.000000</td>\n",
       "      <td>3.000000</td>\n",
       "      <td>0.000000</td>\n",
       "      <td>1.00000</td>\n",
       "      <td>0.000000</td>\n",
       "      <td>10.000000</td>\n",
       "      <td>240.000000</td>\n",
       "      <td>1.000000</td>\n",
       "      <td>200000.000000</td>\n",
       "    </tr>\n",
       "    <tr>\n",
       "      <th>25%</th>\n",
       "      <td>1.000000</td>\n",
       "      <td>2.000000</td>\n",
       "      <td>3.000000</td>\n",
       "      <td>3.000000</td>\n",
       "      <td>0.000000</td>\n",
       "      <td>2.00000</td>\n",
       "      <td>0.000000</td>\n",
       "      <td>31.000000</td>\n",
       "      <td>540.000000</td>\n",
       "      <td>2.000000</td>\n",
       "      <td>300000.000000</td>\n",
       "    </tr>\n",
       "    <tr>\n",
       "      <th>50%</th>\n",
       "      <td>2.000000</td>\n",
       "      <td>2.000000</td>\n",
       "      <td>4.000000</td>\n",
       "      <td>3.000000</td>\n",
       "      <td>0.000000</td>\n",
       "      <td>2.00000</td>\n",
       "      <td>0.000000</td>\n",
       "      <td>38.000000</td>\n",
       "      <td>780.000000</td>\n",
       "      <td>3.000000</td>\n",
       "      <td>343185.000000</td>\n",
       "    </tr>\n",
       "    <tr>\n",
       "      <th>75%</th>\n",
       "      <td>2.000000</td>\n",
       "      <td>3.000000</td>\n",
       "      <td>4.000000</td>\n",
       "      <td>4.000000</td>\n",
       "      <td>0.000000</td>\n",
       "      <td>3.00000</td>\n",
       "      <td>0.000000</td>\n",
       "      <td>47.000000</td>\n",
       "      <td>960.000000</td>\n",
       "      <td>5.000000</td>\n",
       "      <td>400000.000000</td>\n",
       "    </tr>\n",
       "    <tr>\n",
       "      <th>max</th>\n",
       "      <td>3.000000</td>\n",
       "      <td>4.000000</td>\n",
       "      <td>600.000000</td>\n",
       "      <td>5.000000</td>\n",
       "      <td>1.000000</td>\n",
       "      <td>5.00000</td>\n",
       "      <td>1.000000</td>\n",
       "      <td>61.000000</td>\n",
       "      <td>2160.000000</td>\n",
       "      <td>32.000000</td>\n",
       "      <td>600000.000000</td>\n",
       "    </tr>\n",
       "  </tbody>\n",
       "</table>\n",
       "</div>"
      ],
      "text/plain": [
       "          CityTier  NumberOfPersonVisiting  NumberOfFollowups  \\\n",
       "count  3373.000000             3373.000000        3373.000000   \n",
       "mean      1.702639                2.391936           7.781500   \n",
       "std       0.671118                0.728561          39.658185   \n",
       "min       1.000000                1.000000           1.000000   \n",
       "25%       1.000000                2.000000           3.000000   \n",
       "50%       2.000000                2.000000           4.000000   \n",
       "75%       2.000000                3.000000           4.000000   \n",
       "max       3.000000                4.000000         600.000000   \n",
       "\n",
       "       PreferredPropertyStar     Passport  PitchSatisfactionScore  \\\n",
       "count            3373.000000  3373.000000              3373.00000   \n",
       "mean                3.446190     0.104655                 2.50756   \n",
       "std                 0.600386     0.306153                 1.11299   \n",
       "min                 3.000000     0.000000                 1.00000   \n",
       "25%                 3.000000     0.000000                 2.00000   \n",
       "50%                 3.000000     0.000000                 2.00000   \n",
       "75%                 4.000000     0.000000                 3.00000   \n",
       "max                 5.000000     1.000000                 5.00000   \n",
       "\n",
       "         ProdTaken          age     duration  trip_per_year         income  \n",
       "count  3373.000000  3373.000000  3373.000000    3373.000000    3373.000000  \n",
       "mean      0.143492    38.839016   857.681589       4.572487  355090.388378  \n",
       "std       0.350626     9.905478   411.075850       4.645995   74451.007142  \n",
       "min       0.000000    10.000000   240.000000       1.000000  200000.000000  \n",
       "25%       0.000000    31.000000   540.000000       2.000000  300000.000000  \n",
       "50%       0.000000    38.000000   780.000000       3.000000  343185.000000  \n",
       "75%       0.000000    47.000000   960.000000       5.000000  400000.000000  \n",
       "max       1.000000    61.000000  2160.000000      32.000000  600000.000000  "
      ]
     },
     "execution_count": 77,
     "metadata": {},
     "output_type": "execute_result"
    }
   ],
   "source": [
    "df.describe()"
   ]
  },
  {
   "cell_type": "code",
   "execution_count": 82,
   "metadata": {},
   "outputs": [
    {
     "name": "stdout",
     "output_type": "stream",
     "text": [
      "19\n",
      "Index(['TypeofContact', 'CityTier', 'Occupation', 'NumberOfPersonVisiting',\n",
      "       'NumberOfFollowups', 'PreferredPropertyStar', 'Passport',\n",
      "       'PitchSatisfactionScore', 'ProdTaken', 'age', 'duration', 'gender',\n",
      "       'product_pitched', 'trip_per_year', 'designation', 'income', 'info_1',\n",
      "       'info_2', 'info_3'],\n",
      "      dtype='object')\n"
     ]
    }
   ],
   "source": [
    "print(len(df.columns))\n",
    "print(df.columns)"
   ]
  },
  {
   "cell_type": "code",
   "execution_count": 10,
   "metadata": {},
   "outputs": [
    {
     "name": "stdout",
     "output_type": "stream",
     "text": [
      "37\n",
      "Index(['CityTier', 'NumberOfPersonVisiting', 'NumberOfFollowups',\n",
      "       'PreferredPropertyStar', 'Passport', 'PitchSatisfactionScore',\n",
      "       'ProdTaken', 'age', 'duration', 'trip_per_year', 'income',\n",
      "       'TypeofContact_Company Invited', 'TypeofContact_Self Enquiry',\n",
      "       'Occupation_Large Business', 'Occupation_Salaried',\n",
      "       'Occupation_Small Business', 'gender_female', 'gender_male',\n",
      "       'product_pitched_Basic', 'product_pitched_Deluxe',\n",
      "       'product_pitched_King', 'product_pitched_Standard',\n",
      "       'product_pitched_Super Deluxe', 'designation_AVP',\n",
      "       'designation_Executive', 'designation_Manager',\n",
      "       'designation_Senior Manager', 'designation_VP', 'info_1_Divorced',\n",
      "       'info_1_Married', 'info_1_Single', 'info_2_Has Car', 'info_2_No Car',\n",
      "       'info_3_0', 'info_3_1', 'info_3_2', 'info_3_3'],\n",
      "      dtype='object')\n"
     ]
    }
   ],
   "source": [
    "df_one_hot_encoded = pd.get_dummies(df, dtype=int)\n",
    "\n",
    "print(len(df_one_hot_encoded.columns))\n",
    "print(df_one_hot_encoded.columns)"
   ]
  },
  {
   "cell_type": "code",
   "execution_count": 11,
   "metadata": {},
   "outputs": [],
   "source": [
    "# カテゴリ変数の一部を削除\n",
    "drop_list = [\n",
    "    'TypeofContact_Company Invited',  # 「Self Enquiry」を基準とする\n",
    "    'Occupation_Salaried',  # 他の職業タイプと比較する基準\n",
    "    'gender_male',  # 「female」を基準とする\n",
    "    'product_pitched_Basic',  # 他のプロダクトと比較する基準\n",
    "    'designation_Executive',  # 他の指定と比較する基準\n",
    "    'info_1_Single',  # 他の婚姻状態と比較する基準\n",
    "    'info_2_No Car',  # 「Has Car」を基準とする\n",
    "    'info_3_0'  # 子供の数を比較する基準\n",
    "]\n",
    "\n",
    "df_one_hot_encoded = df_one_hot_encoded.drop(columns=drop_list)"
   ]
  },
  {
   "cell_type": "code",
   "execution_count": 12,
   "metadata": {},
   "outputs": [
    {
     "name": "stdout",
     "output_type": "stream",
     "text": [
      "29\n",
      "Index(['CityTier', 'NumberOfPersonVisiting', 'NumberOfFollowups',\n",
      "       'PreferredPropertyStar', 'Passport', 'PitchSatisfactionScore',\n",
      "       'ProdTaken', 'age', 'duration', 'trip_per_year', 'income',\n",
      "       'TypeofContact_Self Enquiry', 'Occupation_Large Business',\n",
      "       'Occupation_Small Business', 'gender_female', 'product_pitched_Deluxe',\n",
      "       'product_pitched_King', 'product_pitched_Standard',\n",
      "       'product_pitched_Super Deluxe', 'designation_AVP',\n",
      "       'designation_Manager', 'designation_Senior Manager', 'designation_VP',\n",
      "       'info_1_Divorced', 'info_1_Married', 'info_2_Has Car', 'info_3_1',\n",
      "       'info_3_2', 'info_3_3'],\n",
      "      dtype='object')\n"
     ]
    }
   ],
   "source": [
    "print(len(df_one_hot_encoded.columns))\n",
    "print(df_one_hot_encoded.columns)"
   ]
  },
  {
   "cell_type": "code",
   "execution_count": 14,
   "metadata": {},
   "outputs": [],
   "source": [
    "df_one_hot_encoded.to_csv('data/train_encoded.csv', index=False)"
   ]
  },
  {
   "cell_type": "markdown",
   "metadata": {},
   "source": [
    "## Scaling"
   ]
  },
  {
   "cell_type": "code",
   "execution_count": null,
   "metadata": {},
   "outputs": [],
   "source": []
  }
 ],
 "metadata": {
  "kernelspec": {
   "display_name": "competition",
   "language": "python",
   "name": "python3"
  },
  "language_info": {
   "codemirror_mode": {
    "name": "ipython",
    "version": 3
   },
   "file_extension": ".py",
   "mimetype": "text/x-python",
   "name": "python",
   "nbconvert_exporter": "python",
   "pygments_lexer": "ipython3",
   "version": "3.12.4"
  }
 },
 "nbformat": 4,
 "nbformat_minor": 2
}
