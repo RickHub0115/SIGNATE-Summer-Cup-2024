{
 "cells": [
  {
   "cell_type": "code",
   "execution_count": 1,
   "metadata": {},
   "outputs": [],
   "source": [
    "import os\n",
    "os.chdir(\"../\")"
   ]
  },
  {
   "cell_type": "code",
   "execution_count": 2,
   "metadata": {},
   "outputs": [],
   "source": [
    "import pandas as pd"
   ]
  },
  {
   "cell_type": "code",
   "execution_count": 5,
   "metadata": {},
   "outputs": [],
   "source": [
    "from scr.util import *"
   ]
  },
  {
   "cell_type": "markdown",
   "metadata": {},
   "source": [
    "# Base Infomation"
   ]
  },
  {
   "cell_type": "code",
   "execution_count": 6,
   "metadata": {},
   "outputs": [],
   "source": [
    "df = pd.read_csv(\"data/train.csv\")"
   ]
  },
  {
   "cell_type": "code",
   "execution_count": 4,
   "metadata": {},
   "outputs": [
    {
     "data": {
      "text/html": [
       "<div>\n",
       "<style scoped>\n",
       "    .dataframe tbody tr th:only-of-type {\n",
       "        vertical-align: middle;\n",
       "    }\n",
       "\n",
       "    .dataframe tbody tr th {\n",
       "        vertical-align: top;\n",
       "    }\n",
       "\n",
       "    .dataframe thead th {\n",
       "        text-align: right;\n",
       "    }\n",
       "</style>\n",
       "<table border=\"1\" class=\"dataframe\">\n",
       "  <thead>\n",
       "    <tr style=\"text-align: right;\">\n",
       "      <th></th>\n",
       "      <th>id</th>\n",
       "      <th>Age</th>\n",
       "      <th>TypeofContact</th>\n",
       "      <th>CityTier</th>\n",
       "      <th>DurationOfPitch</th>\n",
       "      <th>Occupation</th>\n",
       "      <th>Gender</th>\n",
       "      <th>NumberOfPersonVisiting</th>\n",
       "      <th>NumberOfFollowups</th>\n",
       "      <th>ProductPitched</th>\n",
       "      <th>PreferredPropertyStar</th>\n",
       "      <th>NumberOfTrips</th>\n",
       "      <th>Passport</th>\n",
       "      <th>PitchSatisfactionScore</th>\n",
       "      <th>Designation</th>\n",
       "      <th>MonthlyIncome</th>\n",
       "      <th>customer_info</th>\n",
       "      <th>ProdTaken</th>\n",
       "    </tr>\n",
       "  </thead>\n",
       "  <tbody>\n",
       "    <tr>\n",
       "      <th>0</th>\n",
       "      <td>0</td>\n",
       "      <td>50歳</td>\n",
       "      <td>Self Enquiry</td>\n",
       "      <td>2</td>\n",
       "      <td>900秒</td>\n",
       "      <td>Large Business</td>\n",
       "      <td>male</td>\n",
       "      <td>1.0</td>\n",
       "      <td>4.0</td>\n",
       "      <td>Basic</td>\n",
       "      <td>3.0</td>\n",
       "      <td>5</td>\n",
       "      <td>1</td>\n",
       "      <td>4</td>\n",
       "      <td>Executive</td>\n",
       "      <td>253905.0</td>\n",
       "      <td>未婚 車未所持 子供なし</td>\n",
       "      <td>1</td>\n",
       "    </tr>\n",
       "    <tr>\n",
       "      <th>1</th>\n",
       "      <td>1</td>\n",
       "      <td>56歳</td>\n",
       "      <td>Company Invited</td>\n",
       "      <td>1</td>\n",
       "      <td>14分</td>\n",
       "      <td>Salaried</td>\n",
       "      <td>Male</td>\n",
       "      <td>1.0</td>\n",
       "      <td>4.0</td>\n",
       "      <td>Standard</td>\n",
       "      <td>3.0</td>\n",
       "      <td>2</td>\n",
       "      <td>1</td>\n",
       "      <td>4</td>\n",
       "      <td>Senior Manager</td>\n",
       "      <td>404475.0</td>\n",
       "      <td>離婚済み,車あり,子供無し</td>\n",
       "      <td>0</td>\n",
       "    </tr>\n",
       "    <tr>\n",
       "      <th>2</th>\n",
       "      <td>2</td>\n",
       "      <td>NaN</td>\n",
       "      <td>Self Enquiry</td>\n",
       "      <td>1</td>\n",
       "      <td>10分</td>\n",
       "      <td>Large Business</td>\n",
       "      <td>Female</td>\n",
       "      <td>1.0</td>\n",
       "      <td>3.0</td>\n",
       "      <td>Basic</td>\n",
       "      <td>3.0</td>\n",
       "      <td>4</td>\n",
       "      <td>0</td>\n",
       "      <td>4</td>\n",
       "      <td>Executive</td>\n",
       "      <td>278145.0</td>\n",
       "      <td>結婚済み、自動車未所有,子供なし</td>\n",
       "      <td>1</td>\n",
       "    </tr>\n",
       "    <tr>\n",
       "      <th>3</th>\n",
       "      <td>3</td>\n",
       "      <td>三十七歳</td>\n",
       "      <td>Self Enquiry</td>\n",
       "      <td>2</td>\n",
       "      <td>1080秒</td>\n",
       "      <td>Small Business</td>\n",
       "      <td>female</td>\n",
       "      <td>1.0</td>\n",
       "      <td>3.0</td>\n",
       "      <td>Standard</td>\n",
       "      <td>4.0</td>\n",
       "      <td>1</td>\n",
       "      <td>0</td>\n",
       "      <td>5</td>\n",
       "      <td>Senior Manager</td>\n",
       "      <td>326805.0</td>\n",
       "      <td>離婚済み、車所持、子供無し</td>\n",
       "      <td>0</td>\n",
       "    </tr>\n",
       "    <tr>\n",
       "      <th>4</th>\n",
       "      <td>4</td>\n",
       "      <td>48歳</td>\n",
       "      <td>Company Invited</td>\n",
       "      <td>3</td>\n",
       "      <td>1020秒</td>\n",
       "      <td>Small Business</td>\n",
       "      <td>female</td>\n",
       "      <td>1.0</td>\n",
       "      <td>3.0</td>\n",
       "      <td>Basic</td>\n",
       "      <td>4.0</td>\n",
       "      <td>4</td>\n",
       "      <td>0</td>\n",
       "      <td>4</td>\n",
       "      <td>Executive</td>\n",
       "      <td>258435.0</td>\n",
       "      <td>独身／車所持／無子</td>\n",
       "      <td>1</td>\n",
       "    </tr>\n",
       "  </tbody>\n",
       "</table>\n",
       "</div>"
      ],
      "text/plain": [
       "   id   Age    TypeofContact  CityTier DurationOfPitch      Occupation  \\\n",
       "0   0   50歳     Self Enquiry         2            900秒  Large Business   \n",
       "1   1   56歳  Company Invited         1             14分        Salaried   \n",
       "2   2   NaN     Self Enquiry         1             10分  Large Business   \n",
       "3   3  三十七歳     Self Enquiry         2           1080秒  Small Business   \n",
       "4   4   48歳  Company Invited         3           1020秒  Small Business   \n",
       "\n",
       "   Gender  NumberOfPersonVisiting  NumberOfFollowups ProductPitched  \\\n",
       "0    male                     1.0                4.0          Basic   \n",
       "1    Male                     1.0                4.0       Standard   \n",
       "2  Female                     1.0                3.0          Basic   \n",
       "3  female                     1.0                3.0       Standard   \n",
       "4  female                     1.0                3.0          Basic   \n",
       "\n",
       "   PreferredPropertyStar NumberOfTrips  Passport  PitchSatisfactionScore  \\\n",
       "0                    3.0             5         1                       4   \n",
       "1                    3.0             2         1                       4   \n",
       "2                    3.0             4         0                       4   \n",
       "3                    4.0             1         0                       5   \n",
       "4                    4.0             4         0                       4   \n",
       "\n",
       "      Designation MonthlyIncome     customer_info  ProdTaken  \n",
       "0       Executive      253905.0      未婚 車未所持 子供なし          1  \n",
       "1  Senior Manager      404475.0     離婚済み,車あり,子供無し          0  \n",
       "2       Executive      278145.0  結婚済み、自動車未所有,子供なし          1  \n",
       "3  Senior Manager      326805.0     離婚済み、車所持、子供無し          0  \n",
       "4       Executive      258435.0         独身／車所持／無子          1  "
      ]
     },
     "execution_count": 4,
     "metadata": {},
     "output_type": "execute_result"
    }
   ],
   "source": [
    "df.head()"
   ]
  },
  {
   "cell_type": "code",
   "execution_count": 5,
   "metadata": {},
   "outputs": [
    {
     "name": "stdout",
     "output_type": "stream",
     "text": [
      "<class 'pandas.core.frame.DataFrame'>\n",
      "RangeIndex: 3489 entries, 0 to 3488\n",
      "Data columns (total 18 columns):\n",
      " #   Column                  Non-Null Count  Dtype  \n",
      "---  ------                  --------------  -----  \n",
      " 0   id                      3489 non-null   int64  \n",
      " 1   Age                     3389 non-null   object \n",
      " 2   TypeofContact           3483 non-null   object \n",
      " 3   CityTier                3489 non-null   int64  \n",
      " 4   DurationOfPitch         3368 non-null   object \n",
      " 5   Occupation              3489 non-null   object \n",
      " 6   Gender                  3489 non-null   object \n",
      " 7   NumberOfPersonVisiting  3489 non-null   float64\n",
      " 8   NumberOfFollowups       3456 non-null   float64\n",
      " 9   ProductPitched          3489 non-null   object \n",
      " 10  PreferredPropertyStar   3489 non-null   float64\n",
      " 11  NumberOfTrips           3467 non-null   object \n",
      " 12  Passport                3489 non-null   int64  \n",
      " 13  PitchSatisfactionScore  3489 non-null   int64  \n",
      " 14  Designation             3489 non-null   object \n",
      " 15  MonthlyIncome           3433 non-null   object \n",
      " 16  customer_info           3489 non-null   object \n",
      " 17  ProdTaken               3489 non-null   int64  \n",
      "dtypes: float64(3), int64(5), object(10)\n",
      "memory usage: 490.8+ KB\n"
     ]
    }
   ],
   "source": [
    "df.info()"
   ]
  },
  {
   "cell_type": "code",
   "execution_count": 6,
   "metadata": {},
   "outputs": [
    {
     "data": {
      "text/html": [
       "<div>\n",
       "<style scoped>\n",
       "    .dataframe tbody tr th:only-of-type {\n",
       "        vertical-align: middle;\n",
       "    }\n",
       "\n",
       "    .dataframe tbody tr th {\n",
       "        vertical-align: top;\n",
       "    }\n",
       "\n",
       "    .dataframe thead th {\n",
       "        text-align: right;\n",
       "    }\n",
       "</style>\n",
       "<table border=\"1\" class=\"dataframe\">\n",
       "  <thead>\n",
       "    <tr style=\"text-align: right;\">\n",
       "      <th></th>\n",
       "      <th>id</th>\n",
       "      <th>CityTier</th>\n",
       "      <th>NumberOfPersonVisiting</th>\n",
       "      <th>NumberOfFollowups</th>\n",
       "      <th>PreferredPropertyStar</th>\n",
       "      <th>Passport</th>\n",
       "      <th>PitchSatisfactionScore</th>\n",
       "      <th>ProdTaken</th>\n",
       "    </tr>\n",
       "  </thead>\n",
       "  <tbody>\n",
       "    <tr>\n",
       "      <th>count</th>\n",
       "      <td>3489.000000</td>\n",
       "      <td>3489.000000</td>\n",
       "      <td>3489.000000</td>\n",
       "      <td>3456.000000</td>\n",
       "      <td>3489.000000</td>\n",
       "      <td>3489.000000</td>\n",
       "      <td>3489.000000</td>\n",
       "      <td>3489.000000</td>\n",
       "    </tr>\n",
       "    <tr>\n",
       "      <th>mean</th>\n",
       "      <td>1744.000000</td>\n",
       "      <td>1.697048</td>\n",
       "      <td>2.394669</td>\n",
       "      <td>7.765336</td>\n",
       "      <td>3.441101</td>\n",
       "      <td>0.102608</td>\n",
       "      <td>2.513901</td>\n",
       "      <td>0.142448</td>\n",
       "    </tr>\n",
       "    <tr>\n",
       "      <th>std</th>\n",
       "      <td>1007.331872</td>\n",
       "      <td>0.671500</td>\n",
       "      <td>0.726612</td>\n",
       "      <td>39.498670</td>\n",
       "      <td>0.599633</td>\n",
       "      <td>0.303490</td>\n",
       "      <td>1.115412</td>\n",
       "      <td>0.349559</td>\n",
       "    </tr>\n",
       "    <tr>\n",
       "      <th>min</th>\n",
       "      <td>0.000000</td>\n",
       "      <td>1.000000</td>\n",
       "      <td>1.000000</td>\n",
       "      <td>1.000000</td>\n",
       "      <td>3.000000</td>\n",
       "      <td>0.000000</td>\n",
       "      <td>1.000000</td>\n",
       "      <td>0.000000</td>\n",
       "    </tr>\n",
       "    <tr>\n",
       "      <th>25%</th>\n",
       "      <td>872.000000</td>\n",
       "      <td>1.000000</td>\n",
       "      <td>2.000000</td>\n",
       "      <td>3.000000</td>\n",
       "      <td>3.000000</td>\n",
       "      <td>0.000000</td>\n",
       "      <td>2.000000</td>\n",
       "      <td>0.000000</td>\n",
       "    </tr>\n",
       "    <tr>\n",
       "      <th>50%</th>\n",
       "      <td>1744.000000</td>\n",
       "      <td>2.000000</td>\n",
       "      <td>2.000000</td>\n",
       "      <td>4.000000</td>\n",
       "      <td>3.000000</td>\n",
       "      <td>0.000000</td>\n",
       "      <td>2.000000</td>\n",
       "      <td>0.000000</td>\n",
       "    </tr>\n",
       "    <tr>\n",
       "      <th>75%</th>\n",
       "      <td>2616.000000</td>\n",
       "      <td>2.000000</td>\n",
       "      <td>3.000000</td>\n",
       "      <td>4.000000</td>\n",
       "      <td>4.000000</td>\n",
       "      <td>0.000000</td>\n",
       "      <td>3.000000</td>\n",
       "      <td>0.000000</td>\n",
       "    </tr>\n",
       "    <tr>\n",
       "      <th>max</th>\n",
       "      <td>3488.000000</td>\n",
       "      <td>3.000000</td>\n",
       "      <td>4.000000</td>\n",
       "      <td>600.000000</td>\n",
       "      <td>5.000000</td>\n",
       "      <td>1.000000</td>\n",
       "      <td>5.000000</td>\n",
       "      <td>1.000000</td>\n",
       "    </tr>\n",
       "  </tbody>\n",
       "</table>\n",
       "</div>"
      ],
      "text/plain": [
       "                id     CityTier  NumberOfPersonVisiting  NumberOfFollowups  \\\n",
       "count  3489.000000  3489.000000             3489.000000        3456.000000   \n",
       "mean   1744.000000     1.697048                2.394669           7.765336   \n",
       "std    1007.331872     0.671500                0.726612          39.498670   \n",
       "min       0.000000     1.000000                1.000000           1.000000   \n",
       "25%     872.000000     1.000000                2.000000           3.000000   \n",
       "50%    1744.000000     2.000000                2.000000           4.000000   \n",
       "75%    2616.000000     2.000000                3.000000           4.000000   \n",
       "max    3488.000000     3.000000                4.000000         600.000000   \n",
       "\n",
       "       PreferredPropertyStar     Passport  PitchSatisfactionScore    ProdTaken  \n",
       "count            3489.000000  3489.000000             3489.000000  3489.000000  \n",
       "mean                3.441101     0.102608                2.513901     0.142448  \n",
       "std                 0.599633     0.303490                1.115412     0.349559  \n",
       "min                 3.000000     0.000000                1.000000     0.000000  \n",
       "25%                 3.000000     0.000000                2.000000     0.000000  \n",
       "50%                 3.000000     0.000000                2.000000     0.000000  \n",
       "75%                 4.000000     0.000000                3.000000     0.000000  \n",
       "max                 5.000000     1.000000                5.000000     1.000000  "
      ]
     },
     "execution_count": 6,
     "metadata": {},
     "output_type": "execute_result"
    }
   ],
   "source": [
    "df.describe()"
   ]
  },
  {
   "cell_type": "code",
   "execution_count": 7,
   "metadata": {},
   "outputs": [
    {
     "data": {
      "text/plain": [
       "id                          0\n",
       "Age                       100\n",
       "TypeofContact               6\n",
       "CityTier                    0\n",
       "DurationOfPitch           121\n",
       "Occupation                  0\n",
       "Gender                      0\n",
       "NumberOfPersonVisiting      0\n",
       "NumberOfFollowups          33\n",
       "ProductPitched              0\n",
       "PreferredPropertyStar       0\n",
       "NumberOfTrips              22\n",
       "Passport                    0\n",
       "PitchSatisfactionScore      0\n",
       "Designation                 0\n",
       "MonthlyIncome              56\n",
       "customer_info               0\n",
       "ProdTaken                   0\n",
       "dtype: int64"
      ]
     },
     "execution_count": 7,
     "metadata": {},
     "output_type": "execute_result"
    }
   ],
   "source": [
    "df.isna().sum()"
   ]
  },
  {
   "cell_type": "code",
   "execution_count": 16,
   "metadata": {},
   "outputs": [
    {
     "name": "stdout",
     "output_type": "stream",
     "text": [
      "TypeofContact\n",
      "['Self Enquiry' 'Company Invited' nan] \n",
      "\n",
      "Occupation\n",
      "['Large Business' 'Salaried' 'Small Business'] \n",
      "\n",
      "Gender\n",
      "['male' 'Male' 'Female' 'female' 'ｆｅｍａｌｅ' 'FEMALE' 'Ｍａｌｅ' 'Fe Male' 'MALE'\n",
      " 'ｆｅ\\u3000ｍａｌｅ' 'fe male' 'Ｆｅｍａｌｅ' 'ｍａｌｅ' 'FE MALE' 'Ｆｅ\\u3000Ｍａｌｅ'\n",
      " 'ＦＥＭＡＬＥ' 'ＦＥ\\u3000ＭＡＬＥ' 'ＭＡＬＥ'] \n",
      "\n",
      "ProductPitched\n",
      "['Basic' 'Standard' 'Super Deluxe' 'basic' 'SUPER DELUXE' 'super deluxe'\n",
      " 'BASIC' 'Deluxe' 'deluxe' 'STANᗞARD' 'STANDARD' 'Вasic' 'DELUXE'\n",
      " 'ꓢuper De|uxe' 'Ѕuper Deluxe' 'BAՏIC' 'Basıc' 'King' 'Super De|uxe'\n",
      " 'king' 'standard' 'KING' 'BΑSIC' 'B𝖺sic' 'De|uxe' 'ᎠELUXE' 'Basiϲ'\n",
      " 'de|u×e' 'Delu×e' 'Standar𝔡' 'Basi𝘤' 'Βasic' 'Տuper Deluxe' 'Staոdard'\n",
      " 'BAꓢIC' 'ᗞeluxe' 'Տtandard' 'Βası𝘤' 'Kıng' 'Baｓic' 'basıc' 'super de|uxe'\n",
      " 'Stand𝖺rd' 'S𝘵andard' '𐊡asic' 'St𝖺ndard' 'Super ᗞeluxe' 'de|uxe'\n",
      " 'ｓuper deluxe' 'STANDARᎠ' 'Basiс' 'DΕLUXΕ' 'ꓢuper Deluxe' 'BASΙC'\n",
      " 'ꓢtandard' 'В𝖺sic' 'Standa𝘳d' 'basiϲ' 'staոdard' 'Super Ꭰeluxe' 'DELUXΕ'\n",
      " 'Ѕtandard' '𐊡asi𝘤' 'Ꭰeluxe' 'Kıոg' '𝙳eluxe' 'Kiոg' 'Βasıc' 'BASIС'\n",
      " 'SUPER DΕLUXE' 'B𝖺si𝘤' 'ΒASIС' 'Super 𝙳eluxe' 'Տtanda𝘳d' 'Basıϲ'\n",
      " 'ЅTANDARD'] \n",
      "\n",
      "NumberOfTrips\n",
      "['5' '2' '4' '1' '年に1回' '年に2回' '年に6回' '3' '年に5回' '7' '6' '半年に1回' '年に4回'\n",
      " '年に3回' '8' '年に8回' nan '年に7回' '四半期に1回'] \n",
      "\n",
      "Designation\n",
      "['Executive' 'Senior Manager' 'AVP' 'Manager' 'Senior Manage𝙧' 'Execuｔive'\n",
      " 'Μanager' 'VP' 'Sеnior Manager' 'ΑVP' 'АVP' 'E×ecutive' 'Mαnage𝙧'\n",
      " 'Executiѵе' 'Ѕenior Manager' 'Managеr' 'Еxecutivе' 'Senior Μanαger'\n",
      " 'Еxecuｔive' 'Exеcutivе' 'Exеcutive' 'Senior Managе𝙧' 'Manage𝙧'\n",
      " 'Senio𝙧 Manager' 'Manαger' 'Μanage𝙧' 'Manαgеr' 'Senior Managеr'\n",
      " 'Executivе' 'Executiѵe' 'Е×еcutive' 'Еxecutive' 'VＰ' 'Տenior Μanager'\n",
      " 'Exеcutiѵе' 'Senior Manαger' 'Mαnager' 'Senior Mαnαger' 'E×еcutiѵe'\n",
      " 'Ѕenior Manαger' 'Exеcｕtive' 'Execｕtive' 'Mαnαger' 'Μanagеr' 'E×ecｕtive'\n",
      " 'Sеnior Managеr' 'Տenior Manager' 'AVＰ' 'Exеcｕtivе' 'Mαnagеr' 'Еxеcutivе'\n",
      " 'Senior Mαnager' 'Е×ecutive'] \n",
      "\n",
      "customer_info\n",
      "['未婚 車未所持 子供なし' '離婚済み,車あり,子供無し' '結婚済み、自動車未所有,子供なし' ...\n",
      " '結婚済み,車保有なし,子供有り 1人' '結婚済み/自家用車なし/1児' '独身／車所持／こども1人'] \n",
      "\n"
     ]
    }
   ],
   "source": [
    "tmp = [\"TypeofContact\", \"Occupation\", \"Gender\", \"ProductPitched\", \"NumberOfTrips\", \"Designation\", \"customer_info\"]\n",
    "for column in tmp:\n",
    "    print(column)\n",
    "    print(df[column].unique(), \"\\n\")"
   ]
  },
  {
   "cell_type": "markdown",
   "metadata": {},
   "source": [
    "# Processing"
   ]
  },
  {
   "cell_type": "markdown",
   "metadata": {},
   "source": [
    "## NuLL\n",
    "・fill mediam : '', '', '', 'NumberOfTrips', 'MonthlyIncome'\n",
    "    \n",
    "・delete null : 'TypeofContact'"
   ]
  },
  {
   "cell_type": "markdown",
   "metadata": {},
   "source": [
    "### Age -> age"
   ]
  },
  {
   "cell_type": "code",
   "execution_count": 33,
   "metadata": {},
   "outputs": [
    {
     "data": {
      "text/plain": [
       "array(['50歳', '56歳', nan, '三十七歳', '48歳', '19歳', '47歳', '49歳', '33歳',\n",
       "       '３１歳', '51歳', '46歳', '４９歳', '53才', '20歳', '25歳', '五十三歳', '20代',\n",
       "       '44歳', '30歳', '34歳', '29歳', '30代', '41歳', '50代', '52歳', '22歳',\n",
       "       '３６歳', '28歳', '25才', '五十一歳', '48才', '38才', '三十三歳', '42際', '５０代',\n",
       "       '35才', '59歳', '四十三歳', '32歳', '４２才', '53歳', '58歳', '40代', '二十六歳',\n",
       "       '52際', '54歳', '59才', '29才', '21才', '57歳', '37歳', '35歳', '36才',\n",
       "       '38歳', '３７歳', '50才', '51才', '43歳', '四十歳', '26歳', '31歳', '27歳',\n",
       "       '40歳', '３４歳', '40際', '21歳', '24才', '45歳', '36歳', '41才', '38際',\n",
       "       '18歳', '39歳', '４６歳', '４０代', '５５歳', '58際', '24歳', '41際', '三十一歳',\n",
       "       '52才', '３０代', '28才', '55際', '60代', '27際', '３２歳', '60歳', '五十四歳',\n",
       "       '29際', '三十四歳', '４７歳', '37際', '二十四歳', '四十七歳', '58才', '39才', '23才',\n",
       "       '３３歳', '４２歳', '４５歳', '３９歳', '５４歳', '55歳', '42歳', '３８歳', '47才',\n",
       "       '５１歳', '３９才', '51際', '二十七歳', '30才', '２６歳', '４０歳', '36際', '三十歳',\n",
       "       '23歳', '二十二歳', '37才', '３０歳', '２８歳', '34才', '五十歳', '四十一歳', '５９歳',\n",
       "       '３５歳', '２２歳', '３７才', '四十九歳', '42才', '４４歳', '２５歳', '44際', '33才',\n",
       "       '28際', '２４才', '55才', '４８歳', '四十四歳', '31才', '２０代', '二十歳', '22際',\n",
       "       '31際', '二十三歳', '39際', '59際', '３３才', '三十六歳', '10代', '２７歳', '49才',\n",
       "       '４３歳', '32際', '４１歳', '33際', '二十五歳', '27才', '46際', '二十九歳', '32才',\n",
       "       '22才', '２９才', '43才', '四十八歳', '30際', '２９歳', '４３才', '三十八歳', '４５才',\n",
       "       '45才', '二十一歳', '57才', '40才', '５２歳', '１９歳', '５３歳', '35際', '61歳',\n",
       "       '34際', '２４歳', '四十二歳', '５６才', '26際', '５０歳', '五十八歳', '20才', '50際',\n",
       "       '57際', '23際', '１９才', '５７歳', '26才', '五十六歳', '54才', '５８歳', '６０歳',\n",
       "       '三十五歳', '44才', '４０才', '２２才', '４４才', '２８才', '３８才', '三十九歳', '54際',\n",
       "       '二十八歳', '56際', '五十二歳', '３６才', '46才', '43際', '２０歳', '４１才', '24際',\n",
       "       '53際', '45際', '21際', '60際', '２１歳', '３５才', '五十五歳', '47際', '三十二歳',\n",
       "       '18際', '四十六歳', '３４才', '56才', '３２才', '５６歳', '４７才', '49際', '48際',\n",
       "       '５１才', '五十九歳', '六十一歳', '２１才'], dtype=object)"
      ]
     },
     "execution_count": 33,
     "metadata": {},
     "output_type": "execute_result"
    }
   ],
   "source": [
    "df[\"Age\"].unique()"
   ]
  },
  {
   "cell_type": "code",
   "execution_count": 7,
   "metadata": {},
   "outputs": [],
   "source": [
    "# 日本語をすべてInt型に変換\n",
    "df[\"age\"] = df[\"Age\"].astype(str).apply(japanese_to_int)\n",
    "\n",
    "# 欠損値を中央値で補完\n",
    "# japanese_to_int関数により、欠損値は0と出力されている。\n",
    "tmp = df[~(df[\"age\"] == 0)]\n",
    "df.loc[df[\"age\"] == 0, \"age\"] = tmp[\"age\"].median()"
   ]
  },
  {
   "cell_type": "code",
   "execution_count": 11,
   "metadata": {},
   "outputs": [
    {
     "data": {
      "text/plain": [
       "array([50, 56, 38, 37, 48, 19, 47, 49, 33, 31, 51, 46, 53, 20, 25, 44, 30,\n",
       "       34, 29, 41, 52, 22, 36, 28, 42, 35, 59, 43, 32, 58, 40, 26, 54, 21,\n",
       "       57, 27, 24, 45, 18, 39, 55, 60, 23, 10, 61], dtype=int64)"
      ]
     },
     "execution_count": 11,
     "metadata": {},
     "output_type": "execute_result"
    }
   ],
   "source": [
    "df[\"age\"].unique()"
   ]
  },
  {
   "cell_type": "markdown",
   "metadata": {},
   "source": [
    "### DurationOfPitch -> duration"
   ]
  },
  {
   "cell_type": "code",
   "execution_count": 8,
   "metadata": {},
   "outputs": [
    {
     "data": {
      "text/plain": [
       "array(['900秒', '14分', '10分', '1080秒', '1020秒', '16分', '840秒', '22分',\n",
       "       '20分', '11分', '32分', '17分', '24分', '1380秒', '35分', '420秒', '5分',\n",
       "       '480秒', '8分', '15分', '960秒', nan, '540秒', '26分', '13分', '12分',\n",
       "       '21分', '25分', '720秒', '9分', '7分', '780秒', '6分', '18分', '31分',\n",
       "       '600秒', '23分', '28分', '2160秒', '660秒', '1500秒', '1920秒', '27分',\n",
       "       '33分', '360秒', '1320秒', '1740秒', '1680秒', '29分', '1620秒', '1440秒',\n",
       "       '1800秒', '30分', '34分', '4分', '19分', '1860秒', '1260秒', '2100秒',\n",
       "       '300秒', '2040秒', '1200秒', '1560秒', '1980秒', '36分', '1140秒'],\n",
       "      dtype=object)"
      ]
     },
     "execution_count": 8,
     "metadata": {},
     "output_type": "execute_result"
    }
   ],
   "source": [
    "df[\"DurationOfPitch\"].unique()"
   ]
  },
  {
   "cell_type": "code",
   "execution_count": 16,
   "metadata": {},
   "outputs": [],
   "source": [
    "# 単位をすべて秒に統一\n",
    "df[\"duration\"] = df[\"DurationOfPitch\"].dropna().apply(convert_to_second)\n",
    "\n",
    "# 欠損値を中央値で補完\n",
    "df[\"duration\"] = df[\"duration\"].fillna(df[\"duration\"].median())"
   ]
  },
  {
   "cell_type": "code",
   "execution_count": 17,
   "metadata": {},
   "outputs": [
    {
     "data": {
      "text/plain": [
       "array([ 900.,  840.,  600., 1080., 1020.,  960., 1320., 1200.,  660.,\n",
       "       1920., 1440., 1380., 2100.,  420.,  300.,  480.,  780.,  540.,\n",
       "       1560.,  720., 1260., 1500.,  360., 1860., 1680., 2160., 1620.,\n",
       "       1980., 1740., 1800., 2040.,  240., 1140.])"
      ]
     },
     "execution_count": 17,
     "metadata": {},
     "output_type": "execute_result"
    }
   ],
   "source": [
    "df[\"duration\"].unique()"
   ]
  },
  {
   "cell_type": "markdown",
   "metadata": {},
   "source": [
    "### NumberOfFollowups"
   ]
  },
  {
   "cell_type": "code",
   "execution_count": null,
   "metadata": {},
   "outputs": [],
   "source": []
  }
 ],
 "metadata": {
  "kernelspec": {
   "display_name": "competition",
   "language": "python",
   "name": "python3"
  },
  "language_info": {
   "codemirror_mode": {
    "name": "ipython",
    "version": 3
   },
   "file_extension": ".py",
   "mimetype": "text/x-python",
   "name": "python",
   "nbconvert_exporter": "python",
   "pygments_lexer": "ipython3",
   "version": "3.12.4"
  }
 },
 "nbformat": 4,
 "nbformat_minor": 2
}
