{
 "cells": [
  {
   "cell_type": "markdown",
   "metadata": {},
   "source": [
    "# Import"
   ]
  },
  {
   "cell_type": "code",
   "execution_count": 1,
   "metadata": {},
   "outputs": [],
   "source": [
    "import os\n",
    "os.chdir(\"../\")"
   ]
  },
  {
   "cell_type": "code",
   "execution_count": 2,
   "metadata": {},
   "outputs": [],
   "source": [
    "import numpy as np\n",
    "import pandas as pd\n",
    "import matplotlib.pyplot as plt\n",
    "import seaborn as sns\n",
    "import pickle\n",
    "from sklearn.model_selection import train_test_split\n",
    "from sklearn.preprocessing import StandardScaler, RobustScaler\n",
    "from skopt import BayesSearchCV\n",
    "from skopt.space import Real, Integer\n",
    "from sklearn.model_selection import RandomizedSearchCV, GridSearchCV\n",
    "from sklearn.model_selection import KFold\n",
    "from scipy.stats import randint as sp_randint\n",
    "from scipy.stats import uniform\n",
    "from sklearn.metrics import roc_auc_score"
   ]
  },
  {
   "cell_type": "code",
   "execution_count": 3,
   "metadata": {},
   "outputs": [],
   "source": [
    "from sklearn.ensemble import GradientBoostingClassifier\n",
    "from xgboost import XGBClassifier\n",
    "import catboost as cb\n",
    "from sklearn.pipeline import Pipeline"
   ]
  },
  {
   "cell_type": "code",
   "execution_count": 4,
   "metadata": {},
   "outputs": [],
   "source": [
    "from scr.util import *"
   ]
  },
  {
   "cell_type": "markdown",
   "metadata": {},
   "source": [
    "# Base Infomation"
   ]
  },
  {
   "cell_type": "code",
   "execution_count": 5,
   "metadata": {},
   "outputs": [],
   "source": [
    "df = pd.read_csv(\"data/train.csv\")"
   ]
  },
  {
   "cell_type": "code",
   "execution_count": 6,
   "metadata": {},
   "outputs": [
    {
     "data": {
      "text/plain": [
       "(3489, 18)"
      ]
     },
     "execution_count": 6,
     "metadata": {},
     "output_type": "execute_result"
    }
   ],
   "source": [
    "df.shape"
   ]
  },
  {
   "cell_type": "code",
   "execution_count": 7,
   "metadata": {},
   "outputs": [
    {
     "data": {
      "text/html": [
       "<div>\n",
       "<style scoped>\n",
       "    .dataframe tbody tr th:only-of-type {\n",
       "        vertical-align: middle;\n",
       "    }\n",
       "\n",
       "    .dataframe tbody tr th {\n",
       "        vertical-align: top;\n",
       "    }\n",
       "\n",
       "    .dataframe thead th {\n",
       "        text-align: right;\n",
       "    }\n",
       "</style>\n",
       "<table border=\"1\" class=\"dataframe\">\n",
       "  <thead>\n",
       "    <tr style=\"text-align: right;\">\n",
       "      <th></th>\n",
       "      <th>id</th>\n",
       "      <th>Age</th>\n",
       "      <th>TypeofContact</th>\n",
       "      <th>CityTier</th>\n",
       "      <th>DurationOfPitch</th>\n",
       "      <th>Occupation</th>\n",
       "      <th>Gender</th>\n",
       "      <th>NumberOfPersonVisiting</th>\n",
       "      <th>NumberOfFollowups</th>\n",
       "      <th>ProductPitched</th>\n",
       "      <th>PreferredPropertyStar</th>\n",
       "      <th>NumberOfTrips</th>\n",
       "      <th>Passport</th>\n",
       "      <th>PitchSatisfactionScore</th>\n",
       "      <th>Designation</th>\n",
       "      <th>MonthlyIncome</th>\n",
       "      <th>customer_info</th>\n",
       "      <th>ProdTaken</th>\n",
       "    </tr>\n",
       "  </thead>\n",
       "  <tbody>\n",
       "    <tr>\n",
       "      <th>0</th>\n",
       "      <td>0</td>\n",
       "      <td>50歳</td>\n",
       "      <td>Self Enquiry</td>\n",
       "      <td>2</td>\n",
       "      <td>900秒</td>\n",
       "      <td>Large Business</td>\n",
       "      <td>male</td>\n",
       "      <td>1.0</td>\n",
       "      <td>4.0</td>\n",
       "      <td>Basic</td>\n",
       "      <td>3.0</td>\n",
       "      <td>5</td>\n",
       "      <td>1</td>\n",
       "      <td>4</td>\n",
       "      <td>Executive</td>\n",
       "      <td>253905.0</td>\n",
       "      <td>未婚 車未所持 子供なし</td>\n",
       "      <td>1</td>\n",
       "    </tr>\n",
       "    <tr>\n",
       "      <th>1</th>\n",
       "      <td>1</td>\n",
       "      <td>56歳</td>\n",
       "      <td>Company Invited</td>\n",
       "      <td>1</td>\n",
       "      <td>14分</td>\n",
       "      <td>Salaried</td>\n",
       "      <td>Male</td>\n",
       "      <td>1.0</td>\n",
       "      <td>4.0</td>\n",
       "      <td>Standard</td>\n",
       "      <td>3.0</td>\n",
       "      <td>2</td>\n",
       "      <td>1</td>\n",
       "      <td>4</td>\n",
       "      <td>Senior Manager</td>\n",
       "      <td>404475.0</td>\n",
       "      <td>離婚済み,車あり,子供無し</td>\n",
       "      <td>0</td>\n",
       "    </tr>\n",
       "    <tr>\n",
       "      <th>2</th>\n",
       "      <td>2</td>\n",
       "      <td>NaN</td>\n",
       "      <td>Self Enquiry</td>\n",
       "      <td>1</td>\n",
       "      <td>10分</td>\n",
       "      <td>Large Business</td>\n",
       "      <td>Female</td>\n",
       "      <td>1.0</td>\n",
       "      <td>3.0</td>\n",
       "      <td>Basic</td>\n",
       "      <td>3.0</td>\n",
       "      <td>4</td>\n",
       "      <td>0</td>\n",
       "      <td>4</td>\n",
       "      <td>Executive</td>\n",
       "      <td>278145.0</td>\n",
       "      <td>結婚済み、自動車未所有,子供なし</td>\n",
       "      <td>1</td>\n",
       "    </tr>\n",
       "    <tr>\n",
       "      <th>3</th>\n",
       "      <td>3</td>\n",
       "      <td>三十七歳</td>\n",
       "      <td>Self Enquiry</td>\n",
       "      <td>2</td>\n",
       "      <td>1080秒</td>\n",
       "      <td>Small Business</td>\n",
       "      <td>female</td>\n",
       "      <td>1.0</td>\n",
       "      <td>3.0</td>\n",
       "      <td>Standard</td>\n",
       "      <td>4.0</td>\n",
       "      <td>1</td>\n",
       "      <td>0</td>\n",
       "      <td>5</td>\n",
       "      <td>Senior Manager</td>\n",
       "      <td>326805.0</td>\n",
       "      <td>離婚済み、車所持、子供無し</td>\n",
       "      <td>0</td>\n",
       "    </tr>\n",
       "    <tr>\n",
       "      <th>4</th>\n",
       "      <td>4</td>\n",
       "      <td>48歳</td>\n",
       "      <td>Company Invited</td>\n",
       "      <td>3</td>\n",
       "      <td>1020秒</td>\n",
       "      <td>Small Business</td>\n",
       "      <td>female</td>\n",
       "      <td>1.0</td>\n",
       "      <td>3.0</td>\n",
       "      <td>Basic</td>\n",
       "      <td>4.0</td>\n",
       "      <td>4</td>\n",
       "      <td>0</td>\n",
       "      <td>4</td>\n",
       "      <td>Executive</td>\n",
       "      <td>258435.0</td>\n",
       "      <td>独身／車所持／無子</td>\n",
       "      <td>1</td>\n",
       "    </tr>\n",
       "  </tbody>\n",
       "</table>\n",
       "</div>"
      ],
      "text/plain": [
       "   id   Age    TypeofContact  CityTier DurationOfPitch      Occupation  \\\n",
       "0   0   50歳     Self Enquiry         2            900秒  Large Business   \n",
       "1   1   56歳  Company Invited         1             14分        Salaried   \n",
       "2   2   NaN     Self Enquiry         1             10分  Large Business   \n",
       "3   3  三十七歳     Self Enquiry         2           1080秒  Small Business   \n",
       "4   4   48歳  Company Invited         3           1020秒  Small Business   \n",
       "\n",
       "   Gender  NumberOfPersonVisiting  NumberOfFollowups ProductPitched  \\\n",
       "0    male                     1.0                4.0          Basic   \n",
       "1    Male                     1.0                4.0       Standard   \n",
       "2  Female                     1.0                3.0          Basic   \n",
       "3  female                     1.0                3.0       Standard   \n",
       "4  female                     1.0                3.0          Basic   \n",
       "\n",
       "   PreferredPropertyStar NumberOfTrips  Passport  PitchSatisfactionScore  \\\n",
       "0                    3.0             5         1                       4   \n",
       "1                    3.0             2         1                       4   \n",
       "2                    3.0             4         0                       4   \n",
       "3                    4.0             1         0                       5   \n",
       "4                    4.0             4         0                       4   \n",
       "\n",
       "      Designation MonthlyIncome     customer_info  ProdTaken  \n",
       "0       Executive      253905.0      未婚 車未所持 子供なし          1  \n",
       "1  Senior Manager      404475.0     離婚済み,車あり,子供無し          0  \n",
       "2       Executive      278145.0  結婚済み、自動車未所有,子供なし          1  \n",
       "3  Senior Manager      326805.0     離婚済み、車所持、子供無し          0  \n",
       "4       Executive      258435.0         独身／車所持／無子          1  "
      ]
     },
     "execution_count": 7,
     "metadata": {},
     "output_type": "execute_result"
    }
   ],
   "source": [
    "df.head()"
   ]
  },
  {
   "cell_type": "code",
   "execution_count": 8,
   "metadata": {},
   "outputs": [
    {
     "name": "stdout",
     "output_type": "stream",
     "text": [
      "<class 'pandas.core.frame.DataFrame'>\n",
      "RangeIndex: 3489 entries, 0 to 3488\n",
      "Data columns (total 18 columns):\n",
      " #   Column                  Non-Null Count  Dtype  \n",
      "---  ------                  --------------  -----  \n",
      " 0   id                      3489 non-null   int64  \n",
      " 1   Age                     3389 non-null   object \n",
      " 2   TypeofContact           3483 non-null   object \n",
      " 3   CityTier                3489 non-null   int64  \n",
      " 4   DurationOfPitch         3368 non-null   object \n",
      " 5   Occupation              3489 non-null   object \n",
      " 6   Gender                  3489 non-null   object \n",
      " 7   NumberOfPersonVisiting  3489 non-null   float64\n",
      " 8   NumberOfFollowups       3456 non-null   float64\n",
      " 9   ProductPitched          3489 non-null   object \n",
      " 10  PreferredPropertyStar   3489 non-null   float64\n",
      " 11  NumberOfTrips           3467 non-null   object \n",
      " 12  Passport                3489 non-null   int64  \n",
      " 13  PitchSatisfactionScore  3489 non-null   int64  \n",
      " 14  Designation             3489 non-null   object \n",
      " 15  MonthlyIncome           3433 non-null   object \n",
      " 16  customer_info           3489 non-null   object \n",
      " 17  ProdTaken               3489 non-null   int64  \n",
      "dtypes: float64(3), int64(5), object(10)\n",
      "memory usage: 490.8+ KB\n"
     ]
    }
   ],
   "source": [
    "df.info()"
   ]
  },
  {
   "cell_type": "code",
   "execution_count": 9,
   "metadata": {},
   "outputs": [
    {
     "data": {
      "text/html": [
       "<div>\n",
       "<style scoped>\n",
       "    .dataframe tbody tr th:only-of-type {\n",
       "        vertical-align: middle;\n",
       "    }\n",
       "\n",
       "    .dataframe tbody tr th {\n",
       "        vertical-align: top;\n",
       "    }\n",
       "\n",
       "    .dataframe thead th {\n",
       "        text-align: right;\n",
       "    }\n",
       "</style>\n",
       "<table border=\"1\" class=\"dataframe\">\n",
       "  <thead>\n",
       "    <tr style=\"text-align: right;\">\n",
       "      <th></th>\n",
       "      <th>id</th>\n",
       "      <th>CityTier</th>\n",
       "      <th>NumberOfPersonVisiting</th>\n",
       "      <th>NumberOfFollowups</th>\n",
       "      <th>PreferredPropertyStar</th>\n",
       "      <th>Passport</th>\n",
       "      <th>PitchSatisfactionScore</th>\n",
       "      <th>ProdTaken</th>\n",
       "    </tr>\n",
       "  </thead>\n",
       "  <tbody>\n",
       "    <tr>\n",
       "      <th>count</th>\n",
       "      <td>3489.000000</td>\n",
       "      <td>3489.000000</td>\n",
       "      <td>3489.000000</td>\n",
       "      <td>3456.000000</td>\n",
       "      <td>3489.000000</td>\n",
       "      <td>3489.000000</td>\n",
       "      <td>3489.000000</td>\n",
       "      <td>3489.000000</td>\n",
       "    </tr>\n",
       "    <tr>\n",
       "      <th>mean</th>\n",
       "      <td>1744.000000</td>\n",
       "      <td>1.697048</td>\n",
       "      <td>2.394669</td>\n",
       "      <td>7.765336</td>\n",
       "      <td>3.441101</td>\n",
       "      <td>0.102608</td>\n",
       "      <td>2.513901</td>\n",
       "      <td>0.142448</td>\n",
       "    </tr>\n",
       "    <tr>\n",
       "      <th>std</th>\n",
       "      <td>1007.331872</td>\n",
       "      <td>0.671500</td>\n",
       "      <td>0.726612</td>\n",
       "      <td>39.498670</td>\n",
       "      <td>0.599633</td>\n",
       "      <td>0.303490</td>\n",
       "      <td>1.115412</td>\n",
       "      <td>0.349559</td>\n",
       "    </tr>\n",
       "    <tr>\n",
       "      <th>min</th>\n",
       "      <td>0.000000</td>\n",
       "      <td>1.000000</td>\n",
       "      <td>1.000000</td>\n",
       "      <td>1.000000</td>\n",
       "      <td>3.000000</td>\n",
       "      <td>0.000000</td>\n",
       "      <td>1.000000</td>\n",
       "      <td>0.000000</td>\n",
       "    </tr>\n",
       "    <tr>\n",
       "      <th>25%</th>\n",
       "      <td>872.000000</td>\n",
       "      <td>1.000000</td>\n",
       "      <td>2.000000</td>\n",
       "      <td>3.000000</td>\n",
       "      <td>3.000000</td>\n",
       "      <td>0.000000</td>\n",
       "      <td>2.000000</td>\n",
       "      <td>0.000000</td>\n",
       "    </tr>\n",
       "    <tr>\n",
       "      <th>50%</th>\n",
       "      <td>1744.000000</td>\n",
       "      <td>2.000000</td>\n",
       "      <td>2.000000</td>\n",
       "      <td>4.000000</td>\n",
       "      <td>3.000000</td>\n",
       "      <td>0.000000</td>\n",
       "      <td>2.000000</td>\n",
       "      <td>0.000000</td>\n",
       "    </tr>\n",
       "    <tr>\n",
       "      <th>75%</th>\n",
       "      <td>2616.000000</td>\n",
       "      <td>2.000000</td>\n",
       "      <td>3.000000</td>\n",
       "      <td>4.000000</td>\n",
       "      <td>4.000000</td>\n",
       "      <td>0.000000</td>\n",
       "      <td>3.000000</td>\n",
       "      <td>0.000000</td>\n",
       "    </tr>\n",
       "    <tr>\n",
       "      <th>max</th>\n",
       "      <td>3488.000000</td>\n",
       "      <td>3.000000</td>\n",
       "      <td>4.000000</td>\n",
       "      <td>600.000000</td>\n",
       "      <td>5.000000</td>\n",
       "      <td>1.000000</td>\n",
       "      <td>5.000000</td>\n",
       "      <td>1.000000</td>\n",
       "    </tr>\n",
       "  </tbody>\n",
       "</table>\n",
       "</div>"
      ],
      "text/plain": [
       "                id     CityTier  NumberOfPersonVisiting  NumberOfFollowups  \\\n",
       "count  3489.000000  3489.000000             3489.000000        3456.000000   \n",
       "mean   1744.000000     1.697048                2.394669           7.765336   \n",
       "std    1007.331872     0.671500                0.726612          39.498670   \n",
       "min       0.000000     1.000000                1.000000           1.000000   \n",
       "25%     872.000000     1.000000                2.000000           3.000000   \n",
       "50%    1744.000000     2.000000                2.000000           4.000000   \n",
       "75%    2616.000000     2.000000                3.000000           4.000000   \n",
       "max    3488.000000     3.000000                4.000000         600.000000   \n",
       "\n",
       "       PreferredPropertyStar     Passport  PitchSatisfactionScore    ProdTaken  \n",
       "count            3489.000000  3489.000000             3489.000000  3489.000000  \n",
       "mean                3.441101     0.102608                2.513901     0.142448  \n",
       "std                 0.599633     0.303490                1.115412     0.349559  \n",
       "min                 3.000000     0.000000                1.000000     0.000000  \n",
       "25%                 3.000000     0.000000                2.000000     0.000000  \n",
       "50%                 3.000000     0.000000                2.000000     0.000000  \n",
       "75%                 4.000000     0.000000                3.000000     0.000000  \n",
       "max                 5.000000     1.000000                5.000000     1.000000  "
      ]
     },
     "execution_count": 9,
     "metadata": {},
     "output_type": "execute_result"
    }
   ],
   "source": [
    "df.describe()"
   ]
  },
  {
   "cell_type": "code",
   "execution_count": 10,
   "metadata": {},
   "outputs": [
    {
     "data": {
      "text/plain": [
       "id                          0\n",
       "Age                       100\n",
       "TypeofContact               6\n",
       "CityTier                    0\n",
       "DurationOfPitch           121\n",
       "Occupation                  0\n",
       "Gender                      0\n",
       "NumberOfPersonVisiting      0\n",
       "NumberOfFollowups          33\n",
       "ProductPitched              0\n",
       "PreferredPropertyStar       0\n",
       "NumberOfTrips              22\n",
       "Passport                    0\n",
       "PitchSatisfactionScore      0\n",
       "Designation                 0\n",
       "MonthlyIncome              56\n",
       "customer_info               0\n",
       "ProdTaken                   0\n",
       "dtype: int64"
      ]
     },
     "execution_count": 10,
     "metadata": {},
     "output_type": "execute_result"
    }
   ],
   "source": [
    "df.isna().sum()"
   ]
  },
  {
   "cell_type": "code",
   "execution_count": 11,
   "metadata": {},
   "outputs": [
    {
     "name": "stdout",
     "output_type": "stream",
     "text": [
      "TypeofContact\n",
      "['Self Enquiry' 'Company Invited' nan] \n",
      "\n",
      "Occupation\n",
      "['Large Business' 'Salaried' 'Small Business'] \n",
      "\n",
      "Gender\n",
      "['male' 'Male' 'Female' 'female' 'ｆｅｍａｌｅ' 'FEMALE' 'Ｍａｌｅ' 'Fe Male' 'MALE'\n",
      " 'ｆｅ\\u3000ｍａｌｅ' 'fe male' 'Ｆｅｍａｌｅ' 'ｍａｌｅ' 'FE MALE' 'Ｆｅ\\u3000Ｍａｌｅ'\n",
      " 'ＦＥＭＡＬＥ' 'ＦＥ\\u3000ＭＡＬＥ' 'ＭＡＬＥ'] \n",
      "\n",
      "ProductPitched\n",
      "['Basic' 'Standard' 'Super Deluxe' 'basic' 'SUPER DELUXE' 'super deluxe'\n",
      " 'BASIC' 'Deluxe' 'deluxe' 'STANᗞARD' 'STANDARD' 'Вasic' 'DELUXE'\n",
      " 'ꓢuper De|uxe' 'Ѕuper Deluxe' 'BAՏIC' 'Basıc' 'King' 'Super De|uxe'\n",
      " 'king' 'standard' 'KING' 'BΑSIC' 'B𝖺sic' 'De|uxe' 'ᎠELUXE' 'Basiϲ'\n",
      " 'de|u×e' 'Delu×e' 'Standar𝔡' 'Basi𝘤' 'Βasic' 'Տuper Deluxe' 'Staոdard'\n",
      " 'BAꓢIC' 'ᗞeluxe' 'Տtandard' 'Βası𝘤' 'Kıng' 'Baｓic' 'basıc' 'super de|uxe'\n",
      " 'Stand𝖺rd' 'S𝘵andard' '𐊡asic' 'St𝖺ndard' 'Super ᗞeluxe' 'de|uxe'\n",
      " 'ｓuper deluxe' 'STANDARᎠ' 'Basiс' 'DΕLUXΕ' 'ꓢuper Deluxe' 'BASΙC'\n",
      " 'ꓢtandard' 'В𝖺sic' 'Standa𝘳d' 'basiϲ' 'staոdard' 'Super Ꭰeluxe' 'DELUXΕ'\n",
      " 'Ѕtandard' '𐊡asi𝘤' 'Ꭰeluxe' 'Kıոg' '𝙳eluxe' 'Kiոg' 'Βasıc' 'BASIС'\n",
      " 'SUPER DΕLUXE' 'B𝖺si𝘤' 'ΒASIС' 'Super 𝙳eluxe' 'Տtanda𝘳d' 'Basıϲ'\n",
      " 'ЅTANDARD'] \n",
      "\n",
      "NumberOfTrips\n",
      "['5' '2' '4' '1' '年に1回' '年に2回' '年に6回' '3' '年に5回' '7' '6' '半年に1回' '年に4回'\n",
      " '年に3回' '8' '年に8回' nan '年に7回' '四半期に1回'] \n",
      "\n",
      "Designation\n",
      "['Executive' 'Senior Manager' 'AVP' 'Manager' 'Senior Manage𝙧' 'Execuｔive'\n",
      " 'Μanager' 'VP' 'Sеnior Manager' 'ΑVP' 'АVP' 'E×ecutive' 'Mαnage𝙧'\n",
      " 'Executiѵе' 'Ѕenior Manager' 'Managеr' 'Еxecutivе' 'Senior Μanαger'\n",
      " 'Еxecuｔive' 'Exеcutivе' 'Exеcutive' 'Senior Managе𝙧' 'Manage𝙧'\n",
      " 'Senio𝙧 Manager' 'Manαger' 'Μanage𝙧' 'Manαgеr' 'Senior Managеr'\n",
      " 'Executivе' 'Executiѵe' 'Е×еcutive' 'Еxecutive' 'VＰ' 'Տenior Μanager'\n",
      " 'Exеcutiѵе' 'Senior Manαger' 'Mαnager' 'Senior Mαnαger' 'E×еcutiѵe'\n",
      " 'Ѕenior Manαger' 'Exеcｕtive' 'Execｕtive' 'Mαnαger' 'Μanagеr' 'E×ecｕtive'\n",
      " 'Sеnior Managеr' 'Տenior Manager' 'AVＰ' 'Exеcｕtivе' 'Mαnagеr' 'Еxеcutivе'\n",
      " 'Senior Mαnager' 'Е×ecutive'] \n",
      "\n",
      "customer_info\n",
      "['未婚 車未所持 子供なし' '離婚済み,車あり,子供無し' '結婚済み、自動車未所有,子供なし' ...\n",
      " '結婚済み,車保有なし,子供有り 1人' '結婚済み/自家用車なし/1児' '独身／車所持／こども1人'] \n",
      "\n"
     ]
    }
   ],
   "source": [
    "tmp = [\"TypeofContact\", \"Occupation\", \"Gender\", \"ProductPitched\", \"NumberOfTrips\", \"Designation\", \"customer_info\"]\n",
    "for column in tmp:\n",
    "    print(column)\n",
    "    print(df[column].unique(), \"\\n\")"
   ]
  },
  {
   "cell_type": "markdown",
   "metadata": {},
   "source": [
    "# Preprocessing"
   ]
  },
  {
   "cell_type": "markdown",
   "metadata": {},
   "source": [
    "## NuLL"
   ]
  },
  {
   "cell_type": "markdown",
   "metadata": {},
   "source": [
    "### Age -> age"
   ]
  },
  {
   "cell_type": "code",
   "execution_count": 12,
   "metadata": {},
   "outputs": [
    {
     "data": {
      "text/plain": [
       "array(['50歳', '56歳', nan, '三十七歳', '48歳', '19歳', '47歳', '49歳', '33歳',\n",
       "       '３１歳', '51歳', '46歳', '４９歳', '53才', '20歳', '25歳', '五十三歳', '20代',\n",
       "       '44歳', '30歳', '34歳', '29歳', '30代', '41歳', '50代', '52歳', '22歳',\n",
       "       '３６歳', '28歳', '25才', '五十一歳', '48才', '38才', '三十三歳', '42際', '５０代',\n",
       "       '35才', '59歳', '四十三歳', '32歳', '４２才', '53歳', '58歳', '40代', '二十六歳',\n",
       "       '52際', '54歳', '59才', '29才', '21才', '57歳', '37歳', '35歳', '36才',\n",
       "       '38歳', '３７歳', '50才', '51才', '43歳', '四十歳', '26歳', '31歳', '27歳',\n",
       "       '40歳', '３４歳', '40際', '21歳', '24才', '45歳', '36歳', '41才', '38際',\n",
       "       '18歳', '39歳', '４６歳', '４０代', '５５歳', '58際', '24歳', '41際', '三十一歳',\n",
       "       '52才', '３０代', '28才', '55際', '60代', '27際', '３２歳', '60歳', '五十四歳',\n",
       "       '29際', '三十四歳', '４７歳', '37際', '二十四歳', '四十七歳', '58才', '39才', '23才',\n",
       "       '３３歳', '４２歳', '４５歳', '３９歳', '５４歳', '55歳', '42歳', '３８歳', '47才',\n",
       "       '５１歳', '３９才', '51際', '二十七歳', '30才', '２６歳', '４０歳', '36際', '三十歳',\n",
       "       '23歳', '二十二歳', '37才', '３０歳', '２８歳', '34才', '五十歳', '四十一歳', '５９歳',\n",
       "       '３５歳', '２２歳', '３７才', '四十九歳', '42才', '４４歳', '２５歳', '44際', '33才',\n",
       "       '28際', '２４才', '55才', '４８歳', '四十四歳', '31才', '２０代', '二十歳', '22際',\n",
       "       '31際', '二十三歳', '39際', '59際', '３３才', '三十六歳', '10代', '２７歳', '49才',\n",
       "       '４３歳', '32際', '４１歳', '33際', '二十五歳', '27才', '46際', '二十九歳', '32才',\n",
       "       '22才', '２９才', '43才', '四十八歳', '30際', '２９歳', '４３才', '三十八歳', '４５才',\n",
       "       '45才', '二十一歳', '57才', '40才', '５２歳', '１９歳', '５３歳', '35際', '61歳',\n",
       "       '34際', '２４歳', '四十二歳', '５６才', '26際', '５０歳', '五十八歳', '20才', '50際',\n",
       "       '57際', '23際', '１９才', '５７歳', '26才', '五十六歳', '54才', '５８歳', '６０歳',\n",
       "       '三十五歳', '44才', '４０才', '２２才', '４４才', '２８才', '３８才', '三十九歳', '54際',\n",
       "       '二十八歳', '56際', '五十二歳', '３６才', '46才', '43際', '２０歳', '４１才', '24際',\n",
       "       '53際', '45際', '21際', '60際', '２１歳', '３５才', '五十五歳', '47際', '三十二歳',\n",
       "       '18際', '四十六歳', '３４才', '56才', '３２才', '５６歳', '４７才', '49際', '48際',\n",
       "       '５１才', '五十九歳', '六十一歳', '２１才'], dtype=object)"
      ]
     },
     "execution_count": 12,
     "metadata": {},
     "output_type": "execute_result"
    }
   ],
   "source": [
    "df[\"Age\"].unique()"
   ]
  },
  {
   "cell_type": "code",
   "execution_count": 13,
   "metadata": {},
   "outputs": [],
   "source": [
    "# 日本語をすべてInt型に変換\n",
    "df[\"age\"] = df[\"Age\"].astype(str).apply(japanese_to_int)\n",
    "\n",
    "# 欠損値を中央値で補完\n",
    "# japanese_to_int関数により、欠損値は0と出力されている。\n",
    "tmp = df[~(df[\"age\"] == 0)]\n",
    "df.loc[df[\"age\"] == 0, \"age\"] = tmp[\"age\"].median()"
   ]
  },
  {
   "cell_type": "code",
   "execution_count": 14,
   "metadata": {},
   "outputs": [
    {
     "data": {
      "text/plain": [
       "array([50, 56, 38, 37, 48, 19, 47, 49, 33, 31, 51, 46, 53, 20, 25, 44, 30,\n",
       "       34, 29, 41, 52, 22, 36, 28, 42, 35, 59, 43, 32, 58, 40, 26, 54, 21,\n",
       "       57, 27, 24, 45, 18, 39, 55, 60, 23, 10, 61], dtype=int64)"
      ]
     },
     "execution_count": 14,
     "metadata": {},
     "output_type": "execute_result"
    }
   ],
   "source": [
    "df[\"age\"].unique()"
   ]
  },
  {
   "cell_type": "markdown",
   "metadata": {},
   "source": [
    "### DurationOfPitch -> duration"
   ]
  },
  {
   "cell_type": "code",
   "execution_count": 15,
   "metadata": {},
   "outputs": [
    {
     "data": {
      "text/plain": [
       "array(['900秒', '14分', '10分', '1080秒', '1020秒', '16分', '840秒', '22分',\n",
       "       '20分', '11分', '32分', '17分', '24分', '1380秒', '35分', '420秒', '5分',\n",
       "       '480秒', '8分', '15分', '960秒', nan, '540秒', '26分', '13分', '12分',\n",
       "       '21分', '25分', '720秒', '9分', '7分', '780秒', '6分', '18分', '31分',\n",
       "       '600秒', '23分', '28分', '2160秒', '660秒', '1500秒', '1920秒', '27分',\n",
       "       '33分', '360秒', '1320秒', '1740秒', '1680秒', '29分', '1620秒', '1440秒',\n",
       "       '1800秒', '30分', '34分', '4分', '19分', '1860秒', '1260秒', '2100秒',\n",
       "       '300秒', '2040秒', '1200秒', '1560秒', '1980秒', '36分', '1140秒'],\n",
       "      dtype=object)"
      ]
     },
     "execution_count": 15,
     "metadata": {},
     "output_type": "execute_result"
    }
   ],
   "source": [
    "df[\"DurationOfPitch\"].unique()"
   ]
  },
  {
   "cell_type": "code",
   "execution_count": 16,
   "metadata": {},
   "outputs": [],
   "source": [
    "# 単位をすべて秒に統一\n",
    "df[\"duration\"] = df[\"DurationOfPitch\"].dropna().apply(convert_to_second)\n",
    "\n",
    "# 欠損値を中央値で補完\n",
    "df[\"duration\"] = df[\"duration\"].fillna(df[\"duration\"].median())"
   ]
  },
  {
   "cell_type": "code",
   "execution_count": 17,
   "metadata": {},
   "outputs": [
    {
     "data": {
      "text/plain": [
       "array([ 900.,  840.,  600., 1080., 1020.,  960., 1320., 1200.,  660.,\n",
       "       1920., 1440., 1380., 2100.,  420.,  300.,  480.,  780.,  540.,\n",
       "       1560.,  720., 1260., 1500.,  360., 1860., 1680., 2160., 1620.,\n",
       "       1980., 1740., 1800., 2040.,  240., 1140.])"
      ]
     },
     "execution_count": 17,
     "metadata": {},
     "output_type": "execute_result"
    }
   ],
   "source": [
    "df[\"duration\"].unique()"
   ]
  },
  {
   "cell_type": "markdown",
   "metadata": {},
   "source": [
    "### TypeOfContact"
   ]
  },
  {
   "cell_type": "code",
   "execution_count": 18,
   "metadata": {},
   "outputs": [
    {
     "name": "stdout",
     "output_type": "stream",
     "text": [
      "TypeofContact\n",
      "Self Enquiry       2194\n",
      "Company Invited    1289\n",
      "Name: count, dtype: int64\n"
     ]
    }
   ],
   "source": [
    "# TypeofContact 後の処理のためにカラム名は変更しない\n",
    "\n",
    "print(df['TypeofContact'].value_counts())\n",
    "\n",
    "# 値の数が多い文字列で補完\n",
    "df['TypeofContact'] = df['TypeofContact'].fillna('Self Enquiry')"
   ]
  },
  {
   "cell_type": "markdown",
   "metadata": {},
   "source": [
    "### NumnerOfFollowups"
   ]
  },
  {
   "cell_type": "code",
   "execution_count": 19,
   "metadata": {},
   "outputs": [],
   "source": [
    "# 欠損値を中央値で補完\n",
    "df['NumberOfFollowups'] = df['NumberOfFollowups'].fillna(df['NumberOfFollowups'].median())"
   ]
  },
  {
   "cell_type": "markdown",
   "metadata": {},
   "source": [
    "### NumberPfTrips"
   ]
  },
  {
   "cell_type": "code",
   "execution_count": 20,
   "metadata": {},
   "outputs": [
    {
     "name": "stderr",
     "output_type": "stream",
     "text": [
      "C:\\Users\\ricke\\AppData\\Local\\Temp\\ipykernel_16668\\3007596005.py:2: SettingWithCopyWarning: \n",
      "A value is trying to be set on a copy of a slice from a DataFrame.\n",
      "Try using .loc[row_indexer,col_indexer] = value instead\n",
      "\n",
      "See the caveats in the documentation: https://pandas.pydata.org/pandas-docs/stable/user_guide/indexing.html#returning-a-view-versus-a-copy\n",
      "  tmp['NumberOfTrips'] = tmp['NumberOfTrips'].apply(normalize_trips)\n"
     ]
    }
   ],
   "source": [
    "tmp = df[~df['NumberOfTrips'].isna()]\n",
    "tmp['NumberOfTrips'] = tmp['NumberOfTrips'].apply(normalize_trips)\n",
    "df['NumberOfTrips'] = df['NumberOfTrips'].fillna(tmp['NumberOfTrips'].median())"
   ]
  },
  {
   "cell_type": "markdown",
   "metadata": {},
   "source": [
    "### MonthlyIncome"
   ]
  },
  {
   "cell_type": "code",
   "execution_count": 21,
   "metadata": {},
   "outputs": [
    {
     "name": "stderr",
     "output_type": "stream",
     "text": [
      "C:\\Users\\ricke\\AppData\\Local\\Temp\\ipykernel_16668\\103757898.py:2: SettingWithCopyWarning: \n",
      "A value is trying to be set on a copy of a slice from a DataFrame.\n",
      "Try using .loc[row_indexer,col_indexer] = value instead\n",
      "\n",
      "See the caveats in the documentation: https://pandas.pydata.org/pandas-docs/stable/user_guide/indexing.html#returning-a-view-versus-a-copy\n",
      "  tmp['MonthlyIncome'] = tmp['MonthlyIncome'].apply(normalize_monthly_income)\n"
     ]
    }
   ],
   "source": [
    "tmp = df[~df['MonthlyIncome'].isna()]\n",
    "tmp['MonthlyIncome'] = tmp['MonthlyIncome'].apply(normalize_monthly_income)\n",
    "df['MonthlyIncome'] = df['MonthlyIncome'].fillna(tmp['MonthlyIncome'].median())"
   ]
  },
  {
   "cell_type": "code",
   "execution_count": 22,
   "metadata": {},
   "outputs": [
    {
     "data": {
      "text/plain": [
       "id                          0\n",
       "Age                       100\n",
       "TypeofContact               0\n",
       "CityTier                    0\n",
       "DurationOfPitch           121\n",
       "Occupation                  0\n",
       "Gender                      0\n",
       "NumberOfPersonVisiting      0\n",
       "NumberOfFollowups           0\n",
       "ProductPitched              0\n",
       "PreferredPropertyStar       0\n",
       "NumberOfTrips               0\n",
       "Passport                    0\n",
       "PitchSatisfactionScore      0\n",
       "Designation                 0\n",
       "MonthlyIncome               0\n",
       "customer_info               0\n",
       "ProdTaken                   0\n",
       "age                         0\n",
       "duration                    0\n",
       "dtype: int64"
      ]
     },
     "execution_count": 22,
     "metadata": {},
     "output_type": "execute_result"
    }
   ],
   "source": [
    "df.isna().sum()"
   ]
  },
  {
   "cell_type": "code",
   "execution_count": 23,
   "metadata": {},
   "outputs": [
    {
     "data": {
      "text/plain": [
       "(3489, 20)"
      ]
     },
     "execution_count": 23,
     "metadata": {},
     "output_type": "execute_result"
    }
   ],
   "source": [
    "df.shape"
   ]
  },
  {
   "cell_type": "code",
   "execution_count": 24,
   "metadata": {},
   "outputs": [
    {
     "data": {
      "text/html": [
       "<div>\n",
       "<style scoped>\n",
       "    .dataframe tbody tr th:only-of-type {\n",
       "        vertical-align: middle;\n",
       "    }\n",
       "\n",
       "    .dataframe tbody tr th {\n",
       "        vertical-align: top;\n",
       "    }\n",
       "\n",
       "    .dataframe thead th {\n",
       "        text-align: right;\n",
       "    }\n",
       "</style>\n",
       "<table border=\"1\" class=\"dataframe\">\n",
       "  <thead>\n",
       "    <tr style=\"text-align: right;\">\n",
       "      <th></th>\n",
       "      <th>id</th>\n",
       "      <th>Age</th>\n",
       "      <th>TypeofContact</th>\n",
       "      <th>CityTier</th>\n",
       "      <th>DurationOfPitch</th>\n",
       "      <th>Occupation</th>\n",
       "      <th>Gender</th>\n",
       "      <th>NumberOfPersonVisiting</th>\n",
       "      <th>NumberOfFollowups</th>\n",
       "      <th>ProductPitched</th>\n",
       "      <th>PreferredPropertyStar</th>\n",
       "      <th>NumberOfTrips</th>\n",
       "      <th>Passport</th>\n",
       "      <th>PitchSatisfactionScore</th>\n",
       "      <th>Designation</th>\n",
       "      <th>MonthlyIncome</th>\n",
       "      <th>customer_info</th>\n",
       "      <th>ProdTaken</th>\n",
       "      <th>age</th>\n",
       "      <th>duration</th>\n",
       "    </tr>\n",
       "  </thead>\n",
       "  <tbody>\n",
       "    <tr>\n",
       "      <th>0</th>\n",
       "      <td>0</td>\n",
       "      <td>50歳</td>\n",
       "      <td>Self Enquiry</td>\n",
       "      <td>2</td>\n",
       "      <td>900秒</td>\n",
       "      <td>Large Business</td>\n",
       "      <td>male</td>\n",
       "      <td>1.0</td>\n",
       "      <td>4.0</td>\n",
       "      <td>Basic</td>\n",
       "      <td>3.0</td>\n",
       "      <td>5</td>\n",
       "      <td>1</td>\n",
       "      <td>4</td>\n",
       "      <td>Executive</td>\n",
       "      <td>253905.0</td>\n",
       "      <td>未婚 車未所持 子供なし</td>\n",
       "      <td>1</td>\n",
       "      <td>50</td>\n",
       "      <td>900.0</td>\n",
       "    </tr>\n",
       "    <tr>\n",
       "      <th>1</th>\n",
       "      <td>1</td>\n",
       "      <td>56歳</td>\n",
       "      <td>Company Invited</td>\n",
       "      <td>1</td>\n",
       "      <td>14分</td>\n",
       "      <td>Salaried</td>\n",
       "      <td>Male</td>\n",
       "      <td>1.0</td>\n",
       "      <td>4.0</td>\n",
       "      <td>Standard</td>\n",
       "      <td>3.0</td>\n",
       "      <td>2</td>\n",
       "      <td>1</td>\n",
       "      <td>4</td>\n",
       "      <td>Senior Manager</td>\n",
       "      <td>404475.0</td>\n",
       "      <td>離婚済み,車あり,子供無し</td>\n",
       "      <td>0</td>\n",
       "      <td>56</td>\n",
       "      <td>840.0</td>\n",
       "    </tr>\n",
       "    <tr>\n",
       "      <th>2</th>\n",
       "      <td>2</td>\n",
       "      <td>NaN</td>\n",
       "      <td>Self Enquiry</td>\n",
       "      <td>1</td>\n",
       "      <td>10分</td>\n",
       "      <td>Large Business</td>\n",
       "      <td>Female</td>\n",
       "      <td>1.0</td>\n",
       "      <td>3.0</td>\n",
       "      <td>Basic</td>\n",
       "      <td>3.0</td>\n",
       "      <td>4</td>\n",
       "      <td>0</td>\n",
       "      <td>4</td>\n",
       "      <td>Executive</td>\n",
       "      <td>278145.0</td>\n",
       "      <td>結婚済み、自動車未所有,子供なし</td>\n",
       "      <td>1</td>\n",
       "      <td>38</td>\n",
       "      <td>600.0</td>\n",
       "    </tr>\n",
       "    <tr>\n",
       "      <th>3</th>\n",
       "      <td>3</td>\n",
       "      <td>三十七歳</td>\n",
       "      <td>Self Enquiry</td>\n",
       "      <td>2</td>\n",
       "      <td>1080秒</td>\n",
       "      <td>Small Business</td>\n",
       "      <td>female</td>\n",
       "      <td>1.0</td>\n",
       "      <td>3.0</td>\n",
       "      <td>Standard</td>\n",
       "      <td>4.0</td>\n",
       "      <td>1</td>\n",
       "      <td>0</td>\n",
       "      <td>5</td>\n",
       "      <td>Senior Manager</td>\n",
       "      <td>326805.0</td>\n",
       "      <td>離婚済み、車所持、子供無し</td>\n",
       "      <td>0</td>\n",
       "      <td>37</td>\n",
       "      <td>1080.0</td>\n",
       "    </tr>\n",
       "    <tr>\n",
       "      <th>4</th>\n",
       "      <td>4</td>\n",
       "      <td>48歳</td>\n",
       "      <td>Company Invited</td>\n",
       "      <td>3</td>\n",
       "      <td>1020秒</td>\n",
       "      <td>Small Business</td>\n",
       "      <td>female</td>\n",
       "      <td>1.0</td>\n",
       "      <td>3.0</td>\n",
       "      <td>Basic</td>\n",
       "      <td>4.0</td>\n",
       "      <td>4</td>\n",
       "      <td>0</td>\n",
       "      <td>4</td>\n",
       "      <td>Executive</td>\n",
       "      <td>258435.0</td>\n",
       "      <td>独身／車所持／無子</td>\n",
       "      <td>1</td>\n",
       "      <td>48</td>\n",
       "      <td>1020.0</td>\n",
       "    </tr>\n",
       "  </tbody>\n",
       "</table>\n",
       "</div>"
      ],
      "text/plain": [
       "   id   Age    TypeofContact  CityTier DurationOfPitch      Occupation  \\\n",
       "0   0   50歳     Self Enquiry         2            900秒  Large Business   \n",
       "1   1   56歳  Company Invited         1             14分        Salaried   \n",
       "2   2   NaN     Self Enquiry         1             10分  Large Business   \n",
       "3   3  三十七歳     Self Enquiry         2           1080秒  Small Business   \n",
       "4   4   48歳  Company Invited         3           1020秒  Small Business   \n",
       "\n",
       "   Gender  NumberOfPersonVisiting  NumberOfFollowups ProductPitched  \\\n",
       "0    male                     1.0                4.0          Basic   \n",
       "1    Male                     1.0                4.0       Standard   \n",
       "2  Female                     1.0                3.0          Basic   \n",
       "3  female                     1.0                3.0       Standard   \n",
       "4  female                     1.0                3.0          Basic   \n",
       "\n",
       "   PreferredPropertyStar NumberOfTrips  Passport  PitchSatisfactionScore  \\\n",
       "0                    3.0             5         1                       4   \n",
       "1                    3.0             2         1                       4   \n",
       "2                    3.0             4         0                       4   \n",
       "3                    4.0             1         0                       5   \n",
       "4                    4.0             4         0                       4   \n",
       "\n",
       "      Designation MonthlyIncome     customer_info  ProdTaken  age  duration  \n",
       "0       Executive      253905.0      未婚 車未所持 子供なし          1   50     900.0  \n",
       "1  Senior Manager      404475.0     離婚済み,車あり,子供無し          0   56     840.0  \n",
       "2       Executive      278145.0  結婚済み、自動車未所有,子供なし          1   38     600.0  \n",
       "3  Senior Manager      326805.0     離婚済み、車所持、子供無し          0   37    1080.0  \n",
       "4       Executive      258435.0         独身／車所持／無子          1   48    1020.0  "
      ]
     },
     "execution_count": 24,
     "metadata": {},
     "output_type": "execute_result"
    }
   ],
   "source": [
    "df.head()"
   ]
  },
  {
   "cell_type": "markdown",
   "metadata": {},
   "source": [
    "## Extract Features"
   ]
  },
  {
   "cell_type": "code",
   "execution_count": 25,
   "metadata": {},
   "outputs": [],
   "source": [
    "df = df.drop(columns=[\"id\", \"Age\", \"DurationOfPitch\"], axis=1)"
   ]
  },
  {
   "cell_type": "code",
   "execution_count": 26,
   "metadata": {},
   "outputs": [
    {
     "data": {
      "text/plain": [
       "(3489, 17)"
      ]
     },
     "execution_count": 26,
     "metadata": {},
     "output_type": "execute_result"
    }
   ],
   "source": [
    "df.shape"
   ]
  },
  {
   "cell_type": "code",
   "execution_count": 27,
   "metadata": {},
   "outputs": [
    {
     "data": {
      "text/html": [
       "<div>\n",
       "<style scoped>\n",
       "    .dataframe tbody tr th:only-of-type {\n",
       "        vertical-align: middle;\n",
       "    }\n",
       "\n",
       "    .dataframe tbody tr th {\n",
       "        vertical-align: top;\n",
       "    }\n",
       "\n",
       "    .dataframe thead th {\n",
       "        text-align: right;\n",
       "    }\n",
       "</style>\n",
       "<table border=\"1\" class=\"dataframe\">\n",
       "  <thead>\n",
       "    <tr style=\"text-align: right;\">\n",
       "      <th></th>\n",
       "      <th>TypeofContact</th>\n",
       "      <th>CityTier</th>\n",
       "      <th>Occupation</th>\n",
       "      <th>Gender</th>\n",
       "      <th>NumberOfPersonVisiting</th>\n",
       "      <th>NumberOfFollowups</th>\n",
       "      <th>ProductPitched</th>\n",
       "      <th>PreferredPropertyStar</th>\n",
       "      <th>NumberOfTrips</th>\n",
       "      <th>Passport</th>\n",
       "      <th>PitchSatisfactionScore</th>\n",
       "      <th>Designation</th>\n",
       "      <th>MonthlyIncome</th>\n",
       "      <th>customer_info</th>\n",
       "      <th>ProdTaken</th>\n",
       "      <th>age</th>\n",
       "      <th>duration</th>\n",
       "    </tr>\n",
       "  </thead>\n",
       "  <tbody>\n",
       "    <tr>\n",
       "      <th>0</th>\n",
       "      <td>Self Enquiry</td>\n",
       "      <td>2</td>\n",
       "      <td>Large Business</td>\n",
       "      <td>male</td>\n",
       "      <td>1.0</td>\n",
       "      <td>4.0</td>\n",
       "      <td>Basic</td>\n",
       "      <td>3.0</td>\n",
       "      <td>5</td>\n",
       "      <td>1</td>\n",
       "      <td>4</td>\n",
       "      <td>Executive</td>\n",
       "      <td>253905.0</td>\n",
       "      <td>未婚 車未所持 子供なし</td>\n",
       "      <td>1</td>\n",
       "      <td>50</td>\n",
       "      <td>900.0</td>\n",
       "    </tr>\n",
       "    <tr>\n",
       "      <th>1</th>\n",
       "      <td>Company Invited</td>\n",
       "      <td>1</td>\n",
       "      <td>Salaried</td>\n",
       "      <td>Male</td>\n",
       "      <td>1.0</td>\n",
       "      <td>4.0</td>\n",
       "      <td>Standard</td>\n",
       "      <td>3.0</td>\n",
       "      <td>2</td>\n",
       "      <td>1</td>\n",
       "      <td>4</td>\n",
       "      <td>Senior Manager</td>\n",
       "      <td>404475.0</td>\n",
       "      <td>離婚済み,車あり,子供無し</td>\n",
       "      <td>0</td>\n",
       "      <td>56</td>\n",
       "      <td>840.0</td>\n",
       "    </tr>\n",
       "    <tr>\n",
       "      <th>2</th>\n",
       "      <td>Self Enquiry</td>\n",
       "      <td>1</td>\n",
       "      <td>Large Business</td>\n",
       "      <td>Female</td>\n",
       "      <td>1.0</td>\n",
       "      <td>3.0</td>\n",
       "      <td>Basic</td>\n",
       "      <td>3.0</td>\n",
       "      <td>4</td>\n",
       "      <td>0</td>\n",
       "      <td>4</td>\n",
       "      <td>Executive</td>\n",
       "      <td>278145.0</td>\n",
       "      <td>結婚済み、自動車未所有,子供なし</td>\n",
       "      <td>1</td>\n",
       "      <td>38</td>\n",
       "      <td>600.0</td>\n",
       "    </tr>\n",
       "    <tr>\n",
       "      <th>3</th>\n",
       "      <td>Self Enquiry</td>\n",
       "      <td>2</td>\n",
       "      <td>Small Business</td>\n",
       "      <td>female</td>\n",
       "      <td>1.0</td>\n",
       "      <td>3.0</td>\n",
       "      <td>Standard</td>\n",
       "      <td>4.0</td>\n",
       "      <td>1</td>\n",
       "      <td>0</td>\n",
       "      <td>5</td>\n",
       "      <td>Senior Manager</td>\n",
       "      <td>326805.0</td>\n",
       "      <td>離婚済み、車所持、子供無し</td>\n",
       "      <td>0</td>\n",
       "      <td>37</td>\n",
       "      <td>1080.0</td>\n",
       "    </tr>\n",
       "    <tr>\n",
       "      <th>4</th>\n",
       "      <td>Company Invited</td>\n",
       "      <td>3</td>\n",
       "      <td>Small Business</td>\n",
       "      <td>female</td>\n",
       "      <td>1.0</td>\n",
       "      <td>3.0</td>\n",
       "      <td>Basic</td>\n",
       "      <td>4.0</td>\n",
       "      <td>4</td>\n",
       "      <td>0</td>\n",
       "      <td>4</td>\n",
       "      <td>Executive</td>\n",
       "      <td>258435.0</td>\n",
       "      <td>独身／車所持／無子</td>\n",
       "      <td>1</td>\n",
       "      <td>48</td>\n",
       "      <td>1020.0</td>\n",
       "    </tr>\n",
       "  </tbody>\n",
       "</table>\n",
       "</div>"
      ],
      "text/plain": [
       "     TypeofContact  CityTier      Occupation  Gender  NumberOfPersonVisiting  \\\n",
       "0     Self Enquiry         2  Large Business    male                     1.0   \n",
       "1  Company Invited         1        Salaried    Male                     1.0   \n",
       "2     Self Enquiry         1  Large Business  Female                     1.0   \n",
       "3     Self Enquiry         2  Small Business  female                     1.0   \n",
       "4  Company Invited         3  Small Business  female                     1.0   \n",
       "\n",
       "   NumberOfFollowups ProductPitched  PreferredPropertyStar NumberOfTrips  \\\n",
       "0                4.0          Basic                    3.0             5   \n",
       "1                4.0       Standard                    3.0             2   \n",
       "2                3.0          Basic                    3.0             4   \n",
       "3                3.0       Standard                    4.0             1   \n",
       "4                3.0          Basic                    4.0             4   \n",
       "\n",
       "   Passport  PitchSatisfactionScore     Designation MonthlyIncome  \\\n",
       "0         1                       4       Executive      253905.0   \n",
       "1         1                       4  Senior Manager      404475.0   \n",
       "2         0                       4       Executive      278145.0   \n",
       "3         0                       5  Senior Manager      326805.0   \n",
       "4         0                       4       Executive      258435.0   \n",
       "\n",
       "      customer_info  ProdTaken  age  duration  \n",
       "0      未婚 車未所持 子供なし          1   50     900.0  \n",
       "1     離婚済み,車あり,子供無し          0   56     840.0  \n",
       "2  結婚済み、自動車未所有,子供なし          1   38     600.0  \n",
       "3     離婚済み、車所持、子供無し          0   37    1080.0  \n",
       "4         独身／車所持／無子          1   48    1020.0  "
      ]
     },
     "execution_count": 27,
     "metadata": {},
     "output_type": "execute_result"
    }
   ],
   "source": [
    "df.head()"
   ]
  },
  {
   "cell_type": "code",
   "execution_count": 28,
   "metadata": {},
   "outputs": [],
   "source": [
    "df.to_csv(\"data/middle/train_non_null.csv\", index=False)"
   ]
  },
  {
   "cell_type": "markdown",
   "metadata": {},
   "source": [
    "## Normalization"
   ]
  },
  {
   "cell_type": "code",
   "execution_count": 29,
   "metadata": {},
   "outputs": [],
   "source": [
    "df = pd.read_csv(\"data/middle/train_non_null.csv\")"
   ]
  },
  {
   "cell_type": "code",
   "execution_count": 30,
   "metadata": {},
   "outputs": [
    {
     "data": {
      "text/plain": [
       "(3489, 17)"
      ]
     },
     "execution_count": 30,
     "metadata": {},
     "output_type": "execute_result"
    }
   ],
   "source": [
    "df.shape"
   ]
  },
  {
   "cell_type": "code",
   "execution_count": 31,
   "metadata": {},
   "outputs": [
    {
     "data": {
      "text/html": [
       "<div>\n",
       "<style scoped>\n",
       "    .dataframe tbody tr th:only-of-type {\n",
       "        vertical-align: middle;\n",
       "    }\n",
       "\n",
       "    .dataframe tbody tr th {\n",
       "        vertical-align: top;\n",
       "    }\n",
       "\n",
       "    .dataframe thead th {\n",
       "        text-align: right;\n",
       "    }\n",
       "</style>\n",
       "<table border=\"1\" class=\"dataframe\">\n",
       "  <thead>\n",
       "    <tr style=\"text-align: right;\">\n",
       "      <th></th>\n",
       "      <th>TypeofContact</th>\n",
       "      <th>CityTier</th>\n",
       "      <th>Occupation</th>\n",
       "      <th>Gender</th>\n",
       "      <th>NumberOfPersonVisiting</th>\n",
       "      <th>NumberOfFollowups</th>\n",
       "      <th>ProductPitched</th>\n",
       "      <th>PreferredPropertyStar</th>\n",
       "      <th>NumberOfTrips</th>\n",
       "      <th>Passport</th>\n",
       "      <th>PitchSatisfactionScore</th>\n",
       "      <th>Designation</th>\n",
       "      <th>MonthlyIncome</th>\n",
       "      <th>customer_info</th>\n",
       "      <th>ProdTaken</th>\n",
       "      <th>age</th>\n",
       "      <th>duration</th>\n",
       "    </tr>\n",
       "  </thead>\n",
       "  <tbody>\n",
       "    <tr>\n",
       "      <th>0</th>\n",
       "      <td>Self Enquiry</td>\n",
       "      <td>2</td>\n",
       "      <td>Large Business</td>\n",
       "      <td>male</td>\n",
       "      <td>1.0</td>\n",
       "      <td>4.0</td>\n",
       "      <td>Basic</td>\n",
       "      <td>3.0</td>\n",
       "      <td>5</td>\n",
       "      <td>1</td>\n",
       "      <td>4</td>\n",
       "      <td>Executive</td>\n",
       "      <td>253905.0</td>\n",
       "      <td>未婚 車未所持 子供なし</td>\n",
       "      <td>1</td>\n",
       "      <td>50</td>\n",
       "      <td>900.0</td>\n",
       "    </tr>\n",
       "    <tr>\n",
       "      <th>1</th>\n",
       "      <td>Company Invited</td>\n",
       "      <td>1</td>\n",
       "      <td>Salaried</td>\n",
       "      <td>Male</td>\n",
       "      <td>1.0</td>\n",
       "      <td>4.0</td>\n",
       "      <td>Standard</td>\n",
       "      <td>3.0</td>\n",
       "      <td>2</td>\n",
       "      <td>1</td>\n",
       "      <td>4</td>\n",
       "      <td>Senior Manager</td>\n",
       "      <td>404475.0</td>\n",
       "      <td>離婚済み,車あり,子供無し</td>\n",
       "      <td>0</td>\n",
       "      <td>56</td>\n",
       "      <td>840.0</td>\n",
       "    </tr>\n",
       "    <tr>\n",
       "      <th>2</th>\n",
       "      <td>Self Enquiry</td>\n",
       "      <td>1</td>\n",
       "      <td>Large Business</td>\n",
       "      <td>Female</td>\n",
       "      <td>1.0</td>\n",
       "      <td>3.0</td>\n",
       "      <td>Basic</td>\n",
       "      <td>3.0</td>\n",
       "      <td>4</td>\n",
       "      <td>0</td>\n",
       "      <td>4</td>\n",
       "      <td>Executive</td>\n",
       "      <td>278145.0</td>\n",
       "      <td>結婚済み、自動車未所有,子供なし</td>\n",
       "      <td>1</td>\n",
       "      <td>38</td>\n",
       "      <td>600.0</td>\n",
       "    </tr>\n",
       "    <tr>\n",
       "      <th>3</th>\n",
       "      <td>Self Enquiry</td>\n",
       "      <td>2</td>\n",
       "      <td>Small Business</td>\n",
       "      <td>female</td>\n",
       "      <td>1.0</td>\n",
       "      <td>3.0</td>\n",
       "      <td>Standard</td>\n",
       "      <td>4.0</td>\n",
       "      <td>1</td>\n",
       "      <td>0</td>\n",
       "      <td>5</td>\n",
       "      <td>Senior Manager</td>\n",
       "      <td>326805.0</td>\n",
       "      <td>離婚済み、車所持、子供無し</td>\n",
       "      <td>0</td>\n",
       "      <td>37</td>\n",
       "      <td>1080.0</td>\n",
       "    </tr>\n",
       "    <tr>\n",
       "      <th>4</th>\n",
       "      <td>Company Invited</td>\n",
       "      <td>3</td>\n",
       "      <td>Small Business</td>\n",
       "      <td>female</td>\n",
       "      <td>1.0</td>\n",
       "      <td>3.0</td>\n",
       "      <td>Basic</td>\n",
       "      <td>4.0</td>\n",
       "      <td>4</td>\n",
       "      <td>0</td>\n",
       "      <td>4</td>\n",
       "      <td>Executive</td>\n",
       "      <td>258435.0</td>\n",
       "      <td>独身／車所持／無子</td>\n",
       "      <td>1</td>\n",
       "      <td>48</td>\n",
       "      <td>1020.0</td>\n",
       "    </tr>\n",
       "  </tbody>\n",
       "</table>\n",
       "</div>"
      ],
      "text/plain": [
       "     TypeofContact  CityTier      Occupation  Gender  NumberOfPersonVisiting  \\\n",
       "0     Self Enquiry         2  Large Business    male                     1.0   \n",
       "1  Company Invited         1        Salaried    Male                     1.0   \n",
       "2     Self Enquiry         1  Large Business  Female                     1.0   \n",
       "3     Self Enquiry         2  Small Business  female                     1.0   \n",
       "4  Company Invited         3  Small Business  female                     1.0   \n",
       "\n",
       "   NumberOfFollowups ProductPitched  PreferredPropertyStar NumberOfTrips  \\\n",
       "0                4.0          Basic                    3.0             5   \n",
       "1                4.0       Standard                    3.0             2   \n",
       "2                3.0          Basic                    3.0             4   \n",
       "3                3.0       Standard                    4.0             1   \n",
       "4                3.0          Basic                    4.0             4   \n",
       "\n",
       "   Passport  PitchSatisfactionScore     Designation MonthlyIncome  \\\n",
       "0         1                       4       Executive      253905.0   \n",
       "1         1                       4  Senior Manager      404475.0   \n",
       "2         0                       4       Executive      278145.0   \n",
       "3         0                       5  Senior Manager      326805.0   \n",
       "4         0                       4       Executive      258435.0   \n",
       "\n",
       "      customer_info  ProdTaken  age  duration  \n",
       "0      未婚 車未所持 子供なし          1   50     900.0  \n",
       "1     離婚済み,車あり,子供無し          0   56     840.0  \n",
       "2  結婚済み、自動車未所有,子供なし          1   38     600.0  \n",
       "3     離婚済み、車所持、子供無し          0   37    1080.0  \n",
       "4         独身／車所持／無子          1   48    1020.0  "
      ]
     },
     "execution_count": 31,
     "metadata": {},
     "output_type": "execute_result"
    }
   ],
   "source": [
    "df.head()"
   ]
  },
  {
   "cell_type": "code",
   "execution_count": 32,
   "metadata": {},
   "outputs": [
    {
     "name": "stdout",
     "output_type": "stream",
     "text": [
      "<class 'pandas.core.frame.DataFrame'>\n",
      "RangeIndex: 3489 entries, 0 to 3488\n",
      "Data columns (total 17 columns):\n",
      " #   Column                  Non-Null Count  Dtype  \n",
      "---  ------                  --------------  -----  \n",
      " 0   TypeofContact           3489 non-null   object \n",
      " 1   CityTier                3489 non-null   int64  \n",
      " 2   Occupation              3489 non-null   object \n",
      " 3   Gender                  3489 non-null   object \n",
      " 4   NumberOfPersonVisiting  3489 non-null   float64\n",
      " 5   NumberOfFollowups       3489 non-null   float64\n",
      " 6   ProductPitched          3489 non-null   object \n",
      " 7   PreferredPropertyStar   3489 non-null   float64\n",
      " 8   NumberOfTrips           3489 non-null   object \n",
      " 9   Passport                3489 non-null   int64  \n",
      " 10  PitchSatisfactionScore  3489 non-null   int64  \n",
      " 11  Designation             3489 non-null   object \n",
      " 12  MonthlyIncome           3489 non-null   object \n",
      " 13  customer_info           3489 non-null   object \n",
      " 14  ProdTaken               3489 non-null   int64  \n",
      " 15  age                     3489 non-null   int64  \n",
      " 16  duration                3489 non-null   float64\n",
      "dtypes: float64(4), int64(5), object(8)\n",
      "memory usage: 463.5+ KB\n"
     ]
    }
   ],
   "source": [
    "df.info()"
   ]
  },
  {
   "cell_type": "code",
   "execution_count": 33,
   "metadata": {},
   "outputs": [
    {
     "name": "stdout",
     "output_type": "stream",
     "text": [
      "TypeofContact\n",
      "['Self Enquiry' 'Company Invited'] \n",
      "\n",
      "CityTier\n",
      "[2 1 3] \n",
      "\n",
      "Occupation\n",
      "['Large Business' 'Salaried' 'Small Business'] \n",
      "\n",
      "Gender\n",
      "['male' 'Male' 'Female' 'female' 'ｆｅｍａｌｅ' 'FEMALE' 'Ｍａｌｅ' 'Fe Male' 'MALE'\n",
      " 'ｆｅ\\u3000ｍａｌｅ' 'fe male' 'Ｆｅｍａｌｅ' 'ｍａｌｅ' 'FE MALE' 'Ｆｅ\\u3000Ｍａｌｅ'\n",
      " 'ＦＥＭＡＬＥ' 'ＦＥ\\u3000ＭＡＬＥ' 'ＭＡＬＥ'] \n",
      "\n",
      "NumberOfTrips\n",
      "['5' '2' '4' '1' '年に1回' '年に2回' '年に6回' '3' '年に5回' '7' '6' '半年に1回' '年に4回'\n",
      " '年に3回' '8' '年に8回' '3.0' '年に7回' '四半期に1回'] \n",
      "\n",
      "customer_info\n",
      "['未婚 車未所持 子供なし' '離婚済み,車あり,子供無し' '結婚済み、自動車未所有,子供なし' ...\n",
      " '結婚済み,車保有なし,子供有り 1人' '結婚済み/自家用車なし/1児' '独身／車所持／こども1人'] \n",
      "\n",
      "ProductPitched\n",
      "['Basic' 'Standard' 'Super Deluxe' 'basic' 'SUPER DELUXE' 'super deluxe'\n",
      " 'BASIC' 'Deluxe' 'deluxe' 'STANᗞARD' 'STANDARD' 'Вasic' 'DELUXE'\n",
      " 'ꓢuper De|uxe' 'Ѕuper Deluxe' 'BAՏIC' 'Basıc' 'King' 'Super De|uxe'\n",
      " 'king' 'standard' 'KING' 'BΑSIC' 'B𝖺sic' 'De|uxe' 'ᎠELUXE' 'Basiϲ'\n",
      " 'de|u×e' 'Delu×e' 'Standar𝔡' 'Basi𝘤' 'Βasic' 'Տuper Deluxe' 'Staոdard'\n",
      " 'BAꓢIC' 'ᗞeluxe' 'Տtandard' 'Βası𝘤' 'Kıng' 'Baｓic' 'basıc' 'super de|uxe'\n",
      " 'Stand𝖺rd' 'S𝘵andard' '𐊡asic' 'St𝖺ndard' 'Super ᗞeluxe' 'de|uxe'\n",
      " 'ｓuper deluxe' 'STANDARᎠ' 'Basiс' 'DΕLUXΕ' 'ꓢuper Deluxe' 'BASΙC'\n",
      " 'ꓢtandard' 'В𝖺sic' 'Standa𝘳d' 'basiϲ' 'staոdard' 'Super Ꭰeluxe' 'DELUXΕ'\n",
      " 'Ѕtandard' '𐊡asi𝘤' 'Ꭰeluxe' 'Kıոg' '𝙳eluxe' 'Kiոg' 'Βasıc' 'BASIС'\n",
      " 'SUPER DΕLUXE' 'B𝖺si𝘤' 'ΒASIС' 'Super 𝙳eluxe' 'Տtanda𝘳d' 'Basıϲ'\n",
      " 'ЅTANDARD'] \n",
      "\n",
      "Designation\n",
      "['Executive' 'Senior Manager' 'AVP' 'Manager' 'Senior Manage𝙧' 'Execuｔive'\n",
      " 'Μanager' 'VP' 'Sеnior Manager' 'ΑVP' 'АVP' 'E×ecutive' 'Mαnage𝙧'\n",
      " 'Executiѵе' 'Ѕenior Manager' 'Managеr' 'Еxecutivе' 'Senior Μanαger'\n",
      " 'Еxecuｔive' 'Exеcutivе' 'Exеcutive' 'Senior Managе𝙧' 'Manage𝙧'\n",
      " 'Senio𝙧 Manager' 'Manαger' 'Μanage𝙧' 'Manαgеr' 'Senior Managеr'\n",
      " 'Executivе' 'Executiѵe' 'Е×еcutive' 'Еxecutive' 'VＰ' 'Տenior Μanager'\n",
      " 'Exеcutiѵе' 'Senior Manαger' 'Mαnager' 'Senior Mαnαger' 'E×еcutiѵe'\n",
      " 'Ѕenior Manαger' 'Exеcｕtive' 'Execｕtive' 'Mαnαger' 'Μanagеr' 'E×ecｕtive'\n",
      " 'Sеnior Managеr' 'Տenior Manager' 'AVＰ' 'Exеcｕtivе' 'Mαnagеr' 'Еxеcutivе'\n",
      " 'Senior Mαnager' 'Е×ecutive'] \n",
      "\n"
     ]
    }
   ],
   "source": [
    "tmp = [\"TypeofContact\", \"CityTier\", \"Occupation\", \"Gender\", \"NumberOfTrips\", \"customer_info\", \"ProductPitched\", \"Designation\"]\n",
    "for column in tmp:\n",
    "    print(column)\n",
    "    print(df[column].unique(), \"\\n\")"
   ]
  },
  {
   "cell_type": "markdown",
   "metadata": {},
   "source": [
    "### Gender -> gender"
   ]
  },
  {
   "cell_type": "code",
   "execution_count": 34,
   "metadata": {},
   "outputs": [
    {
     "data": {
      "text/plain": [
       "array(['male', 'Male', 'Female', 'female', 'ｆｅｍａｌｅ', 'FEMALE', 'Ｍａｌｅ',\n",
       "       'Fe Male', 'MALE', 'ｆｅ\\u3000ｍａｌｅ', 'fe male', 'Ｆｅｍａｌｅ', 'ｍａｌｅ',\n",
       "       'FE MALE', 'Ｆｅ\\u3000Ｍａｌｅ', 'ＦＥＭＡＬＥ', 'ＦＥ\\u3000ＭＡＬＥ', 'ＭＡＬＥ'],\n",
       "      dtype=object)"
      ]
     },
     "execution_count": 34,
     "metadata": {},
     "output_type": "execute_result"
    }
   ],
   "source": [
    "df['Gender'].unique()"
   ]
  },
  {
   "cell_type": "code",
   "execution_count": 35,
   "metadata": {},
   "outputs": [],
   "source": [
    "df['gender'] = df['Gender'].apply(normalize_gender)"
   ]
  },
  {
   "cell_type": "code",
   "execution_count": 36,
   "metadata": {},
   "outputs": [
    {
     "data": {
      "text/plain": [
       "array(['male', 'female'], dtype=object)"
      ]
     },
     "execution_count": 36,
     "metadata": {},
     "output_type": "execute_result"
    }
   ],
   "source": [
    "df['gender'].unique()"
   ]
  },
  {
   "cell_type": "markdown",
   "metadata": {},
   "source": [
    "### NumberOfFollowups -> follow"
   ]
  },
  {
   "cell_type": "code",
   "execution_count": 37,
   "metadata": {},
   "outputs": [
    {
     "data": {
      "text/plain": [
       "NumberOfFollowups\n",
       "4.0      1429\n",
       "3.0      1279\n",
       "5.0       519\n",
       "2.0       108\n",
       "1.0        77\n",
       "6.0        38\n",
       "300.0      17\n",
       "400.0      15\n",
       "500.0       5\n",
       "100.0       1\n",
       "600.0       1\n",
       "Name: count, dtype: int64"
      ]
     },
     "execution_count": 37,
     "metadata": {},
     "output_type": "execute_result"
    }
   ],
   "source": [
    "df['NumberOfFollowups'].value_counts()"
   ]
  },
  {
   "cell_type": "code",
   "execution_count": 38,
   "metadata": {},
   "outputs": [],
   "source": [
    "df['follow'] = df['NumberOfFollowups'].apply(lambda x: x if x < 100 else x / 100)"
   ]
  },
  {
   "cell_type": "code",
   "execution_count": 39,
   "metadata": {},
   "outputs": [
    {
     "data": {
      "text/plain": [
       "follow\n",
       "4.0    1444\n",
       "3.0    1296\n",
       "5.0     524\n",
       "2.0     108\n",
       "1.0      78\n",
       "6.0      39\n",
       "Name: count, dtype: int64"
      ]
     },
     "execution_count": 39,
     "metadata": {},
     "output_type": "execute_result"
    }
   ],
   "source": [
    "df['follow'].value_counts()"
   ]
  },
  {
   "cell_type": "markdown",
   "metadata": {},
   "source": [
    "### ProductPitched -> product_pitched"
   ]
  },
  {
   "cell_type": "code",
   "execution_count": 40,
   "metadata": {},
   "outputs": [
    {
     "data": {
      "text/plain": [
       "array(['Basic', 'Standard', 'Super Deluxe', 'basic', 'SUPER DELUXE',\n",
       "       'super deluxe', 'BASIC', 'Deluxe', 'deluxe', 'STANᗞARD',\n",
       "       'STANDARD', 'Вasic', 'DELUXE', 'ꓢuper De|uxe', 'Ѕuper Deluxe',\n",
       "       'BAՏIC', 'Basıc', 'King', 'Super De|uxe', 'king', 'standard',\n",
       "       'KING', 'BΑSIC', 'B𝖺sic', 'De|uxe', 'ᎠELUXE', 'Basiϲ', 'de|u×e',\n",
       "       'Delu×e', 'Standar𝔡', 'Basi𝘤', 'Βasic', 'Տuper Deluxe', 'Staոdard',\n",
       "       'BAꓢIC', 'ᗞeluxe', 'Տtandard', 'Βası𝘤', 'Kıng', 'Baｓic', 'basıc',\n",
       "       'super de|uxe', 'Stand𝖺rd', 'S𝘵andard', '𐊡asic', 'St𝖺ndard',\n",
       "       'Super ᗞeluxe', 'de|uxe', 'ｓuper deluxe', 'STANDARᎠ', 'Basiс',\n",
       "       'DΕLUXΕ', 'ꓢuper Deluxe', 'BASΙC', 'ꓢtandard', 'В𝖺sic', 'Standa𝘳d',\n",
       "       'basiϲ', 'staոdard', 'Super Ꭰeluxe', 'DELUXΕ', 'Ѕtandard', '𐊡asi𝘤',\n",
       "       'Ꭰeluxe', 'Kıոg', '𝙳eluxe', 'Kiոg', 'Βasıc', 'BASIС',\n",
       "       'SUPER DΕLUXE', 'B𝖺si𝘤', 'ΒASIС', 'Super 𝙳eluxe', 'Տtanda𝘳d',\n",
       "       'Basıϲ', 'ЅTANDARD'], dtype=object)"
      ]
     },
     "execution_count": 40,
     "metadata": {},
     "output_type": "execute_result"
    }
   ],
   "source": [
    "df['ProductPitched'].unique()"
   ]
  },
  {
   "cell_type": "code",
   "execution_count": 41,
   "metadata": {},
   "outputs": [],
   "source": [
    "df['product_pitched'] = df['ProductPitched'].apply(normalize_product_pitched_1)"
   ]
  },
  {
   "cell_type": "code",
   "execution_count": 42,
   "metadata": {},
   "outputs": [
    {
     "data": {
      "text/plain": [
       "array(['Basic', 'Standard', 'Deluxe', 'super deiuxe', 'banic', 'King',\n",
       "       'deiuxe', 'seluxe', 'basis', 'ntandard', 'iasic', 'standars',\n",
       "       'basιc', 'super seluxe', 'ѕtandard'], dtype=object)"
      ]
     },
     "execution_count": 42,
     "metadata": {},
     "output_type": "execute_result"
    }
   ],
   "source": [
    "df['product_pitched'].unique()"
   ]
  },
  {
   "cell_type": "code",
   "execution_count": 43,
   "metadata": {},
   "outputs": [],
   "source": [
    "df['product_pitched'] = df['product_pitched'].apply(normalize_product_pitched_2)"
   ]
  },
  {
   "cell_type": "code",
   "execution_count": 44,
   "metadata": {},
   "outputs": [
    {
     "data": {
      "text/plain": [
       "array(['Basic', 'Standard', 'Deluxe', 'Super Deluxe', 'King'],\n",
       "      dtype=object)"
      ]
     },
     "execution_count": 44,
     "metadata": {},
     "output_type": "execute_result"
    }
   ],
   "source": [
    "df['product_pitched'].unique()"
   ]
  },
  {
   "cell_type": "markdown",
   "metadata": {},
   "source": [
    "### NumberOfTrips -> trip_per_year"
   ]
  },
  {
   "cell_type": "code",
   "execution_count": 45,
   "metadata": {},
   "outputs": [
    {
     "data": {
      "text/plain": [
       "array(['5', '2', '4', '1', '年に1回', '年に2回', '年に6回', '3', '年に5回', '7', '6',\n",
       "       '半年に1回', '年に4回', '年に3回', '8', '年に8回', '3.0', '年に7回', '四半期に1回'],\n",
       "      dtype=object)"
      ]
     },
     "execution_count": 45,
     "metadata": {},
     "output_type": "execute_result"
    }
   ],
   "source": [
    "df['NumberOfTrips'].unique()"
   ]
  },
  {
   "cell_type": "code",
   "execution_count": 46,
   "metadata": {},
   "outputs": [],
   "source": [
    "df['trip_per_year'] = df['NumberOfTrips'].apply(normalize_trips)"
   ]
  },
  {
   "cell_type": "code",
   "execution_count": 47,
   "metadata": {},
   "outputs": [
    {
     "data": {
      "text/plain": [
       "array([5, 2, 4, 1, 8, 24, 3, 20, 7, 6, 16, 12, 32, '3.0', 28],\n",
       "      dtype=object)"
      ]
     },
     "execution_count": 47,
     "metadata": {},
     "output_type": "execute_result"
    }
   ],
   "source": [
    "df['trip_per_year'].unique()"
   ]
  },
  {
   "cell_type": "markdown",
   "metadata": {},
   "source": [
    "### Designation -> designation"
   ]
  },
  {
   "cell_type": "code",
   "execution_count": 48,
   "metadata": {},
   "outputs": [
    {
     "data": {
      "text/plain": [
       "array(['Executive', 'Senior Manager', 'AVP', 'Manager', 'Senior Manage𝙧',\n",
       "       'Execuｔive', 'Μanager', 'VP', 'Sеnior Manager', 'ΑVP', 'АVP',\n",
       "       'E×ecutive', 'Mαnage𝙧', 'Executiѵе', 'Ѕenior Manager', 'Managеr',\n",
       "       'Еxecutivе', 'Senior Μanαger', 'Еxecuｔive', 'Exеcutivе',\n",
       "       'Exеcutive', 'Senior Managе𝙧', 'Manage𝙧', 'Senio𝙧 Manager',\n",
       "       'Manαger', 'Μanage𝙧', 'Manαgеr', 'Senior Managеr', 'Executivе',\n",
       "       'Executiѵe', 'Е×еcutive', 'Еxecutive', 'VＰ', 'Տenior Μanager',\n",
       "       'Exеcutiѵе', 'Senior Manαger', 'Mαnager', 'Senior Mαnαger',\n",
       "       'E×еcutiѵe', 'Ѕenior Manαger', 'Exеcｕtive', 'Execｕtive', 'Mαnαger',\n",
       "       'Μanagеr', 'E×ecｕtive', 'Sеnior Managеr', 'Տenior Manager', 'AVＰ',\n",
       "       'Exеcｕtivе', 'Mαnagеr', 'Еxеcutivе', 'Senior Mαnager', 'Е×ecutive'],\n",
       "      dtype=object)"
      ]
     },
     "execution_count": 48,
     "metadata": {},
     "output_type": "execute_result"
    }
   ],
   "source": [
    "df['Designation'].unique()"
   ]
  },
  {
   "cell_type": "code",
   "execution_count": 49,
   "metadata": {},
   "outputs": [],
   "source": [
    "df['designation'] = df['Designation'].apply(normalize_designation_1)"
   ]
  },
  {
   "cell_type": "code",
   "execution_count": 50,
   "metadata": {},
   "outputs": [
    {
     "data": {
      "text/plain": [
       "array(['Executive', 'Senior Manager', 'AVP', 'Manager', 'μanager', 'VP',\n",
       "       'e×ecutive', 'senior μanager'], dtype=object)"
      ]
     },
     "execution_count": 50,
     "metadata": {},
     "output_type": "execute_result"
    }
   ],
   "source": [
    "df['designation'].unique()"
   ]
  },
  {
   "cell_type": "code",
   "execution_count": 51,
   "metadata": {},
   "outputs": [],
   "source": [
    "df['designation'] = df['designation'].apply(normalize_designation_2)"
   ]
  },
  {
   "cell_type": "code",
   "execution_count": 52,
   "metadata": {},
   "outputs": [
    {
     "data": {
      "text/plain": [
       "array(['Executive', 'Senior Manager', 'AVP', 'Manager', 'VP'],\n",
       "      dtype=object)"
      ]
     },
     "execution_count": 52,
     "metadata": {},
     "output_type": "execute_result"
    }
   ],
   "source": [
    "df['designation'].unique()"
   ]
  },
  {
   "cell_type": "markdown",
   "metadata": {},
   "source": [
    "### MonthlyIncome -> income"
   ]
  },
  {
   "cell_type": "code",
   "execution_count": 53,
   "metadata": {},
   "outputs": [
    {
     "data": {
      "text/plain": [
       "array(['253905.0', '404475.0', '278145.0', ..., '317340.0', '527910.0',\n",
       "       '278190.0'], dtype=object)"
      ]
     },
     "execution_count": 53,
     "metadata": {},
     "output_type": "execute_result"
    }
   ],
   "source": [
    "df['MonthlyIncome'].unique()"
   ]
  },
  {
   "cell_type": "code",
   "execution_count": 54,
   "metadata": {},
   "outputs": [],
   "source": [
    "df['income'] = df['MonthlyIncome'].apply(normalize_monthly_income)"
   ]
  },
  {
   "cell_type": "code",
   "execution_count": 55,
   "metadata": {},
   "outputs": [
    {
     "data": {
      "text/plain": [
       "array([253905., 404475., 278145., ..., 317340., 527910., 278190.])"
      ]
     },
     "execution_count": 55,
     "metadata": {},
     "output_type": "execute_result"
    }
   ],
   "source": [
    "df['income'].unique()"
   ]
  },
  {
   "cell_type": "markdown",
   "metadata": {},
   "source": [
    "### customer_info -> info_1, info_2, info_3"
   ]
  },
  {
   "cell_type": "code",
   "execution_count": 56,
   "metadata": {},
   "outputs": [],
   "source": [
    "df[['info_1', 'info_2', 'info_3']] = df['customer_info'].apply(divide_customer_info)"
   ]
  },
  {
   "cell_type": "code",
   "execution_count": 57,
   "metadata": {},
   "outputs": [
    {
     "data": {
      "text/html": [
       "<div>\n",
       "<style scoped>\n",
       "    .dataframe tbody tr th:only-of-type {\n",
       "        vertical-align: middle;\n",
       "    }\n",
       "\n",
       "    .dataframe tbody tr th {\n",
       "        vertical-align: top;\n",
       "    }\n",
       "\n",
       "    .dataframe thead th {\n",
       "        text-align: right;\n",
       "    }\n",
       "</style>\n",
       "<table border=\"1\" class=\"dataframe\">\n",
       "  <thead>\n",
       "    <tr style=\"text-align: right;\">\n",
       "      <th></th>\n",
       "      <th>info_1</th>\n",
       "      <th>info_2</th>\n",
       "      <th>info_3</th>\n",
       "    </tr>\n",
       "  </thead>\n",
       "  <tbody>\n",
       "    <tr>\n",
       "      <th>0</th>\n",
       "      <td>未婚</td>\n",
       "      <td>車未所持</td>\n",
       "      <td>子供なし</td>\n",
       "    </tr>\n",
       "    <tr>\n",
       "      <th>1</th>\n",
       "      <td>離婚済み</td>\n",
       "      <td>車あり</td>\n",
       "      <td>子供無し</td>\n",
       "    </tr>\n",
       "    <tr>\n",
       "      <th>2</th>\n",
       "      <td>結婚済み</td>\n",
       "      <td>自動車未所有</td>\n",
       "      <td>子供なし</td>\n",
       "    </tr>\n",
       "    <tr>\n",
       "      <th>3</th>\n",
       "      <td>離婚済み</td>\n",
       "      <td>車所持</td>\n",
       "      <td>子供無し</td>\n",
       "    </tr>\n",
       "    <tr>\n",
       "      <th>4</th>\n",
       "      <td>独身</td>\n",
       "      <td>車所持</td>\n",
       "      <td>無子</td>\n",
       "    </tr>\n",
       "  </tbody>\n",
       "</table>\n",
       "</div>"
      ],
      "text/plain": [
       "  info_1  info_2 info_3\n",
       "0     未婚    車未所持   子供なし\n",
       "1   離婚済み     車あり   子供無し\n",
       "2   結婚済み  自動車未所有   子供なし\n",
       "3   離婚済み     車所持   子供無し\n",
       "4     独身     車所持     無子"
      ]
     },
     "execution_count": 57,
     "metadata": {},
     "output_type": "execute_result"
    }
   ],
   "source": [
    "df[['info_1', 'info_2', 'info_3']].head()"
   ]
  },
  {
   "cell_type": "code",
   "execution_count": 58,
   "metadata": {},
   "outputs": [
    {
     "name": "stdout",
     "output_type": "stream",
     "text": [
      "NuLL (info_1) :  0\n",
      "NuLL (info_2) :  0\n",
      "NuLL (info_3) :  0\n"
     ]
    }
   ],
   "source": [
    "print('NuLL (info_1) : ', df['info_1'].isna().sum())\n",
    "print('NuLL (info_2) : ', df['info_2'].isna().sum())\n",
    "print('NuLL (info_3) : ', df['info_3'].isna().sum())"
   ]
  },
  {
   "cell_type": "code",
   "execution_count": 59,
   "metadata": {},
   "outputs": [
    {
     "name": "stdout",
     "output_type": "stream",
     "text": [
      "info_1 unique :  ['未婚' '離婚済み' '結婚済み' '独身'] \n",
      "\n",
      "info_2 unique :  ['車未所持' '車あり' '自動車未所有' '車所持' '自家用車あり' '車保有' '車保有なし' '乗用車所持' '乗用車なし'\n",
      " '自動車所有' '自家用車なし' '車なし'] \n",
      "\n",
      "info_3 unique :  ['子供なし' '子供無し' '無子' '子供ゼロ' '非育児家庭' '子育て状況不明' '子の数不詳' '子供の数不明' 'こども1人' '1児'\n",
      " '子供1人' '子供有り(1人)' 'わからない' '子供有り' 'こども2人' '子供2人' '子供有り(2人)' 'こども3人' '子供3人'\n",
      " '不明' '2児' '3児' '子供有り(3人)']\n"
     ]
    }
   ],
   "source": [
    "print('info_1 unique : ', df['info_1'].unique(), '\\n')\n",
    "print('info_2 unique : ', df['info_2'].unique(), '\\n')\n",
    "print('info_3 unique : ', df['info_3'].unique())"
   ]
  },
  {
   "cell_type": "code",
   "execution_count": 60,
   "metadata": {},
   "outputs": [],
   "source": [
    "df['info_1'] = df['info_1'].apply(normalize_info_1)\n",
    "df['info_2'] = df['info_2'].apply(normalize_info_2)\n",
    "df['info_3'] = df['info_3'].apply(normalize_info_3)"
   ]
  },
  {
   "cell_type": "code",
   "execution_count": 61,
   "metadata": {},
   "outputs": [
    {
     "name": "stdout",
     "output_type": "stream",
     "text": [
      "info_1 unique :  ['Single' 'Divorced' 'Married'] \n",
      "\n",
      "info_2 unique :  ['No Car' 'Has Car'] \n",
      "\n",
      "info_3 unique :  ['0' '1' '2' '3']\n"
     ]
    }
   ],
   "source": [
    "print('info_1 unique : ', df['info_1'].unique(), '\\n')\n",
    "print('info_2 unique : ', df['info_2'].unique(), '\\n')\n",
    "print('info_3 unique : ', df['info_3'].unique())"
   ]
  },
  {
   "cell_type": "markdown",
   "metadata": {},
   "source": [
    "### Confirm"
   ]
  },
  {
   "cell_type": "code",
   "execution_count": 62,
   "metadata": {},
   "outputs": [
    {
     "name": "stdout",
     "output_type": "stream",
     "text": [
      "gender\n",
      "['male' 'female'] \n",
      "\n",
      "product_pitched\n",
      "['Basic' 'Standard' 'Deluxe' 'Super Deluxe' 'King'] \n",
      "\n",
      "trip_per_year\n",
      "[ 5  2  4  1  8 24  3 20  7  6 16 12 32 28] \n",
      "\n",
      "designation\n",
      "['Executive' 'Senior Manager' 'AVP' 'Manager' 'VP'] \n",
      "\n",
      "info_1\n",
      "['Single' 'Divorced' 'Married'] \n",
      "\n",
      "info_2\n",
      "['No Car' 'Has Car'] \n",
      "\n",
      "info_3\n",
      "['0' '1' '2' '3'] \n",
      "\n"
     ]
    }
   ],
   "source": [
    "df['trip_per_year'] = df['trip_per_year'].astype('float')\n",
    "df['trip_per_year'] = df['trip_per_year'].astype('int')\n",
    "\n",
    "tmp = [\"gender\", \"product_pitched\", \"trip_per_year\", \"designation\", \"info_1\", \"info_2\", \"info_3\"]\n",
    "for column in tmp:\n",
    "    print(column)\n",
    "    print(df[column].unique(), \"\\n\")"
   ]
  },
  {
   "cell_type": "markdown",
   "metadata": {},
   "source": [
    "### Output CSV"
   ]
  },
  {
   "cell_type": "code",
   "execution_count": 63,
   "metadata": {},
   "outputs": [
    {
     "data": {
      "text/plain": [
       "(3489, 26)"
      ]
     },
     "execution_count": 63,
     "metadata": {},
     "output_type": "execute_result"
    }
   ],
   "source": [
    "df.shape"
   ]
  },
  {
   "cell_type": "code",
   "execution_count": 64,
   "metadata": {},
   "outputs": [],
   "source": [
    "df = df.drop(columns=['Gender', 'NumberOfFollowups', 'ProductPitched', 'NumberOfTrips', 'Designation', 'customer_info','MonthlyIncome'])"
   ]
  },
  {
   "cell_type": "code",
   "execution_count": 65,
   "metadata": {},
   "outputs": [
    {
     "data": {
      "text/plain": [
       "(3489, 19)"
      ]
     },
     "execution_count": 65,
     "metadata": {},
     "output_type": "execute_result"
    }
   ],
   "source": [
    "df.shape"
   ]
  },
  {
   "cell_type": "code",
   "execution_count": 66,
   "metadata": {},
   "outputs": [
    {
     "data": {
      "text/html": [
       "<div>\n",
       "<style scoped>\n",
       "    .dataframe tbody tr th:only-of-type {\n",
       "        vertical-align: middle;\n",
       "    }\n",
       "\n",
       "    .dataframe tbody tr th {\n",
       "        vertical-align: top;\n",
       "    }\n",
       "\n",
       "    .dataframe thead th {\n",
       "        text-align: right;\n",
       "    }\n",
       "</style>\n",
       "<table border=\"1\" class=\"dataframe\">\n",
       "  <thead>\n",
       "    <tr style=\"text-align: right;\">\n",
       "      <th></th>\n",
       "      <th>TypeofContact</th>\n",
       "      <th>CityTier</th>\n",
       "      <th>Occupation</th>\n",
       "      <th>NumberOfPersonVisiting</th>\n",
       "      <th>PreferredPropertyStar</th>\n",
       "      <th>Passport</th>\n",
       "      <th>PitchSatisfactionScore</th>\n",
       "      <th>ProdTaken</th>\n",
       "      <th>age</th>\n",
       "      <th>duration</th>\n",
       "      <th>gender</th>\n",
       "      <th>follow</th>\n",
       "      <th>product_pitched</th>\n",
       "      <th>trip_per_year</th>\n",
       "      <th>designation</th>\n",
       "      <th>income</th>\n",
       "      <th>info_1</th>\n",
       "      <th>info_2</th>\n",
       "      <th>info_3</th>\n",
       "    </tr>\n",
       "  </thead>\n",
       "  <tbody>\n",
       "    <tr>\n",
       "      <th>0</th>\n",
       "      <td>Self Enquiry</td>\n",
       "      <td>2</td>\n",
       "      <td>Large Business</td>\n",
       "      <td>1.0</td>\n",
       "      <td>3.0</td>\n",
       "      <td>1</td>\n",
       "      <td>4</td>\n",
       "      <td>1</td>\n",
       "      <td>50</td>\n",
       "      <td>900.0</td>\n",
       "      <td>male</td>\n",
       "      <td>4.0</td>\n",
       "      <td>Basic</td>\n",
       "      <td>5</td>\n",
       "      <td>Executive</td>\n",
       "      <td>253905.0</td>\n",
       "      <td>Single</td>\n",
       "      <td>No Car</td>\n",
       "      <td>0</td>\n",
       "    </tr>\n",
       "    <tr>\n",
       "      <th>1</th>\n",
       "      <td>Company Invited</td>\n",
       "      <td>1</td>\n",
       "      <td>Salaried</td>\n",
       "      <td>1.0</td>\n",
       "      <td>3.0</td>\n",
       "      <td>1</td>\n",
       "      <td>4</td>\n",
       "      <td>0</td>\n",
       "      <td>56</td>\n",
       "      <td>840.0</td>\n",
       "      <td>male</td>\n",
       "      <td>4.0</td>\n",
       "      <td>Standard</td>\n",
       "      <td>2</td>\n",
       "      <td>Senior Manager</td>\n",
       "      <td>404475.0</td>\n",
       "      <td>Divorced</td>\n",
       "      <td>Has Car</td>\n",
       "      <td>0</td>\n",
       "    </tr>\n",
       "    <tr>\n",
       "      <th>2</th>\n",
       "      <td>Self Enquiry</td>\n",
       "      <td>1</td>\n",
       "      <td>Large Business</td>\n",
       "      <td>1.0</td>\n",
       "      <td>3.0</td>\n",
       "      <td>0</td>\n",
       "      <td>4</td>\n",
       "      <td>1</td>\n",
       "      <td>38</td>\n",
       "      <td>600.0</td>\n",
       "      <td>female</td>\n",
       "      <td>3.0</td>\n",
       "      <td>Basic</td>\n",
       "      <td>4</td>\n",
       "      <td>Executive</td>\n",
       "      <td>278145.0</td>\n",
       "      <td>Married</td>\n",
       "      <td>No Car</td>\n",
       "      <td>0</td>\n",
       "    </tr>\n",
       "    <tr>\n",
       "      <th>3</th>\n",
       "      <td>Self Enquiry</td>\n",
       "      <td>2</td>\n",
       "      <td>Small Business</td>\n",
       "      <td>1.0</td>\n",
       "      <td>4.0</td>\n",
       "      <td>0</td>\n",
       "      <td>5</td>\n",
       "      <td>0</td>\n",
       "      <td>37</td>\n",
       "      <td>1080.0</td>\n",
       "      <td>female</td>\n",
       "      <td>3.0</td>\n",
       "      <td>Standard</td>\n",
       "      <td>1</td>\n",
       "      <td>Senior Manager</td>\n",
       "      <td>326805.0</td>\n",
       "      <td>Divorced</td>\n",
       "      <td>Has Car</td>\n",
       "      <td>0</td>\n",
       "    </tr>\n",
       "    <tr>\n",
       "      <th>4</th>\n",
       "      <td>Company Invited</td>\n",
       "      <td>3</td>\n",
       "      <td>Small Business</td>\n",
       "      <td>1.0</td>\n",
       "      <td>4.0</td>\n",
       "      <td>0</td>\n",
       "      <td>4</td>\n",
       "      <td>1</td>\n",
       "      <td>48</td>\n",
       "      <td>1020.0</td>\n",
       "      <td>female</td>\n",
       "      <td>3.0</td>\n",
       "      <td>Basic</td>\n",
       "      <td>4</td>\n",
       "      <td>Executive</td>\n",
       "      <td>258435.0</td>\n",
       "      <td>Single</td>\n",
       "      <td>Has Car</td>\n",
       "      <td>0</td>\n",
       "    </tr>\n",
       "  </tbody>\n",
       "</table>\n",
       "</div>"
      ],
      "text/plain": [
       "     TypeofContact  CityTier      Occupation  NumberOfPersonVisiting  \\\n",
       "0     Self Enquiry         2  Large Business                     1.0   \n",
       "1  Company Invited         1        Salaried                     1.0   \n",
       "2     Self Enquiry         1  Large Business                     1.0   \n",
       "3     Self Enquiry         2  Small Business                     1.0   \n",
       "4  Company Invited         3  Small Business                     1.0   \n",
       "\n",
       "   PreferredPropertyStar  Passport  PitchSatisfactionScore  ProdTaken  age  \\\n",
       "0                    3.0         1                       4          1   50   \n",
       "1                    3.0         1                       4          0   56   \n",
       "2                    3.0         0                       4          1   38   \n",
       "3                    4.0         0                       5          0   37   \n",
       "4                    4.0         0                       4          1   48   \n",
       "\n",
       "   duration  gender  follow product_pitched  trip_per_year     designation  \\\n",
       "0     900.0    male     4.0           Basic              5       Executive   \n",
       "1     840.0    male     4.0        Standard              2  Senior Manager   \n",
       "2     600.0  female     3.0           Basic              4       Executive   \n",
       "3    1080.0  female     3.0        Standard              1  Senior Manager   \n",
       "4    1020.0  female     3.0           Basic              4       Executive   \n",
       "\n",
       "     income    info_1   info_2 info_3  \n",
       "0  253905.0    Single   No Car      0  \n",
       "1  404475.0  Divorced  Has Car      0  \n",
       "2  278145.0   Married   No Car      0  \n",
       "3  326805.0  Divorced  Has Car      0  \n",
       "4  258435.0    Single  Has Car      0  "
      ]
     },
     "execution_count": 66,
     "metadata": {},
     "output_type": "execute_result"
    }
   ],
   "source": [
    "df.head()"
   ]
  },
  {
   "cell_type": "code",
   "execution_count": 67,
   "metadata": {},
   "outputs": [],
   "source": [
    "df.to_csv('data/middle/train_normalized.csv', index=False)"
   ]
  },
  {
   "cell_type": "markdown",
   "metadata": {},
   "source": [
    "## Data Type"
   ]
  },
  {
   "cell_type": "code",
   "execution_count": 68,
   "metadata": {},
   "outputs": [],
   "source": [
    "df = pd.read_csv('data/middle/train_normalized.csv')"
   ]
  },
  {
   "cell_type": "code",
   "execution_count": 69,
   "metadata": {},
   "outputs": [
    {
     "data": {
      "text/plain": [
       "(3489, 19)"
      ]
     },
     "execution_count": 69,
     "metadata": {},
     "output_type": "execute_result"
    }
   ],
   "source": [
    "df.shape"
   ]
  },
  {
   "cell_type": "code",
   "execution_count": 70,
   "metadata": {},
   "outputs": [
    {
     "data": {
      "text/html": [
       "<div>\n",
       "<style scoped>\n",
       "    .dataframe tbody tr th:only-of-type {\n",
       "        vertical-align: middle;\n",
       "    }\n",
       "\n",
       "    .dataframe tbody tr th {\n",
       "        vertical-align: top;\n",
       "    }\n",
       "\n",
       "    .dataframe thead th {\n",
       "        text-align: right;\n",
       "    }\n",
       "</style>\n",
       "<table border=\"1\" class=\"dataframe\">\n",
       "  <thead>\n",
       "    <tr style=\"text-align: right;\">\n",
       "      <th></th>\n",
       "      <th>TypeofContact</th>\n",
       "      <th>CityTier</th>\n",
       "      <th>Occupation</th>\n",
       "      <th>NumberOfPersonVisiting</th>\n",
       "      <th>PreferredPropertyStar</th>\n",
       "      <th>Passport</th>\n",
       "      <th>PitchSatisfactionScore</th>\n",
       "      <th>ProdTaken</th>\n",
       "      <th>age</th>\n",
       "      <th>duration</th>\n",
       "      <th>gender</th>\n",
       "      <th>follow</th>\n",
       "      <th>product_pitched</th>\n",
       "      <th>trip_per_year</th>\n",
       "      <th>designation</th>\n",
       "      <th>income</th>\n",
       "      <th>info_1</th>\n",
       "      <th>info_2</th>\n",
       "      <th>info_3</th>\n",
       "    </tr>\n",
       "  </thead>\n",
       "  <tbody>\n",
       "    <tr>\n",
       "      <th>0</th>\n",
       "      <td>Self Enquiry</td>\n",
       "      <td>2</td>\n",
       "      <td>Large Business</td>\n",
       "      <td>1.0</td>\n",
       "      <td>3.0</td>\n",
       "      <td>1</td>\n",
       "      <td>4</td>\n",
       "      <td>1</td>\n",
       "      <td>50</td>\n",
       "      <td>900.0</td>\n",
       "      <td>male</td>\n",
       "      <td>4.0</td>\n",
       "      <td>Basic</td>\n",
       "      <td>5</td>\n",
       "      <td>Executive</td>\n",
       "      <td>253905.0</td>\n",
       "      <td>Single</td>\n",
       "      <td>No Car</td>\n",
       "      <td>0</td>\n",
       "    </tr>\n",
       "    <tr>\n",
       "      <th>1</th>\n",
       "      <td>Company Invited</td>\n",
       "      <td>1</td>\n",
       "      <td>Salaried</td>\n",
       "      <td>1.0</td>\n",
       "      <td>3.0</td>\n",
       "      <td>1</td>\n",
       "      <td>4</td>\n",
       "      <td>0</td>\n",
       "      <td>56</td>\n",
       "      <td>840.0</td>\n",
       "      <td>male</td>\n",
       "      <td>4.0</td>\n",
       "      <td>Standard</td>\n",
       "      <td>2</td>\n",
       "      <td>Senior Manager</td>\n",
       "      <td>404475.0</td>\n",
       "      <td>Divorced</td>\n",
       "      <td>Has Car</td>\n",
       "      <td>0</td>\n",
       "    </tr>\n",
       "    <tr>\n",
       "      <th>2</th>\n",
       "      <td>Self Enquiry</td>\n",
       "      <td>1</td>\n",
       "      <td>Large Business</td>\n",
       "      <td>1.0</td>\n",
       "      <td>3.0</td>\n",
       "      <td>0</td>\n",
       "      <td>4</td>\n",
       "      <td>1</td>\n",
       "      <td>38</td>\n",
       "      <td>600.0</td>\n",
       "      <td>female</td>\n",
       "      <td>3.0</td>\n",
       "      <td>Basic</td>\n",
       "      <td>4</td>\n",
       "      <td>Executive</td>\n",
       "      <td>278145.0</td>\n",
       "      <td>Married</td>\n",
       "      <td>No Car</td>\n",
       "      <td>0</td>\n",
       "    </tr>\n",
       "    <tr>\n",
       "      <th>3</th>\n",
       "      <td>Self Enquiry</td>\n",
       "      <td>2</td>\n",
       "      <td>Small Business</td>\n",
       "      <td>1.0</td>\n",
       "      <td>4.0</td>\n",
       "      <td>0</td>\n",
       "      <td>5</td>\n",
       "      <td>0</td>\n",
       "      <td>37</td>\n",
       "      <td>1080.0</td>\n",
       "      <td>female</td>\n",
       "      <td>3.0</td>\n",
       "      <td>Standard</td>\n",
       "      <td>1</td>\n",
       "      <td>Senior Manager</td>\n",
       "      <td>326805.0</td>\n",
       "      <td>Divorced</td>\n",
       "      <td>Has Car</td>\n",
       "      <td>0</td>\n",
       "    </tr>\n",
       "    <tr>\n",
       "      <th>4</th>\n",
       "      <td>Company Invited</td>\n",
       "      <td>3</td>\n",
       "      <td>Small Business</td>\n",
       "      <td>1.0</td>\n",
       "      <td>4.0</td>\n",
       "      <td>0</td>\n",
       "      <td>4</td>\n",
       "      <td>1</td>\n",
       "      <td>48</td>\n",
       "      <td>1020.0</td>\n",
       "      <td>female</td>\n",
       "      <td>3.0</td>\n",
       "      <td>Basic</td>\n",
       "      <td>4</td>\n",
       "      <td>Executive</td>\n",
       "      <td>258435.0</td>\n",
       "      <td>Single</td>\n",
       "      <td>Has Car</td>\n",
       "      <td>0</td>\n",
       "    </tr>\n",
       "  </tbody>\n",
       "</table>\n",
       "</div>"
      ],
      "text/plain": [
       "     TypeofContact  CityTier      Occupation  NumberOfPersonVisiting  \\\n",
       "0     Self Enquiry         2  Large Business                     1.0   \n",
       "1  Company Invited         1        Salaried                     1.0   \n",
       "2     Self Enquiry         1  Large Business                     1.0   \n",
       "3     Self Enquiry         2  Small Business                     1.0   \n",
       "4  Company Invited         3  Small Business                     1.0   \n",
       "\n",
       "   PreferredPropertyStar  Passport  PitchSatisfactionScore  ProdTaken  age  \\\n",
       "0                    3.0         1                       4          1   50   \n",
       "1                    3.0         1                       4          0   56   \n",
       "2                    3.0         0                       4          1   38   \n",
       "3                    4.0         0                       5          0   37   \n",
       "4                    4.0         0                       4          1   48   \n",
       "\n",
       "   duration  gender  follow product_pitched  trip_per_year     designation  \\\n",
       "0     900.0    male     4.0           Basic              5       Executive   \n",
       "1     840.0    male     4.0        Standard              2  Senior Manager   \n",
       "2     600.0  female     3.0           Basic              4       Executive   \n",
       "3    1080.0  female     3.0        Standard              1  Senior Manager   \n",
       "4    1020.0  female     3.0           Basic              4       Executive   \n",
       "\n",
       "     income    info_1   info_2  info_3  \n",
       "0  253905.0    Single   No Car       0  \n",
       "1  404475.0  Divorced  Has Car       0  \n",
       "2  278145.0   Married   No Car       0  \n",
       "3  326805.0  Divorced  Has Car       0  \n",
       "4  258435.0    Single  Has Car       0  "
      ]
     },
     "execution_count": 70,
     "metadata": {},
     "output_type": "execute_result"
    }
   ],
   "source": [
    "df.head()"
   ]
  },
  {
   "cell_type": "code",
   "execution_count": 71,
   "metadata": {},
   "outputs": [
    {
     "name": "stdout",
     "output_type": "stream",
     "text": [
      "<class 'pandas.core.frame.DataFrame'>\n",
      "RangeIndex: 3489 entries, 0 to 3488\n",
      "Data columns (total 19 columns):\n",
      " #   Column                  Non-Null Count  Dtype  \n",
      "---  ------                  --------------  -----  \n",
      " 0   TypeofContact           3489 non-null   object \n",
      " 1   CityTier                3489 non-null   int64  \n",
      " 2   Occupation              3489 non-null   object \n",
      " 3   NumberOfPersonVisiting  3489 non-null   float64\n",
      " 4   PreferredPropertyStar   3489 non-null   float64\n",
      " 5   Passport                3489 non-null   int64  \n",
      " 6   PitchSatisfactionScore  3489 non-null   int64  \n",
      " 7   ProdTaken               3489 non-null   int64  \n",
      " 8   age                     3489 non-null   int64  \n",
      " 9   duration                3489 non-null   float64\n",
      " 10  gender                  3489 non-null   object \n",
      " 11  follow                  3489 non-null   float64\n",
      " 12  product_pitched         3489 non-null   object \n",
      " 13  trip_per_year           3489 non-null   int64  \n",
      " 14  designation             3489 non-null   object \n",
      " 15  income                  3489 non-null   float64\n",
      " 16  info_1                  3489 non-null   object \n",
      " 17  info_2                  3489 non-null   object \n",
      " 18  info_3                  3489 non-null   int64  \n",
      "dtypes: float64(5), int64(7), object(7)\n",
      "memory usage: 518.0+ KB\n"
     ]
    }
   ],
   "source": [
    "df.info()"
   ]
  },
  {
   "cell_type": "code",
   "execution_count": 72,
   "metadata": {},
   "outputs": [],
   "source": [
    "# not necessary to convert dtypes\n",
    "# [CityTier, Passport, age, duration, trip_per_year]\n",
    "int_columns = ['NumberOfPersonVisiting', 'PreferredPropertyStar', 'follow']\n",
    "category_columns = ['TypeofContact', 'Occupation', 'gender', 'product_pitched', 'designation', 'info_1', 'info_2', 'info_3']\n",
    "\n",
    "for col in int_columns:\n",
    "    df[col] = df[col].astype('int')\n",
    "\n",
    "for col in category_columns:\n",
    "    df[col] = df[col].astype('category')"
   ]
  },
  {
   "cell_type": "code",
   "execution_count": 73,
   "metadata": {},
   "outputs": [
    {
     "name": "stdout",
     "output_type": "stream",
     "text": [
      "<class 'pandas.core.frame.DataFrame'>\n",
      "RangeIndex: 3489 entries, 0 to 3488\n",
      "Data columns (total 19 columns):\n",
      " #   Column                  Non-Null Count  Dtype   \n",
      "---  ------                  --------------  -----   \n",
      " 0   TypeofContact           3489 non-null   category\n",
      " 1   CityTier                3489 non-null   int64   \n",
      " 2   Occupation              3489 non-null   category\n",
      " 3   NumberOfPersonVisiting  3489 non-null   int32   \n",
      " 4   PreferredPropertyStar   3489 non-null   int32   \n",
      " 5   Passport                3489 non-null   int64   \n",
      " 6   PitchSatisfactionScore  3489 non-null   int64   \n",
      " 7   ProdTaken               3489 non-null   int64   \n",
      " 8   age                     3489 non-null   int64   \n",
      " 9   duration                3489 non-null   float64 \n",
      " 10  gender                  3489 non-null   category\n",
      " 11  follow                  3489 non-null   int32   \n",
      " 12  product_pitched         3489 non-null   category\n",
      " 13  trip_per_year           3489 non-null   int64   \n",
      " 14  designation             3489 non-null   category\n",
      " 15  income                  3489 non-null   float64 \n",
      " 16  info_1                  3489 non-null   category\n",
      " 17  info_2                  3489 non-null   category\n",
      " 18  info_3                  3489 non-null   category\n",
      "dtypes: category(8), float64(2), int32(3), int64(6)\n",
      "memory usage: 287.6 KB\n"
     ]
    }
   ],
   "source": [
    "df.info()"
   ]
  },
  {
   "cell_type": "code",
   "execution_count": 74,
   "metadata": {},
   "outputs": [],
   "source": [
    "df.to_csv('data/middle/train_categorized.csv', index=False)"
   ]
  },
  {
   "cell_type": "markdown",
   "metadata": {},
   "source": [
    "## One-Hot-Encoding"
   ]
  },
  {
   "cell_type": "code",
   "execution_count": 75,
   "metadata": {},
   "outputs": [],
   "source": [
    "df = pd.read_csv('data/middle/train_categorized.csv')\n",
    "\n",
    "category_columns = ['TypeofContact', 'Occupation', 'gender', 'product_pitched', 'designation', 'info_1', 'info_2', 'info_3']\n",
    "for col in category_columns:\n",
    "    df[col] = df[col].astype('category')"
   ]
  },
  {
   "cell_type": "code",
   "execution_count": 76,
   "metadata": {},
   "outputs": [
    {
     "data": {
      "text/plain": [
       "(3489, 19)"
      ]
     },
     "execution_count": 76,
     "metadata": {},
     "output_type": "execute_result"
    }
   ],
   "source": [
    "df.shape"
   ]
  },
  {
   "cell_type": "code",
   "execution_count": 77,
   "metadata": {},
   "outputs": [
    {
     "name": "stdout",
     "output_type": "stream",
     "text": [
      "<class 'pandas.core.frame.DataFrame'>\n",
      "RangeIndex: 3489 entries, 0 to 3488\n",
      "Data columns (total 19 columns):\n",
      " #   Column                  Non-Null Count  Dtype   \n",
      "---  ------                  --------------  -----   \n",
      " 0   TypeofContact           3489 non-null   category\n",
      " 1   CityTier                3489 non-null   int64   \n",
      " 2   Occupation              3489 non-null   category\n",
      " 3   NumberOfPersonVisiting  3489 non-null   int64   \n",
      " 4   PreferredPropertyStar   3489 non-null   int64   \n",
      " 5   Passport                3489 non-null   int64   \n",
      " 6   PitchSatisfactionScore  3489 non-null   int64   \n",
      " 7   ProdTaken               3489 non-null   int64   \n",
      " 8   age                     3489 non-null   int64   \n",
      " 9   duration                3489 non-null   float64 \n",
      " 10  gender                  3489 non-null   category\n",
      " 11  follow                  3489 non-null   int64   \n",
      " 12  product_pitched         3489 non-null   category\n",
      " 13  trip_per_year           3489 non-null   int64   \n",
      " 14  designation             3489 non-null   category\n",
      " 15  income                  3489 non-null   float64 \n",
      " 16  info_1                  3489 non-null   category\n",
      " 17  info_2                  3489 non-null   category\n",
      " 18  info_3                  3489 non-null   category\n",
      "dtypes: category(8), float64(2), int64(9)\n",
      "memory usage: 328.5 KB\n"
     ]
    }
   ],
   "source": [
    "df.info()"
   ]
  },
  {
   "cell_type": "code",
   "execution_count": 78,
   "metadata": {},
   "outputs": [
    {
     "data": {
      "text/html": [
       "<div>\n",
       "<style scoped>\n",
       "    .dataframe tbody tr th:only-of-type {\n",
       "        vertical-align: middle;\n",
       "    }\n",
       "\n",
       "    .dataframe tbody tr th {\n",
       "        vertical-align: top;\n",
       "    }\n",
       "\n",
       "    .dataframe thead th {\n",
       "        text-align: right;\n",
       "    }\n",
       "</style>\n",
       "<table border=\"1\" class=\"dataframe\">\n",
       "  <thead>\n",
       "    <tr style=\"text-align: right;\">\n",
       "      <th></th>\n",
       "      <th>CityTier</th>\n",
       "      <th>NumberOfPersonVisiting</th>\n",
       "      <th>PreferredPropertyStar</th>\n",
       "      <th>Passport</th>\n",
       "      <th>PitchSatisfactionScore</th>\n",
       "      <th>ProdTaken</th>\n",
       "      <th>age</th>\n",
       "      <th>duration</th>\n",
       "      <th>follow</th>\n",
       "      <th>trip_per_year</th>\n",
       "      <th>income</th>\n",
       "    </tr>\n",
       "  </thead>\n",
       "  <tbody>\n",
       "    <tr>\n",
       "      <th>count</th>\n",
       "      <td>3489.000000</td>\n",
       "      <td>3489.000000</td>\n",
       "      <td>3489.000000</td>\n",
       "      <td>3489.000000</td>\n",
       "      <td>3489.000000</td>\n",
       "      <td>3489.000000</td>\n",
       "      <td>3489.000000</td>\n",
       "      <td>3489.000000</td>\n",
       "      <td>3489.000000</td>\n",
       "      <td>3489.000000</td>\n",
       "      <td>3489.000000</td>\n",
       "    </tr>\n",
       "    <tr>\n",
       "      <th>mean</th>\n",
       "      <td>1.697048</td>\n",
       "      <td>2.394669</td>\n",
       "      <td>3.441101</td>\n",
       "      <td>0.102608</td>\n",
       "      <td>2.513901</td>\n",
       "      <td>0.142448</td>\n",
       "      <td>38.864431</td>\n",
       "      <td>857.884781</td>\n",
       "      <td>3.672112</td>\n",
       "      <td>4.542849</td>\n",
       "      <td>355470.235024</td>\n",
       "    </tr>\n",
       "    <tr>\n",
       "      <th>std</th>\n",
       "      <td>0.671500</td>\n",
       "      <td>0.726612</td>\n",
       "      <td>0.599633</td>\n",
       "      <td>0.303490</td>\n",
       "      <td>1.115412</td>\n",
       "      <td>0.349559</td>\n",
       "      <td>9.842464</td>\n",
       "      <td>410.226215</td>\n",
       "      <td>0.885487</td>\n",
       "      <td>4.613311</td>\n",
       "      <td>74583.988839</td>\n",
       "    </tr>\n",
       "    <tr>\n",
       "      <th>min</th>\n",
       "      <td>1.000000</td>\n",
       "      <td>1.000000</td>\n",
       "      <td>3.000000</td>\n",
       "      <td>0.000000</td>\n",
       "      <td>1.000000</td>\n",
       "      <td>0.000000</td>\n",
       "      <td>10.000000</td>\n",
       "      <td>240.000000</td>\n",
       "      <td>1.000000</td>\n",
       "      <td>1.000000</td>\n",
       "      <td>200000.000000</td>\n",
       "    </tr>\n",
       "    <tr>\n",
       "      <th>25%</th>\n",
       "      <td>1.000000</td>\n",
       "      <td>2.000000</td>\n",
       "      <td>3.000000</td>\n",
       "      <td>0.000000</td>\n",
       "      <td>2.000000</td>\n",
       "      <td>0.000000</td>\n",
       "      <td>31.000000</td>\n",
       "      <td>540.000000</td>\n",
       "      <td>3.000000</td>\n",
       "      <td>2.000000</td>\n",
       "      <td>300435.000000</td>\n",
       "    </tr>\n",
       "    <tr>\n",
       "      <th>50%</th>\n",
       "      <td>2.000000</td>\n",
       "      <td>2.000000</td>\n",
       "      <td>3.000000</td>\n",
       "      <td>0.000000</td>\n",
       "      <td>2.000000</td>\n",
       "      <td>0.000000</td>\n",
       "      <td>38.000000</td>\n",
       "      <td>780.000000</td>\n",
       "      <td>4.000000</td>\n",
       "      <td>3.000000</td>\n",
       "      <td>343140.000000</td>\n",
       "    </tr>\n",
       "    <tr>\n",
       "      <th>75%</th>\n",
       "      <td>2.000000</td>\n",
       "      <td>3.000000</td>\n",
       "      <td>4.000000</td>\n",
       "      <td>0.000000</td>\n",
       "      <td>3.000000</td>\n",
       "      <td>0.000000</td>\n",
       "      <td>47.000000</td>\n",
       "      <td>960.000000</td>\n",
       "      <td>4.000000</td>\n",
       "      <td>5.000000</td>\n",
       "      <td>400000.000000</td>\n",
       "    </tr>\n",
       "    <tr>\n",
       "      <th>max</th>\n",
       "      <td>3.000000</td>\n",
       "      <td>4.000000</td>\n",
       "      <td>5.000000</td>\n",
       "      <td>1.000000</td>\n",
       "      <td>5.000000</td>\n",
       "      <td>1.000000</td>\n",
       "      <td>61.000000</td>\n",
       "      <td>2160.000000</td>\n",
       "      <td>6.000000</td>\n",
       "      <td>32.000000</td>\n",
       "      <td>600000.000000</td>\n",
       "    </tr>\n",
       "  </tbody>\n",
       "</table>\n",
       "</div>"
      ],
      "text/plain": [
       "          CityTier  NumberOfPersonVisiting  PreferredPropertyStar  \\\n",
       "count  3489.000000             3489.000000            3489.000000   \n",
       "mean      1.697048                2.394669               3.441101   \n",
       "std       0.671500                0.726612               0.599633   \n",
       "min       1.000000                1.000000               3.000000   \n",
       "25%       1.000000                2.000000               3.000000   \n",
       "50%       2.000000                2.000000               3.000000   \n",
       "75%       2.000000                3.000000               4.000000   \n",
       "max       3.000000                4.000000               5.000000   \n",
       "\n",
       "          Passport  PitchSatisfactionScore    ProdTaken          age  \\\n",
       "count  3489.000000             3489.000000  3489.000000  3489.000000   \n",
       "mean      0.102608                2.513901     0.142448    38.864431   \n",
       "std       0.303490                1.115412     0.349559     9.842464   \n",
       "min       0.000000                1.000000     0.000000    10.000000   \n",
       "25%       0.000000                2.000000     0.000000    31.000000   \n",
       "50%       0.000000                2.000000     0.000000    38.000000   \n",
       "75%       0.000000                3.000000     0.000000    47.000000   \n",
       "max       1.000000                5.000000     1.000000    61.000000   \n",
       "\n",
       "          duration       follow  trip_per_year         income  \n",
       "count  3489.000000  3489.000000    3489.000000    3489.000000  \n",
       "mean    857.884781     3.672112       4.542849  355470.235024  \n",
       "std     410.226215     0.885487       4.613311   74583.988839  \n",
       "min     240.000000     1.000000       1.000000  200000.000000  \n",
       "25%     540.000000     3.000000       2.000000  300435.000000  \n",
       "50%     780.000000     4.000000       3.000000  343140.000000  \n",
       "75%     960.000000     4.000000       5.000000  400000.000000  \n",
       "max    2160.000000     6.000000      32.000000  600000.000000  "
      ]
     },
     "execution_count": 78,
     "metadata": {},
     "output_type": "execute_result"
    }
   ],
   "source": [
    "df.describe()"
   ]
  },
  {
   "cell_type": "code",
   "execution_count": 79,
   "metadata": {},
   "outputs": [
    {
     "name": "stdout",
     "output_type": "stream",
     "text": [
      "19\n",
      "Index(['TypeofContact', 'CityTier', 'Occupation', 'NumberOfPersonVisiting',\n",
      "       'PreferredPropertyStar', 'Passport', 'PitchSatisfactionScore',\n",
      "       'ProdTaken', 'age', 'duration', 'gender', 'follow', 'product_pitched',\n",
      "       'trip_per_year', 'designation', 'income', 'info_1', 'info_2', 'info_3'],\n",
      "      dtype='object')\n"
     ]
    }
   ],
   "source": [
    "print(len(df.columns))\n",
    "print(df.columns)"
   ]
  },
  {
   "cell_type": "code",
   "execution_count": 80,
   "metadata": {},
   "outputs": [
    {
     "name": "stdout",
     "output_type": "stream",
     "text": [
      "37\n",
      "Index(['CityTier', 'NumberOfPersonVisiting', 'PreferredPropertyStar',\n",
      "       'Passport', 'PitchSatisfactionScore', 'ProdTaken', 'age', 'duration',\n",
      "       'follow', 'trip_per_year', 'income', 'TypeofContact_Company Invited',\n",
      "       'TypeofContact_Self Enquiry', 'Occupation_Large Business',\n",
      "       'Occupation_Salaried', 'Occupation_Small Business', 'gender_female',\n",
      "       'gender_male', 'product_pitched_Basic', 'product_pitched_Deluxe',\n",
      "       'product_pitched_King', 'product_pitched_Standard',\n",
      "       'product_pitched_Super Deluxe', 'designation_AVP',\n",
      "       'designation_Executive', 'designation_Manager',\n",
      "       'designation_Senior Manager', 'designation_VP', 'info_1_Divorced',\n",
      "       'info_1_Married', 'info_1_Single', 'info_2_Has Car', 'info_2_No Car',\n",
      "       'info_3_0', 'info_3_1', 'info_3_2', 'info_3_3'],\n",
      "      dtype='object')\n"
     ]
    }
   ],
   "source": [
    "df_one_hot_encoded = pd.get_dummies(df, dtype=int)\n",
    "\n",
    "print(len(df_one_hot_encoded.columns))\n",
    "print(df_one_hot_encoded.columns)"
   ]
  },
  {
   "cell_type": "code",
   "execution_count": 81,
   "metadata": {},
   "outputs": [],
   "source": [
    "# カテゴリ変数の一部を削除\n",
    "drop_list = [\n",
    "    'TypeofContact_Company Invited',  # 「Self Enquiry」を基準とする\n",
    "    'Occupation_Salaried',  # 他の職業タイプと比較する基準\n",
    "    'gender_male',  # 「female」を基準とする\n",
    "    'product_pitched_Basic',  # 他のプロダクトと比較する基準\n",
    "    'designation_Executive',  # 他の指定と比較する基準\n",
    "    'info_1_Single',  # 他の婚姻状態と比較する基準\n",
    "    'info_2_No Car',  # 「Has Car」を基準とする\n",
    "    'info_3_0'  # 子供の数を比較する基準\n",
    "]\n",
    "\n",
    "df_one_hot_encoded = df_one_hot_encoded.drop(columns=drop_list)"
   ]
  },
  {
   "cell_type": "code",
   "execution_count": 82,
   "metadata": {},
   "outputs": [
    {
     "name": "stdout",
     "output_type": "stream",
     "text": [
      "29\n",
      "Index(['CityTier', 'NumberOfPersonVisiting', 'PreferredPropertyStar',\n",
      "       'Passport', 'PitchSatisfactionScore', 'ProdTaken', 'age', 'duration',\n",
      "       'follow', 'trip_per_year', 'income', 'TypeofContact_Self Enquiry',\n",
      "       'Occupation_Large Business', 'Occupation_Small Business',\n",
      "       'gender_female', 'product_pitched_Deluxe', 'product_pitched_King',\n",
      "       'product_pitched_Standard', 'product_pitched_Super Deluxe',\n",
      "       'designation_AVP', 'designation_Manager', 'designation_Senior Manager',\n",
      "       'designation_VP', 'info_1_Divorced', 'info_1_Married', 'info_2_Has Car',\n",
      "       'info_3_1', 'info_3_2', 'info_3_3'],\n",
      "      dtype='object')\n"
     ]
    }
   ],
   "source": [
    "print(len(df_one_hot_encoded.columns))\n",
    "print(df_one_hot_encoded.columns)"
   ]
  },
  {
   "cell_type": "code",
   "execution_count": 83,
   "metadata": {},
   "outputs": [],
   "source": [
    "df_one_hot_encoded.to_csv('data/middle/train_encoded.csv', index=False)"
   ]
  },
  {
   "cell_type": "markdown",
   "metadata": {},
   "source": [
    "# Aggregate"
   ]
  },
  {
   "cell_type": "code",
   "execution_count": 84,
   "metadata": {},
   "outputs": [],
   "source": [
    "df = pd.read_csv('data/middle/train_encoded.csv')"
   ]
  },
  {
   "cell_type": "code",
   "execution_count": 85,
   "metadata": {},
   "outputs": [
    {
     "data": {
      "text/plain": [
       "(3489, 29)"
      ]
     },
     "execution_count": 85,
     "metadata": {},
     "output_type": "execute_result"
    }
   ],
   "source": [
    "df.shape"
   ]
  },
  {
   "cell_type": "code",
   "execution_count": 86,
   "metadata": {},
   "outputs": [
    {
     "data": {
      "text/html": [
       "<div>\n",
       "<style scoped>\n",
       "    .dataframe tbody tr th:only-of-type {\n",
       "        vertical-align: middle;\n",
       "    }\n",
       "\n",
       "    .dataframe tbody tr th {\n",
       "        vertical-align: top;\n",
       "    }\n",
       "\n",
       "    .dataframe thead th {\n",
       "        text-align: right;\n",
       "    }\n",
       "</style>\n",
       "<table border=\"1\" class=\"dataframe\">\n",
       "  <thead>\n",
       "    <tr style=\"text-align: right;\">\n",
       "      <th></th>\n",
       "      <th>CityTier</th>\n",
       "      <th>NumberOfPersonVisiting</th>\n",
       "      <th>PreferredPropertyStar</th>\n",
       "      <th>Passport</th>\n",
       "      <th>PitchSatisfactionScore</th>\n",
       "      <th>ProdTaken</th>\n",
       "      <th>age</th>\n",
       "      <th>duration</th>\n",
       "      <th>follow</th>\n",
       "      <th>trip_per_year</th>\n",
       "      <th>...</th>\n",
       "      <th>designation_AVP</th>\n",
       "      <th>designation_Manager</th>\n",
       "      <th>designation_Senior Manager</th>\n",
       "      <th>designation_VP</th>\n",
       "      <th>info_1_Divorced</th>\n",
       "      <th>info_1_Married</th>\n",
       "      <th>info_2_Has Car</th>\n",
       "      <th>info_3_1</th>\n",
       "      <th>info_3_2</th>\n",
       "      <th>info_3_3</th>\n",
       "    </tr>\n",
       "  </thead>\n",
       "  <tbody>\n",
       "    <tr>\n",
       "      <th>0</th>\n",
       "      <td>2</td>\n",
       "      <td>1</td>\n",
       "      <td>3</td>\n",
       "      <td>1</td>\n",
       "      <td>4</td>\n",
       "      <td>1</td>\n",
       "      <td>50</td>\n",
       "      <td>900.0</td>\n",
       "      <td>4</td>\n",
       "      <td>5</td>\n",
       "      <td>...</td>\n",
       "      <td>0</td>\n",
       "      <td>0</td>\n",
       "      <td>0</td>\n",
       "      <td>0</td>\n",
       "      <td>0</td>\n",
       "      <td>0</td>\n",
       "      <td>0</td>\n",
       "      <td>0</td>\n",
       "      <td>0</td>\n",
       "      <td>0</td>\n",
       "    </tr>\n",
       "    <tr>\n",
       "      <th>1</th>\n",
       "      <td>1</td>\n",
       "      <td>1</td>\n",
       "      <td>3</td>\n",
       "      <td>1</td>\n",
       "      <td>4</td>\n",
       "      <td>0</td>\n",
       "      <td>56</td>\n",
       "      <td>840.0</td>\n",
       "      <td>4</td>\n",
       "      <td>2</td>\n",
       "      <td>...</td>\n",
       "      <td>0</td>\n",
       "      <td>0</td>\n",
       "      <td>1</td>\n",
       "      <td>0</td>\n",
       "      <td>1</td>\n",
       "      <td>0</td>\n",
       "      <td>1</td>\n",
       "      <td>0</td>\n",
       "      <td>0</td>\n",
       "      <td>0</td>\n",
       "    </tr>\n",
       "    <tr>\n",
       "      <th>2</th>\n",
       "      <td>1</td>\n",
       "      <td>1</td>\n",
       "      <td>3</td>\n",
       "      <td>0</td>\n",
       "      <td>4</td>\n",
       "      <td>1</td>\n",
       "      <td>38</td>\n",
       "      <td>600.0</td>\n",
       "      <td>3</td>\n",
       "      <td>4</td>\n",
       "      <td>...</td>\n",
       "      <td>0</td>\n",
       "      <td>0</td>\n",
       "      <td>0</td>\n",
       "      <td>0</td>\n",
       "      <td>0</td>\n",
       "      <td>1</td>\n",
       "      <td>0</td>\n",
       "      <td>0</td>\n",
       "      <td>0</td>\n",
       "      <td>0</td>\n",
       "    </tr>\n",
       "    <tr>\n",
       "      <th>3</th>\n",
       "      <td>2</td>\n",
       "      <td>1</td>\n",
       "      <td>4</td>\n",
       "      <td>0</td>\n",
       "      <td>5</td>\n",
       "      <td>0</td>\n",
       "      <td>37</td>\n",
       "      <td>1080.0</td>\n",
       "      <td>3</td>\n",
       "      <td>1</td>\n",
       "      <td>...</td>\n",
       "      <td>0</td>\n",
       "      <td>0</td>\n",
       "      <td>1</td>\n",
       "      <td>0</td>\n",
       "      <td>1</td>\n",
       "      <td>0</td>\n",
       "      <td>1</td>\n",
       "      <td>0</td>\n",
       "      <td>0</td>\n",
       "      <td>0</td>\n",
       "    </tr>\n",
       "    <tr>\n",
       "      <th>4</th>\n",
       "      <td>3</td>\n",
       "      <td>1</td>\n",
       "      <td>4</td>\n",
       "      <td>0</td>\n",
       "      <td>4</td>\n",
       "      <td>1</td>\n",
       "      <td>48</td>\n",
       "      <td>1020.0</td>\n",
       "      <td>3</td>\n",
       "      <td>4</td>\n",
       "      <td>...</td>\n",
       "      <td>0</td>\n",
       "      <td>0</td>\n",
       "      <td>0</td>\n",
       "      <td>0</td>\n",
       "      <td>0</td>\n",
       "      <td>0</td>\n",
       "      <td>1</td>\n",
       "      <td>0</td>\n",
       "      <td>0</td>\n",
       "      <td>0</td>\n",
       "    </tr>\n",
       "  </tbody>\n",
       "</table>\n",
       "<p>5 rows × 29 columns</p>\n",
       "</div>"
      ],
      "text/plain": [
       "   CityTier  NumberOfPersonVisiting  PreferredPropertyStar  Passport  \\\n",
       "0         2                       1                      3         1   \n",
       "1         1                       1                      3         1   \n",
       "2         1                       1                      3         0   \n",
       "3         2                       1                      4         0   \n",
       "4         3                       1                      4         0   \n",
       "\n",
       "   PitchSatisfactionScore  ProdTaken  age  duration  follow  trip_per_year  \\\n",
       "0                       4          1   50     900.0       4              5   \n",
       "1                       4          0   56     840.0       4              2   \n",
       "2                       4          1   38     600.0       3              4   \n",
       "3                       5          0   37    1080.0       3              1   \n",
       "4                       4          1   48    1020.0       3              4   \n",
       "\n",
       "   ...  designation_AVP  designation_Manager  designation_Senior Manager  \\\n",
       "0  ...                0                    0                           0   \n",
       "1  ...                0                    0                           1   \n",
       "2  ...                0                    0                           0   \n",
       "3  ...                0                    0                           1   \n",
       "4  ...                0                    0                           0   \n",
       "\n",
       "   designation_VP  info_1_Divorced  info_1_Married  info_2_Has Car  info_3_1  \\\n",
       "0               0                0               0               0         0   \n",
       "1               0                1               0               1         0   \n",
       "2               0                0               1               0         0   \n",
       "3               0                1               0               1         0   \n",
       "4               0                0               0               1         0   \n",
       "\n",
       "   info_3_2  info_3_3  \n",
       "0         0         0  \n",
       "1         0         0  \n",
       "2         0         0  \n",
       "3         0         0  \n",
       "4         0         0  \n",
       "\n",
       "[5 rows x 29 columns]"
      ]
     },
     "execution_count": 86,
     "metadata": {},
     "output_type": "execute_result"
    }
   ],
   "source": [
    "df.head()"
   ]
  },
  {
   "cell_type": "code",
   "execution_count": 87,
   "metadata": {},
   "outputs": [
    {
     "name": "stdout",
     "output_type": "stream",
     "text": [
      "CityTier\n",
      "2    1596\n",
      "1    1475\n",
      "3     418\n",
      "Name: count, dtype: int64 \n",
      "\n",
      "NumberOfPersonVisiting\n",
      "2    1608\n",
      "3    1377\n",
      "1     336\n",
      "4     168\n",
      "Name: count, dtype: int64 \n",
      "\n",
      "PreferredPropertyStar\n",
      "3    2147\n",
      "4    1145\n",
      "5     197\n",
      "Name: count, dtype: int64 \n",
      "\n",
      "PitchSatisfactionScore\n",
      "2    1269\n",
      "4     739\n",
      "3     692\n",
      "1     686\n",
      "5     103\n",
      "Name: count, dtype: int64 \n",
      "\n"
     ]
    }
   ],
   "source": [
    "tmp = [\n",
    "    'CityTier',\n",
    "    'NumberOfPersonVisiting',\n",
    "    'PreferredPropertyStar',\n",
    "    'PitchSatisfactionScore',\n",
    "]\n",
    "\n",
    "for col in tmp:\n",
    "    print(df[col].value_counts(), '\\n')"
   ]
  },
  {
   "cell_type": "code",
   "execution_count": 88,
   "metadata": {},
   "outputs": [
    {
     "name": "stdout",
     "output_type": "stream",
     "text": [
      "              mean  count\n",
      "CityTier                 \n",
      "2         0.168546   1596\n",
      "3         0.150718    418\n",
      "1         0.111864   1475 \n",
      "\n",
      "                            mean  count\n",
      "NumberOfPersonVisiting                 \n",
      "1                       0.247024    336\n",
      "2                       0.152363   1608\n",
      "3                       0.115468   1377\n",
      "4                       0.059524    168 \n",
      "\n",
      "                           mean  count\n",
      "PreferredPropertyStar                 \n",
      "4                      0.158079   1145\n",
      "3                      0.139264   2147\n",
      "5                      0.086294    197 \n",
      "\n",
      "                            mean  count\n",
      "PitchSatisfactionScore                 \n",
      "2                       0.174941   1269\n",
      "4                       0.151556    739\n",
      "3                       0.141618    692\n",
      "5                       0.097087    103\n",
      "1                       0.080175    686 \n",
      "\n"
     ]
    }
   ],
   "source": [
    "for col in tmp:\n",
    "    print(df.groupby(by=[col])['ProdTaken'].agg(['mean', 'count']).sort_values(by=['mean'], ascending=False), '\\n')"
   ]
  },
  {
   "cell_type": "markdown",
   "metadata": {},
   "source": [
    "## AGAIN One-Hot-Encoding"
   ]
  },
  {
   "cell_type": "code",
   "execution_count": 89,
   "metadata": {},
   "outputs": [
    {
     "name": "stdout",
     "output_type": "stream",
     "text": [
      "37\n",
      "Index(['NumberOfPersonVisiting', 'Passport', 'ProdTaken', 'age', 'duration',\n",
      "       'follow', 'trip_per_year', 'income', 'TypeofContact_Self Enquiry',\n",
      "       'Occupation_Large Business', 'Occupation_Small Business',\n",
      "       'gender_female', 'product_pitched_Deluxe', 'product_pitched_King',\n",
      "       'product_pitched_Standard', 'product_pitched_Super Deluxe',\n",
      "       'designation_AVP', 'designation_Manager', 'designation_Senior Manager',\n",
      "       'designation_VP', 'info_1_Divorced', 'info_1_Married', 'info_2_Has Car',\n",
      "       'info_3_1', 'info_3_2', 'info_3_3', 'CityTier_1', 'CityTier_2',\n",
      "       'CityTier_3', 'PreferredPropertyStar_3', 'PreferredPropertyStar_4',\n",
      "       'PreferredPropertyStar_5', 'PitchSatisfactionScore_1',\n",
      "       'PitchSatisfactionScore_2', 'PitchSatisfactionScore_3',\n",
      "       'PitchSatisfactionScore_4', 'PitchSatisfactionScore_5'],\n",
      "      dtype='object')\n"
     ]
    }
   ],
   "source": [
    "category_new_list = ['CityTier', 'PreferredPropertyStar', 'PitchSatisfactionScore']\n",
    "\n",
    "df_one_hot_encoded = pd.get_dummies(df, columns=category_new_list, dtype=int)\n",
    "print(len(df_one_hot_encoded.columns))\n",
    "print(df_one_hot_encoded.columns)"
   ]
  },
  {
   "cell_type": "code",
   "execution_count": 90,
   "metadata": {},
   "outputs": [],
   "source": [
    "drop_list = [\n",
    "    'CityTier_3',\n",
    "    'PreferredPropertyStar_5',\n",
    "    'PitchSatisfactionScore_5'\n",
    "]\n",
    "\n",
    "df_one_hot_encoded = df_one_hot_encoded.drop(columns=drop_list)"
   ]
  },
  {
   "cell_type": "code",
   "execution_count": 91,
   "metadata": {},
   "outputs": [
    {
     "name": "stdout",
     "output_type": "stream",
     "text": [
      "34\n",
      "Index(['NumberOfPersonVisiting', 'Passport', 'ProdTaken', 'age', 'duration',\n",
      "       'follow', 'trip_per_year', 'income', 'TypeofContact_Self Enquiry',\n",
      "       'Occupation_Large Business', 'Occupation_Small Business',\n",
      "       'gender_female', 'product_pitched_Deluxe', 'product_pitched_King',\n",
      "       'product_pitched_Standard', 'product_pitched_Super Deluxe',\n",
      "       'designation_AVP', 'designation_Manager', 'designation_Senior Manager',\n",
      "       'designation_VP', 'info_1_Divorced', 'info_1_Married', 'info_2_Has Car',\n",
      "       'info_3_1', 'info_3_2', 'info_3_3', 'CityTier_1', 'CityTier_2',\n",
      "       'PreferredPropertyStar_3', 'PreferredPropertyStar_4',\n",
      "       'PitchSatisfactionScore_1', 'PitchSatisfactionScore_2',\n",
      "       'PitchSatisfactionScore_3', 'PitchSatisfactionScore_4'],\n",
      "      dtype='object')\n"
     ]
    }
   ],
   "source": [
    "print(len(df_one_hot_encoded.columns))\n",
    "print(df_one_hot_encoded.columns)"
   ]
  },
  {
   "cell_type": "code",
   "execution_count": 92,
   "metadata": {},
   "outputs": [],
   "source": [
    "df_one_hot_encoded.to_csv('data/before_scaled/train_before_scaled.csv', index=False)"
   ]
  },
  {
   "cell_type": "markdown",
   "metadata": {},
   "source": [
    "# Scaler"
   ]
  },
  {
   "cell_type": "code",
   "execution_count": 93,
   "metadata": {},
   "outputs": [],
   "source": [
    "df= pd.read_csv('data/before_scaled/train_before_scaled.csv')"
   ]
  },
  {
   "cell_type": "code",
   "execution_count": 94,
   "metadata": {},
   "outputs": [
    {
     "data": {
      "text/plain": [
       "(3489, 34)"
      ]
     },
     "execution_count": 94,
     "metadata": {},
     "output_type": "execute_result"
    }
   ],
   "source": [
    "df.shape"
   ]
  },
  {
   "cell_type": "code",
   "execution_count": 95,
   "metadata": {},
   "outputs": [
    {
     "data": {
      "image/png": "[encoded data removed]",
      "text/plain": [
       "<Figure size 1800x300 with 4 Axes>"
      ]
     },
     "metadata": {},
     "output_type": "display_data"
    }
   ],
   "source": [
    "tmp = [\n",
    "    'age',\n",
    "    'duration',\n",
    "    'income',\n",
    "    'trip_per_year'\n",
    "]\n",
    "\n",
    "fig, axes = plt.subplots(1, 4, figsize=(18, 3))\n",
    "for i, col in enumerate(tmp):\n",
    "    sns.histplot(df[col], ax=axes[i])\n",
    "\n",
    "plt.show()"
   ]
  },
  {
   "cell_type": "code",
   "execution_count": 96,
   "metadata": {},
   "outputs": [],
   "source": [
    "# 対数変換\n",
    "df['duration'] = np.log1p(df['duration'])\n",
    "df['income'] = np.log1p(df['income'])\n",
    "df['trip_per_year'] = np.log1p(df['trip_per_year'])\n",
    "\n",
    "X = df.drop('ProdTaken', axis=1)\n",
    "y = df['ProdTaken']\n",
    "\n",
    "X_train, X_test, y_train, y_test = train_test_split(X, y, test_size=0.2, stratify=y, random_state=42)\n",
    "\n",
    "s_scaler = StandardScaler()\n",
    "r_scaler = RobustScaler()\n",
    "\n",
    "X_train_scaled = X_train.copy()\n",
    "X_test_scaled = X_test.copy()\n",
    "\n",
    "X_train_scaled[['age', 'NumberOfPersonVisiting']] = s_scaler.fit_transform(X_train[['age', 'NumberOfPersonVisiting']])\n",
    "X_train_scaled[['duration', 'income', 'trip_per_year']] = r_scaler.fit_transform(X_train[['duration', 'income', 'trip_per_year']])\n",
    "\n",
    "X_test_scaled[['age', 'NumberOfPersonVisiting']] = s_scaler.transform(X_test[['age', 'NumberOfPersonVisiting']])\n",
    "X_test_scaled[['duration', 'income', 'trip_per_year']] = r_scaler.transform(X_test[['duration', 'income', 'trip_per_year']])"
   ]
  },
  {
   "cell_type": "code",
   "execution_count": 97,
   "metadata": {},
   "outputs": [
    {
     "name": "stdout",
     "output_type": "stream",
     "text": [
      "Train (2791, 33)\n",
      "Test (698, 33)\n"
     ]
    },
    {
     "data": {
      "text/html": [
       "<div>\n",
       "<style scoped>\n",
       "    .dataframe tbody tr th:only-of-type {\n",
       "        vertical-align: middle;\n",
       "    }\n",
       "\n",
       "    .dataframe tbody tr th {\n",
       "        vertical-align: top;\n",
       "    }\n",
       "\n",
       "    .dataframe thead th {\n",
       "        text-align: right;\n",
       "    }\n",
       "</style>\n",
       "<table border=\"1\" class=\"dataframe\">\n",
       "  <thead>\n",
       "    <tr style=\"text-align: right;\">\n",
       "      <th></th>\n",
       "      <th>NumberOfPersonVisiting</th>\n",
       "      <th>Passport</th>\n",
       "      <th>age</th>\n",
       "      <th>duration</th>\n",
       "      <th>follow</th>\n",
       "      <th>trip_per_year</th>\n",
       "      <th>income</th>\n",
       "      <th>TypeofContact_Self Enquiry</th>\n",
       "      <th>Occupation_Large Business</th>\n",
       "      <th>Occupation_Small Business</th>\n",
       "      <th>...</th>\n",
       "      <th>info_3_2</th>\n",
       "      <th>info_3_3</th>\n",
       "      <th>CityTier_1</th>\n",
       "      <th>CityTier_2</th>\n",
       "      <th>PreferredPropertyStar_3</th>\n",
       "      <th>PreferredPropertyStar_4</th>\n",
       "      <th>PitchSatisfactionScore_1</th>\n",
       "      <th>PitchSatisfactionScore_2</th>\n",
       "      <th>PitchSatisfactionScore_3</th>\n",
       "      <th>PitchSatisfactionScore_4</th>\n",
       "    </tr>\n",
       "  </thead>\n",
       "  <tbody>\n",
       "    <tr>\n",
       "      <th>3378</th>\n",
       "      <td>-0.553831</td>\n",
       "      <td>0</td>\n",
       "      <td>-1.094799</td>\n",
       "      <td>-0.139127</td>\n",
       "      <td>3</td>\n",
       "      <td>-0.415037</td>\n",
       "      <td>-0.995457</td>\n",
       "      <td>0</td>\n",
       "      <td>0</td>\n",
       "      <td>1</td>\n",
       "      <td>...</td>\n",
       "      <td>0</td>\n",
       "      <td>0</td>\n",
       "      <td>0</td>\n",
       "      <td>1</td>\n",
       "      <td>0</td>\n",
       "      <td>1</td>\n",
       "      <td>0</td>\n",
       "      <td>1</td>\n",
       "      <td>0</td>\n",
       "      <td>0</td>\n",
       "    </tr>\n",
       "    <tr>\n",
       "      <th>2100</th>\n",
       "      <td>0.822609</td>\n",
       "      <td>0</td>\n",
       "      <td>0.118778</td>\n",
       "      <td>-1.075514</td>\n",
       "      <td>6</td>\n",
       "      <td>1.000000</td>\n",
       "      <td>1.410269</td>\n",
       "      <td>1</td>\n",
       "      <td>0</td>\n",
       "      <td>0</td>\n",
       "      <td>...</td>\n",
       "      <td>1</td>\n",
       "      <td>0</td>\n",
       "      <td>1</td>\n",
       "      <td>0</td>\n",
       "      <td>1</td>\n",
       "      <td>0</td>\n",
       "      <td>0</td>\n",
       "      <td>0</td>\n",
       "      <td>0</td>\n",
       "      <td>1</td>\n",
       "    </tr>\n",
       "    <tr>\n",
       "      <th>3482</th>\n",
       "      <td>0.822609</td>\n",
       "      <td>0</td>\n",
       "      <td>0.321041</td>\n",
       "      <td>-0.639026</td>\n",
       "      <td>4</td>\n",
       "      <td>1.000000</td>\n",
       "      <td>-0.105434</td>\n",
       "      <td>1</td>\n",
       "      <td>0</td>\n",
       "      <td>0</td>\n",
       "      <td>...</td>\n",
       "      <td>0</td>\n",
       "      <td>0</td>\n",
       "      <td>0</td>\n",
       "      <td>1</td>\n",
       "      <td>1</td>\n",
       "      <td>0</td>\n",
       "      <td>0</td>\n",
       "      <td>1</td>\n",
       "      <td>0</td>\n",
       "      <td>0</td>\n",
       "    </tr>\n",
       "    <tr>\n",
       "      <th>1908</th>\n",
       "      <td>-0.553831</td>\n",
       "      <td>0</td>\n",
       "      <td>-1.297062</td>\n",
       "      <td>0.000000</td>\n",
       "      <td>3</td>\n",
       "      <td>0.000000</td>\n",
       "      <td>-1.134050</td>\n",
       "      <td>0</td>\n",
       "      <td>0</td>\n",
       "      <td>1</td>\n",
       "      <td>...</td>\n",
       "      <td>0</td>\n",
       "      <td>0</td>\n",
       "      <td>0</td>\n",
       "      <td>0</td>\n",
       "      <td>1</td>\n",
       "      <td>0</td>\n",
       "      <td>0</td>\n",
       "      <td>1</td>\n",
       "      <td>0</td>\n",
       "      <td>0</td>\n",
       "    </tr>\n",
       "    <tr>\n",
       "      <th>2599</th>\n",
       "      <td>0.822609</td>\n",
       "      <td>0</td>\n",
       "      <td>0.118778</td>\n",
       "      <td>0.128824</td>\n",
       "      <td>3</td>\n",
       "      <td>1.700440</td>\n",
       "      <td>-0.280697</td>\n",
       "      <td>0</td>\n",
       "      <td>0</td>\n",
       "      <td>0</td>\n",
       "      <td>...</td>\n",
       "      <td>0</td>\n",
       "      <td>0</td>\n",
       "      <td>0</td>\n",
       "      <td>1</td>\n",
       "      <td>1</td>\n",
       "      <td>0</td>\n",
       "      <td>0</td>\n",
       "      <td>0</td>\n",
       "      <td>1</td>\n",
       "      <td>0</td>\n",
       "    </tr>\n",
       "  </tbody>\n",
       "</table>\n",
       "<p>5 rows × 33 columns</p>\n",
       "</div>"
      ],
      "text/plain": [
       "      NumberOfPersonVisiting  Passport       age  duration  follow  \\\n",
       "3378               -0.553831         0 -1.094799 -0.139127       3   \n",
       "2100                0.822609         0  0.118778 -1.075514       6   \n",
       "3482                0.822609         0  0.321041 -0.639026       4   \n",
       "1908               -0.553831         0 -1.297062  0.000000       3   \n",
       "2599                0.822609         0  0.118778  0.128824       3   \n",
       "\n",
       "      trip_per_year    income  TypeofContact_Self Enquiry  \\\n",
       "3378      -0.415037 -0.995457                           0   \n",
       "2100       1.000000  1.410269                           1   \n",
       "3482       1.000000 -0.105434                           1   \n",
       "1908       0.000000 -1.134050                           0   \n",
       "2599       1.700440 -0.280697                           0   \n",
       "\n",
       "      Occupation_Large Business  Occupation_Small Business  ...  info_3_2  \\\n",
       "3378                          0                          1  ...         0   \n",
       "2100                          0                          0  ...         1   \n",
       "3482                          0                          0  ...         0   \n",
       "1908                          0                          1  ...         0   \n",
       "2599                          0                          0  ...         0   \n",
       "\n",
       "      info_3_3  CityTier_1  CityTier_2  PreferredPropertyStar_3  \\\n",
       "3378         0           0           1                        0   \n",
       "2100         0           1           0                        1   \n",
       "3482         0           0           1                        1   \n",
       "1908         0           0           0                        1   \n",
       "2599         0           0           1                        1   \n",
       "\n",
       "      PreferredPropertyStar_4  PitchSatisfactionScore_1  \\\n",
       "3378                        1                         0   \n",
       "2100                        0                         0   \n",
       "3482                        0                         0   \n",
       "1908                        0                         0   \n",
       "2599                        0                         0   \n",
       "\n",
       "      PitchSatisfactionScore_2  PitchSatisfactionScore_3  \\\n",
       "3378                         1                         0   \n",
       "2100                         0                         0   \n",
       "3482                         1                         0   \n",
       "1908                         1                         0   \n",
       "2599                         0                         1   \n",
       "\n",
       "      PitchSatisfactionScore_4  \n",
       "3378                         0  \n",
       "2100                         1  \n",
       "3482                         0  \n",
       "1908                         0  \n",
       "2599                         0  \n",
       "\n",
       "[5 rows x 33 columns]"
      ]
     },
     "metadata": {},
     "output_type": "display_data"
    }
   ],
   "source": [
    "print('Train', X_train_scaled.shape)\n",
    "print('Test', X_test_scaled.shape)\n",
    "display(X_train_scaled.head())"
   ]
  },
  {
   "cell_type": "code",
   "execution_count": 98,
   "metadata": {},
   "outputs": [],
   "source": [
    "X_train_scaled.to_csv('data/preprocessed/X_train_scaled.csv', index=False)\n",
    "X_test_scaled.to_csv('data/preprocessed/X_test_scaled.csv', index=False)"
   ]
  },
  {
   "cell_type": "code",
   "execution_count": 99,
   "metadata": {},
   "outputs": [],
   "source": [
    "y_train.to_csv('data/preprocessed/y_train.csv', index=False)\n",
    "y_test.to_csv('data/preprocessed/y_test.csv', index=False)"
   ]
  },
  {
   "cell_type": "markdown",
   "metadata": {},
   "source": [
    "# Test Data Preprocessing"
   ]
  },
  {
   "cell_type": "code",
   "execution_count": 100,
   "metadata": {},
   "outputs": [],
   "source": [
    "df_submit = pd.read_csv('data/test.csv')"
   ]
  },
  {
   "cell_type": "code",
   "execution_count": 101,
   "metadata": {},
   "outputs": [
    {
     "data": {
      "text/plain": [
       "(3489, 17)"
      ]
     },
     "execution_count": 101,
     "metadata": {},
     "output_type": "execute_result"
    }
   ],
   "source": [
    "df_submit.shape"
   ]
  },
  {
   "cell_type": "markdown",
   "metadata": {},
   "source": [
    "## Null"
   ]
  },
  {
   "cell_type": "code",
   "execution_count": 102,
   "metadata": {},
   "outputs": [],
   "source": [
    "# Age -> age\n",
    "\n",
    "# 日本語をすべてInt型に変換\n",
    "df_submit[\"age\"] = df_submit[\"Age\"].astype(str).apply(japanese_to_int)\n",
    "\n",
    "# 欠損値を中央値で補完\n",
    "# japanese_to_int関数により、欠損値は0と出力されている。\n",
    "tmp = df_submit[~(df_submit[\"age\"] == 0)]\n",
    "df_submit.loc[df_submit[\"age\"] == 0, \"age\"] = tmp[\"age\"].median()"
   ]
  },
  {
   "cell_type": "code",
   "execution_count": 103,
   "metadata": {},
   "outputs": [
    {
     "name": "stdout",
     "output_type": "stream",
     "text": [
      "TypeofContact\n",
      "Self Enquiry       2250\n",
      "Company Invited    1227\n",
      "Name: count, dtype: int64\n"
     ]
    }
   ],
   "source": [
    "# TypeofContact 後の処理のためにカラム名は変更しない\n",
    "\n",
    "print(df_submit['TypeofContact'].value_counts())\n",
    "\n",
    "# 値の数が多い文字列で補完\n",
    "df_submit['TypeofContact'] = df_submit['TypeofContact'].fillna('Self Enquiry')"
   ]
  },
  {
   "cell_type": "code",
   "execution_count": 104,
   "metadata": {},
   "outputs": [],
   "source": [
    "# DurationOfPitch -> duration\n",
    "\n",
    "# 単位をすべて秒に統一\n",
    "df_submit[\"duration\"] = df_submit[\"DurationOfPitch\"].dropna().apply(convert_to_second)\n",
    "\n",
    "# 欠損値を中央値で補完\n",
    "df_submit[\"duration\"] = df_submit[\"duration\"].fillna(df_submit[\"duration\"].median())"
   ]
  },
  {
   "cell_type": "code",
   "execution_count": 105,
   "metadata": {},
   "outputs": [],
   "source": [
    "# NumberOfFollowups 後の処理のために、カラム名は変更しない\n",
    "\n",
    "# 欠損値を中央値で補完\n",
    "df_submit['NumberOfFollowups'] = df_submit['NumberOfFollowups'].fillna(df_submit['NumberOfFollowups'].median())"
   ]
  },
  {
   "cell_type": "code",
   "execution_count": 106,
   "metadata": {},
   "outputs": [
    {
     "name": "stderr",
     "output_type": "stream",
     "text": [
      "C:\\Users\\ricke\\AppData\\Local\\Temp\\ipykernel_16668\\3377605089.py:4: SettingWithCopyWarning: \n",
      "A value is trying to be set on a copy of a slice from a DataFrame.\n",
      "Try using .loc[row_indexer,col_indexer] = value instead\n",
      "\n",
      "See the caveats in the documentation: https://pandas.pydata.org/pandas-docs/stable/user_guide/indexing.html#returning-a-view-versus-a-copy\n",
      "  tmp['NumberOfTrips'] = tmp['NumberOfTrips'].apply(normalize_trips)\n"
     ]
    }
   ],
   "source": [
    "# NumberOftrips 後の処理のために、カラム名は変更しない\n",
    "\n",
    "tmp = df_submit[~df_submit['NumberOfTrips'].isna()]\n",
    "tmp['NumberOfTrips'] = tmp['NumberOfTrips'].apply(normalize_trips)\n",
    "df_submit['NumberOfTrips'] = df_submit['NumberOfTrips'].fillna(tmp['NumberOfTrips'].median())"
   ]
  },
  {
   "cell_type": "code",
   "execution_count": 107,
   "metadata": {},
   "outputs": [
    {
     "name": "stderr",
     "output_type": "stream",
     "text": [
      "C:\\Users\\ricke\\AppData\\Local\\Temp\\ipykernel_16668\\820979220.py:4: SettingWithCopyWarning: \n",
      "A value is trying to be set on a copy of a slice from a DataFrame.\n",
      "Try using .loc[row_indexer,col_indexer] = value instead\n",
      "\n",
      "See the caveats in the documentation: https://pandas.pydata.org/pandas-docs/stable/user_guide/indexing.html#returning-a-view-versus-a-copy\n",
      "  tmp['MonthlyIncome'] = tmp['MonthlyIncome'].apply(normalize_monthly_income)\n"
     ]
    }
   ],
   "source": [
    "# MonthlyIncome 後の処理のために。カラム名は変更しない\n",
    "\n",
    "tmp = df_submit[~df_submit['MonthlyIncome'].isna()]\n",
    "tmp['MonthlyIncome'] = tmp['MonthlyIncome'].apply(normalize_monthly_income)\n",
    "df_submit['MonthlyIncome'] = df_submit['MonthlyIncome'].fillna(tmp['MonthlyIncome'].median())"
   ]
  },
  {
   "cell_type": "code",
   "execution_count": 108,
   "metadata": {},
   "outputs": [
    {
     "data": {
      "text/plain": [
       "(3489, 19)"
      ]
     },
     "execution_count": 108,
     "metadata": {},
     "output_type": "execute_result"
    }
   ],
   "source": [
    "df_submit.shape"
   ]
  },
  {
   "cell_type": "code",
   "execution_count": 109,
   "metadata": {},
   "outputs": [
    {
     "data": {
      "text/plain": [
       "id                          0\n",
       "Age                        93\n",
       "TypeofContact               0\n",
       "CityTier                    0\n",
       "DurationOfPitch           131\n",
       "Occupation                  0\n",
       "Gender                      0\n",
       "NumberOfPersonVisiting      0\n",
       "NumberOfFollowups           0\n",
       "ProductPitched              0\n",
       "PreferredPropertyStar       0\n",
       "NumberOfTrips               0\n",
       "Passport                    0\n",
       "PitchSatisfactionScore      0\n",
       "Designation                 0\n",
       "MonthlyIncome               0\n",
       "customer_info               0\n",
       "age                         0\n",
       "duration                    0\n",
       "dtype: int64"
      ]
     },
     "execution_count": 109,
     "metadata": {},
     "output_type": "execute_result"
    }
   ],
   "source": [
    "df_submit.isna().sum()"
   ]
  },
  {
   "cell_type": "markdown",
   "metadata": {},
   "source": [
    "## Extract Features"
   ]
  },
  {
   "cell_type": "code",
   "execution_count": 110,
   "metadata": {},
   "outputs": [],
   "source": [
    "df_submit = df_submit.drop(columns=['id', 'Age', 'DurationOfPitch'], axis=1)"
   ]
  },
  {
   "cell_type": "code",
   "execution_count": 111,
   "metadata": {},
   "outputs": [
    {
     "data": {
      "text/plain": [
       "(3489, 16)"
      ]
     },
     "execution_count": 111,
     "metadata": {},
     "output_type": "execute_result"
    }
   ],
   "source": [
    "df_submit.shape"
   ]
  },
  {
   "cell_type": "markdown",
   "metadata": {},
   "source": [
    "## Normalization"
   ]
  },
  {
   "cell_type": "code",
   "execution_count": 112,
   "metadata": {},
   "outputs": [],
   "source": [
    "df_submit['gender'] = df_submit['Gender'].apply(normalize_gender)\n",
    "\n",
    "df_submit['follow'] = df_submit['NumberOfFollowups'].apply(lambda x: x if x < 100 else x / 100)\n",
    "\n",
    "df_submit['product_pitched'] = df_submit['ProductPitched'].apply(normalize_product_pitched_1)\n",
    "df_submit['product_pitched'] = df_submit['product_pitched'].apply(normalize_product_pitched_2)\n",
    "\n",
    "df_submit['trip_per_year'] = df_submit['NumberOfTrips'].apply(normalize_trips)\n",
    "\n",
    "df_submit['designation'] = df_submit['Designation'].apply(normalize_designation_1)\n",
    "df_submit['designation'] = df_submit['Designation'].apply(normalize_designation_2)\n",
    "\n",
    "df_submit['income'] = df_submit['MonthlyIncome'].apply(normalize_monthly_income)\n",
    "\n",
    "df_submit[['info_1', 'info_2', 'info_3']] = df_submit['customer_info'].apply(divide_customer_info)\n",
    "df_submit['info_1'] = df_submit['info_1'].apply(normalize_info_1)\n",
    "df_submit['info_2'] = df_submit['info_2'].apply(normalize_info_2)\n",
    "df_submit['info_3'] = df_submit['info_3'].apply(normalize_info_3)"
   ]
  },
  {
   "cell_type": "code",
   "execution_count": 113,
   "metadata": {},
   "outputs": [
    {
     "data": {
      "text/plain": [
       "(3489, 25)"
      ]
     },
     "execution_count": 113,
     "metadata": {},
     "output_type": "execute_result"
    }
   ],
   "source": [
    "df_submit.shape"
   ]
  },
  {
   "cell_type": "code",
   "execution_count": 114,
   "metadata": {},
   "outputs": [],
   "source": [
    "df_submit['trip_per_year'] = df_submit['trip_per_year'].astype('float')\n",
    "df_submit['trip_per_year'] = df_submit['trip_per_year'].astype('int')"
   ]
  },
  {
   "cell_type": "code",
   "execution_count": 115,
   "metadata": {},
   "outputs": [
    {
     "name": "stdout",
     "output_type": "stream",
     "text": [
      "gender\n",
      "['male' 'female'] \n",
      "\n",
      "product_pitched\n",
      "['Super Deluxe' 'Standard' 'Basic' 'Deluxe' 'King'] \n",
      "\n",
      "trip_per_year\n",
      "[ 7  4  1 24  5  3  2 16  6  8 12 20 28 32] \n",
      "\n",
      "designation\n",
      "['AVP' 'Senior Manager' 'Executive' 'Manager' 'VP'] \n",
      "\n",
      "info_1\n",
      "['Married' 'Divorced' 'Single'] \n",
      "\n",
      "info_2\n",
      "['Has Car' 'No Car'] \n",
      "\n",
      "info_3\n",
      "['0' '1' '2' '3'] \n",
      "\n"
     ]
    }
   ],
   "source": [
    "tmp = [\"gender\", \"product_pitched\", \"trip_per_year\", \"designation\", \"info_1\", \"info_2\", \"info_3\"]\n",
    "for column in tmp:\n",
    "    print(column)\n",
    "    print(df_submit[column].unique(), \"\\n\")"
   ]
  },
  {
   "cell_type": "code",
   "execution_count": 116,
   "metadata": {},
   "outputs": [],
   "source": [
    "df_submit = df_submit.drop(columns=['Gender', 'NumberOfFollowups', 'ProductPitched', 'NumberOfTrips', 'Designation', 'customer_info','MonthlyIncome'])"
   ]
  },
  {
   "cell_type": "code",
   "execution_count": 117,
   "metadata": {},
   "outputs": [
    {
     "data": {
      "text/plain": [
       "(3489, 18)"
      ]
     },
     "execution_count": 117,
     "metadata": {},
     "output_type": "execute_result"
    }
   ],
   "source": [
    "df_submit.shape"
   ]
  },
  {
   "cell_type": "markdown",
   "metadata": {},
   "source": [
    "## Data Type"
   ]
  },
  {
   "cell_type": "code",
   "execution_count": 118,
   "metadata": {},
   "outputs": [],
   "source": [
    "int_columns = ['NumberOfPersonVisiting', 'PreferredPropertyStar', 'follow']\n",
    "category_columns = ['TypeofContact', 'Occupation', 'gender', 'product_pitched', 'designation', 'info_1', 'info_2', 'info_3']\n",
    "\n",
    "for col in int_columns:\n",
    "    df_submit[col] = df_submit[col].astype('int')\n",
    "\n",
    "for col in category_columns:\n",
    "    df_submit[col] = df_submit[col].astype('category')"
   ]
  },
  {
   "cell_type": "code",
   "execution_count": 119,
   "metadata": {},
   "outputs": [
    {
     "name": "stdout",
     "output_type": "stream",
     "text": [
      "<class 'pandas.core.frame.DataFrame'>\n",
      "RangeIndex: 3489 entries, 0 to 3488\n",
      "Data columns (total 18 columns):\n",
      " #   Column                  Non-Null Count  Dtype   \n",
      "---  ------                  --------------  -----   \n",
      " 0   TypeofContact           3489 non-null   category\n",
      " 1   CityTier                3489 non-null   int64   \n",
      " 2   Occupation              3489 non-null   category\n",
      " 3   NumberOfPersonVisiting  3489 non-null   int32   \n",
      " 4   PreferredPropertyStar   3489 non-null   int32   \n",
      " 5   Passport                3489 non-null   int64   \n",
      " 6   PitchSatisfactionScore  3489 non-null   int64   \n",
      " 7   age                     3489 non-null   int64   \n",
      " 8   duration                3489 non-null   float64 \n",
      " 9   gender                  3489 non-null   category\n",
      " 10  follow                  3489 non-null   int32   \n",
      " 11  product_pitched         3489 non-null   category\n",
      " 12  trip_per_year           3489 non-null   int32   \n",
      " 13  designation             3489 non-null   category\n",
      " 14  income                  3489 non-null   float64 \n",
      " 15  info_1                  3489 non-null   category\n",
      " 16  info_2                  3489 non-null   category\n",
      " 17  info_3                  3489 non-null   category\n",
      "dtypes: category(8), float64(2), int32(4), int64(4)\n",
      "memory usage: 246.7 KB\n"
     ]
    }
   ],
   "source": [
    "df_submit.info()"
   ]
  },
  {
   "cell_type": "markdown",
   "metadata": {},
   "source": [
    "## One-Hot-Encoding"
   ]
  },
  {
   "cell_type": "code",
   "execution_count": 120,
   "metadata": {},
   "outputs": [
    {
     "data": {
      "text/plain": [
       "(3489, 18)"
      ]
     },
     "execution_count": 120,
     "metadata": {},
     "output_type": "execute_result"
    }
   ],
   "source": [
    "df_submit.shape"
   ]
  },
  {
   "cell_type": "code",
   "execution_count": 121,
   "metadata": {},
   "outputs": [
    {
     "name": "stdout",
     "output_type": "stream",
     "text": [
      "36\n",
      "Index(['CityTier', 'NumberOfPersonVisiting', 'PreferredPropertyStar',\n",
      "       'Passport', 'PitchSatisfactionScore', 'age', 'duration', 'follow',\n",
      "       'trip_per_year', 'income', 'TypeofContact_Company Invited',\n",
      "       'TypeofContact_Self Enquiry', 'Occupation_Large Business',\n",
      "       'Occupation_Salaried', 'Occupation_Small Business', 'gender_female',\n",
      "       'gender_male', 'product_pitched_Basic', 'product_pitched_Deluxe',\n",
      "       'product_pitched_King', 'product_pitched_Standard',\n",
      "       'product_pitched_Super Deluxe', 'designation_AVP',\n",
      "       'designation_Executive', 'designation_Manager',\n",
      "       'designation_Senior Manager', 'designation_VP', 'info_1_Divorced',\n",
      "       'info_1_Married', 'info_1_Single', 'info_2_Has Car', 'info_2_No Car',\n",
      "       'info_3_0', 'info_3_1', 'info_3_2', 'info_3_3'],\n",
      "      dtype='object')\n"
     ]
    }
   ],
   "source": [
    "df_one_hot_encoded = pd.get_dummies(df_submit, dtype=int)\n",
    "print(len(df_one_hot_encoded.columns))\n",
    "print(df_one_hot_encoded.columns)"
   ]
  },
  {
   "cell_type": "code",
   "execution_count": 122,
   "metadata": {},
   "outputs": [],
   "source": [
    "# カテゴリ変数の一部を削除\n",
    "drop_list = [\n",
    "    'TypeofContact_Company Invited',  # 「Self Enquiry」を基準とする\n",
    "    'Occupation_Salaried',  # 他の職業タイプと比較する基準\n",
    "    'gender_male',  # 「female」を基準とする\n",
    "    'product_pitched_Basic',  # 他のプロダクトと比較する基準\n",
    "    'designation_Executive',  # 他の指定と比較する基準\n",
    "    'info_1_Single',  # 他の婚姻状態と比較する基準\n",
    "    'info_2_No Car',  # 「Has Car」を基準とする\n",
    "    'info_3_0'  # 子供の数を比較する基準\n",
    "]\n",
    "\n",
    "df_one_hot_encoded = df_one_hot_encoded.drop(columns=drop_list)"
   ]
  },
  {
   "cell_type": "code",
   "execution_count": 123,
   "metadata": {},
   "outputs": [
    {
     "name": "stdout",
     "output_type": "stream",
     "text": [
      "28\n",
      "Index(['CityTier', 'NumberOfPersonVisiting', 'PreferredPropertyStar',\n",
      "       'Passport', 'PitchSatisfactionScore', 'age', 'duration', 'follow',\n",
      "       'trip_per_year', 'income', 'TypeofContact_Self Enquiry',\n",
      "       'Occupation_Large Business', 'Occupation_Small Business',\n",
      "       'gender_female', 'product_pitched_Deluxe', 'product_pitched_King',\n",
      "       'product_pitched_Standard', 'product_pitched_Super Deluxe',\n",
      "       'designation_AVP', 'designation_Manager', 'designation_Senior Manager',\n",
      "       'designation_VP', 'info_1_Divorced', 'info_1_Married', 'info_2_Has Car',\n",
      "       'info_3_1', 'info_3_2', 'info_3_3'],\n",
      "      dtype='object')\n"
     ]
    }
   ],
   "source": [
    "print(len(df_one_hot_encoded.columns))\n",
    "print(df_one_hot_encoded.columns)"
   ]
  },
  {
   "cell_type": "code",
   "execution_count": 124,
   "metadata": {},
   "outputs": [],
   "source": [
    "df_one_hot_encoded.to_csv('data/middle/test_encoded.csv', index=False)"
   ]
  },
  {
   "cell_type": "markdown",
   "metadata": {},
   "source": [
    "## AGAIN One-Hot-Encoding"
   ]
  },
  {
   "cell_type": "code",
   "execution_count": 125,
   "metadata": {},
   "outputs": [],
   "source": [
    "df_submit = pd.read_csv('data/middle/test_encoded.csv')"
   ]
  },
  {
   "cell_type": "code",
   "execution_count": 126,
   "metadata": {},
   "outputs": [
    {
     "data": {
      "text/plain": [
       "(3489, 28)"
      ]
     },
     "execution_count": 126,
     "metadata": {},
     "output_type": "execute_result"
    }
   ],
   "source": [
    "df_submit.shape"
   ]
  },
  {
   "cell_type": "code",
   "execution_count": 127,
   "metadata": {},
   "outputs": [
    {
     "name": "stdout",
     "output_type": "stream",
     "text": [
      "36\n",
      "Index(['NumberOfPersonVisiting', 'Passport', 'age', 'duration', 'follow',\n",
      "       'trip_per_year', 'income', 'TypeofContact_Self Enquiry',\n",
      "       'Occupation_Large Business', 'Occupation_Small Business',\n",
      "       'gender_female', 'product_pitched_Deluxe', 'product_pitched_King',\n",
      "       'product_pitched_Standard', 'product_pitched_Super Deluxe',\n",
      "       'designation_AVP', 'designation_Manager', 'designation_Senior Manager',\n",
      "       'designation_VP', 'info_1_Divorced', 'info_1_Married', 'info_2_Has Car',\n",
      "       'info_3_1', 'info_3_2', 'info_3_3', 'CityTier_1', 'CityTier_2',\n",
      "       'CityTier_3', 'PreferredPropertyStar_3', 'PreferredPropertyStar_4',\n",
      "       'PreferredPropertyStar_5', 'PitchSatisfactionScore_1',\n",
      "       'PitchSatisfactionScore_2', 'PitchSatisfactionScore_3',\n",
      "       'PitchSatisfactionScore_4', 'PitchSatisfactionScore_5'],\n",
      "      dtype='object')\n"
     ]
    }
   ],
   "source": [
    "category_new_list = ['CityTier', 'PreferredPropertyStar', 'PitchSatisfactionScore']\n",
    "\n",
    "df_one_hot_encoded = pd.get_dummies(df_submit, columns=category_new_list, dtype=int)\n",
    "print(len(df_one_hot_encoded.columns))\n",
    "print(df_one_hot_encoded.columns)"
   ]
  },
  {
   "cell_type": "code",
   "execution_count": 128,
   "metadata": {},
   "outputs": [],
   "source": [
    "drop_list = [\n",
    "    'CityTier_3',\n",
    "    'PreferredPropertyStar_5',\n",
    "    'PitchSatisfactionScore_5'\n",
    "]\n",
    "\n",
    "df_one_hot_encoded = df_one_hot_encoded.drop(columns=drop_list)"
   ]
  },
  {
   "cell_type": "code",
   "execution_count": 129,
   "metadata": {},
   "outputs": [
    {
     "name": "stdout",
     "output_type": "stream",
     "text": [
      "33\n",
      "Index(['NumberOfPersonVisiting', 'Passport', 'age', 'duration', 'follow',\n",
      "       'trip_per_year', 'income', 'TypeofContact_Self Enquiry',\n",
      "       'Occupation_Large Business', 'Occupation_Small Business',\n",
      "       'gender_female', 'product_pitched_Deluxe', 'product_pitched_King',\n",
      "       'product_pitched_Standard', 'product_pitched_Super Deluxe',\n",
      "       'designation_AVP', 'designation_Manager', 'designation_Senior Manager',\n",
      "       'designation_VP', 'info_1_Divorced', 'info_1_Married', 'info_2_Has Car',\n",
      "       'info_3_1', 'info_3_2', 'info_3_3', 'CityTier_1', 'CityTier_2',\n",
      "       'PreferredPropertyStar_3', 'PreferredPropertyStar_4',\n",
      "       'PitchSatisfactionScore_1', 'PitchSatisfactionScore_2',\n",
      "       'PitchSatisfactionScore_3', 'PitchSatisfactionScore_4'],\n",
      "      dtype='object')\n"
     ]
    }
   ],
   "source": [
    "print(len(df_one_hot_encoded.columns))\n",
    "print(df_one_hot_encoded.columns)"
   ]
  },
  {
   "cell_type": "code",
   "execution_count": 130,
   "metadata": {},
   "outputs": [],
   "source": [
    "df_one_hot_encoded.to_csv('data/before_scaled/test_before_scaled.csv', index=False)"
   ]
  },
  {
   "cell_type": "markdown",
   "metadata": {},
   "source": [
    "## Scaler"
   ]
  },
  {
   "cell_type": "code",
   "execution_count": 131,
   "metadata": {},
   "outputs": [],
   "source": [
    "df_submit = pd.read_csv('data/before_scaled/test_before_scaled.csv')"
   ]
  },
  {
   "cell_type": "code",
   "execution_count": 132,
   "metadata": {},
   "outputs": [
    {
     "data": {
      "text/plain": [
       "(3489, 33)"
      ]
     },
     "execution_count": 132,
     "metadata": {},
     "output_type": "execute_result"
    }
   ],
   "source": [
    "df_submit.shape"
   ]
  },
  {
   "cell_type": "code",
   "execution_count": 133,
   "metadata": {},
   "outputs": [],
   "source": [
    "# 対数変換\n",
    "df_submit['duration'] = np.log1p(df_submit['duration'])\n",
    "df_submit['income'] = np.log1p(df_submit['income'])\n",
    "df_submit['trip_per_year'] = np.log1p(df_submit['trip_per_year'])\n",
    "\n",
    "X = df_submit.copy()\n",
    "X_scaled = X.copy()\n",
    "\n",
    "X_scaled[['age', 'NumberOfPersonVisiting']] = s_scaler.transform(X[['age', 'NumberOfPersonVisiting']])\n",
    "X_scaled[['duration', 'income', 'trip_per_year']] = r_scaler.transform(X[['duration', 'income', 'trip_per_year']])"
   ]
  },
  {
   "cell_type": "code",
   "execution_count": 134,
   "metadata": {},
   "outputs": [
    {
     "name": "stdout",
     "output_type": "stream",
     "text": [
      "(3489, 33)\n"
     ]
    },
    {
     "data": {
      "text/html": [
       "<div>\n",
       "<style scoped>\n",
       "    .dataframe tbody tr th:only-of-type {\n",
       "        vertical-align: middle;\n",
       "    }\n",
       "\n",
       "    .dataframe tbody tr th {\n",
       "        vertical-align: top;\n",
       "    }\n",
       "\n",
       "    .dataframe thead th {\n",
       "        text-align: right;\n",
       "    }\n",
       "</style>\n",
       "<table border=\"1\" class=\"dataframe\">\n",
       "  <thead>\n",
       "    <tr style=\"text-align: right;\">\n",
       "      <th></th>\n",
       "      <th>NumberOfPersonVisiting</th>\n",
       "      <th>Passport</th>\n",
       "      <th>age</th>\n",
       "      <th>duration</th>\n",
       "      <th>follow</th>\n",
       "      <th>trip_per_year</th>\n",
       "      <th>income</th>\n",
       "      <th>TypeofContact_Self Enquiry</th>\n",
       "      <th>Occupation_Large Business</th>\n",
       "      <th>Occupation_Small Business</th>\n",
       "      <th>...</th>\n",
       "      <th>info_3_2</th>\n",
       "      <th>info_3_3</th>\n",
       "      <th>CityTier_1</th>\n",
       "      <th>CityTier_2</th>\n",
       "      <th>PreferredPropertyStar_3</th>\n",
       "      <th>PreferredPropertyStar_4</th>\n",
       "      <th>PitchSatisfactionScore_1</th>\n",
       "      <th>PitchSatisfactionScore_2</th>\n",
       "      <th>PitchSatisfactionScore_3</th>\n",
       "      <th>PitchSatisfactionScore_4</th>\n",
       "    </tr>\n",
       "  </thead>\n",
       "  <tbody>\n",
       "    <tr>\n",
       "      <th>0</th>\n",
       "      <td>-1.930271</td>\n",
       "      <td>0</td>\n",
       "      <td>0.927829</td>\n",
       "      <td>0.000000</td>\n",
       "      <td>4</td>\n",
       "      <td>1.000000</td>\n",
       "      <td>1.319587</td>\n",
       "      <td>1</td>\n",
       "      <td>0</td>\n",
       "      <td>1</td>\n",
       "      <td>...</td>\n",
       "      <td>0</td>\n",
       "      <td>0</td>\n",
       "      <td>0</td>\n",
       "      <td>1</td>\n",
       "      <td>1</td>\n",
       "      <td>0</td>\n",
       "      <td>0</td>\n",
       "      <td>0</td>\n",
       "      <td>1</td>\n",
       "      <td>0</td>\n",
       "    </tr>\n",
       "    <tr>\n",
       "      <th>1</th>\n",
       "      <td>-1.930271</td>\n",
       "      <td>1</td>\n",
       "      <td>-0.892536</td>\n",
       "      <td>-0.139127</td>\n",
       "      <td>4</td>\n",
       "      <td>0.321928</td>\n",
       "      <td>-0.478720</td>\n",
       "      <td>1</td>\n",
       "      <td>0</td>\n",
       "      <td>1</td>\n",
       "      <td>...</td>\n",
       "      <td>0</td>\n",
       "      <td>0</td>\n",
       "      <td>0</td>\n",
       "      <td>1</td>\n",
       "      <td>1</td>\n",
       "      <td>0</td>\n",
       "      <td>0</td>\n",
       "      <td>0</td>\n",
       "      <td>1</td>\n",
       "      <td>0</td>\n",
       "    </tr>\n",
       "    <tr>\n",
       "      <th>2</th>\n",
       "      <td>-1.930271</td>\n",
       "      <td>0</td>\n",
       "      <td>-1.398193</td>\n",
       "      <td>-0.639026</td>\n",
       "      <td>4</td>\n",
       "      <td>-1.000000</td>\n",
       "      <td>-0.988598</td>\n",
       "      <td>1</td>\n",
       "      <td>0</td>\n",
       "      <td>0</td>\n",
       "      <td>...</td>\n",
       "      <td>0</td>\n",
       "      <td>0</td>\n",
       "      <td>1</td>\n",
       "      <td>0</td>\n",
       "      <td>1</td>\n",
       "      <td>0</td>\n",
       "      <td>0</td>\n",
       "      <td>0</td>\n",
       "      <td>1</td>\n",
       "      <td>0</td>\n",
       "    </tr>\n",
       "    <tr>\n",
       "      <th>3</th>\n",
       "      <td>-1.930271</td>\n",
       "      <td>0</td>\n",
       "      <td>-1.802719</td>\n",
       "      <td>-1.075514</td>\n",
       "      <td>4</td>\n",
       "      <td>-1.000000</td>\n",
       "      <td>-0.990311</td>\n",
       "      <td>0</td>\n",
       "      <td>0</td>\n",
       "      <td>0</td>\n",
       "      <td>...</td>\n",
       "      <td>0</td>\n",
       "      <td>0</td>\n",
       "      <td>0</td>\n",
       "      <td>1</td>\n",
       "      <td>0</td>\n",
       "      <td>1</td>\n",
       "      <td>0</td>\n",
       "      <td>0</td>\n",
       "      <td>1</td>\n",
       "      <td>0</td>\n",
       "    </tr>\n",
       "    <tr>\n",
       "      <th>4</th>\n",
       "      <td>-1.930271</td>\n",
       "      <td>0</td>\n",
       "      <td>0.219909</td>\n",
       "      <td>-1.075514</td>\n",
       "      <td>4</td>\n",
       "      <td>-1.000000</td>\n",
       "      <td>-0.869600</td>\n",
       "      <td>0</td>\n",
       "      <td>0</td>\n",
       "      <td>0</td>\n",
       "      <td>...</td>\n",
       "      <td>0</td>\n",
       "      <td>0</td>\n",
       "      <td>1</td>\n",
       "      <td>0</td>\n",
       "      <td>1</td>\n",
       "      <td>0</td>\n",
       "      <td>0</td>\n",
       "      <td>0</td>\n",
       "      <td>0</td>\n",
       "      <td>1</td>\n",
       "    </tr>\n",
       "  </tbody>\n",
       "</table>\n",
       "<p>5 rows × 33 columns</p>\n",
       "</div>"
      ],
      "text/plain": [
       "   NumberOfPersonVisiting  Passport       age  duration  follow  \\\n",
       "0               -1.930271         0  0.927829  0.000000       4   \n",
       "1               -1.930271         1 -0.892536 -0.139127       4   \n",
       "2               -1.930271         0 -1.398193 -0.639026       4   \n",
       "3               -1.930271         0 -1.802719 -1.075514       4   \n",
       "4               -1.930271         0  0.219909 -1.075514       4   \n",
       "\n",
       "   trip_per_year    income  TypeofContact_Self Enquiry  \\\n",
       "0       1.000000  1.319587                           1   \n",
       "1       0.321928 -0.478720                           1   \n",
       "2      -1.000000 -0.988598                           1   \n",
       "3      -1.000000 -0.990311                           0   \n",
       "4      -1.000000 -0.869600                           0   \n",
       "\n",
       "   Occupation_Large Business  Occupation_Small Business  ...  info_3_2  \\\n",
       "0                          0                          1  ...         0   \n",
       "1                          0                          1  ...         0   \n",
       "2                          0                          0  ...         0   \n",
       "3                          0                          0  ...         0   \n",
       "4                          0                          0  ...         0   \n",
       "\n",
       "   info_3_3  CityTier_1  CityTier_2  PreferredPropertyStar_3  \\\n",
       "0         0           0           1                        1   \n",
       "1         0           0           1                        1   \n",
       "2         0           1           0                        1   \n",
       "3         0           0           1                        0   \n",
       "4         0           1           0                        1   \n",
       "\n",
       "   PreferredPropertyStar_4  PitchSatisfactionScore_1  \\\n",
       "0                        0                         0   \n",
       "1                        0                         0   \n",
       "2                        0                         0   \n",
       "3                        1                         0   \n",
       "4                        0                         0   \n",
       "\n",
       "   PitchSatisfactionScore_2  PitchSatisfactionScore_3  \\\n",
       "0                         0                         1   \n",
       "1                         0                         1   \n",
       "2                         0                         1   \n",
       "3                         0                         1   \n",
       "4                         0                         0   \n",
       "\n",
       "   PitchSatisfactionScore_4  \n",
       "0                         0  \n",
       "1                         0  \n",
       "2                         0  \n",
       "3                         0  \n",
       "4                         1  \n",
       "\n",
       "[5 rows x 33 columns]"
      ]
     },
     "metadata": {},
     "output_type": "display_data"
    }
   ],
   "source": [
    "print(X_scaled.shape)\n",
    "display(X_scaled.head())"
   ]
  },
  {
   "cell_type": "code",
   "execution_count": 135,
   "metadata": {},
   "outputs": [],
   "source": [
    "X_scaled.to_csv('data/preprocessed/X_submission_scaled.csv', index=False)"
   ]
  },
  {
   "cell_type": "markdown",
   "metadata": {},
   "source": [
    "# Machine Learning Models"
   ]
  },
  {
   "cell_type": "code",
   "execution_count": 139,
   "metadata": {},
   "outputs": [],
   "source": [
    "X_train_scaled = pd.read_csv('data/preprocessed/X_train_scaled.csv')\n",
    "X_test_scaled = pd.read_csv('data/preprocessed/X_test_scaled.csv')\n",
    "y_train = pd.read_csv('data/preprocessed/y_train.csv')\n",
    "y_test = pd.read_csv('data/preprocessed/y_test.csv')"
   ]
  },
  {
   "cell_type": "code",
   "execution_count": null,
   "metadata": {},
   "outputs": [
    {
     "name": "stdout",
     "output_type": "stream",
     "text": [
      "(2791, 33)\n",
      "(698, 33)\n"
     ]
    }
   ],
   "source": [
    "print(X_train_scaled.shape)\n",
    "print(X_test_scaled.shape)"
   ]
  },
  {
   "cell_type": "code",
   "execution_count": null,
   "metadata": {},
   "outputs": [
    {
     "name": "stdout",
     "output_type": "stream",
     "text": [
      "ProdTaken\n",
      "0            2393\n",
      "1             398\n",
      "Name: count, dtype: int64\n",
      "ProdTaken\n",
      "0            599\n",
      "1             99\n",
      "Name: count, dtype: int64\n"
     ]
    }
   ],
   "source": [
    "print(y_train.value_counts())\n",
    "print(y_test.value_counts())"
   ]
  },
  {
   "cell_type": "markdown",
   "metadata": {},
   "source": [
    "## xgboost (Randomized 500times)"
   ]
  },
  {
   "cell_type": "code",
   "execution_count": null,
   "metadata": {},
   "outputs": [
    {
     "name": "stdout",
     "output_type": "stream",
     "text": [
      "Best score: 0.827681\n",
      "Best parameters: {'colsample_bylevel': 0.6777465052206787, 'colsample_bynode': 0.8970986656385421, 'colsample_bytree': 0.5464953199115661, 'gamma': 2.9410113347419524, 'learning_rate': 0.14948213806697588, 'max_depth': 4, 'n_estimators': 827, 'reg_alpha': 1.0413735792028744, 'reg_lambda': 2.2543875546369385, 'subsample': 0.8514717204893384}\n"
     ]
    }
   ],
   "source": [
    "xgb = XGBClassifier(objective='binary:logistic', random_state=42)\n",
    "\n",
    "kf = KFold(n_splits=5, shuffle=True, random_state=42)\n",
    "\n",
    "param_dist = {\n",
    "    'max_depth': sp_randint(2, 12),\n",
    "    'learning_rate': uniform(0.01, 0.29),  # 0.01から0.3の範囲\n",
    "    'subsample': uniform(0.5, 0.5),  # 0.5から1.0の範囲\n",
    "    'colsample_bytree': uniform(0.5, 0.5),\n",
    "    'colsample_bylevel': uniform(0.5, 0.5),\n",
    "    'colsample_bynode': uniform(0.5, 0.5),\n",
    "    'reg_lambda': uniform(0.0, 10.0),\n",
    "    'reg_alpha': uniform(0.0, 10.0),\n",
    "    'gamma': uniform(0.0, 5.0),\n",
    "    'n_estimators': sp_randint(100, 1000)\n",
    "}\n",
    "\n",
    "rand_search = RandomizedSearchCV(xgb, param_distributions=param_dist, n_iter=500, scoring='roc_auc', cv=kf, random_state=42)\n",
    "\n",
    "# フィッティング\n",
    "rand_search.fit(X_train_scaled, y_train)\n",
    "\n",
    "# 結果の出力\n",
    "print(\"Best score: %f\" % rand_search.best_score_)\n",
    "print(\"Best parameters: %s\" % rand_search.best_params_)"
   ]
  },
  {
   "cell_type": "code",
   "execution_count": null,
   "metadata": {},
   "outputs": [
    {
     "name": "stdout",
     "output_type": "stream",
     "text": [
      "Test AUC Score: 0.8381140284312237\n"
     ]
    }
   ],
   "source": [
    "best_model = rand_search.best_estimator_\n",
    "\n",
    "y_pred = rand_search.predict_proba(X_test_scaled)[:, 1]\n",
    "\n",
    "auc_score = roc_auc_score(y_test, y_pred)\n",
    "print(f\"Test AUC Score: {auc_score}\")"
   ]
  },
  {
   "cell_type": "code",
   "execution_count": null,
   "metadata": {},
   "outputs": [],
   "source": [
    "with open ('model/xgb_randomizedsearch_500.pkl', 'wb') as file:\n",
    "    pickle.dump(rand_search, file)"
   ]
  },
  {
   "cell_type": "markdown",
   "metadata": {},
   "source": [
    "## xgboost (second)"
   ]
  },
  {
   "cell_type": "code",
   "execution_count": null,
   "metadata": {},
   "outputs": [
    {
     "name": "stdout",
     "output_type": "stream",
     "text": [
      "Fitting 3 folds for each of 100 candidates, totalling 300 fits\n",
      "Best parameters found:  {'subsample': 0.7, 'n_estimators': 400, 'min_child_weight': 4, 'max_depth': 5, 'gamma': 0.0, 'eta': 0.01, 'colsample_bytree': 0.3}\n",
      "Best AUC found:  0.8130733039858763\n"
     ]
    }
   ],
   "source": [
    "xgb_classifier = xgb.XGBClassifier(objective='binary:logistic')\n",
    "\n",
    "params = {\n",
    "    'max_depth': [3, 4, 5, 6, 7],\n",
    "    'min_child_weight': [1, 2, 3, 4],\n",
    "    'gamma': [0.0, 0.1, 0.2, 0.3],\n",
    "    'colsample_bytree': [0.3, 0.4, 0.5, 0.6],\n",
    "    'subsample': [0.6, 0.7, 0.8, 0.9],\n",
    "    'eta': [0.01, 0.05, 0.1, 0.2],\n",
    "    'n_estimators': [100, 200, 300, 400]\n",
    "}\n",
    "\n",
    "random_search = RandomizedSearchCV(xgb_classifier, param_distributions=params, n_iter=100, scoring='roc_auc', n_jobs=-1, cv=3, random_state=42, verbose=3)\n",
    "\n",
    "random_search.fit(X_train_scaled, y_train)\n",
    "\n",
    "print(\"Best parameters found: \", random_search.best_params_)\n",
    "print(\"Best AUC found: \", random_search.best_score_)"
   ]
  },
  {
   "cell_type": "code",
   "execution_count": null,
   "metadata": {},
   "outputs": [
    {
     "name": "stdout",
     "output_type": "stream",
     "text": [
      "Test AUC Score: 0.870041531036031\n"
     ]
    }
   ],
   "source": [
    "# 最適なモデルを取得\n",
    "best_model = random_search.best_estimator_\n",
    "\n",
    "# テストデータでの予測\n",
    "y_pred = best_model.predict_proba(X_test_scaled)[:, 1]\n",
    "\n",
    "# AUCの計算\n",
    "auc_score = roc_auc_score(y_test, y_pred)\n",
    "print(f\"Test AUC Score: {auc_score}\")"
   ]
  },
  {
   "cell_type": "markdown",
   "metadata": {},
   "source": [
    "## xgboost"
   ]
  },
  {
   "cell_type": "code",
   "execution_count": null,
   "metadata": {},
   "outputs": [],
   "source": []
  },
  {
   "cell_type": "markdown",
   "metadata": {},
   "source": [
    "## Gradient Boosting Classifier Randomized 500times"
   ]
  },
  {
   "cell_type": "code",
   "execution_count": 143,
   "metadata": {},
   "outputs": [
    {
     "name": "stdout",
     "output_type": "stream",
     "text": [
      "Best parameters: {'subsample': 1.0, 'n_estimators': 100, 'min_samples_split': 0.7545454545454545, 'min_samples_leaf': 0.18181818181818182, 'max_features': 'sqrt', 'max_depth': 5, 'learning_rate': 0.22777777777777777}\n",
      "Best ROC AUC Score: 0.8080957678400893\n"
     ]
    },
    {
     "name": "stderr",
     "output_type": "stream",
     "text": [
      "c:\\Users\\ricke\\anaconda3\\envs\\competition\\Lib\\site-packages\\sklearn\\model_selection\\_validation.py:540: FitFailedWarning: \n",
      "30 fits failed out of a total of 2500.\n",
      "The score on these train-test partitions for these parameters will be set to nan.\n",
      "If these failures are not expected, you can try to debug them by setting error_score='raise'.\n",
      "\n",
      "Below are more details about the failures:\n",
      "--------------------------------------------------------------------------------\n",
      "30 fits failed with the following error:\n",
      "Traceback (most recent call last):\n",
      "  File \"c:\\Users\\ricke\\anaconda3\\envs\\competition\\Lib\\site-packages\\sklearn\\model_selection\\_validation.py\", line 888, in _fit_and_score\n",
      "    estimator.fit(X_train, y_train, **fit_params)\n",
      "  File \"c:\\Users\\ricke\\anaconda3\\envs\\competition\\Lib\\site-packages\\sklearn\\base.py\", line 1466, in wrapper\n",
      "    estimator._validate_params()\n",
      "  File \"c:\\Users\\ricke\\anaconda3\\envs\\competition\\Lib\\site-packages\\sklearn\\base.py\", line 666, in _validate_params\n",
      "    validate_parameter_constraints(\n",
      "  File \"c:\\Users\\ricke\\anaconda3\\envs\\competition\\Lib\\site-packages\\sklearn\\utils\\_param_validation.py\", line 95, in validate_parameter_constraints\n",
      "    raise InvalidParameterError(\n",
      "sklearn.utils._param_validation.InvalidParameterError: The 'min_samples_leaf' parameter of GradientBoostingClassifier must be an int in the range [1, inf) or a float in the range (0.0, 1.0). Got 1.0 instead.\n",
      "\n",
      "  warnings.warn(some_fits_failed_message, FitFailedWarning)\n",
      "c:\\Users\\ricke\\anaconda3\\envs\\competition\\Lib\\site-packages\\sklearn\\model_selection\\_search.py:1102: UserWarning: One or more of the test scores are non-finite: [0.70519637 0.5        0.5        0.5        0.78099115 0.5\n",
      " 0.5        0.5        0.5        0.5        0.68903593 0.74576367\n",
      " 0.5        0.5        0.70920895 0.5        0.78450145 0.5\n",
      " 0.5        0.5        0.5        0.5        0.5        0.5\n",
      " 0.5        0.80598918 0.5        0.5        0.79830337 0.80809577\n",
      " 0.5        0.5        0.5        0.8013898  0.5        0.5\n",
      " 0.5        0.5        0.5        0.5        0.5        0.78524207\n",
      " 0.5        0.5        0.5        0.5        0.5        0.70179059\n",
      " 0.5        0.5        0.5        0.5        0.5        0.66897794\n",
      " 0.5        0.5        0.5        0.79165491 0.78070615 0.5\n",
      " 0.5        0.5        0.5        0.5        0.5        0.5\n",
      " 0.5               nan 0.80655671 0.7936569  0.5        0.5\n",
      " 0.79888663 0.5        0.76546531 0.5        0.70213073 0.5\n",
      " 0.77907543 0.5        0.5        0.5        0.80436161 0.66900637\n",
      " 0.5        0.5        0.5        0.5        0.5        0.5\n",
      " 0.5        0.5        0.5        0.5        0.5        0.5\n",
      " 0.5        0.5        0.5        0.5        0.5        0.76742944\n",
      " 0.5        0.5        0.80586637        nan 0.76777294 0.5\n",
      " 0.5        0.5        0.80593284 0.5        0.5        0.5\n",
      " 0.5        0.80296416 0.5        0.5        0.5        0.69116649\n",
      " 0.5        0.70530767 0.5        0.5        0.5        0.5\n",
      " 0.5        0.5        0.5        0.5        0.5        0.5\n",
      " 0.5        0.5        0.5        0.5        0.77992503 0.5\n",
      " 0.5        0.5        0.5        0.5        0.5        0.67046131\n",
      " 0.5        0.5        0.5        0.5        0.5        0.5\n",
      " 0.5        0.5        0.7835721  0.70001881 0.5        0.5\n",
      " 0.5        0.5        0.5        0.5        0.5        0.5\n",
      " 0.5        0.5        0.5        0.5        0.5        0.7787492\n",
      " 0.5        0.76664238 0.5        0.5        0.5        0.5\n",
      " 0.78173571 0.6980738  0.79448767 0.5               nan 0.5\n",
      " 0.70600854 0.5        0.79976569 0.79814618 0.5        0.5\n",
      " 0.5        0.5        0.5        0.5        0.69737387 0.79539519\n",
      " 0.5        0.5        0.5        0.5        0.5        0.5\n",
      " 0.79373731 0.5        0.69860355 0.5        0.5        0.70008726\n",
      " 0.5        0.5        0.68437635 0.5        0.5        0.5\n",
      " 0.5        0.5        0.5        0.5        0.5        0.5\n",
      " 0.5        0.5        0.5        0.5        0.5        0.5\n",
      " 0.79115397 0.5        0.5        0.5        0.5        0.5\n",
      " 0.5        0.5        0.5        0.78745776 0.80025362 0.5\n",
      " 0.80507847 0.5        0.5        0.5        0.5        0.5\n",
      " 0.5        0.5        0.5        0.5        0.5        0.5\n",
      " 0.5        0.5        0.5        0.5        0.79425885 0.69826954\n",
      " 0.80608467 0.5        0.67303374 0.5        0.5        0.5\n",
      " 0.5        0.5        0.5        0.5        0.80444467 0.5\n",
      " 0.5        0.80170552 0.5        0.5        0.5        0.5\n",
      " 0.5               nan 0.5        0.8031184  0.5        0.5\n",
      " 0.5        0.5        0.5        0.5        0.5        0.5\n",
      " 0.5        0.5        0.5        0.65645089 0.5        0.5\n",
      " 0.69316699 0.5        0.5        0.68652109 0.5        0.79056534\n",
      " 0.5        0.5        0.5        0.5        0.5        0.79459833\n",
      " 0.80293535 0.7443961  0.5        0.5        0.5        0.5\n",
      " 0.5        0.5        0.5        0.5        0.5        0.5\n",
      "        nan 0.5        0.5        0.5        0.5        0.5\n",
      " 0.5        0.79323027 0.79830884 0.5        0.7834498  0.5\n",
      " 0.5        0.5        0.5        0.5        0.5        0.5\n",
      " 0.5        0.5        0.5        0.68990805 0.5        0.5\n",
      " 0.5        0.5        0.5        0.5        0.5        0.5\n",
      " 0.67172801 0.79964983 0.5        0.5        0.5        0.5\n",
      " 0.5        0.80225684 0.56389353 0.70639537 0.5        0.5\n",
      " 0.80412987 0.5        0.5        0.5        0.5        0.77552262\n",
      " 0.78348864 0.5        0.5        0.5        0.69350889 0.5\n",
      " 0.80217706 0.74015022 0.69728184 0.5        0.5        0.5\n",
      " 0.5        0.70710163 0.5        0.5        0.5        0.5\n",
      " 0.5        0.5        0.5        0.5        0.5               nan\n",
      " 0.79839262 0.5        0.5        0.5        0.5        0.5\n",
      " 0.5        0.5        0.80270193 0.80245638 0.5        0.78255429\n",
      " 0.5        0.78745654 0.5        0.78744101 0.79089924 0.63149185\n",
      " 0.5        0.5        0.5        0.5        0.5        0.5\n",
      " 0.80629701 0.65117995 0.5        0.5        0.5        0.5\n",
      " 0.69796733 0.5        0.5        0.5        0.5        0.5\n",
      " 0.80676964 0.5        0.5        0.78412276 0.5        0.5\n",
      " 0.5        0.5        0.5        0.5        0.5        0.5\n",
      " 0.5        0.5        0.5        0.70383715 0.5        0.78144184\n",
      " 0.5        0.5        0.78344485 0.5        0.80457132 0.79949891\n",
      " 0.5        0.5        0.5        0.78843557 0.5        0.80424495\n",
      " 0.5        0.5        0.5        0.5        0.78818447 0.5\n",
      " 0.5        0.5        0.5        0.5        0.79505476 0.5\n",
      " 0.5        0.5        0.5        0.5        0.80076592 0.5\n",
      " 0.5        0.5        0.5        0.5        0.70035924 0.78453818\n",
      " 0.5        0.5        0.5        0.5        0.5        0.5\n",
      " 0.76935786 0.70367417 0.5        0.65218944 0.5        0.80296416\n",
      " 0.75809116 0.5        0.69369887 0.5        0.5        0.5\n",
      " 0.5        0.5        0.6918957  0.5        0.5        0.5\n",
      " 0.7939924  0.5       ]\n",
      "  warnings.warn(\n",
      "c:\\Users\\ricke\\anaconda3\\envs\\competition\\Lib\\site-packages\\sklearn\\preprocessing\\_label.py:114: DataConversionWarning: A column-vector y was passed when a 1d array was expected. Please change the shape of y to (n_samples, ), for example using ravel().\n",
      "  y = column_or_1d(y, warn=True)\n"
     ]
    }
   ],
   "source": [
    "gbc = GradientBoostingClassifier(random_state=42)\n",
    "\n",
    "parameters = {\n",
    "    \"learning_rate\": np.linspace(0.01, 0.5, 100),\n",
    "    \"min_samples_split\": np.linspace(0.1, 1.0, 100),\n",
    "    \"min_samples_leaf\": np.linspace(0.1, 1.0, 100),\n",
    "    \"max_depth\": [3, 5, 7, 9, 11],\n",
    "    \"max_features\": [\"log2\", \"sqrt\"],\n",
    "    \"subsample\": [0.5, 0.6, 0.7 ,0.8, 0.9, 1.0],\n",
    "    \"n_estimators\": [100, 200, 300]\n",
    "}\n",
    "\n",
    "random_search = RandomizedSearchCV(gbc, param_distributions=parameters, n_iter=500, cv=5, n_jobs=-1, scoring='roc_auc', random_state=42)\n",
    "\n",
    "random_search.fit(X_train_scaled, y_train)\n",
    "\n",
    "print(\"Best parameters:\", random_search.best_params_)\n",
    "print(\"Best ROC AUC Score:\", random_search.best_score_)"
   ]
  },
  {
   "cell_type": "code",
   "execution_count": 144,
   "metadata": {},
   "outputs": [
    {
     "name": "stdout",
     "output_type": "stream",
     "text": [
      "Test AUC Score: 0.8176253351545506\n"
     ]
    }
   ],
   "source": [
    "# 最適なモデルを取得\n",
    "best_model = random_search.best_estimator_\n",
    "\n",
    "# テストデータでの予測\n",
    "y_pred = best_model.predict_proba(X_test_scaled)[:, 1]\n",
    "\n",
    "# AUCの計算\n",
    "auc_score = roc_auc_score(y_test, y_pred)\n",
    "print(f\"Test AUC Score: {auc_score}\")"
   ]
  },
  {
   "cell_type": "markdown",
   "metadata": {},
   "source": [
    "# 予測"
   ]
  },
  {
   "cell_type": "code",
   "execution_count": 145,
   "metadata": {},
   "outputs": [],
   "source": [
    "X_submission_scaled = pd.read_csv('data/preprocessed/X_submission_scaled.csv')"
   ]
  },
  {
   "cell_type": "code",
   "execution_count": 146,
   "metadata": {},
   "outputs": [
    {
     "data": {
      "text/plain": [
       "(3489, 33)"
      ]
     },
     "execution_count": 146,
     "metadata": {},
     "output_type": "execute_result"
    }
   ],
   "source": [
    "X_submission_scaled.shape"
   ]
  },
  {
   "cell_type": "code",
   "execution_count": 147,
   "metadata": {},
   "outputs": [],
   "source": [
    "y_submit = best_model.predict_proba(X_submission_scaled)[:, 1]"
   ]
  },
  {
   "cell_type": "markdown",
   "metadata": {},
   "source": [
    "# 提出準備"
   ]
  },
  {
   "cell_type": "code",
   "execution_count": 148,
   "metadata": {},
   "outputs": [
    {
     "data": {
      "text/html": [
       "<div>\n",
       "<style scoped>\n",
       "    .dataframe tbody tr th:only-of-type {\n",
       "        vertical-align: middle;\n",
       "    }\n",
       "\n",
       "    .dataframe tbody tr th {\n",
       "        vertical-align: top;\n",
       "    }\n",
       "\n",
       "    .dataframe thead th {\n",
       "        text-align: right;\n",
       "    }\n",
       "</style>\n",
       "<table border=\"1\" class=\"dataframe\">\n",
       "  <thead>\n",
       "    <tr style=\"text-align: right;\">\n",
       "      <th></th>\n",
       "      <th>id</th>\n",
       "      <th>prediction</th>\n",
       "    </tr>\n",
       "  </thead>\n",
       "  <tbody>\n",
       "    <tr>\n",
       "      <th>0</th>\n",
       "      <td>3489</td>\n",
       "      <td>0.165363</td>\n",
       "    </tr>\n",
       "    <tr>\n",
       "      <th>1</th>\n",
       "      <td>3490</td>\n",
       "      <td>0.206190</td>\n",
       "    </tr>\n",
       "    <tr>\n",
       "      <th>2</th>\n",
       "      <td>3491</td>\n",
       "      <td>0.261524</td>\n",
       "    </tr>\n",
       "    <tr>\n",
       "      <th>3</th>\n",
       "      <td>3492</td>\n",
       "      <td>0.428577</td>\n",
       "    </tr>\n",
       "    <tr>\n",
       "      <th>4</th>\n",
       "      <td>3493</td>\n",
       "      <td>0.298977</td>\n",
       "    </tr>\n",
       "  </tbody>\n",
       "</table>\n",
       "</div>"
      ],
      "text/plain": [
       "     id  prediction\n",
       "0  3489    0.165363\n",
       "1  3490    0.206190\n",
       "2  3491    0.261524\n",
       "3  3492    0.428577\n",
       "4  3493    0.298977"
      ]
     },
     "execution_count": 148,
     "metadata": {},
     "output_type": "execute_result"
    }
   ],
   "source": [
    "index = pd.read_csv('data/test.csv')['id'].values\n",
    "\n",
    "df_submit = pd.DataFrame({\n",
    "    \"id\": index,\n",
    "    \"prediction\": y_submit\n",
    "})\n",
    "\n",
    "df_submit.head()"
   ]
  },
  {
   "cell_type": "code",
   "execution_count": 149,
   "metadata": {},
   "outputs": [],
   "source": [
    "df_submit.to_csv(\"submission/submit_5.csv\", index=False, header=False)"
   ]
  },
  {
   "cell_type": "markdown",
   "metadata": {},
   "source": [
    "# 提出CSVメモ"
   ]
  },
  {
   "cell_type": "markdown",
   "metadata": {},
   "source": [
    "1 : 0.8239745 (first xgboost)\n",
    "\n",
    "2 : 0.8258920 (second xgboost)\n",
    "\n",
    "3 : 0.8182749\n",
    "\n",
    "4 : 0.8259785 (xgboost randomized 500times)\n",
    "\n",
    "5 : "
   ]
  }
 ],
 "metadata": {
  "kernelspec": {
   "display_name": "competition",
   "language": "python",
   "name": "python3"
  },
  "language_info": {
   "codemirror_mode": {
    "name": "ipython",
    "version": 3
   },
   "file_extension": ".py",
   "mimetype": "text/x-python",
   "name": "python",
   "nbconvert_exporter": "python",
   "pygments_lexer": "ipython3",
   "version": "3.12.4"
  }
 },
 "nbformat": 4,
 "nbformat_minor": 2
}
