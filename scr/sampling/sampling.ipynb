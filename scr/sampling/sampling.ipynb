{
 "cells": [
  {
   "cell_type": "code",
   "execution_count": 2,
   "metadata": {},
   "outputs": [],
   "source": [
    "import os\n",
    "os.chdir('../../')"
   ]
  },
  {
   "cell_type": "code",
   "execution_count": 45,
   "metadata": {},
   "outputs": [],
   "source": [
    "import numpy as np\n",
    "import pandas as pd\n",
    "from imblearn.over_sampling import SMOTE\n",
    "from imblearn.over_sampling import ADASYN\n",
    "from scr.util import *"
   ]
  },
  {
   "cell_type": "code",
   "execution_count": 119,
   "metadata": {},
   "outputs": [],
   "source": [
    "# トレーニングデータセットに対して、オーバーサンプリングを実施\n",
    "\n",
    "# mean\n",
    "df_train_mean_gb = pd.read_csv('data/feature_engineered/null_representative/train_null_mean.csv')\n",
    "df_test_mean_gb = pd.read_csv('data/feature_engineered/null_representative/test_null_mean.csv')\n",
    "df_train_mean_nn = pd.read_csv('data/feature_engineered/null_representative/train_null_mean_scaled.csv')\n",
    "\n",
    "# median\n",
    "df_train_median_gb = pd.read_csv('data/feature_engineered/null_representative/train_null_median.csv')\n",
    "df_test_median_gb = pd.read_csv('data/feature_engineered/null_representative/test_null_median.csv')\n",
    "df_train_median_nn = pd.read_csv('data/feature_engineered/null_representative/train_null_median_scaled.csv')"
   ]
  },
  {
   "cell_type": "code",
   "execution_count": 120,
   "metadata": {},
   "outputs": [
    {
     "name": "stdout",
     "output_type": "stream",
     "text": [
      "114\n",
      "113\n"
     ]
    }
   ],
   "source": [
    "print(len(df_train_mean_gb.columns))\n",
    "print(len(df_test_mean_gb.columns))"
   ]
  },
  {
   "cell_type": "markdown",
   "metadata": {},
   "source": [
    "# オーバーサンプリング"
   ]
  },
  {
   "cell_type": "code",
   "execution_count": 121,
   "metadata": {},
   "outputs": [],
   "source": [
    "df_train_mean_gb = mapping_columns_if_exist(df_train_mean_gb)\n",
    "df_test_mean_gb = mapping_columns_if_exist(df_test_mean_gb)\n",
    "df_train_median_gb = mapping_columns_if_exist(df_train_median_gb)\n",
    "df_test_median_gb = mapping_columns_if_exist(df_test_median_gb)\n",
    "\n",
    "def handle_unknown_label(train_series, test_series):\n",
    "    unique_labels = train_series.unique()\n",
    "    label_map = {label: idx for idx, label in enumerate(unique_labels)}\n",
    "    train_encoded = train_series.map(label_map)\n",
    "    test_encoded = test_series.map(lambda x: label_map.get(x, -1))\n",
    "    return train_encoded, test_encoded\n",
    "\n",
    "# mean\n",
    "combination_mean = df_train_mean_gb.columns[44:110]\n",
    "for col in combination_mean:\n",
    "    df_train_mean_gb[col], df_test_mean_gb[col] = handle_unknown_label(df_train_mean_gb[col], df_test_mean_gb[col])\n",
    "\n",
    "# median\n",
    "combination_median = df_train_median_gb.columns[44:110]\n",
    "for col in combination_mean:\n",
    "    df_train_median_gb[col], df_test_median_gb[col] = handle_unknown_label(df_train_median_gb[col], df_test_median_gb[col])"
   ]
  },
  {
   "cell_type": "code",
   "execution_count": 122,
   "metadata": {},
   "outputs": [
    {
     "name": "stdout",
     "output_type": "stream",
     "text": [
      "114\n",
      "113\n"
     ]
    }
   ],
   "source": [
    "print(len(df_train_mean_gb.columns))\n",
    "print(len(df_test_mean_gb.columns))"
   ]
  },
  {
   "cell_type": "code",
   "execution_count": 123,
   "metadata": {},
   "outputs": [],
   "source": [
    "df_test_mean_gb.to_csv('data/sampling/over_sampling/smote/test_mean_gb.csv', index=False)\n",
    "df_test_median_gb.to_csv('data/sampling/over_sampling/smote/test_median_gb.csv', index=False)"
   ]
  },
  {
   "cell_type": "code",
   "execution_count": 111,
   "metadata": {},
   "outputs": [],
   "source": [
    "# mean\n",
    "X_mean_gb = df_train_mean_gb.drop(columns=['ProdTaken'], axis=1)\n",
    "y_mean_gb = df_train_mean_gb['ProdTaken']\n",
    "X_mean_nn = df_train_mean_nn.drop(columns=['ProdTaken'], axis=1)\n",
    "y_mean_nn = df_train_mean_nn['ProdTaken']\n",
    "\n",
    "# median\n",
    "X_median_gb = df_train_median_gb.drop(columns=['ProdTaken'], axis=1)\n",
    "y_median_gb = df_train_median_gb['ProdTaken']\n",
    "X_median_nn = df_train_median_nn.drop(columns=['ProdTaken'], axis=1)\n",
    "y_median_nn = df_train_median_nn['ProdTaken']"
   ]
  },
  {
   "cell_type": "markdown",
   "metadata": {},
   "source": [
    "## SMOTE"
   ]
  },
  {
   "cell_type": "code",
   "execution_count": 112,
   "metadata": {},
   "outputs": [],
   "source": [
    "smote = SMOTE(random_state=0)\n",
    "\n",
    "# mean\n",
    "X_mean_gb, y_mean_gb = smote.fit_resample(X_mean_gb, y_mean_gb)\n",
    "X_mean_nn, y_mean_nn = smote.fit_resample(X_mean_nn, y_mean_nn)\n",
    "\n",
    "# median\n",
    "X_median_gb, y_median_gb = smote.fit_resample(X_median_gb, y_median_gb)\n",
    "X_median_nn, y_median_nn = smote.fit_resample(X_median_nn, y_median_nn)"
   ]
  },
  {
   "cell_type": "code",
   "execution_count": 113,
   "metadata": {},
   "outputs": [],
   "source": [
    "df_mean_gb_smote = pd.concat([X_mean_gb, y_mean_gb], axis=1)\n",
    "df_mean_nn_smote = pd.concat([X_mean_nn, y_mean_nn], axis=1)\n",
    "df_median_gb_smote = pd.concat([X_median_gb, y_median_gb], axis=1)\n",
    "df_median_nn_smote = pd.concat([X_median_nn, y_median_nn], axis=1)"
   ]
  },
  {
   "cell_type": "code",
   "execution_count": 114,
   "metadata": {},
   "outputs": [],
   "source": [
    "df_mean_gb_smote.to_csv('data/sampling/over_sampling/smote/train_mean_gb_smote.csv', index=False)\n",
    "df_mean_nn_smote.to_csv('data/sampling/over_sampling/smote/train_mean_nn_smote.csv', index=False)\n",
    "df_median_gb_smote.to_csv('data/sampling/over_sampling/smote/train_median_gb_smote.csv', index=False)\n",
    "df_median_nn_smote.to_csv('data/sampling/over_sampling/smote/train_median_nn_smote.csv', index=False)"
   ]
  },
  {
   "cell_type": "markdown",
   "metadata": {},
   "source": [
    "## ADASYN"
   ]
  },
  {
   "cell_type": "code",
   "execution_count": null,
   "metadata": {},
   "outputs": [],
   "source": []
  },
  {
   "cell_type": "markdown",
   "metadata": {},
   "source": [
    "# アンダーサンプリング"
   ]
  },
  {
   "cell_type": "code",
   "execution_count": null,
   "metadata": {},
   "outputs": [],
   "source": []
  }
 ],
 "metadata": {
  "kernelspec": {
   "display_name": "competition",
   "language": "python",
   "name": "python3"
  },
  "language_info": {
   "codemirror_mode": {
    "name": "ipython",
    "version": 3
   },
   "file_extension": ".py",
   "mimetype": "text/x-python",
   "name": "python",
   "nbconvert_exporter": "python",
   "pygments_lexer": "ipython3",
   "version": "3.12.4"
  }
 },
 "nbformat": 4,
 "nbformat_minor": 2
}
