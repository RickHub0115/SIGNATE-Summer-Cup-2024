{
 "cells": [
  {
   "cell_type": "markdown",
   "metadata": {},
   "source": [
    "# 訓練データの欠損値を削除する"
   ]
  },
  {
   "cell_type": "markdown",
   "metadata": {},
   "source": [
    "# テストデータの欠損値を代表値で補完する"
   ]
  },
  {
   "cell_type": "code",
   "execution_count": 2,
   "metadata": {},
   "outputs": [],
   "source": [
    "import os\n",
    "os.chdir('../../')"
   ]
  },
  {
   "cell_type": "code",
   "execution_count": 3,
   "metadata": {},
   "outputs": [],
   "source": [
    "import numpy as np\n",
    "import pandas as pd\n",
    "from scr.util import *"
   ]
  },
  {
   "cell_type": "code",
   "execution_count": 4,
   "metadata": {},
   "outputs": [],
   "source": [
    "df_train = pd.read_csv('data/train.csv')\n",
    "df_test = pd.read_csv('data/test.csv')"
   ]
  },
  {
   "cell_type": "code",
   "execution_count": 5,
   "metadata": {},
   "outputs": [],
   "source": [
    "# 訓練データの欠損値を削除する\n",
    "df_train = df_train.dropna(subset=['Age', 'DurationOfPitch', 'NumberOfTrips', 'MonthlyIncome'], axis=0)"
   ]
  },
  {
   "cell_type": "code",
   "execution_count": 6,
   "metadata": {},
   "outputs": [
    {
     "data": {
      "text/plain": [
       "id                         0\n",
       "Age                        0\n",
       "TypeofContact              2\n",
       "CityTier                   0\n",
       "DurationOfPitch            0\n",
       "Occupation                 0\n",
       "Gender                     0\n",
       "NumberOfPersonVisiting     0\n",
       "NumberOfFollowups         29\n",
       "ProductPitched             0\n",
       "PreferredPropertyStar      0\n",
       "NumberOfTrips              0\n",
       "Passport                   0\n",
       "PitchSatisfactionScore     0\n",
       "Designation                0\n",
       "MonthlyIncome              0\n",
       "customer_info              0\n",
       "ProdTaken                  0\n",
       "dtype: int64"
      ]
     },
     "execution_count": 6,
     "metadata": {},
     "output_type": "execute_result"
    }
   ],
   "source": [
    "df_train.isna().sum()"
   ]
  },
  {
   "cell_type": "code",
   "execution_count": 7,
   "metadata": {},
   "outputs": [
    {
     "data": {
      "text/plain": [
       "id                          0\n",
       "Age                        93\n",
       "TypeofContact              12\n",
       "CityTier                    0\n",
       "DurationOfPitch           131\n",
       "Occupation                  0\n",
       "Gender                      0\n",
       "NumberOfPersonVisiting      0\n",
       "NumberOfFollowups          24\n",
       "ProductPitched              0\n",
       "PreferredPropertyStar       0\n",
       "NumberOfTrips              42\n",
       "Passport                    0\n",
       "PitchSatisfactionScore      0\n",
       "Designation                 0\n",
       "MonthlyIncome              49\n",
       "customer_info               0\n",
       "dtype: int64"
      ]
     },
     "execution_count": 7,
     "metadata": {},
     "output_type": "execute_result"
    }
   ],
   "source": [
    "df_test.isna().sum()"
   ]
  },
  {
   "cell_type": "markdown",
   "metadata": {},
   "source": [
    "## 正規化 + 欠損値補完 (意味がある特徴量)"
   ]
  },
  {
   "cell_type": "code",
   "execution_count": 8,
   "metadata": {},
   "outputs": [],
   "source": [
    "df_train['Age'] = df_train['Age'].astype(str).apply(japanese_to_int)\n",
    "df_test['Age'] = df_test['Age'].astype(str).apply(japanese_to_int)\n",
    "\n",
    "df_train['TypeofContact'] = df_train['TypeofContact'].fillna('No')\n",
    "df_test['TypeofContact'] = df_test['TypeofContact'].fillna('No')\n",
    "\n",
    "df_train['DurationOfPitch'] = df_train['DurationOfPitch'].dropna().apply(convert_to_second)\n",
    "df_test['DurationOfPitch'] = df_test['DurationOfPitch'].dropna().apply(convert_to_second)\n",
    "\n",
    "df_train['Gender'] = df_train['Gender'].apply(normalize_gender)\n",
    "df_test['Gender'] = df_test['Gender'].apply(normalize_gender)\n",
    "\n",
    "df_train['NumberOfFollowups'] = df_train['NumberOfFollowups'].apply(lambda x: x if x < 100 else x / 100)\n",
    "df_test['NumberOfFollowups'] = df_test['NumberOfFollowups'].apply(lambda x: x if x < 100 else x / 100)\n",
    "df_train['NumberOfFollowups'] = df_train['NumberOfFollowups'].fillna(0)\n",
    "df_test['NumberOfFollowups'] = df_test['NumberOfFollowups'].fillna(0)\n",
    "\n",
    "df_train['ProductPitched'] = df_train['ProductPitched'].apply(normalize_product_pitched_1)\n",
    "df_train['ProductPitched'] = df_train['ProductPitched'].apply(normalize_product_pitched_2)\n",
    "df_test['ProductPitched'] = df_test['ProductPitched'].apply(normalize_product_pitched_1)\n",
    "df_test['ProductPitched'] = df_test['ProductPitched'].apply(normalize_product_pitched_2)\n",
    "\n",
    "df_train['NumberOfTrips'] = df_train['NumberOfTrips'].apply(normalize_trips)\n",
    "df_test['NumberOfTrips'] = df_test['NumberOfTrips'].apply(normalize_trips)\n",
    "\n",
    "df_train['Designation'] = df_train['Designation'].apply(normalize_designation_1)\n",
    "df_train['Designation'] = df_train['Designation'].apply(normalize_designation_2)\n",
    "df_test['Designation'] = df_test['Designation'].apply(normalize_designation_1)\n",
    "df_test['Designation'] = df_test['Designation'].apply(normalize_designation_2)\n",
    "\n",
    "df_train['MonthlyIncome'] = df_train['MonthlyIncome'].apply(normalize_monthly_income)\n",
    "df_test['MonthlyIncome'] = df_test['MonthlyIncome'].apply(normalize_monthly_income)\n",
    "\n",
    "df_train[['Marry', 'Car', 'Child']] = df_train['customer_info'].apply(divide_customer_info)\n",
    "df_test[['Marry', 'Car', 'Child']] = df_test['customer_info'].apply(divide_customer_info)\n",
    "df_train['Marry'] = df_train['Marry'].apply(normalize_info_1)\n",
    "df_test['Marry'] = df_test['Marry'].apply(normalize_info_1)\n",
    "df_train['Car'] = df_train['Car'].apply(normalize_info_2)\n",
    "df_test['Car'] = df_test['Car'].apply(normalize_info_2)\n",
    "df_train['Child'] = df_train['Child'].apply(normalize_info_3)\n",
    "df_test['Child'] = df_test['Child'].apply(normalize_info_3)"
   ]
  },
  {
   "cell_type": "code",
   "execution_count": 9,
   "metadata": {},
   "outputs": [
    {
     "data": {
      "text/plain": [
       "id                        0\n",
       "Age                       0\n",
       "TypeofContact             0\n",
       "CityTier                  0\n",
       "DurationOfPitch           0\n",
       "Occupation                0\n",
       "Gender                    0\n",
       "NumberOfPersonVisiting    0\n",
       "NumberOfFollowups         0\n",
       "ProductPitched            0\n",
       "PreferredPropertyStar     0\n",
       "NumberOfTrips             0\n",
       "Passport                  0\n",
       "PitchSatisfactionScore    0\n",
       "Designation               0\n",
       "MonthlyIncome             0\n",
       "customer_info             0\n",
       "ProdTaken                 0\n",
       "Marry                     0\n",
       "Car                       0\n",
       "Child                     0\n",
       "dtype: int64"
      ]
     },
     "execution_count": 9,
     "metadata": {},
     "output_type": "execute_result"
    }
   ],
   "source": [
    "df_train.isna().sum()"
   ]
  },
  {
   "cell_type": "code",
   "execution_count": 10,
   "metadata": {},
   "outputs": [
    {
     "data": {
      "text/plain": [
       "id                          0\n",
       "Age                         0\n",
       "TypeofContact               0\n",
       "CityTier                    0\n",
       "DurationOfPitch           131\n",
       "Occupation                  0\n",
       "Gender                      0\n",
       "NumberOfPersonVisiting      0\n",
       "NumberOfFollowups           0\n",
       "ProductPitched              0\n",
       "PreferredPropertyStar       0\n",
       "NumberOfTrips               0\n",
       "Passport                    0\n",
       "PitchSatisfactionScore      0\n",
       "Designation                 0\n",
       "MonthlyIncome              49\n",
       "customer_info               0\n",
       "Marry                       0\n",
       "Car                         0\n",
       "Child                       0\n",
       "dtype: int64"
      ]
     },
     "execution_count": 10,
     "metadata": {},
     "output_type": "execute_result"
    }
   ],
   "source": [
    "df_test.isna().sum()"
   ]
  },
  {
   "cell_type": "code",
   "execution_count": 11,
   "metadata": {},
   "outputs": [],
   "source": [
    "drop_list = ['customer_info']\n",
    "\n",
    "df_train = df_train.drop(columns=drop_list)\n",
    "df_test = df_test.drop(columns=drop_list)"
   ]
  },
  {
   "cell_type": "markdown",
   "metadata": {},
   "source": [
    "## 中央値で補完する"
   ]
  },
  {
   "cell_type": "code",
   "execution_count": 12,
   "metadata": {},
   "outputs": [],
   "source": [
    "tmp = df_test.loc[df_test['Age'] != 0, 'Age']\n",
    "df_test.loc[df_test['Age'] == 0, 'Age'] = tmp.median()"
   ]
  },
  {
   "cell_type": "code",
   "execution_count": 13,
   "metadata": {},
   "outputs": [],
   "source": [
    "tmp = df_test.loc[~(df_test['DurationOfPitch'].isna()), 'DurationOfPitch']\n",
    "df_test.loc[df_test['DurationOfPitch'].isna(), 'DurationOfPitch'] = tmp.median()"
   ]
  },
  {
   "cell_type": "code",
   "execution_count": 14,
   "metadata": {},
   "outputs": [],
   "source": [
    "# tmp = df_test.loc[~(df_test['NumberOfFollowups'].isna()), 'NumberOfFollowups']\n",
    "# df_test.loc[df_test['NumberOfFollowups'].isna(), 'NumberOfFollowups'] = tmp.median()"
   ]
  },
  {
   "cell_type": "code",
   "execution_count": 15,
   "metadata": {},
   "outputs": [],
   "source": [
    "tmp = df_test.loc[~(df_test['NumberOfTrips'] == 'nan'), 'NumberOfTrips']\n",
    "df_test.loc[df_test['NumberOfTrips'] == 'nan', 'NumberOfTrips'] = tmp.median()"
   ]
  },
  {
   "cell_type": "code",
   "execution_count": 16,
   "metadata": {},
   "outputs": [],
   "source": [
    "tmp = df_test.loc[~(df_test['MonthlyIncome'].isna()), 'MonthlyIncome']\n",
    "df_test.loc[df_test['MonthlyIncome'].isna(), 'MonthlyIncome'] = tmp.median()"
   ]
  },
  {
   "cell_type": "code",
   "execution_count": 17,
   "metadata": {},
   "outputs": [
    {
     "name": "stdout",
     "output_type": "stream",
     "text": [
      "3237\n",
      "3489\n"
     ]
    }
   ],
   "source": [
    "print(len(df_train))\n",
    "print(len(df_test))"
   ]
  },
  {
   "cell_type": "code",
   "execution_count": 18,
   "metadata": {},
   "outputs": [
    {
     "data": {
      "text/plain": [
       "id                        0\n",
       "Age                       0\n",
       "TypeofContact             0\n",
       "CityTier                  0\n",
       "DurationOfPitch           0\n",
       "Occupation                0\n",
       "Gender                    0\n",
       "NumberOfPersonVisiting    0\n",
       "NumberOfFollowups         0\n",
       "ProductPitched            0\n",
       "PreferredPropertyStar     0\n",
       "NumberOfTrips             0\n",
       "Passport                  0\n",
       "PitchSatisfactionScore    0\n",
       "Designation               0\n",
       "MonthlyIncome             0\n",
       "ProdTaken                 0\n",
       "Marry                     0\n",
       "Car                       0\n",
       "Child                     0\n",
       "dtype: int64"
      ]
     },
     "execution_count": 18,
     "metadata": {},
     "output_type": "execute_result"
    }
   ],
   "source": [
    "df_train.isna().sum()"
   ]
  },
  {
   "cell_type": "code",
   "execution_count": 19,
   "metadata": {},
   "outputs": [
    {
     "data": {
      "text/plain": [
       "id                        0\n",
       "Age                       0\n",
       "TypeofContact             0\n",
       "CityTier                  0\n",
       "DurationOfPitch           0\n",
       "Occupation                0\n",
       "Gender                    0\n",
       "NumberOfPersonVisiting    0\n",
       "NumberOfFollowups         0\n",
       "ProductPitched            0\n",
       "PreferredPropertyStar     0\n",
       "NumberOfTrips             0\n",
       "Passport                  0\n",
       "PitchSatisfactionScore    0\n",
       "Designation               0\n",
       "MonthlyIncome             0\n",
       "Marry                     0\n",
       "Car                       0\n",
       "Child                     0\n",
       "dtype: int64"
      ]
     },
     "execution_count": 19,
     "metadata": {},
     "output_type": "execute_result"
    }
   ],
   "source": [
    "df_test.isna().sum()"
   ]
  },
  {
   "cell_type": "markdown",
   "metadata": {},
   "source": [
    "# 数値変換 (DurationOfPitch, MonthlyIncome)"
   ]
  },
  {
   "cell_type": "code",
   "execution_count": 20,
   "metadata": {},
   "outputs": [],
   "source": [
    "df_train['DurationOfPitch'] = np.log1p(df_train['DurationOfPitch'])\n",
    "df_train['MonthlyIncome'] = np.log1p(df_train['MonthlyIncome'])\n",
    "\n",
    "df_test['DurationOfPitch'] = np.log1p(df_test['DurationOfPitch'])\n",
    "df_test['MonthlyIncome'] = np.log1p(df_test['MonthlyIncome'])"
   ]
  },
  {
   "cell_type": "markdown",
   "metadata": {},
   "source": [
    "## 年代特徴量作成"
   ]
  },
  {
   "cell_type": "code",
   "execution_count": 21,
   "metadata": {},
   "outputs": [],
   "source": [
    "def age_to_agegroup(age):\n",
    "    if age == 0:\n",
    "        return np.nan    \n",
    "    elif age < 20:\n",
    "        return \"10s\"\n",
    "    elif age < 30:\n",
    "        return \"20s\"\n",
    "    elif age < 40:\n",
    "        return \"30s\"\n",
    "    elif age < 50:\n",
    "        return \"40s\"\n",
    "    elif age < 60:\n",
    "        return \"50s\"\n",
    "    else:\n",
    "        return \"60s\"\n",
    "\n",
    "df_train['AgeGroup'] = df_train['Age'].apply(age_to_agegroup)\n",
    "df_test['AgeGroup'] = df_test['Age'].apply(age_to_agegroup)"
   ]
  },
  {
   "cell_type": "markdown",
   "metadata": {},
   "source": [
    "## 確認"
   ]
  },
  {
   "cell_type": "code",
   "execution_count": 22,
   "metadata": {},
   "outputs": [
    {
     "data": {
      "text/html": [
       "<div>\n",
       "<style scoped>\n",
       "    .dataframe tbody tr th:only-of-type {\n",
       "        vertical-align: middle;\n",
       "    }\n",
       "\n",
       "    .dataframe tbody tr th {\n",
       "        vertical-align: top;\n",
       "    }\n",
       "\n",
       "    .dataframe thead th {\n",
       "        text-align: right;\n",
       "    }\n",
       "</style>\n",
       "<table border=\"1\" class=\"dataframe\">\n",
       "  <thead>\n",
       "    <tr style=\"text-align: right;\">\n",
       "      <th></th>\n",
       "      <th>id</th>\n",
       "      <th>Age</th>\n",
       "      <th>TypeofContact</th>\n",
       "      <th>CityTier</th>\n",
       "      <th>DurationOfPitch</th>\n",
       "      <th>Occupation</th>\n",
       "      <th>Gender</th>\n",
       "      <th>NumberOfPersonVisiting</th>\n",
       "      <th>NumberOfFollowups</th>\n",
       "      <th>ProductPitched</th>\n",
       "      <th>...</th>\n",
       "      <th>NumberOfTrips</th>\n",
       "      <th>Passport</th>\n",
       "      <th>PitchSatisfactionScore</th>\n",
       "      <th>Designation</th>\n",
       "      <th>MonthlyIncome</th>\n",
       "      <th>ProdTaken</th>\n",
       "      <th>Marry</th>\n",
       "      <th>Car</th>\n",
       "      <th>Child</th>\n",
       "      <th>AgeGroup</th>\n",
       "    </tr>\n",
       "  </thead>\n",
       "  <tbody>\n",
       "    <tr>\n",
       "      <th>0</th>\n",
       "      <td>0</td>\n",
       "      <td>50</td>\n",
       "      <td>Self Enquiry</td>\n",
       "      <td>2</td>\n",
       "      <td>6.803505</td>\n",
       "      <td>Large Business</td>\n",
       "      <td>male</td>\n",
       "      <td>1.0</td>\n",
       "      <td>4.0</td>\n",
       "      <td>Basic</td>\n",
       "      <td>...</td>\n",
       "      <td>5</td>\n",
       "      <td>1</td>\n",
       "      <td>4</td>\n",
       "      <td>Executive</td>\n",
       "      <td>12.444719</td>\n",
       "      <td>1</td>\n",
       "      <td>Single</td>\n",
       "      <td>No Car</td>\n",
       "      <td>0_child</td>\n",
       "      <td>50s</td>\n",
       "    </tr>\n",
       "    <tr>\n",
       "      <th>1</th>\n",
       "      <td>1</td>\n",
       "      <td>56</td>\n",
       "      <td>Company Invited</td>\n",
       "      <td>1</td>\n",
       "      <td>6.734592</td>\n",
       "      <td>Salaried</td>\n",
       "      <td>male</td>\n",
       "      <td>1.0</td>\n",
       "      <td>4.0</td>\n",
       "      <td>Standard</td>\n",
       "      <td>...</td>\n",
       "      <td>2</td>\n",
       "      <td>1</td>\n",
       "      <td>4</td>\n",
       "      <td>Senior Manager</td>\n",
       "      <td>12.910348</td>\n",
       "      <td>0</td>\n",
       "      <td>Divorced</td>\n",
       "      <td>Has Car</td>\n",
       "      <td>0_child</td>\n",
       "      <td>50s</td>\n",
       "    </tr>\n",
       "    <tr>\n",
       "      <th>3</th>\n",
       "      <td>3</td>\n",
       "      <td>37</td>\n",
       "      <td>Self Enquiry</td>\n",
       "      <td>2</td>\n",
       "      <td>6.985642</td>\n",
       "      <td>Small Business</td>\n",
       "      <td>female</td>\n",
       "      <td>1.0</td>\n",
       "      <td>3.0</td>\n",
       "      <td>Standard</td>\n",
       "      <td>...</td>\n",
       "      <td>1</td>\n",
       "      <td>0</td>\n",
       "      <td>5</td>\n",
       "      <td>Senior Manager</td>\n",
       "      <td>12.697122</td>\n",
       "      <td>0</td>\n",
       "      <td>Divorced</td>\n",
       "      <td>Has Car</td>\n",
       "      <td>0_child</td>\n",
       "      <td>30s</td>\n",
       "    </tr>\n",
       "    <tr>\n",
       "      <th>4</th>\n",
       "      <td>4</td>\n",
       "      <td>48</td>\n",
       "      <td>Company Invited</td>\n",
       "      <td>3</td>\n",
       "      <td>6.928538</td>\n",
       "      <td>Small Business</td>\n",
       "      <td>female</td>\n",
       "      <td>1.0</td>\n",
       "      <td>3.0</td>\n",
       "      <td>Basic</td>\n",
       "      <td>...</td>\n",
       "      <td>4</td>\n",
       "      <td>0</td>\n",
       "      <td>4</td>\n",
       "      <td>Executive</td>\n",
       "      <td>12.462403</td>\n",
       "      <td>1</td>\n",
       "      <td>Single</td>\n",
       "      <td>Has Car</td>\n",
       "      <td>0_child</td>\n",
       "      <td>40s</td>\n",
       "    </tr>\n",
       "    <tr>\n",
       "      <th>5</th>\n",
       "      <td>5</td>\n",
       "      <td>19</td>\n",
       "      <td>Self Enquiry</td>\n",
       "      <td>2</td>\n",
       "      <td>6.867974</td>\n",
       "      <td>Small Business</td>\n",
       "      <td>male</td>\n",
       "      <td>1.0</td>\n",
       "      <td>3.0</td>\n",
       "      <td>Basic</td>\n",
       "      <td>...</td>\n",
       "      <td>2</td>\n",
       "      <td>0</td>\n",
       "      <td>4</td>\n",
       "      <td>Executive</td>\n",
       "      <td>12.468441</td>\n",
       "      <td>0</td>\n",
       "      <td>Single</td>\n",
       "      <td>No Car</td>\n",
       "      <td>0_child</td>\n",
       "      <td>10s</td>\n",
       "    </tr>\n",
       "  </tbody>\n",
       "</table>\n",
       "<p>5 rows × 21 columns</p>\n",
       "</div>"
      ],
      "text/plain": [
       "   id  Age    TypeofContact  CityTier  DurationOfPitch      Occupation  \\\n",
       "0   0   50     Self Enquiry         2         6.803505  Large Business   \n",
       "1   1   56  Company Invited         1         6.734592        Salaried   \n",
       "3   3   37     Self Enquiry         2         6.985642  Small Business   \n",
       "4   4   48  Company Invited         3         6.928538  Small Business   \n",
       "5   5   19     Self Enquiry         2         6.867974  Small Business   \n",
       "\n",
       "   Gender  NumberOfPersonVisiting  NumberOfFollowups ProductPitched  ...  \\\n",
       "0    male                     1.0                4.0          Basic  ...   \n",
       "1    male                     1.0                4.0       Standard  ...   \n",
       "3  female                     1.0                3.0       Standard  ...   \n",
       "4  female                     1.0                3.0          Basic  ...   \n",
       "5    male                     1.0                3.0          Basic  ...   \n",
       "\n",
       "   NumberOfTrips  Passport  PitchSatisfactionScore     Designation  \\\n",
       "0              5         1                       4       Executive   \n",
       "1              2         1                       4  Senior Manager   \n",
       "3              1         0                       5  Senior Manager   \n",
       "4              4         0                       4       Executive   \n",
       "5              2         0                       4       Executive   \n",
       "\n",
       "  MonthlyIncome  ProdTaken     Marry      Car    Child AgeGroup  \n",
       "0     12.444719          1    Single   No Car  0_child      50s  \n",
       "1     12.910348          0  Divorced  Has Car  0_child      50s  \n",
       "3     12.697122          0  Divorced  Has Car  0_child      30s  \n",
       "4     12.462403          1    Single  Has Car  0_child      40s  \n",
       "5     12.468441          0    Single   No Car  0_child      10s  \n",
       "\n",
       "[5 rows x 21 columns]"
      ]
     },
     "metadata": {},
     "output_type": "display_data"
    },
    {
     "data": {
      "text/html": [
       "<div>\n",
       "<style scoped>\n",
       "    .dataframe tbody tr th:only-of-type {\n",
       "        vertical-align: middle;\n",
       "    }\n",
       "\n",
       "    .dataframe tbody tr th {\n",
       "        vertical-align: top;\n",
       "    }\n",
       "\n",
       "    .dataframe thead th {\n",
       "        text-align: right;\n",
       "    }\n",
       "</style>\n",
       "<table border=\"1\" class=\"dataframe\">\n",
       "  <thead>\n",
       "    <tr style=\"text-align: right;\">\n",
       "      <th></th>\n",
       "      <th>id</th>\n",
       "      <th>Age</th>\n",
       "      <th>TypeofContact</th>\n",
       "      <th>CityTier</th>\n",
       "      <th>DurationOfPitch</th>\n",
       "      <th>Occupation</th>\n",
       "      <th>Gender</th>\n",
       "      <th>NumberOfPersonVisiting</th>\n",
       "      <th>NumberOfFollowups</th>\n",
       "      <th>ProductPitched</th>\n",
       "      <th>PreferredPropertyStar</th>\n",
       "      <th>NumberOfTrips</th>\n",
       "      <th>Passport</th>\n",
       "      <th>PitchSatisfactionScore</th>\n",
       "      <th>Designation</th>\n",
       "      <th>MonthlyIncome</th>\n",
       "      <th>Marry</th>\n",
       "      <th>Car</th>\n",
       "      <th>Child</th>\n",
       "      <th>AgeGroup</th>\n",
       "    </tr>\n",
       "  </thead>\n",
       "  <tbody>\n",
       "    <tr>\n",
       "      <th>0</th>\n",
       "      <td>3489</td>\n",
       "      <td>48</td>\n",
       "      <td>Self Enquiry</td>\n",
       "      <td>2</td>\n",
       "      <td>6.660575</td>\n",
       "      <td>Small Business</td>\n",
       "      <td>male</td>\n",
       "      <td>1.0</td>\n",
       "      <td>4.0</td>\n",
       "      <td>Super Deluxe</td>\n",
       "      <td>3.0</td>\n",
       "      <td>7</td>\n",
       "      <td>0</td>\n",
       "      <td>3</td>\n",
       "      <td>AVP</td>\n",
       "      <td>13.116247</td>\n",
       "      <td>Married</td>\n",
       "      <td>Has Car</td>\n",
       "      <td>0_child</td>\n",
       "      <td>40s</td>\n",
       "    </tr>\n",
       "    <tr>\n",
       "      <th>1</th>\n",
       "      <td>3490</td>\n",
       "      <td>30</td>\n",
       "      <td>Self Enquiry</td>\n",
       "      <td>2</td>\n",
       "      <td>6.580639</td>\n",
       "      <td>Small Business</td>\n",
       "      <td>female</td>\n",
       "      <td>1.0</td>\n",
       "      <td>4.0</td>\n",
       "      <td>Standard</td>\n",
       "      <td>3.0</td>\n",
       "      <td>4</td>\n",
       "      <td>1</td>\n",
       "      <td>3</td>\n",
       "      <td>Senior Manager</td>\n",
       "      <td>12.611541</td>\n",
       "      <td>Married</td>\n",
       "      <td>No Car</td>\n",
       "      <td>0_child</td>\n",
       "      <td>30s</td>\n",
       "    </tr>\n",
       "    <tr>\n",
       "      <th>2</th>\n",
       "      <td>3491</td>\n",
       "      <td>25</td>\n",
       "      <td>Self Enquiry</td>\n",
       "      <td>1</td>\n",
       "      <td>6.293419</td>\n",
       "      <td>Salaried</td>\n",
       "      <td>female</td>\n",
       "      <td>1.0</td>\n",
       "      <td>4.0</td>\n",
       "      <td>Basic</td>\n",
       "      <td>3.0</td>\n",
       "      <td>1</td>\n",
       "      <td>0</td>\n",
       "      <td>3</td>\n",
       "      <td>Executive</td>\n",
       "      <td>12.468441</td>\n",
       "      <td>Divorced</td>\n",
       "      <td>No Car</td>\n",
       "      <td>0_child</td>\n",
       "      <td>20s</td>\n",
       "    </tr>\n",
       "    <tr>\n",
       "      <th>3</th>\n",
       "      <td>3492</td>\n",
       "      <td>21</td>\n",
       "      <td>Company Invited</td>\n",
       "      <td>2</td>\n",
       "      <td>6.042633</td>\n",
       "      <td>Salaried</td>\n",
       "      <td>male</td>\n",
       "      <td>1.0</td>\n",
       "      <td>4.0</td>\n",
       "      <td>Basic</td>\n",
       "      <td>4.0</td>\n",
       "      <td>1</td>\n",
       "      <td>0</td>\n",
       "      <td>3</td>\n",
       "      <td>Senior Manager</td>\n",
       "      <td>12.467960</td>\n",
       "      <td>Divorced</td>\n",
       "      <td>Has Car</td>\n",
       "      <td>0_child</td>\n",
       "      <td>20s</td>\n",
       "    </tr>\n",
       "    <tr>\n",
       "      <th>4</th>\n",
       "      <td>3493</td>\n",
       "      <td>41</td>\n",
       "      <td>Company Invited</td>\n",
       "      <td>1</td>\n",
       "      <td>6.042633</td>\n",
       "      <td>Salaried</td>\n",
       "      <td>male</td>\n",
       "      <td>1.0</td>\n",
       "      <td>4.0</td>\n",
       "      <td>Basic</td>\n",
       "      <td>3.0</td>\n",
       "      <td>1</td>\n",
       "      <td>0</td>\n",
       "      <td>4</td>\n",
       "      <td>Executive</td>\n",
       "      <td>12.501838</td>\n",
       "      <td>Single</td>\n",
       "      <td>Has Car</td>\n",
       "      <td>0_child</td>\n",
       "      <td>40s</td>\n",
       "    </tr>\n",
       "  </tbody>\n",
       "</table>\n",
       "</div>"
      ],
      "text/plain": [
       "     id  Age    TypeofContact  CityTier  DurationOfPitch      Occupation  \\\n",
       "0  3489   48     Self Enquiry         2         6.660575  Small Business   \n",
       "1  3490   30     Self Enquiry         2         6.580639  Small Business   \n",
       "2  3491   25     Self Enquiry         1         6.293419        Salaried   \n",
       "3  3492   21  Company Invited         2         6.042633        Salaried   \n",
       "4  3493   41  Company Invited         1         6.042633        Salaried   \n",
       "\n",
       "   Gender  NumberOfPersonVisiting  NumberOfFollowups ProductPitched  \\\n",
       "0    male                     1.0                4.0   Super Deluxe   \n",
       "1  female                     1.0                4.0       Standard   \n",
       "2  female                     1.0                4.0          Basic   \n",
       "3    male                     1.0                4.0          Basic   \n",
       "4    male                     1.0                4.0          Basic   \n",
       "\n",
       "   PreferredPropertyStar NumberOfTrips  Passport  PitchSatisfactionScore  \\\n",
       "0                    3.0             7         0                       3   \n",
       "1                    3.0             4         1                       3   \n",
       "2                    3.0             1         0                       3   \n",
       "3                    4.0             1         0                       3   \n",
       "4                    3.0             1         0                       4   \n",
       "\n",
       "      Designation  MonthlyIncome     Marry      Car    Child AgeGroup  \n",
       "0             AVP      13.116247   Married  Has Car  0_child      40s  \n",
       "1  Senior Manager      12.611541   Married   No Car  0_child      30s  \n",
       "2       Executive      12.468441  Divorced   No Car  0_child      20s  \n",
       "3  Senior Manager      12.467960  Divorced  Has Car  0_child      20s  \n",
       "4       Executive      12.501838    Single  Has Car  0_child      40s  "
      ]
     },
     "metadata": {},
     "output_type": "display_data"
    }
   ],
   "source": [
    "display(df_train.head())\n",
    "display(df_test.head())"
   ]
  },
  {
   "cell_type": "markdown",
   "metadata": {},
   "source": [
    "# CSV出力"
   ]
  },
  {
   "cell_type": "code",
   "execution_count": 23,
   "metadata": {},
   "outputs": [],
   "source": [
    "df_train.to_csv('data/feature_engineered/null_del_xxx/train_null_del.csv', index=False)\n",
    "df_test.to_csv('data/feature_engineered/null_del_xxx/test_null_median.csv', index=False)"
   ]
  }
 ],
 "metadata": {
  "kernelspec": {
   "display_name": "competition",
   "language": "python",
   "name": "python3"
  },
  "language_info": {
   "codemirror_mode": {
    "name": "ipython",
    "version": 3
   },
   "file_extension": ".py",
   "mimetype": "text/x-python",
   "name": "python",
   "nbconvert_exporter": "python",
   "pygments_lexer": "ipython3",
   "version": "3.12.4"
  }
 },
 "nbformat": 4,
 "nbformat_minor": 2
}
