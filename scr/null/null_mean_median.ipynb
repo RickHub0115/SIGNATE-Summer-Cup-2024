{
 "cells": [
  {
   "cell_type": "markdown",
   "metadata": {},
   "source": [
    "# テストデータの欠損値を代表値で補完する"
   ]
  },
  {
   "cell_type": "code",
   "execution_count": 1,
   "metadata": {},
   "outputs": [],
   "source": [
    "import os\n",
    "os.chdir('../../')"
   ]
  },
  {
   "cell_type": "code",
   "execution_count": 6,
   "metadata": {},
   "outputs": [],
   "source": [
    "import numpy as np\n",
    "import pandas as pd\n",
    "from scr.util import *"
   ]
  },
  {
   "cell_type": "code",
   "execution_count": 40,
   "metadata": {},
   "outputs": [],
   "source": [
    "df_test = pd.read_csv('data/test.csv')"
   ]
  },
  {
   "cell_type": "code",
   "execution_count": 41,
   "metadata": {},
   "outputs": [
    {
     "data": {
      "text/plain": [
       "id                          0\n",
       "Age                        93\n",
       "TypeofContact              12\n",
       "CityTier                    0\n",
       "DurationOfPitch           131\n",
       "Occupation                  0\n",
       "Gender                      0\n",
       "NumberOfPersonVisiting      0\n",
       "NumberOfFollowups          24\n",
       "ProductPitched              0\n",
       "PreferredPropertyStar       0\n",
       "NumberOfTrips              42\n",
       "Passport                    0\n",
       "PitchSatisfactionScore      0\n",
       "Designation                 0\n",
       "MonthlyIncome              49\n",
       "customer_info               0\n",
       "dtype: int64"
      ]
     },
     "execution_count": 41,
     "metadata": {},
     "output_type": "execute_result"
    }
   ],
   "source": [
    "df_test.isna().sum()"
   ]
  },
  {
   "cell_type": "markdown",
   "metadata": {},
   "source": [
    "## 正規化 + 欠損値補完 (意味がある特徴量)"
   ]
  },
  {
   "cell_type": "code",
   "execution_count": 42,
   "metadata": {},
   "outputs": [],
   "source": [
    "#df_train['Age'] = df_train['Age'].astype(str).apply(japanese_to_int)\n",
    "df_test['Age'] = df_test['Age'].astype(str).apply(japanese_to_int)\n",
    "\n",
    "#df_train['TypeofContact'] = df_train['TypeofContact'].fillna('No')\n",
    "df_test['TypeofContact'] = df_test['TypeofContact'].fillna('No')\n",
    "\n",
    "#df_train['DurationOfPitch'] = df_train['DurationOfPitch'].dropna().apply(convert_to_second)\n",
    "df_test['DurationOfPitch'] = df_test['DurationOfPitch'].dropna().apply(convert_to_second)\n",
    "\n",
    "#df_train['Gender'] = df_train['Gender'].apply(normalize_gender)\n",
    "df_test['Gender'] = df_test['Gender'].apply(normalize_gender)\n",
    "\n",
    "#df_train['NumberOfFollowups'] = df_train['NumberOfFollowups'].apply(lambda x: x if x < 100 else x / 100)\n",
    "df_test['NumberOfFollowups'] = df_test['NumberOfFollowups'].apply(lambda x: x if x < 100 else x / 100)\n",
    "#df_train['NumberOfFollowups'] = df_train['NumberOfFollowups'].fillna(0)\n",
    "df_test['NumberOfFollowups'] = df_test['NumberOfFollowups'].fillna(0)\n",
    "\n",
    "#df_train['ProductPitched'] = df_train['ProductPitched'].apply(normalize_product_pitched_1)\n",
    "#df_train['ProductPitched'] = df_train['ProductPitched'].apply(normalize_product_pitched_2)\n",
    "df_test['ProductPitched'] = df_test['ProductPitched'].apply(normalize_product_pitched_1)\n",
    "df_test['ProductPitched'] = df_test['ProductPitched'].apply(normalize_product_pitched_2)\n",
    "\n",
    "#df_train['NumberOfTrips'] = df_train['NumberOfTrips'].apply(normalize_trips)\n",
    "df_test['NumberOfTrips'] = df_test['NumberOfTrips'].apply(normalize_trips)\n",
    "\n",
    "#df_train['Designation'] = df_train['Designation'].apply(normalize_designation_1)\n",
    "#df_train['Designation'] = df_train['Designation'].apply(normalize_designation_2)\n",
    "df_test['Designation'] = df_test['Designation'].apply(normalize_designation_1)\n",
    "df_test['Designation'] = df_test['Designation'].apply(normalize_designation_2)\n",
    "\n",
    "#df_train['MonthlyIncome'] = df_train['MonthlyIncome'].apply(normalize_monthly_income)\n",
    "df_test['MonthlyIncome'] = df_test['MonthlyIncome'].apply(normalize_monthly_income)\n",
    "\n",
    "#df_train[['Marry', 'Car', 'Child']] = df_train['customer_info'].apply(divide_customer_info)\n",
    "df_test[['Marry', 'Car', 'Child']] = df_test['customer_info'].apply(divide_customer_info)\n",
    "#df_train['Marry'] = df_train['Marry'].apply(normalize_info_1)\n",
    "df_test['Marry'] = df_test['Marry'].apply(normalize_info_1)\n",
    "#df_train['Car'] = df_train['Car'].apply(normalize_info_2)\n",
    "df_test['Car'] = df_test['Car'].apply(normalize_info_2)\n",
    "#df_train['Child'] = df_train['Child'].apply(normalize_info_3)\n",
    "df_test['Child'] = df_test['Child'].apply(normalize_info_3)"
   ]
  },
  {
   "cell_type": "code",
   "execution_count": 43,
   "metadata": {},
   "outputs": [],
   "source": [
    "drop_list = ['customer_info']\n",
    "\n",
    "#df_train = df_train.drop(columns=drop_list)\n",
    "df_test = df_test.drop(columns=drop_list)"
   ]
  },
  {
   "cell_type": "markdown",
   "metadata": {},
   "source": [
    "## 中央値で補完する"
   ]
  },
  {
   "cell_type": "code",
   "execution_count": 44,
   "metadata": {},
   "outputs": [],
   "source": [
    "tmp = df_test.loc[df_test['Age'] != 0, 'Age']\n",
    "df_test.loc[df_test['Age'] == 0, 'Age'] = tmp.median()"
   ]
  },
  {
   "cell_type": "code",
   "execution_count": 45,
   "metadata": {},
   "outputs": [],
   "source": [
    "tmp = df_test.loc[~(df_test['DurationOfPitch'].isna()), 'DurationOfPitch']\n",
    "df_test.loc[df_test['DurationOfPitch'].isna(), 'DurationOfPitch'] = tmp.median()"
   ]
  },
  {
   "cell_type": "code",
   "execution_count": 46,
   "metadata": {},
   "outputs": [],
   "source": [
    "tmp = df_test.loc[~(df_test['NumberOfTrips'] == 'nan'), 'NumberOfTrips']\n",
    "df_test.loc[df_test['NumberOfTrips'] == 'nan', 'NumberOfTrips'] = tmp.median()"
   ]
  },
  {
   "cell_type": "code",
   "execution_count": 47,
   "metadata": {},
   "outputs": [],
   "source": [
    "tmp = df_test.loc[~(df_test['MonthlyIncome'].isna()), 'MonthlyIncome']\n",
    "df_test.loc[df_test['MonthlyIncome'].isna(), 'MonthlyIncome'] = tmp.median()"
   ]
  },
  {
   "cell_type": "markdown",
   "metadata": {},
   "source": [
    "# 数値変換 (DurationOfPitch, MonthlyIncome)"
   ]
  },
  {
   "cell_type": "code",
   "execution_count": 48,
   "metadata": {},
   "outputs": [],
   "source": [
    "df_test['DurationOfPitch'] = np.log1p(df_test['DurationOfPitch'])\n",
    "df_test['MonthlyIncome'] = np.log1p(df_test['MonthlyIncome'])"
   ]
  },
  {
   "cell_type": "markdown",
   "metadata": {},
   "source": [
    "## 年代特徴量作成"
   ]
  },
  {
   "cell_type": "code",
   "execution_count": 49,
   "metadata": {},
   "outputs": [],
   "source": [
    "def age_to_agegroup(age):\n",
    "    if age == 0:\n",
    "        return np.nan    \n",
    "    elif age < 20:\n",
    "        return \"10s\"\n",
    "    elif age < 30:\n",
    "        return \"20s\"\n",
    "    elif age < 40:\n",
    "        return \"30s\"\n",
    "    elif age < 50:\n",
    "        return \"40s\"\n",
    "    elif age < 60:\n",
    "        return \"50s\"\n",
    "    else:\n",
    "        return \"60s\"\n",
    "\n",
    "# df_train['AgeGroup'] = df_train['Age'].apply(age_to_agegroup)\n",
    "df_test['AgeGroup'] = df_test['Age'].apply(age_to_agegroup)"
   ]
  },
  {
   "cell_type": "markdown",
   "metadata": {},
   "source": [
    "# CSV出力"
   ]
  },
  {
   "cell_type": "code",
   "execution_count": 50,
   "metadata": {},
   "outputs": [],
   "source": [
    "df_test.to_csv('data/feature_engineered/null_del_xxx/test_null_median.csv', index=False)"
   ]
  },
  {
   "cell_type": "code",
   "execution_count": null,
   "metadata": {},
   "outputs": [],
   "source": []
  }
 ],
 "metadata": {
  "kernelspec": {
   "display_name": "competition",
   "language": "python",
   "name": "python3"
  },
  "language_info": {
   "codemirror_mode": {
    "name": "ipython",
    "version": 3
   },
   "file_extension": ".py",
   "mimetype": "text/x-python",
   "name": "python",
   "nbconvert_exporter": "python",
   "pygments_lexer": "ipython3",
   "version": "3.12.4"
  }
 },
 "nbformat": 4,
 "nbformat_minor": 2
}
