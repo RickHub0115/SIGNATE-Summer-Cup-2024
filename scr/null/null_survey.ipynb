{
 "cells": [
  {
   "cell_type": "code",
   "execution_count": 1,
   "metadata": {},
   "outputs": [],
   "source": [
    "import os\n",
    "os.chdir('../../')"
   ]
  },
  {
   "cell_type": "code",
   "execution_count": 4,
   "metadata": {},
   "outputs": [],
   "source": [
    "import numpy as np\n",
    "import pandas as pd\n",
    "import matplotlib.pyplot as plt\n",
    "import seaborn as sns\n",
    "from scr.util import *"
   ]
  },
  {
   "cell_type": "code",
   "execution_count": 5,
   "metadata": {},
   "outputs": [],
   "source": [
    "df_train = pd.read_csv('data/train.csv')\n",
    "df_test = pd.read_csv('data/test.csv')"
   ]
  },
  {
   "cell_type": "code",
   "execution_count": 6,
   "metadata": {},
   "outputs": [
    {
     "data": {
      "text/plain": [
       "id                          0\n",
       "Age                       100\n",
       "TypeofContact               6\n",
       "CityTier                    0\n",
       "DurationOfPitch           121\n",
       "Occupation                  0\n",
       "Gender                      0\n",
       "NumberOfPersonVisiting      0\n",
       "NumberOfFollowups          33\n",
       "ProductPitched              0\n",
       "PreferredPropertyStar       0\n",
       "NumberOfTrips              22\n",
       "Passport                    0\n",
       "PitchSatisfactionScore      0\n",
       "Designation                 0\n",
       "MonthlyIncome              56\n",
       "customer_info               0\n",
       "ProdTaken                   0\n",
       "dtype: int64"
      ]
     },
     "execution_count": 6,
     "metadata": {},
     "output_type": "execute_result"
    }
   ],
   "source": [
    "df_train.isna().sum()"
   ]
  },
  {
   "cell_type": "markdown",
   "metadata": {},
   "source": [
    "# 今回調査する欠損値：Age, DurationOfPitch, NumberOfTrips, MonthlyIncome"
   ]
  },
  {
   "cell_type": "code",
   "execution_count": 7,
   "metadata": {},
   "outputs": [],
   "source": [
    "df_train['Age'] = df_train['Age'].astype(str).apply(japanese_to_int)\n",
    "df_test['Age'] = df_test['Age'].astype(str).apply(japanese_to_int)\n",
    "\n",
    "df_train['TypeofContact'] = df_train['TypeofContact'].fillna('No')\n",
    "df_test['TypeofContact'] = df_test['TypeofContact'].fillna('No')\n",
    "\n",
    "df_train['DurationOfPitch'] = df_train['DurationOfPitch'].dropna().apply(convert_to_second)\n",
    "df_test['DurationOfPitch'] = df_test['DurationOfPitch'].dropna().apply(convert_to_second)\n",
    "\n",
    "df_train['Gender'] = df_train['Gender'].apply(normalize_gender)\n",
    "df_test['Gender'] = df_test['Gender'].apply(normalize_gender)\n",
    "\n",
    "df_train['NumberOfFollowups'] = df_train['NumberOfFollowups'].apply(lambda x: x if x < 100 else x / 100)\n",
    "df_test['NumberOfFollowups'] = df_test['NumberOfFollowups'].apply(lambda x: x if x < 100 else x / 100)\n",
    "df_train['NumberOfFollowups'] = df_train['NumberOfFollowups'].fillna(0)\n",
    "df_test['NumberOfFollowups'] = df_test['NumberOfFollowups'].fillna(0)\n",
    "\n",
    "df_train['ProductPitched'] = df_train['ProductPitched'].apply(normalize_product_pitched_1)\n",
    "df_train['ProductPitched'] = df_train['ProductPitched'].apply(normalize_product_pitched_2)\n",
    "df_test['ProductPitched'] = df_test['ProductPitched'].apply(normalize_product_pitched_1)\n",
    "df_test['ProductPitched'] = df_test['ProductPitched'].apply(normalize_product_pitched_2)\n",
    "\n",
    "df_train['NumberOfTrips'] = df_train['NumberOfTrips'].apply(normalize_trips)\n",
    "df_test['NumberOfTrips'] = df_test['NumberOfTrips'].apply(normalize_trips)\n",
    "\n",
    "df_train['Designation'] = df_train['Designation'].apply(normalize_designation_1)\n",
    "df_train['Designation'] = df_train['Designation'].apply(normalize_designation_2)\n",
    "df_test['Designation'] = df_test['Designation'].apply(normalize_designation_1)\n",
    "df_test['Designation'] = df_test['Designation'].apply(normalize_designation_2)\n",
    "\n",
    "df_train['MonthlyIncome'] = df_train['MonthlyIncome'].apply(normalize_monthly_income)\n",
    "df_test['MonthlyIncome'] = df_test['MonthlyIncome'].apply(normalize_monthly_income)\n",
    "\n",
    "df_train[['Marry', 'Car', 'Child']] = df_train['customer_info'].apply(divide_customer_info)\n",
    "df_test[['Marry', 'Car', 'Child']] = df_test['customer_info'].apply(divide_customer_info)\n",
    "df_train['Marry'] = df_train['Marry'].apply(normalize_info_1)\n",
    "df_test['Marry'] = df_test['Marry'].apply(normalize_info_1)\n",
    "df_train['Car'] = df_train['Car'].apply(normalize_info_2)\n",
    "df_test['Car'] = df_test['Car'].apply(normalize_info_2)\n",
    "df_train['Child'] = df_train['Child'].apply(normalize_info_3)\n",
    "df_test['Child'] = df_test['Child'].apply(normalize_info_3)"
   ]
  },
  {
   "cell_type": "code",
   "execution_count": 8,
   "metadata": {},
   "outputs": [
    {
     "data": {
      "text/plain": [
       "id                          0\n",
       "Age                         0\n",
       "TypeofContact               0\n",
       "CityTier                    0\n",
       "DurationOfPitch           121\n",
       "Occupation                  0\n",
       "Gender                      0\n",
       "NumberOfPersonVisiting      0\n",
       "NumberOfFollowups           0\n",
       "ProductPitched              0\n",
       "PreferredPropertyStar       0\n",
       "NumberOfTrips               0\n",
       "Passport                    0\n",
       "PitchSatisfactionScore      0\n",
       "Designation                 0\n",
       "MonthlyIncome              56\n",
       "customer_info               0\n",
       "ProdTaken                   0\n",
       "Marry                       0\n",
       "Car                         0\n",
       "Child                       0\n",
       "dtype: int64"
      ]
     },
     "execution_count": 8,
     "metadata": {},
     "output_type": "execute_result"
    }
   ],
   "source": [
    "# Age : 0\n",
    "# NumberOfTrips : 'nan'\n",
    "\n",
    "df_train.isna().sum()"
   ]
  },
  {
   "cell_type": "code",
   "execution_count": 9,
   "metadata": {},
   "outputs": [
    {
     "data": {
      "text/plain": [
       "id                          0\n",
       "Age                         0\n",
       "TypeofContact               0\n",
       "CityTier                    0\n",
       "DurationOfPitch           131\n",
       "Occupation                  0\n",
       "Gender                      0\n",
       "NumberOfPersonVisiting      0\n",
       "NumberOfFollowups           0\n",
       "ProductPitched              0\n",
       "PreferredPropertyStar       0\n",
       "NumberOfTrips               0\n",
       "Passport                    0\n",
       "PitchSatisfactionScore      0\n",
       "Designation                 0\n",
       "MonthlyIncome              49\n",
       "customer_info               0\n",
       "Marry                       0\n",
       "Car                         0\n",
       "Child                       0\n",
       "dtype: int64"
      ]
     },
     "execution_count": 9,
     "metadata": {},
     "output_type": "execute_result"
    }
   ],
   "source": [
    "# Age : 0\n",
    "# NumberOfTrips : 'nan'\n",
    "\n",
    "df_test.isna().sum()"
   ]
  },
  {
   "cell_type": "code",
   "execution_count": 11,
   "metadata": {},
   "outputs": [],
   "source": [
    "drop_list = ['id', 'customer_info']\n",
    "\n",
    "df_train = df_train.drop(columns=drop_list)\n",
    "df_test = df_test.drop(columns=drop_list)"
   ]
  },
  {
   "cell_type": "code",
   "execution_count": 12,
   "metadata": {},
   "outputs": [],
   "source": [
    "df_train.to_csv('data/null_survey/train_null.csv', index=False)\n",
    "df_test.to_csv('data/null_survey/test_null.csv', index=False)"
   ]
  },
  {
   "cell_type": "markdown",
   "metadata": {},
   "source": [
    "# Age"
   ]
  },
  {
   "cell_type": "code",
   "execution_count": 42,
   "metadata": {},
   "outputs": [],
   "source": [
    "df_train = pd.read_csv('data/null_survey/train_null.csv')\n",
    "df_test = pd.read_csv('data/null_survey/test_null.csv')"
   ]
  },
  {
   "cell_type": "code",
   "execution_count": 43,
   "metadata": {},
   "outputs": [],
   "source": [
    "int_columns = ['TypeofContact','CityTier','Occupation','Gender','NumberOfPersonVisiting','NumberOfFollowups','ProductPitched','PreferredPropertyStar','Passport','Car','Child']"
   ]
  },
  {
   "cell_type": "code",
   "execution_count": 44,
   "metadata": {},
   "outputs": [],
   "source": [
    "def age_to_agegroup(age):\n",
    "    if age == 0:\n",
    "        return np.nan\n",
    "    elif age < 20:\n",
    "        return \"10s\"\n",
    "    elif age < 30:\n",
    "        return \"20s\"\n",
    "    elif age < 40:\n",
    "        return \"30s\"\n",
    "    elif age < 50:\n",
    "        return \"40s\"\n",
    "    elif age < 60:\n",
    "        return \"50s\"\n",
    "    else:\n",
    "        return \"60s\"\n",
    "\n",
    "df_train['AgeGroup'] = df_train['Age'].apply(age_to_agegroup)\n",
    "df_test['AgeGroup'] = df_test['Age'].apply(age_to_agegroup)"
   ]
  },
  {
   "cell_type": "code",
   "execution_count": 67,
   "metadata": {},
   "outputs": [
    {
     "name": "stdout",
     "output_type": "stream",
     "text": [
      "                          count   percent\n",
      "AgeGroup TypeofContact                   \n",
      "10s      Company Invited      5  0.277778\n",
      "         Self Enquiry        13  0.722222\n",
      "20s      Company Invited    213  0.386570\n",
      "         Self Enquiry       338  0.613430\n",
      "30s      Company Invited    485  0.391445\n",
      "         No                   4  0.003228\n",
      "         Self Enquiry       750  0.605327\n",
      "40s      Company Invited    311  0.341383\n",
      "         No                   2  0.002195\n",
      "         Self Enquiry       598  0.656422\n",
      "50s      Company Invited    226  0.350388\n",
      "         Self Enquiry       419  0.649612\n",
      "60s      Company Invited      8  0.320000\n",
      "         Self Enquiry        17  0.680000\n",
      "                   count   percent\n",
      "AgeGroup CityTier                 \n",
      "10s      1             8  0.444444\n",
      "         2             9  0.500000\n",
      "         3             1  0.055556\n",
      "20s      1           176  0.319419\n",
      "         2           298  0.540835\n",
      "         3            77  0.139746\n",
      "30s      1           512  0.413236\n",
      "         2           571  0.460856\n",
      "         3           156  0.125908\n",
      "40s      1           416  0.456641\n",
      "         2           398  0.436883\n",
      "         3            97  0.106476\n",
      "50s      1           291  0.451163\n",
      "         2           286  0.443411\n",
      "         3            68  0.105426\n",
      "60s      1            16  0.640000\n",
      "         2             2  0.080000\n",
      "         3             7  0.280000\n",
      "                         count   percent\n",
      "AgeGroup Occupation                     \n",
      "10s      Large Business      4  0.222222\n",
      "         Salaried            8  0.444444\n",
      "         Small Business      6  0.333333\n",
      "20s      Large Business     64  0.116152\n",
      "         Salaried          173  0.313975\n",
      "         Small Business    314  0.569873\n",
      "30s      Large Business    124  0.100081\n",
      "         Salaried          483  0.389831\n",
      "         Small Business    632  0.510089\n",
      "40s      Large Business     90  0.098793\n",
      "         Salaried          402  0.441273\n",
      "         Small Business    419  0.459934\n",
      "50s      Large Business     61  0.094574\n",
      "         Salaried          299  0.463566\n",
      "         Small Business    285  0.441860\n",
      "60s      Large Business      1  0.040000\n",
      "         Salaried           13  0.520000\n",
      "         Small Business     11  0.440000\n",
      "                 count   percent\n",
      "AgeGroup Gender                 \n",
      "10s      female      5  0.277778\n",
      "         male       13  0.722222\n",
      "20s      female    200  0.362976\n",
      "         male      351  0.637024\n",
      "30s      female    486  0.392252\n",
      "         male      753  0.607748\n",
      "40s      female    288  0.316136\n",
      "         male      623  0.683864\n",
      "50s      female    240  0.372093\n",
      "         male      405  0.627907\n",
      "60s      female      8  0.320000\n",
      "         male       17  0.680000\n",
      "                                 count   percent\n",
      "AgeGroup NumberOfPersonVisiting                 \n",
      "10s      1.0                         3  0.166667\n",
      "         2.0                         9  0.500000\n",
      "         3.0                         6  0.333333\n",
      "20s      1.0                        67  0.121597\n",
      "         2.0                       247  0.448276\n",
      "         3.0                       212  0.384755\n",
      "         4.0                        25  0.045372\n",
      "30s      1.0                       107  0.086360\n",
      "         2.0                       570  0.460048\n",
      "         3.0                       490  0.395480\n",
      "         4.0                        72  0.058111\n",
      "40s      1.0                        52  0.057080\n",
      "         2.0                       433  0.475302\n",
      "         3.0                       383  0.420417\n",
      "         4.0                        43  0.047201\n",
      "50s      1.0                        87  0.134884\n",
      "         2.0                       279  0.432558\n",
      "         3.0                       251  0.389147\n",
      "         4.0                        28  0.043411\n",
      "60s      1.0                         3  0.120000\n",
      "         2.0                        13  0.520000\n",
      "         3.0                         9  0.360000\n",
      "                            count   percent\n",
      "AgeGroup NumberOfFollowups                 \n",
      "10s      3.0                    8  0.444444\n",
      "         4.0                    5  0.277778\n",
      "         5.0                    5  0.277778\n",
      "20s      0.0                    6  0.010889\n",
      "         1.0                   14  0.025408\n",
      "         2.0                   10  0.018149\n",
      "         3.0                  196  0.355717\n",
      "         4.0                  223  0.404719\n",
      "         5.0                   96  0.174229\n",
      "         6.0                    6  0.010889\n",
      "30s      0.0                   15  0.012107\n",
      "         1.0                   32  0.025827\n",
      "         2.0                   46  0.037127\n",
      "         3.0                  458  0.369653\n",
      "         4.0                  470  0.379338\n",
      "         5.0                  202  0.163035\n",
      "         6.0                   16  0.012914\n",
      "40s      0.0                    9  0.009879\n",
      "         1.0                   18  0.019759\n",
      "         2.0                   33  0.036224\n",
      "         3.0                  300  0.329308\n",
      "         4.0                  413  0.453348\n",
      "         5.0                  130  0.142700\n",
      "         6.0                    8  0.008782\n",
      "50s      0.0                    3  0.004651\n",
      "         1.0                    9  0.013953\n",
      "         2.0                   17  0.026357\n",
      "         3.0                  252  0.390698\n",
      "         4.0                  273  0.423256\n",
      "         5.0                   82  0.127132\n",
      "         6.0                    9  0.013953\n",
      "60s      1.0                    1  0.040000\n",
      "         3.0                    9  0.360000\n",
      "         4.0                   12  0.480000\n",
      "         5.0                    3  0.120000\n",
      "                         count   percent\n",
      "AgeGroup ProductPitched                 \n",
      "10s      Basic              13  0.722222\n",
      "         Deluxe              3  0.166667\n",
      "         Standard            2  0.111111\n",
      "20s      Basic             348  0.631579\n",
      "         Deluxe            119  0.215971\n",
      "         King                1  0.001815\n",
      "         Standard           83  0.150635\n",
      "30s      Basic             469  0.378531\n",
      "         Deluxe            483  0.389831\n",
      "         King               23  0.018563\n",
      "         Standard          263  0.212268\n",
      "         Super Deluxe        1  0.000807\n",
      "40s      Basic             179  0.196487\n",
      "         Deluxe            438  0.480790\n",
      "         King               37  0.040615\n",
      "         Standard          253  0.277717\n",
      "         Super Deluxe        4  0.004391\n",
      "50s      Basic              78  0.120930\n",
      "         Deluxe            266  0.412403\n",
      "         King               61  0.094574\n",
      "         Standard          237  0.367442\n",
      "         Super Deluxe        3  0.004651\n",
      "60s      Basic               2  0.080000\n",
      "         Deluxe             17  0.680000\n",
      "         King                3  0.120000\n",
      "         Standard            3  0.120000\n",
      "                                count   percent\n",
      "AgeGroup PreferredPropertyStar                 \n",
      "10s      3.0                       12  0.666667\n",
      "         4.0                        6  0.333333\n",
      "20s      3.0                      368  0.667877\n",
      "         4.0                      161  0.292196\n",
      "         5.0                       22  0.039927\n",
      "30s      3.0                      798  0.644068\n",
      "         4.0                      384  0.309927\n",
      "         5.0                       57  0.046005\n",
      "40s      3.0                      536  0.588364\n",
      "         4.0                      310  0.340285\n",
      "         5.0                       65  0.071350\n",
      "50s      3.0                      351  0.544186\n",
      "         4.0                      253  0.392248\n",
      "         5.0                       41  0.063566\n",
      "60s      3.0                       10  0.400000\n",
      "         4.0                       10  0.400000\n",
      "         5.0                        5  0.200000\n",
      "                   count   percent\n",
      "AgeGroup Passport                 \n",
      "10s      0            14  0.777778\n",
      "         1             4  0.222222\n",
      "20s      0           483  0.876588\n",
      "         1            68  0.123412\n",
      "30s      0          1148  0.926554\n",
      "         1            91  0.073446\n",
      "40s      0           821  0.901207\n",
      "         1            90  0.098793\n",
      "50s      0           554  0.858915\n",
      "         1            91  0.141085\n",
      "60s      0            20  0.800000\n",
      "         1             5  0.200000\n",
      "                  count   percent\n",
      "AgeGroup Car                     \n",
      "10s      Has Car      9  0.500000\n",
      "         No Car       9  0.500000\n",
      "20s      Has Car    267  0.484574\n",
      "         No Car     284  0.515426\n",
      "30s      Has Car    559  0.451170\n",
      "         No Car     680  0.548830\n",
      "40s      Has Car    415  0.455543\n",
      "         No Car     496  0.544457\n",
      "50s      Has Car    393  0.609302\n",
      "         No Car     252  0.390698\n",
      "60s      Has Car     19  0.760000\n",
      "         No Car       6  0.240000\n",
      "                  count   percent\n",
      "AgeGroup Child                   \n",
      "10s      0_child      8  0.444444\n",
      "         1_child      7  0.388889\n",
      "         2_child      3  0.166667\n",
      "20s      0_child    193  0.350272\n",
      "         1_child    212  0.384755\n",
      "         2_child    136  0.246824\n",
      "         3_child     10  0.018149\n",
      "30s      0_child    330  0.266344\n",
      "         1_child    612  0.493947\n",
      "         2_child    267  0.215496\n",
      "         3_child     30  0.024213\n",
      "40s      0_child    212  0.232711\n",
      "         1_child    485  0.532382\n",
      "         2_child    198  0.217344\n",
      "         3_child     16  0.017563\n",
      "50s      0_child    222  0.344186\n",
      "         1_child    269  0.417054\n",
      "         2_child    142  0.220155\n",
      "         3_child     12  0.018605\n",
      "60s      0_child     10  0.400000\n",
      "         1_child      8  0.320000\n",
      "         2_child      7  0.280000\n"
     ]
    }
   ],
   "source": [
    "for col in int_columns:\n",
    "    grouped = df_train.groupby(by=['AgeGroup', col])['Age'].count()\n",
    "    total_counts_by_agegroup = grouped.groupby(level=0).sum()\n",
    "    percentage = grouped / total_counts_by_agegroup\n",
    "    grouped = pd.concat([grouped, percentage], axis=1)\n",
    "    grouped.columns = ['count', 'percent']\n",
    "    print(grouped)"
   ]
  },
  {
   "cell_type": "code",
   "execution_count": 33,
   "metadata": {},
   "outputs": [
    {
     "data": {
      "text/plain": [
       "Index(['Age', 'TypeofContact', 'CityTier', 'DurationOfPitch', 'Occupation',\n",
       "       'Gender', 'NumberOfPersonVisiting', 'NumberOfFollowups',\n",
       "       'ProductPitched', 'PreferredPropertyStar', 'NumberOfTrips', 'Passport',\n",
       "       'PitchSatisfactionScore', 'Designation', 'MonthlyIncome', 'ProdTaken',\n",
       "       'Marry', 'Car', 'Child', 'AgeGroup'],\n",
       "      dtype='object')"
      ]
     },
     "execution_count": 33,
     "metadata": {},
     "output_type": "execute_result"
    }
   ],
   "source": []
  },
  {
   "cell_type": "code",
   "execution_count": 25,
   "metadata": {},
   "outputs": [
    {
     "data": {
      "text/plain": [
       "3488    61\n",
       "3487    61\n",
       "3486    61\n",
       "3485    61\n",
       "3484    61\n",
       "3474    60\n",
       "3464    60\n",
       "3465    60\n",
       "3466    60\n",
       "3467    60\n",
       "Name: Age, dtype: int64"
      ]
     },
     "execution_count": 25,
     "metadata": {},
     "output_type": "execute_result"
    }
   ],
   "source": []
  },
  {
   "cell_type": "code",
   "execution_count": null,
   "metadata": {},
   "outputs": [],
   "source": []
  }
 ],
 "metadata": {
  "kernelspec": {
   "display_name": "competition",
   "language": "python",
   "name": "python3"
  },
  "language_info": {
   "codemirror_mode": {
    "name": "ipython",
    "version": 3
   },
   "file_extension": ".py",
   "mimetype": "text/x-python",
   "name": "python",
   "nbconvert_exporter": "python",
   "pygments_lexer": "ipython3",
   "version": "3.12.4"
  }
 },
 "nbformat": 4,
 "nbformat_minor": 2
}
