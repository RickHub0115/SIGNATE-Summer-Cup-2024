{
 "cells": [
  {
   "cell_type": "markdown",
   "metadata": {},
   "source": [
    "# 欠損値から新しい特徴量を作成する\n",
    "訓練・テストデータの両方、欠損値を削除していない場合に有効"
   ]
  },
  {
   "cell_type": "code",
   "execution_count": 1,
   "metadata": {},
   "outputs": [],
   "source": [
    "import os\n",
    "os.chdir('../../')"
   ]
  },
  {
   "cell_type": "code",
   "execution_count": 2,
   "metadata": {},
   "outputs": [],
   "source": [
    "import numpy as np\n",
    "import pandas as pd"
   ]
  },
  {
   "cell_type": "code",
   "execution_count": 5,
   "metadata": {},
   "outputs": [],
   "source": [
    "# 欠損値のidをす得するためのデータセット\n",
    "df_train_null = pd.read_csv('data/train.csv')\n",
    "df_test_null = pd.read_csv('data/test.csv')\n",
    "\n",
    "# 欠損値の特徴量を追加したいデータセット\n",
    "df_train = pd.read_csv('data/middle/train_null_median_middle.csv')\n",
    "df_test = pd.read_csv('data/middle/train_null_median_middle.csv')"
   ]
  },
  {
   "cell_type": "code",
   "execution_count": 47,
   "metadata": {},
   "outputs": [
    {
     "data": {
      "text/plain": [
       "id                          0\n",
       "Age                       100\n",
       "TypeofContact               6\n",
       "CityTier                    0\n",
       "DurationOfPitch           121\n",
       "Occupation                  0\n",
       "Gender                      0\n",
       "NumberOfPersonVisiting      0\n",
       "NumberOfFollowups          33\n",
       "ProductPitched              0\n",
       "PreferredPropertyStar       0\n",
       "NumberOfTrips              22\n",
       "Passport                    0\n",
       "PitchSatisfactionScore      0\n",
       "Designation                 0\n",
       "MonthlyIncome              56\n",
       "customer_info               0\n",
       "ProdTaken                   0\n",
       "dtype: int64"
      ]
     },
     "execution_count": 47,
     "metadata": {},
     "output_type": "execute_result"
    }
   ],
   "source": [
    "df_train_null.isna().sum()"
   ]
  },
  {
   "cell_type": "code",
   "execution_count": 48,
   "metadata": {},
   "outputs": [
    {
     "data": {
      "text/plain": [
       "id                          0\n",
       "Age                        93\n",
       "TypeofContact              12\n",
       "CityTier                    0\n",
       "DurationOfPitch           131\n",
       "Occupation                  0\n",
       "Gender                      0\n",
       "NumberOfPersonVisiting      0\n",
       "NumberOfFollowups          24\n",
       "ProductPitched              0\n",
       "PreferredPropertyStar       0\n",
       "NumberOfTrips              42\n",
       "Passport                    0\n",
       "PitchSatisfactionScore      0\n",
       "Designation                 0\n",
       "MonthlyIncome              49\n",
       "customer_info               0\n",
       "dtype: int64"
      ]
     },
     "execution_count": 48,
     "metadata": {},
     "output_type": "execute_result"
    }
   ],
   "source": [
    "df_test_null.isna().sum()"
   ]
  },
  {
   "cell_type": "code",
   "execution_count": 6,
   "metadata": {},
   "outputs": [],
   "source": [
    "# AgeNull\n",
    "\n",
    "df_train['AgeNull'] = np.where(df_train_null['Age'].isna(), 1, 0)\n",
    "df_test['AgeNull'] = np.where(df_test_null['Age'].isna(), 1, 0)"
   ]
  },
  {
   "cell_type": "code",
   "execution_count": 7,
   "metadata": {},
   "outputs": [],
   "source": [
    "# DurationOfPitchNull\n",
    "\n",
    "df_train['DurationOfPitchNull'] = np.where(df_train_null['DurationOfPitch'].isna(), 1, 0)\n",
    "df_test['DurationOfPitchNull'] = np.where(df_test_null['DurationOfPitch'].isna(), 1, 0)"
   ]
  },
  {
   "cell_type": "code",
   "execution_count": 8,
   "metadata": {},
   "outputs": [],
   "source": [
    "# NumberOfTripsNull\n",
    "\n",
    "df_train['NumberOfTripsNull'] = np.where(df_train_null['NumberOfTrips'].isna(), 1, 0)\n",
    "df_test['NumberOfTripsNull'] = np.where(df_test_null['NumberOfTrips'].isna(), 1, 0)"
   ]
  },
  {
   "cell_type": "code",
   "execution_count": 9,
   "metadata": {},
   "outputs": [],
   "source": [
    "# MonthlyIncomeNull\n",
    "\n",
    "df_train['MonthlyIncomeNull'] = np.where(df_train_null['MonthlyIncome'].isna(), 1, 0)\n",
    "df_test['MonthlyIncomeNull'] = np.where(df_test_null['MonthlyIncome'].isna(), 1, 0)"
   ]
  },
  {
   "cell_type": "code",
   "execution_count": 10,
   "metadata": {},
   "outputs": [
    {
     "name": "stdout",
     "output_type": "stream",
     "text": [
      "100\n",
      "93\n"
     ]
    }
   ],
   "source": [
    "print(len(df_train.loc[df_train['AgeNull'] == 1, :]))\n",
    "print(len(df_test.loc[df_test['AgeNull'] == 1, :]))"
   ]
  },
  {
   "cell_type": "code",
   "execution_count": 11,
   "metadata": {},
   "outputs": [
    {
     "name": "stdout",
     "output_type": "stream",
     "text": [
      "121\n",
      "131\n"
     ]
    }
   ],
   "source": [
    "print(len(df_train.loc[df_train['DurationOfPitchNull'] == 1, :]))\n",
    "print(len(df_test.loc[df_test['DurationOfPitchNull'] == 1, :]))"
   ]
  },
  {
   "cell_type": "code",
   "execution_count": 12,
   "metadata": {},
   "outputs": [
    {
     "name": "stdout",
     "output_type": "stream",
     "text": [
      "22\n",
      "42\n"
     ]
    }
   ],
   "source": [
    "print(len(df_train.loc[df_train['NumberOfTripsNull'] == 1, :]))\n",
    "print(len(df_test.loc[df_test['NumberOfTripsNull'] == 1, :]))"
   ]
  },
  {
   "cell_type": "code",
   "execution_count": 13,
   "metadata": {},
   "outputs": [
    {
     "name": "stdout",
     "output_type": "stream",
     "text": [
      "56\n",
      "49\n"
     ]
    }
   ],
   "source": [
    "print(len(df_train.loc[df_train['MonthlyIncomeNull'] == 1, :]))\n",
    "print(len(df_test.loc[df_test['MonthlyIncomeNull'] == 1, :]))"
   ]
  },
  {
   "cell_type": "code",
   "execution_count": 14,
   "metadata": {},
   "outputs": [],
   "source": [
    "df_train.to_csv('data/feature_engineered/null_cat/train_scaled_for_not_gbd', index=False)\n",
    "df_test.to_csv('data/feature_engineered/null_cat/test_scaled_f', index=False)"
   ]
  },
  {
   "cell_type": "code",
   "execution_count": null,
   "metadata": {},
   "outputs": [],
   "source": []
  }
 ],
 "metadata": {
  "kernelspec": {
   "display_name": "competition",
   "language": "python",
   "name": "python3"
  },
  "language_info": {
   "codemirror_mode": {
    "name": "ipython",
    "version": 3
   },
   "file_extension": ".py",
   "mimetype": "text/x-python",
   "name": "python",
   "nbconvert_exporter": "python",
   "pygments_lexer": "ipython3",
   "version": "3.12.4"
  }
 },
 "nbformat": 4,
 "nbformat_minor": 2
}
