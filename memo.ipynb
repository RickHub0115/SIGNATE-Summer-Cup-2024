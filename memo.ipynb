{
 "cells": [
  {
   "cell_type": "markdown",
   "metadata": {},
   "source": [
    "# 課題"
   ]
  },
  {
   "cell_type": "markdown",
   "metadata": {},
   "source": [
    "・特徴量エンジニアリング\n",
    "\n",
    "・アンサンブル (過学習の異なるモデル)\n",
    "\n",
    "・欠損値補完 (回帰モデルで補完したが、結構厳しい)"
   ]
  },
  {
   "cell_type": "markdown",
   "metadata": {},
   "source": [
    "# データの説明"
   ]
  },
  {
   "cell_type": "markdown",
   "metadata": {},
   "source": [
    "## 既存特徴量"
   ]
  },
  {
   "cell_type": "markdown",
   "metadata": {},
   "source": [
    "Id：顧客のId\n",
    "\n",
    "Age：顧客の年齢\n",
    "\n",
    "TypeofContact：顧客への連絡・接触方法\n",
    "\n",
    "CityTier：都市層(1>2>3)\n",
    "\n",
    "DurationOfPitch：営業担当者による顧客への商品セールス時間\n",
    "\n",
    "Occupation：職業\n",
    "\n",
    "Gender：顧客の性別\n",
    "\n",
    "NumberOfPersonVisiting：予定している旅行の同伴者数\n",
    "\n",
    "NumberOfFollowups：セールス後に営業担当者が行ったフォローアップの回数\n",
    "\n",
    "ProductPitched：営業担当者のセールスした商品の種類\n",
    "\n",
    "PreferredPropertyStar：顧客の希望するホテルのランク\n",
    "\n",
    "NumberOfTrips：顧客の年間旅行数\n",
    "\n",
    "Passport：パスポートの有無\n",
    "\n",
    "PitchSatisfactionScore：営業担当者のセールストークに対する顧客の満足度\n",
    "\n",
    "Designation：顧客の役職\n",
    "\n",
    "MonthlyIncome：顧客の月収\n",
    "\n",
    "Marry：結婚しているか、離婚か\n",
    "\n",
    "Car：車を所有しているか\n",
    "\n",
    "Child：子供がいるか、何人か\n",
    "\n",
    "ProdTaken：旅行の契約が成立したかどうか。"
   ]
  },
  {
   "cell_type": "markdown",
   "metadata": {},
   "source": [
    "## 新規特徴量"
   ]
  },
  {
   "cell_type": "markdown",
   "metadata": {},
   "source": [
    "AgeGroup：顧客の年代\n",
    "\n",
    "TypeofContactNULL：TypeofContactがNULLの特徴量を強調する\n",
    "\n",
    "Motivation：旅行に対するモチベーション（作成失敗？？）\n",
    "\n",
    "EconomicPower：顧客の経済力。経済力を、もっと定義できそう。\n",
    "\n",
    "Child01：子供がいるかどうか\n",
    "\n",
    "TripEasier：旅行に行きやすいかを表す数値    **GOOD**\n",
    "\n",
    "SalesPerformance：営業担当者の単位時間当たりのパフォーマンス\n",
    "\n",
    "LivingCost：生活にかかるコスト\n",
    "\n",
    "EconomicStability：経済安定性指標\n",
    "\n",
    "NumberOfTrips_log：NumberOfTripsを数値変換した数値\n",
    "\n",
    "TravelCost：旅行コスト\n",
    "\n",
    "EconomicSegment：経済力のセグメント\n",
    "\n",
    "PackageMatch：営業担当者のセールスした商品が、顧客の希望するホテルのランクとマッチしているか\n",
    "\n",
    "IsFamily：家庭内の人数が２人以上であれば１。\n",
    "\n",
    "FreaqencySeg：顧客の旅行に対するFreaqency、NumberOfTripを分割した。\n",
    "\n",
    "Monetary：旅行に費やす総金額\n",
    "\n",
    "MonetarySeg：Monetaryをセグメントに分割した。\n",
    "\n",
    "ContractRate_FM：Freaqency-Monetary毎に分割した、契約率。RFM分析の、R以外\n",
    "\n",
    "ContractRate_G1：年代、性別、役職ごとの契約率"
   ]
  },
  {
   "cell_type": "markdown",
   "metadata": {},
   "source": [
    "# 前処理手順\n",
    "・nullフォルダ\n",
    "\n",
    "・特徴量エンジニアリング\n",
    "\n",
    "・欠損値特徴量作成"
   ]
  },
  {
   "cell_type": "markdown",
   "metadata": {},
   "source": [
    "# 考察"
   ]
  },
  {
   "cell_type": "markdown",
   "metadata": {},
   "source": [
    "・訓練データセットは、欠損値を削除した場合にAUCが高くなる。\n",
    "\n",
    "・テストデータセットの欠損値の補完方法でAUCが非常に異なる。つまり、欠損値の補完寳保が重要だが、欠損値の状態で扱うこともアリ"
   ]
  },
  {
   "cell_type": "markdown",
   "metadata": {},
   "source": [
    "# 機械学習モデル"
   ]
  },
  {
   "cell_type": "markdown",
   "metadata": {},
   "source": [
    "## xgboost"
   ]
  },
  {
   "cell_type": "markdown",
   "metadata": {},
   "source": [
    "・特徴量作成前：0.83865\n",
    "\n",
    "・特徴量3個作成：0.8289940（提出積み）"
   ]
  },
  {
   "cell_type": "markdown",
   "metadata": {},
   "source": [
    "## catboost"
   ]
  },
  {
   "cell_type": "markdown",
   "metadata": {},
   "source": [
    "・特徴量作成前：0.8343894（提出済み）\n",
    "\n",
    "・特徴量３個作成：0.8338377（提出積み）"
   ]
  }
 ],
 "metadata": {
  "kernelspec": {
   "display_name": "competition",
   "language": "python",
   "name": "python3"
  },
  "language_info": {
   "name": "python",
   "version": "3.12.4"
  }
 },
 "nbformat": 4,
 "nbformat_minor": 2
}
