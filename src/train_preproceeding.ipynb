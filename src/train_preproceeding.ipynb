{
 "cells": [
  {
   "cell_type": "markdown",
   "metadata": {},
   "source": [
    "# 学習用データの前処理"
   ]
  },
  {
   "cell_type": "code",
   "execution_count": 292,
   "metadata": {},
   "outputs": [],
   "source": [
    "# ライブラリの読み込み\n",
    "import pandas as pd\n",
    "import numpy as np\n",
    "import matplotlib.pyplot as plt\n",
    "import seaborn as sns\n",
    "import re\n",
    "\n",
    "# utilの読み込み\n",
    "from my_utils import *"
   ]
  },
  {
   "cell_type": "code",
   "execution_count": 293,
   "metadata": {},
   "outputs": [
    {
     "data": {
      "text/html": [
       "<div>\n",
       "<style scoped>\n",
       "    .dataframe tbody tr th:only-of-type {\n",
       "        vertical-align: middle;\n",
       "    }\n",
       "\n",
       "    .dataframe tbody tr th {\n",
       "        vertical-align: top;\n",
       "    }\n",
       "\n",
       "    .dataframe thead th {\n",
       "        text-align: right;\n",
       "    }\n",
       "</style>\n",
       "<table border=\"1\" class=\"dataframe\">\n",
       "  <thead>\n",
       "    <tr style=\"text-align: right;\">\n",
       "      <th></th>\n",
       "      <th>id</th>\n",
       "      <th>Age</th>\n",
       "      <th>TypeofContact</th>\n",
       "      <th>CityTier</th>\n",
       "      <th>DurationOfPitch</th>\n",
       "      <th>Occupation</th>\n",
       "      <th>Gender</th>\n",
       "      <th>NumberOfPersonVisiting</th>\n",
       "      <th>NumberOfFollowups</th>\n",
       "      <th>ProductPitched</th>\n",
       "      <th>PreferredPropertyStar</th>\n",
       "      <th>NumberOfTrips</th>\n",
       "      <th>Passport</th>\n",
       "      <th>PitchSatisfactionScore</th>\n",
       "      <th>Designation</th>\n",
       "      <th>MonthlyIncome</th>\n",
       "      <th>customer_info</th>\n",
       "      <th>ProdTaken</th>\n",
       "    </tr>\n",
       "  </thead>\n",
       "  <tbody>\n",
       "    <tr>\n",
       "      <th>0</th>\n",
       "      <td>0</td>\n",
       "      <td>50歳</td>\n",
       "      <td>Self Enquiry</td>\n",
       "      <td>2</td>\n",
       "      <td>900秒</td>\n",
       "      <td>Large Business</td>\n",
       "      <td>male</td>\n",
       "      <td>1.0</td>\n",
       "      <td>4.0</td>\n",
       "      <td>Basic</td>\n",
       "      <td>3.0</td>\n",
       "      <td>5</td>\n",
       "      <td>1</td>\n",
       "      <td>4</td>\n",
       "      <td>Executive</td>\n",
       "      <td>253905.0</td>\n",
       "      <td>未婚 車未所持 子供なし</td>\n",
       "      <td>1</td>\n",
       "    </tr>\n",
       "    <tr>\n",
       "      <th>1</th>\n",
       "      <td>1</td>\n",
       "      <td>56歳</td>\n",
       "      <td>Company Invited</td>\n",
       "      <td>1</td>\n",
       "      <td>14分</td>\n",
       "      <td>Salaried</td>\n",
       "      <td>Male</td>\n",
       "      <td>1.0</td>\n",
       "      <td>4.0</td>\n",
       "      <td>Standard</td>\n",
       "      <td>3.0</td>\n",
       "      <td>2</td>\n",
       "      <td>1</td>\n",
       "      <td>4</td>\n",
       "      <td>Senior Manager</td>\n",
       "      <td>404475.0</td>\n",
       "      <td>離婚済み,車あり,子供無し</td>\n",
       "      <td>0</td>\n",
       "    </tr>\n",
       "    <tr>\n",
       "      <th>2</th>\n",
       "      <td>2</td>\n",
       "      <td>NaN</td>\n",
       "      <td>Self Enquiry</td>\n",
       "      <td>1</td>\n",
       "      <td>10分</td>\n",
       "      <td>Large Business</td>\n",
       "      <td>Female</td>\n",
       "      <td>1.0</td>\n",
       "      <td>3.0</td>\n",
       "      <td>Basic</td>\n",
       "      <td>3.0</td>\n",
       "      <td>4</td>\n",
       "      <td>0</td>\n",
       "      <td>4</td>\n",
       "      <td>Executive</td>\n",
       "      <td>278145.0</td>\n",
       "      <td>結婚済み、自動車未所有,子供なし</td>\n",
       "      <td>1</td>\n",
       "    </tr>\n",
       "    <tr>\n",
       "      <th>3</th>\n",
       "      <td>3</td>\n",
       "      <td>三十七歳</td>\n",
       "      <td>Self Enquiry</td>\n",
       "      <td>2</td>\n",
       "      <td>1080秒</td>\n",
       "      <td>Small Business</td>\n",
       "      <td>female</td>\n",
       "      <td>1.0</td>\n",
       "      <td>3.0</td>\n",
       "      <td>Standard</td>\n",
       "      <td>4.0</td>\n",
       "      <td>1</td>\n",
       "      <td>0</td>\n",
       "      <td>5</td>\n",
       "      <td>Senior Manager</td>\n",
       "      <td>326805.0</td>\n",
       "      <td>離婚済み、車所持、子供無し</td>\n",
       "      <td>0</td>\n",
       "    </tr>\n",
       "    <tr>\n",
       "      <th>4</th>\n",
       "      <td>4</td>\n",
       "      <td>48歳</td>\n",
       "      <td>Company Invited</td>\n",
       "      <td>3</td>\n",
       "      <td>1020秒</td>\n",
       "      <td>Small Business</td>\n",
       "      <td>female</td>\n",
       "      <td>1.0</td>\n",
       "      <td>3.0</td>\n",
       "      <td>Basic</td>\n",
       "      <td>4.0</td>\n",
       "      <td>4</td>\n",
       "      <td>0</td>\n",
       "      <td>4</td>\n",
       "      <td>Executive</td>\n",
       "      <td>258435.0</td>\n",
       "      <td>独身／車所持／無子</td>\n",
       "      <td>1</td>\n",
       "    </tr>\n",
       "  </tbody>\n",
       "</table>\n",
       "</div>"
      ],
      "text/plain": [
       "   id   Age    TypeofContact  CityTier DurationOfPitch      Occupation  \\\n",
       "0   0   50歳     Self Enquiry         2            900秒  Large Business   \n",
       "1   1   56歳  Company Invited         1             14分        Salaried   \n",
       "2   2   NaN     Self Enquiry         1             10分  Large Business   \n",
       "3   3  三十七歳     Self Enquiry         2           1080秒  Small Business   \n",
       "4   4   48歳  Company Invited         3           1020秒  Small Business   \n",
       "\n",
       "   Gender  NumberOfPersonVisiting  NumberOfFollowups ProductPitched  \\\n",
       "0    male                     1.0                4.0          Basic   \n",
       "1    Male                     1.0                4.0       Standard   \n",
       "2  Female                     1.0                3.0          Basic   \n",
       "3  female                     1.0                3.0       Standard   \n",
       "4  female                     1.0                3.0          Basic   \n",
       "\n",
       "   PreferredPropertyStar NumberOfTrips  Passport  PitchSatisfactionScore  \\\n",
       "0                    3.0             5         1                       4   \n",
       "1                    3.0             2         1                       4   \n",
       "2                    3.0             4         0                       4   \n",
       "3                    4.0             1         0                       5   \n",
       "4                    4.0             4         0                       4   \n",
       "\n",
       "      Designation MonthlyIncome     customer_info  ProdTaken  \n",
       "0       Executive      253905.0      未婚 車未所持 子供なし          1  \n",
       "1  Senior Manager      404475.0     離婚済み,車あり,子供無し          0  \n",
       "2       Executive      278145.0  結婚済み、自動車未所有,子供なし          1  \n",
       "3  Senior Manager      326805.0     離婚済み、車所持、子供無し          0  \n",
       "4       Executive      258435.0         独身／車所持／無子          1  "
      ]
     },
     "execution_count": 293,
     "metadata": {},
     "output_type": "execute_result"
    }
   ],
   "source": [
    "# データの読み込み\n",
    "train = pd.read_csv(\"../data/train.csv\")\n",
    "train.head()"
   ]
  },
  {
   "cell_type": "code",
   "execution_count": 294,
   "metadata": {},
   "outputs": [
    {
     "data": {
      "text/plain": [
       "id                          0\n",
       "Age                       100\n",
       "TypeofContact               6\n",
       "CityTier                    0\n",
       "DurationOfPitch           121\n",
       "Occupation                  0\n",
       "Gender                      0\n",
       "NumberOfPersonVisiting      0\n",
       "NumberOfFollowups          33\n",
       "ProductPitched              0\n",
       "PreferredPropertyStar       0\n",
       "NumberOfTrips              22\n",
       "Passport                    0\n",
       "PitchSatisfactionScore      0\n",
       "Designation                 0\n",
       "MonthlyIncome              56\n",
       "customer_info               0\n",
       "ProdTaken                   0\n",
       "dtype: int64"
      ]
     },
     "execution_count": 294,
     "metadata": {},
     "output_type": "execute_result"
    }
   ],
   "source": [
    "# 欠損値の確認\n",
    "train.isnull().sum()"
   ]
  },
  {
   "cell_type": "code",
   "execution_count": 295,
   "metadata": {},
   "outputs": [
    {
     "data": {
      "text/plain": [
       "(3206, 18)"
      ]
     },
     "execution_count": 295,
     "metadata": {},
     "output_type": "execute_result"
    }
   ],
   "source": [
    "# 欠損値のある行を削除\n",
    "train_dropped = train.dropna()\n",
    "train_dropped.shape"
   ]
  },
  {
   "cell_type": "code",
   "execution_count": 296,
   "metadata": {},
   "outputs": [],
   "source": [
    "# 前処理後のデータを格納するdataframe\n",
    "train_preprocessed = pd.DataFrame()"
   ]
  },
  {
   "cell_type": "code",
   "execution_count": 297,
   "metadata": {},
   "outputs": [
    {
     "data": {
      "text/plain": [
       "Age\n",
       "30代     109\n",
       "40代     103\n",
       "37歳      88\n",
       "33歳      88\n",
       "36歳      87\n",
       "       ... \n",
       "２４才       1\n",
       "57際       1\n",
       "４１才       1\n",
       "二十七歳      1\n",
       "２１才       1\n",
       "Name: count, Length: 236, dtype: int64"
      ]
     },
     "execution_count": 297,
     "metadata": {},
     "output_type": "execute_result"
    }
   ],
   "source": [
    "train_dropped[\"Age\"].value_counts()"
   ]
  },
  {
   "cell_type": "code",
   "execution_count": 298,
   "metadata": {},
   "outputs": [
    {
     "name": "stderr",
     "output_type": "stream",
     "text": [
      "/tmp/ipykernel_171059/1041972419.py:3: SettingWithCopyWarning: \n",
      "A value is trying to be set on a copy of a slice from a DataFrame.\n",
      "Try using .loc[row_indexer,col_indexer] = value instead\n",
      "\n",
      "See the caveats in the documentation: https://pandas.pydata.org/pandas-docs/stable/user_guide/indexing.html#returning-a-view-versus-a-copy\n",
      "  train_dropped.loc[:, 'AgeInt'] = age_int\n"
     ]
    },
    {
     "data": {
      "text/plain": [
       "AgeInt\n",
       "35    217\n",
       "45    185\n",
       "55    126\n",
       "36    124\n",
       "33    117\n",
       "37    113\n",
       "32    106\n",
       "31    105\n",
       "39     99\n",
       "34     99\n",
       "38     97\n",
       "25     94\n",
       "42     90\n",
       "41     88\n",
       "40     86\n",
       "43     84\n",
       "52     82\n",
       "30     81\n",
       "51     80\n",
       "50     75\n",
       "29     72\n",
       "46     71\n",
       "53     69\n",
       "28     68\n",
       "48     66\n",
       "47     65\n",
       "49     64\n",
       "26     63\n",
       "44     61\n",
       "54     59\n",
       "27     53\n",
       "56     47\n",
       "22     42\n",
       "23     37\n",
       "57     34\n",
       "58     32\n",
       "24     32\n",
       "21     31\n",
       "20     26\n",
       "59     23\n",
       "60     16\n",
       "19     10\n",
       "18      6\n",
       "61      5\n",
       "65      4\n",
       "15      2\n",
       "Name: count, dtype: int64"
      ]
     },
     "execution_count": 298,
     "metadata": {},
     "output_type": "execute_result"
    }
   ],
   "source": [
    "# Ageの前処理\n",
    "age_int = train_dropped['Age'].apply(convert_age_to_int)\n",
    "train_dropped.loc[:, 'AgeInt'] = age_int\n",
    "train_dropped[\"AgeInt\"].value_counts()\n"
   ]
  },
  {
   "cell_type": "code",
   "execution_count": 299,
   "metadata": {},
   "outputs": [
    {
     "data": {
      "text/plain": [
       "TypeofContact\n",
       "Self Enquiry       2050\n",
       "Company Invited    1156\n",
       "Name: count, dtype: int64"
      ]
     },
     "execution_count": 299,
     "metadata": {},
     "output_type": "execute_result"
    }
   ],
   "source": [
    "train_dropped[\"TypeofContact\"].value_counts()"
   ]
  },
  {
   "cell_type": "code",
   "execution_count": 300,
   "metadata": {},
   "outputs": [
    {
     "name": "stderr",
     "output_type": "stream",
     "text": [
      "/tmp/ipykernel_171059/2235702836.py:6: SettingWithCopyWarning: \n",
      "A value is trying to be set on a copy of a slice from a DataFrame.\n",
      "Try using .loc[row_indexer,col_indexer] = value instead\n",
      "\n",
      "See the caveats in the documentation: https://pandas.pydata.org/pandas-docs/stable/user_guide/indexing.html#returning-a-view-versus-a-copy\n",
      "  train_dropped.loc[:, \"TypeofContactInt\"] = type_of_contact_int\n"
     ]
    },
    {
     "data": {
      "text/plain": [
       "TypeofContactInt\n",
       "0    2050\n",
       "1    1156\n",
       "Name: count, dtype: int64"
      ]
     },
     "execution_count": 300,
     "metadata": {},
     "output_type": "execute_result"
    }
   ],
   "source": [
    "type_of_contact_mapping = {\n",
    "    \"Self Enquiry\": 0,\n",
    "    \"Company Invited\": 1,\n",
    "}\n",
    "type_of_contact_int = train_dropped[\"TypeofContact\"].map(type_of_contact_mapping)\n",
    "train_dropped.loc[:, \"TypeofContactInt\"] = type_of_contact_int\n",
    "\n",
    "train_dropped[\"TypeofContactInt\"].value_counts()\n",
    "\n",
    "# train_preprocessed = train_dropped[['AgeInt', 'TypeofContactInt']]\n",
    "# train_preprocessed.head()"
   ]
  },
  {
   "cell_type": "code",
   "execution_count": 301,
   "metadata": {},
   "outputs": [
    {
     "data": {
      "text/plain": [
       "CityTier\n",
       "2    1483\n",
       "1    1339\n",
       "3     384\n",
       "Name: count, dtype: int64"
      ]
     },
     "execution_count": 301,
     "metadata": {},
     "output_type": "execute_result"
    }
   ],
   "source": [
    "train_dropped[\"CityTier\"].value_counts()"
   ]
  },
  {
   "cell_type": "code",
   "execution_count": 302,
   "metadata": {},
   "outputs": [
    {
     "data": {
      "text/plain": [
       "DurationOfPitch\n",
       "8分       243\n",
       "9分       226\n",
       "15分      207\n",
       "14分      201\n",
       "16分      197\n",
       "        ... \n",
       "1560秒      6\n",
       "2160秒      4\n",
       "36分        3\n",
       "4分         2\n",
       "1140秒      2\n",
       "Name: count, Length: 65, dtype: int64"
      ]
     },
     "execution_count": 302,
     "metadata": {},
     "output_type": "execute_result"
    }
   ],
   "source": [
    "train_dropped[\"DurationOfPitch\"].value_counts()"
   ]
  },
  {
   "cell_type": "code",
   "execution_count": 303,
   "metadata": {},
   "outputs": [
    {
     "name": "stderr",
     "output_type": "stream",
     "text": [
      "/tmp/ipykernel_171059/1926265524.py:3: SettingWithCopyWarning: \n",
      "A value is trying to be set on a copy of a slice from a DataFrame.\n",
      "Try using .loc[row_indexer,col_indexer] = value instead\n",
      "\n",
      "See the caveats in the documentation: https://pandas.pydata.org/pandas-docs/stable/user_guide/indexing.html#returning-a-view-versus-a-copy\n",
      "  train_dropped.loc[:, 'DurationInt'] = duration_int\n"
     ]
    },
    {
     "data": {
      "text/plain": [
       "DurationInt\n",
       "480     317\n",
       "540     314\n",
       "900     272\n",
       "840     258\n",
       "960     249\n",
       "420     233\n",
       "600     209\n",
       "780     196\n",
       "660     154\n",
       "720     152\n",
       "1020    129\n",
       "360      76\n",
       "1080     65\n",
       "1920     51\n",
       "1380     48\n",
       "1860     42\n",
       "1320     41\n",
       "1440     37\n",
       "1500     36\n",
       "1620     35\n",
       "1980     34\n",
       "1200     33\n",
       "1260     30\n",
       "2040     29\n",
       "1800     28\n",
       "1680     26\n",
       "1560     25\n",
       "2100     23\n",
       "1740     19\n",
       "300      18\n",
       "1140     18\n",
       "2160      7\n",
       "240       2\n",
       "Name: count, dtype: int64"
      ]
     },
     "execution_count": 303,
     "metadata": {},
     "output_type": "execute_result"
    }
   ],
   "source": [
    "# DurationOfPitchの前処理\n",
    "duration_int = train_dropped['DurationOfPitch'].apply(convert_duration_to_int)\n",
    "train_dropped.loc[:, 'DurationInt'] = duration_int\n",
    "train_dropped[\"DurationInt\"].value_counts()\n",
    "\n",
    "# train_preprocessed = train_dropped[['Age_int', 'TypeofContact_int', 'CityTier', 'Duration_int']]\n",
    "# train_preprocessed.head()"
   ]
  },
  {
   "cell_type": "code",
   "execution_count": 304,
   "metadata": {},
   "outputs": [
    {
     "data": {
      "text/plain": [
       "Occupation\n",
       "Small Business    1568\n",
       "Salaried          1304\n",
       "Large Business     334\n",
       "Name: count, dtype: int64"
      ]
     },
     "execution_count": 304,
     "metadata": {},
     "output_type": "execute_result"
    }
   ],
   "source": [
    "train_dropped[\"Occupation\"].value_counts()"
   ]
  },
  {
   "cell_type": "code",
   "execution_count": 305,
   "metadata": {},
   "outputs": [
    {
     "name": "stderr",
     "output_type": "stream",
     "text": [
      "/tmp/ipykernel_171059/4189627186.py:7: SettingWithCopyWarning: \n",
      "A value is trying to be set on a copy of a slice from a DataFrame.\n",
      "Try using .loc[row_indexer,col_indexer] = value instead\n",
      "\n",
      "See the caveats in the documentation: https://pandas.pydata.org/pandas-docs/stable/user_guide/indexing.html#returning-a-view-versus-a-copy\n",
      "  train_dropped.loc[:, \"OccupationInt\"] = occupation_int\n"
     ]
    }
   ],
   "source": [
    "occupation_mapping = {\n",
    "    \"Salaried\": 0,\n",
    "    \"Small Business\": 1,\n",
    "    \"Large Business\": 2,\n",
    "}\n",
    "occupation_int = train_dropped[\"Occupation\"].map(occupation_mapping)\n",
    "train_dropped.loc[:, \"OccupationInt\"] = occupation_int\n",
    "\n",
    "# train_preprocessed = train_dropped[['Age_int', 'TypeofContact_int', 'CityTier', 'Duration_int', 'Occupation_int']]\n",
    "# train_preprocessed.head()"
   ]
  },
  {
   "cell_type": "code",
   "execution_count": 306,
   "metadata": {},
   "outputs": [
    {
     "data": {
      "text/plain": [
       "Gender\n",
       "Male       1132\n",
       "Female      677\n",
       "male        433\n",
       "female      242\n",
       "MALE        157\n",
       "Ｍａｌｅ        116\n",
       "Fe Male     108\n",
       "FEMALE       88\n",
       "Ｆｅｍａｌｅ       80\n",
       "ｍａｌｅ         42\n",
       "ｆｅｍａｌｅ       31\n",
       "fe male      29\n",
       "FE MALE      23\n",
       "Ｆｅ　Ｍａｌｅ      15\n",
       "ＭＡＬＥ         15\n",
       "ＦＥＭＡＬＥ       11\n",
       "ｆｅ　ｍａｌｅ       6\n",
       "ＦＥ　ＭＡＬＥ       1\n",
       "Name: count, dtype: int64"
      ]
     },
     "execution_count": 306,
     "metadata": {},
     "output_type": "execute_result"
    }
   ],
   "source": [
    "train_dropped[\"Gender\"].value_counts()"
   ]
  },
  {
   "cell_type": "code",
   "execution_count": 307,
   "metadata": {},
   "outputs": [
    {
     "name": "stderr",
     "output_type": "stream",
     "text": [
      "/tmp/ipykernel_171059/1953221255.py:2: SettingWithCopyWarning: \n",
      "A value is trying to be set on a copy of a slice from a DataFrame.\n",
      "Try using .loc[row_indexer,col_indexer] = value instead\n",
      "\n",
      "See the caveats in the documentation: https://pandas.pydata.org/pandas-docs/stable/user_guide/indexing.html#returning-a-view-versus-a-copy\n",
      "  train_dropped.loc[:, \"GenderInt\"] = gender_int\n"
     ]
    },
    {
     "data": {
      "text/plain": [
       "GenderInt\n",
       "0    1895\n",
       "1    1311\n",
       "Name: count, dtype: int64"
      ]
     },
     "execution_count": 307,
     "metadata": {},
     "output_type": "execute_result"
    }
   ],
   "source": [
    "gender_int = train_dropped[\"Gender\"].map(convert_gender_to_int)\n",
    "train_dropped.loc[:, \"GenderInt\"] = gender_int\n",
    "train_dropped[\"GenderInt\"].value_counts()\n",
    "\n",
    "# train_preprocessed = train_dropped[['Age_int', 'TypeofContact_int', 'CityTier', 'Duration_int', 'Occupation_int', \"Gender_int\"]]\n",
    "# train_preprocessed.head()"
   ]
  },
  {
   "cell_type": "code",
   "execution_count": 308,
   "metadata": {},
   "outputs": [
    {
     "data": {
      "text/plain": [
       "NumberOfPersonVisiting\n",
       "2.0    1443\n",
       "3.0    1295\n",
       "1.0     307\n",
       "4.0     161\n",
       "Name: count, dtype: int64"
      ]
     },
     "execution_count": 308,
     "metadata": {},
     "output_type": "execute_result"
    }
   ],
   "source": [
    "train_dropped[\"NumberOfPersonVisiting\"].value_counts()"
   ]
  },
  {
   "cell_type": "code",
   "execution_count": 309,
   "metadata": {},
   "outputs": [
    {
     "data": {
      "text/plain": [
       "NumberOfFollowups\n",
       "4.0      1339\n",
       "3.0      1132\n",
       "5.0       489\n",
       "2.0       102\n",
       "1.0        71\n",
       "6.0        38\n",
       "300.0      15\n",
       "400.0      14\n",
       "500.0       4\n",
       "100.0       1\n",
       "600.0       1\n",
       "Name: count, dtype: int64"
      ]
     },
     "execution_count": 309,
     "metadata": {},
     "output_type": "execute_result"
    }
   ],
   "source": [
    "train_dropped[\"NumberOfFollowups\"].value_counts()"
   ]
  },
  {
   "cell_type": "code",
   "execution_count": 310,
   "metadata": {},
   "outputs": [
    {
     "name": "stderr",
     "output_type": "stream",
     "text": [
      "/tmp/ipykernel_171059/3507154401.py:2: SettingWithCopyWarning: \n",
      "A value is trying to be set on a copy of a slice from a DataFrame.\n",
      "Try using .loc[row_indexer,col_indexer] = value instead\n",
      "\n",
      "See the caveats in the documentation: https://pandas.pydata.org/pandas-docs/stable/user_guide/indexing.html#returning-a-view-versus-a-copy\n",
      "  train_dropped.loc[:, \"FollowupsNormalized\"] = number_of_followups_normalized\n"
     ]
    },
    {
     "data": {
      "text/plain": [
       "FollowupsNormalized\n",
       "4.0    1353\n",
       "3.0    1147\n",
       "5.0     493\n",
       "2.0     102\n",
       "1.0      72\n",
       "6.0      39\n",
       "Name: count, dtype: int64"
      ]
     },
     "execution_count": 310,
     "metadata": {},
     "output_type": "execute_result"
    }
   ],
   "source": [
    "number_of_followups_normalized = train_dropped[\"NumberOfFollowups\"].map(normalize_number_of_followups)\n",
    "train_dropped.loc[:, \"FollowupsNormalized\"] = number_of_followups_normalized\n",
    "train_dropped[\"FollowupsNormalized\"].value_counts()\n",
    "\n",
    "# train_preprocessed = train_dropped[['Age_int', 'TypeofContact_int', 'CityTier', 'Duration_int', 'Occupation_int', \"Gender_int\", \"NumberOfPersonVisiting\", \"NumberOfFollowups_normalized\"]]\n",
    "# train_preprocessed.head()"
   ]
  },
  {
   "cell_type": "code",
   "execution_count": 311,
   "metadata": {},
   "outputs": [
    {
     "data": {
      "text/plain": [
       "ProductPitched\n",
       "Basic           801\n",
       "Deluxe          707\n",
       "Standard        648\n",
       "Super Deluxe    228\n",
       "basic            99\n",
       "               ... \n",
       "super de|uxe      1\n",
       "de|uxe            1\n",
       "ｓuper deluxe      1\n",
       "STANDARᎠ          1\n",
       "ЅTANDARD          1\n",
       "Name: count, Length: 72, dtype: int64"
      ]
     },
     "execution_count": 311,
     "metadata": {},
     "output_type": "execute_result"
    }
   ],
   "source": [
    "train_dropped[\"ProductPitched\"].value_counts()"
   ]
  },
  {
   "cell_type": "code",
   "execution_count": 312,
   "metadata": {},
   "outputs": [
    {
     "name": "stderr",
     "output_type": "stream",
     "text": [
      "/tmp/ipykernel_171059/2378507021.py:2: SettingWithCopyWarning: \n",
      "A value is trying to be set on a copy of a slice from a DataFrame.\n",
      "Try using .loc[row_indexer,col_indexer] = value instead\n",
      "\n",
      "See the caveats in the documentation: https://pandas.pydata.org/pandas-docs/stable/user_guide/indexing.html#returning-a-view-versus-a-copy\n",
      "  train_dropped.loc[:, \"ProductPitchedInt\"] = product_pitched_int\n"
     ]
    },
    {
     "data": {
      "text/plain": [
       "ProductPitchedInt\n",
       "0    1052\n",
       "1     954\n",
       "2     895\n",
       "3     305\n",
       "Name: count, dtype: int64"
      ]
     },
     "execution_count": 312,
     "metadata": {},
     "output_type": "execute_result"
    }
   ],
   "source": [
    "product_pitched_int = train_dropped[\"ProductPitched\"].map(convert_product_pitched_to_int)\n",
    "train_dropped.loc[:, \"ProductPitchedInt\"] = product_pitched_int\n",
    "train_dropped[\"ProductPitchedInt\"].value_counts()\n",
    "\n",
    "# train_preprocessed = train_dropped[['Age_int', 'TypeofContact_int', 'CityTier', 'Duration_int', 'Occupation_int', \"Gender_int\", \"NumberOfPersonVisiting\", \"NumberOfFollowups_normalized\", \"ProductPitched_int\"]]\n",
    "# train_preprocessed.head()"
   ]
  },
  {
   "cell_type": "code",
   "execution_count": 313,
   "metadata": {},
   "outputs": [
    {
     "data": {
      "text/plain": [
       "PreferredPropertyStar\n",
       "3.0    1944\n",
       "4.0    1085\n",
       "5.0     177\n",
       "Name: count, dtype: int64"
      ]
     },
     "execution_count": 313,
     "metadata": {},
     "output_type": "execute_result"
    }
   ],
   "source": [
    "train_dropped[\"PreferredPropertyStar\"].value_counts()"
   ]
  },
  {
   "cell_type": "code",
   "execution_count": 314,
   "metadata": {},
   "outputs": [
    {
     "data": {
      "text/plain": [
       "NumberOfTrips\n",
       "2         952\n",
       "3         627\n",
       "5         416\n",
       "1         297\n",
       "7         213\n",
       "年に2回      134\n",
       "4         134\n",
       "年に3回      106\n",
       "6          97\n",
       "年に5回       75\n",
       "年に1回       49\n",
       "年に7回       37\n",
       "年に6回       20\n",
       "年に4回       19\n",
       "半年に1回      17\n",
       "8           8\n",
       "四半期に1回      3\n",
       "年に8回        2\n",
       "Name: count, dtype: int64"
      ]
     },
     "execution_count": 314,
     "metadata": {},
     "output_type": "execute_result"
    }
   ],
   "source": [
    "train_dropped[\"NumberOfTrips\"].value_counts()"
   ]
  },
  {
   "cell_type": "code",
   "execution_count": 315,
   "metadata": {},
   "outputs": [
    {
     "name": "stderr",
     "output_type": "stream",
     "text": [
      "/tmp/ipykernel_171059/3605577376.py:2: SettingWithCopyWarning: \n",
      "A value is trying to be set on a copy of a slice from a DataFrame.\n",
      "Try using .loc[row_indexer,col_indexer] = value instead\n",
      "\n",
      "See the caveats in the documentation: https://pandas.pydata.org/pandas-docs/stable/user_guide/indexing.html#returning-a-view-versus-a-copy\n",
      "  train_dropped.loc[:, \"NumberOfTripsInt\"] = number_of_trips_int\n"
     ]
    }
   ],
   "source": [
    "number_of_trips_int = train_dropped[\"NumberOfTrips\"].map(convert_trips_to_int)\n",
    "train_dropped.loc[:, \"NumberOfTripsInt\"] = number_of_trips_int\n",
    "\n",
    "# train_preprocessed = train_dropped[[\n",
    "#     'Age_int', 'TypeofContact_int', 'CityTier', 'Duration_int', 'Occupation_int', \"Gender_int\", \"NumberOfPersonVisiting\", \n",
    "#     \"NumberOfFollowups_normalized\", \"ProductPitched_int\", \"PreferredPropertyStar\", \"NumberOfTrips_int\"\n",
    "# ]]\n",
    "# train_preprocessed.head()"
   ]
  },
  {
   "cell_type": "code",
   "execution_count": 316,
   "metadata": {},
   "outputs": [
    {
     "data": {
      "text/plain": [
       "Passport\n",
       "0    2867\n",
       "1     339\n",
       "Name: count, dtype: int64"
      ]
     },
     "execution_count": 316,
     "metadata": {},
     "output_type": "execute_result"
    }
   ],
   "source": [
    "train_dropped[\"Passport\"].value_counts()"
   ]
  },
  {
   "cell_type": "code",
   "execution_count": 317,
   "metadata": {},
   "outputs": [
    {
     "data": {
      "text/plain": [
       "PitchSatisfactionScore\n",
       "2    1174\n",
       "3     658\n",
       "1     651\n",
       "4     627\n",
       "5      96\n",
       "Name: count, dtype: int64"
      ]
     },
     "execution_count": 317,
     "metadata": {},
     "output_type": "execute_result"
    }
   ],
   "source": [
    "train_dropped[\"PitchSatisfactionScore\"].value_counts()"
   ]
  },
  {
   "cell_type": "code",
   "execution_count": 318,
   "metadata": {},
   "outputs": [
    {
     "data": {
      "text/plain": [
       "Designation\n",
       "Executive         989\n",
       "Manager           865\n",
       "Senior Manager    822\n",
       "AVP               282\n",
       "VP                110\n",
       "Μanager            12\n",
       "Exеcutive           9\n",
       "Exеcutivе           8\n",
       "Managеr             7\n",
       "Executivе           7\n",
       "Manαger             7\n",
       "АVP                 7\n",
       "Senior Managеr      6\n",
       "Executiѵe           5\n",
       "Execuｔive           5\n",
       "Mαnager             4\n",
       "Senior Manαger      4\n",
       "Exеcutiѵе           3\n",
       "Senior Mαnαger      3\n",
       "ΑVP                 3\n",
       "Manage𝙧             3\n",
       "Sеnior Manager      3\n",
       "Еxecutive           3\n",
       "Е×еcutive           2\n",
       "AVＰ                 2\n",
       "Տenior Manager      2\n",
       "Exеcｕtive           2\n",
       "VＰ                  2\n",
       "Ѕenior Manager      2\n",
       "Senior Manage𝙧      2\n",
       "Еxecutivе           2\n",
       "E×ecutive           2\n",
       "Μanagеr             1\n",
       "Senior Mαnager      1\n",
       "Еxеcutivе           1\n",
       "Mαnagеr             1\n",
       "Exеcｕtivе           1\n",
       "Senior Μanαger      1\n",
       "Sеnior Managеr      1\n",
       "Executiѵе           1\n",
       "E×ecｕtive           1\n",
       "Mαnαger             1\n",
       "Manαgеr             1\n",
       "Execｕtive           1\n",
       "Еxecuｔive           1\n",
       "Ѕenior Manαger      1\n",
       "E×еcutiѵe           1\n",
       "Senior Managе𝙧      1\n",
       "Senio𝙧 Manager      1\n",
       "Mαnage𝙧             1\n",
       "Μanage𝙧             1\n",
       "Տenior Μanager      1\n",
       "Е×ecutive           1\n",
       "Name: count, dtype: int64"
      ]
     },
     "execution_count": 318,
     "metadata": {},
     "output_type": "execute_result"
    }
   ],
   "source": [
    "train_dropped[\"Designation\"].value_counts()"
   ]
  },
  {
   "cell_type": "code",
   "execution_count": 319,
   "metadata": {},
   "outputs": [
    {
     "name": "stderr",
     "output_type": "stream",
     "text": [
      "/tmp/ipykernel_171059/485702475.py:2: SettingWithCopyWarning: \n",
      "A value is trying to be set on a copy of a slice from a DataFrame.\n",
      "Try using .loc[row_indexer,col_indexer] = value instead\n",
      "\n",
      "See the caveats in the documentation: https://pandas.pydata.org/pandas-docs/stable/user_guide/indexing.html#returning-a-view-versus-a-copy\n",
      "  train_dropped.loc[:, \"DesignationInt\"] = designation_pitched_int\n"
     ]
    },
    {
     "data": {
      "text/plain": [
       "DesignationInt\n",
       "0    1045\n",
       "1     903\n",
       "2     852\n",
       "3     284\n",
       "4     122\n",
       "Name: count, dtype: int64"
      ]
     },
     "execution_count": 319,
     "metadata": {},
     "output_type": "execute_result"
    }
   ],
   "source": [
    "designation_pitched_int = train_dropped[\"Designation\"].map(convert_designation_to_int)\n",
    "train_dropped.loc[:, \"DesignationInt\"] = designation_pitched_int\n",
    "train_dropped[\"DesignationInt\"].value_counts()\n",
    "\n",
    "# train_preprocessed = train_dropped[[\n",
    "#     'Age_int', 'TypeofContact_int', 'CityTier', 'Duration_int', 'Occupation_int', \"Gender_int\", \"NumberOfPersonVisiting\", \n",
    "#     \"NumberOfFollowups_normalized\", \"ProductPitched_int\", \"PreferredPropertyStar\", \"NumberOfTrips_int\", \"Passport\", \"PitchSatisfactionScore\", \"Designation_int\"\n",
    "# ]]\n",
    "# train_preprocessed.head()"
   ]
  },
  {
   "cell_type": "code",
   "execution_count": 320,
   "metadata": {},
   "outputs": [
    {
     "data": {
      "text/plain": [
       "MonthlyIncome\n",
       "月収30.0万円    165\n",
       "月収40.0万円    125\n",
       "月収50.0万円     35\n",
       "月収35.0万円     23\n",
       "月収31.0万円     21\n",
       "           ... \n",
       "385650.0      1\n",
       "446430.0      1\n",
       "562470.0      1\n",
       "449550.0      1\n",
       "278190.0      1\n",
       "Name: count, Length: 2378, dtype: int64"
      ]
     },
     "execution_count": 320,
     "metadata": {},
     "output_type": "execute_result"
    }
   ],
   "source": [
    "train_dropped[\"MonthlyIncome\"].value_counts()"
   ]
  },
  {
   "cell_type": "code",
   "execution_count": 321,
   "metadata": {},
   "outputs": [
    {
     "name": "stderr",
     "output_type": "stream",
     "text": [
      "/tmp/ipykernel_171059/2380625877.py:2: SettingWithCopyWarning: \n",
      "A value is trying to be set on a copy of a slice from a DataFrame.\n",
      "Try using .loc[row_indexer,col_indexer] = value instead\n",
      "\n",
      "See the caveats in the documentation: https://pandas.pydata.org/pandas-docs/stable/user_guide/indexing.html#returning-a-view-versus-a-copy\n",
      "  train_dropped.loc[:, \"MonthlyIncomeInt\"] = monthly_income_int\n"
     ]
    },
    {
     "data": {
      "text/plain": [
       "MonthlyIncomeInt\n",
       "300000.0    165\n",
       "400000.0    125\n",
       "500000.0     35\n",
       "350000.0     23\n",
       "310000.0     21\n",
       "           ... \n",
       "385650.0      1\n",
       "446430.0      1\n",
       "562470.0      1\n",
       "449550.0      1\n",
       "278190.0      1\n",
       "Name: count, Length: 2377, dtype: int64"
      ]
     },
     "execution_count": 321,
     "metadata": {},
     "output_type": "execute_result"
    }
   ],
   "source": [
    "monthly_income_int = train_dropped[\"MonthlyIncome\"].map(convert_income_to_int)\n",
    "train_dropped.loc[:, \"MonthlyIncomeInt\"] = monthly_income_int\n",
    "train_dropped[\"MonthlyIncomeInt\"].value_counts()\n",
    "\n",
    "# train_preprocessed = train_dropped[[\n",
    "#     'Age_int', 'TypeofContact_int', 'CityTier', 'Duration_int', 'Occupation_int', \"Gender_int\", \"NumberOfPersonVisiting\", \n",
    "#     \"NumberOfFollowups_normalized\", \"ProductPitched_int\", \"PreferredPropertyStar\", \"NumberOfTrips_int\", \"Passport\", \"PitchSatisfactionScore\", \"Designation_int\", \"MonthlyIncome_int\"\n",
    "# ]]\n",
    "# train_preprocessed.head()\n"
   ]
  },
  {
   "cell_type": "code",
   "execution_count": 322,
   "metadata": {},
   "outputs": [
    {
     "data": {
      "text/plain": [
       "customer_info\n",
       "結婚済み、車所持、子供1人           29\n",
       "結婚済み、車未所持、子供1人          28\n",
       "離婚済み、車未所持、子供1人          20\n",
       "未婚、車未所持、子供1人            18\n",
       "離婚済み、車所持、子供なし           18\n",
       "                        ..\n",
       "離婚済み、自動車未所有、子供有り(1人)     1\n",
       "未婚 自動車未所有　非育児家庭          1\n",
       "離婚済み/自動車所有/1児            1\n",
       "未婚 車未所持　子供2人             1\n",
       "独身／車所持／こども1人             1\n",
       "Name: count, Length: 1645, dtype: int64"
      ]
     },
     "execution_count": 322,
     "metadata": {},
     "output_type": "execute_result"
    }
   ],
   "source": [
    "train_dropped[\"customer_info\"].value_counts()"
   ]
  },
  {
   "cell_type": "code",
   "execution_count": 323,
   "metadata": {},
   "outputs": [
    {
     "name": "stderr",
     "output_type": "stream",
     "text": [
      "/tmp/ipykernel_171059/1058643499.py:2: SettingWithCopyWarning: \n",
      "A value is trying to be set on a copy of a slice from a DataFrame.\n",
      "Try using .loc[row_indexer,col_indexer] = value instead\n",
      "\n",
      "See the caveats in the documentation: https://pandas.pydata.org/pandas-docs/stable/user_guide/indexing.html#returning-a-view-versus-a-copy\n",
      "  train_dropped.loc[:, \"MaritalInt\"] = customer_info_kekkon_int\n"
     ]
    },
    {
     "data": {
      "text/plain": [
       "MaritalInt\n",
       "1    1274\n",
       "0    1123\n",
       "2     809\n",
       "Name: count, dtype: int64"
      ]
     },
     "execution_count": 323,
     "metadata": {},
     "output_type": "execute_result"
    }
   ],
   "source": [
    "customer_info_kekkon_int = train_dropped[\"customer_info\"].map(extract_marital_from_customer_info)\n",
    "train_dropped.loc[:, \"MaritalInt\"] = customer_info_kekkon_int\n",
    "train_dropped[\"MaritalInt\"].value_counts()"
   ]
  },
  {
   "cell_type": "code",
   "execution_count": 324,
   "metadata": {},
   "outputs": [
    {
     "name": "stderr",
     "output_type": "stream",
     "text": [
      "/tmp/ipykernel_171059/2077878448.py:2: SettingWithCopyWarning: \n",
      "A value is trying to be set on a copy of a slice from a DataFrame.\n",
      "Try using .loc[row_indexer,col_indexer] = value instead\n",
      "\n",
      "See the caveats in the documentation: https://pandas.pydata.org/pandas-docs/stable/user_guide/indexing.html#returning-a-view-versus-a-copy\n",
      "  train_dropped.loc[:, \"CarInt\"] = customer_info_car_int\n"
     ]
    },
    {
     "data": {
      "text/plain": [
       "CarInt\n",
       "0    1623\n",
       "1    1583\n",
       "Name: count, dtype: int64"
      ]
     },
     "execution_count": 324,
     "metadata": {},
     "output_type": "execute_result"
    }
   ],
   "source": [
    "customer_info_car_int = train_dropped[\"customer_info\"].map(extract_car_from_customer_info)\n",
    "train_dropped.loc[:, \"CarInt\"] = customer_info_car_int\n",
    "train_dropped[\"CarInt\"].value_counts()"
   ]
  },
  {
   "cell_type": "code",
   "execution_count": 325,
   "metadata": {},
   "outputs": [
    {
     "name": "stderr",
     "output_type": "stream",
     "text": [
      "/tmp/ipykernel_171059/807147516.py:2: SettingWithCopyWarning: \n",
      "A value is trying to be set on a copy of a slice from a DataFrame.\n",
      "Try using .loc[row_indexer,col_indexer] = value instead\n",
      "\n",
      "See the caveats in the documentation: https://pandas.pydata.org/pandas-docs/stable/user_guide/indexing.html#returning-a-view-versus-a-copy\n",
      "  train_dropped.loc[:, \"ChildInt\"] = customer_info_child_int\n"
     ]
    },
    {
     "data": {
      "text/plain": [
       "ChildInt\n",
       " 1    1417\n",
       " 0     897\n",
       " 2     786\n",
       " 3      70\n",
       "-1      36\n",
       "Name: count, dtype: int64"
      ]
     },
     "execution_count": 325,
     "metadata": {},
     "output_type": "execute_result"
    }
   ],
   "source": [
    "customer_info_child_int = train_dropped[\"customer_info\"].map(extract_child_from_customer_info)\n",
    "train_dropped.loc[:, \"ChildInt\"] = customer_info_child_int\n",
    "train_dropped[\"ChildInt\"].value_counts()"
   ]
  },
  {
   "cell_type": "code",
   "execution_count": 326,
   "metadata": {},
   "outputs": [
    {
     "data": {
      "text/html": [
       "<div>\n",
       "<style scoped>\n",
       "    .dataframe tbody tr th:only-of-type {\n",
       "        vertical-align: middle;\n",
       "    }\n",
       "\n",
       "    .dataframe tbody tr th {\n",
       "        vertical-align: top;\n",
       "    }\n",
       "\n",
       "    .dataframe thead th {\n",
       "        text-align: right;\n",
       "    }\n",
       "</style>\n",
       "<table border=\"1\" class=\"dataframe\">\n",
       "  <thead>\n",
       "    <tr style=\"text-align: right;\">\n",
       "      <th></th>\n",
       "      <th>AgeInt</th>\n",
       "      <th>TypeofContactInt</th>\n",
       "      <th>CityTier</th>\n",
       "      <th>DurationInt</th>\n",
       "      <th>OccupationInt</th>\n",
       "      <th>GenderInt</th>\n",
       "      <th>NumberOfPersonVisiting</th>\n",
       "      <th>FollowupsNormalized</th>\n",
       "      <th>ProductPitchedInt</th>\n",
       "      <th>PreferredPropertyStar</th>\n",
       "      <th>NumberOfTripsInt</th>\n",
       "      <th>Passport</th>\n",
       "      <th>PitchSatisfactionScore</th>\n",
       "      <th>DesignationInt</th>\n",
       "      <th>MonthlyIncomeInt</th>\n",
       "      <th>MaritalInt</th>\n",
       "      <th>CarInt</th>\n",
       "      <th>ChildInt</th>\n",
       "    </tr>\n",
       "  </thead>\n",
       "  <tbody>\n",
       "    <tr>\n",
       "      <th>0</th>\n",
       "      <td>50</td>\n",
       "      <td>0</td>\n",
       "      <td>2</td>\n",
       "      <td>900</td>\n",
       "      <td>2</td>\n",
       "      <td>0</td>\n",
       "      <td>1.0</td>\n",
       "      <td>4.0</td>\n",
       "      <td>0</td>\n",
       "      <td>3.0</td>\n",
       "      <td>5</td>\n",
       "      <td>1</td>\n",
       "      <td>4</td>\n",
       "      <td>0</td>\n",
       "      <td>253905.0</td>\n",
       "      <td>0</td>\n",
       "      <td>0</td>\n",
       "      <td>0</td>\n",
       "    </tr>\n",
       "    <tr>\n",
       "      <th>1</th>\n",
       "      <td>56</td>\n",
       "      <td>1</td>\n",
       "      <td>1</td>\n",
       "      <td>840</td>\n",
       "      <td>0</td>\n",
       "      <td>0</td>\n",
       "      <td>1.0</td>\n",
       "      <td>4.0</td>\n",
       "      <td>1</td>\n",
       "      <td>3.0</td>\n",
       "      <td>2</td>\n",
       "      <td>1</td>\n",
       "      <td>4</td>\n",
       "      <td>2</td>\n",
       "      <td>404475.0</td>\n",
       "      <td>2</td>\n",
       "      <td>1</td>\n",
       "      <td>0</td>\n",
       "    </tr>\n",
       "    <tr>\n",
       "      <th>3</th>\n",
       "      <td>37</td>\n",
       "      <td>0</td>\n",
       "      <td>2</td>\n",
       "      <td>1080</td>\n",
       "      <td>1</td>\n",
       "      <td>1</td>\n",
       "      <td>1.0</td>\n",
       "      <td>3.0</td>\n",
       "      <td>1</td>\n",
       "      <td>4.0</td>\n",
       "      <td>1</td>\n",
       "      <td>0</td>\n",
       "      <td>5</td>\n",
       "      <td>2</td>\n",
       "      <td>326805.0</td>\n",
       "      <td>2</td>\n",
       "      <td>1</td>\n",
       "      <td>0</td>\n",
       "    </tr>\n",
       "    <tr>\n",
       "      <th>4</th>\n",
       "      <td>48</td>\n",
       "      <td>1</td>\n",
       "      <td>3</td>\n",
       "      <td>1020</td>\n",
       "      <td>1</td>\n",
       "      <td>1</td>\n",
       "      <td>1.0</td>\n",
       "      <td>3.0</td>\n",
       "      <td>0</td>\n",
       "      <td>4.0</td>\n",
       "      <td>4</td>\n",
       "      <td>0</td>\n",
       "      <td>4</td>\n",
       "      <td>0</td>\n",
       "      <td>258435.0</td>\n",
       "      <td>0</td>\n",
       "      <td>1</td>\n",
       "      <td>0</td>\n",
       "    </tr>\n",
       "    <tr>\n",
       "      <th>5</th>\n",
       "      <td>19</td>\n",
       "      <td>0</td>\n",
       "      <td>2</td>\n",
       "      <td>960</td>\n",
       "      <td>1</td>\n",
       "      <td>0</td>\n",
       "      <td>1.0</td>\n",
       "      <td>3.0</td>\n",
       "      <td>0</td>\n",
       "      <td>3.0</td>\n",
       "      <td>2</td>\n",
       "      <td>0</td>\n",
       "      <td>4</td>\n",
       "      <td>0</td>\n",
       "      <td>260000.0</td>\n",
       "      <td>0</td>\n",
       "      <td>0</td>\n",
       "      <td>0</td>\n",
       "    </tr>\n",
       "  </tbody>\n",
       "</table>\n",
       "</div>"
      ],
      "text/plain": [
       "   AgeInt  TypeofContactInt  CityTier  DurationInt  OccupationInt  GenderInt  \\\n",
       "0      50                 0         2          900              2          0   \n",
       "1      56                 1         1          840              0          0   \n",
       "3      37                 0         2         1080              1          1   \n",
       "4      48                 1         3         1020              1          1   \n",
       "5      19                 0         2          960              1          0   \n",
       "\n",
       "   NumberOfPersonVisiting  FollowupsNormalized  ProductPitchedInt  \\\n",
       "0                     1.0                  4.0                  0   \n",
       "1                     1.0                  4.0                  1   \n",
       "3                     1.0                  3.0                  1   \n",
       "4                     1.0                  3.0                  0   \n",
       "5                     1.0                  3.0                  0   \n",
       "\n",
       "   PreferredPropertyStar  NumberOfTripsInt  Passport  PitchSatisfactionScore  \\\n",
       "0                    3.0                 5         1                       4   \n",
       "1                    3.0                 2         1                       4   \n",
       "3                    4.0                 1         0                       5   \n",
       "4                    4.0                 4         0                       4   \n",
       "5                    3.0                 2         0                       4   \n",
       "\n",
       "   DesignationInt  MonthlyIncomeInt  MaritalInt  CarInt  ChildInt  \n",
       "0               0          253905.0           0       0         0  \n",
       "1               2          404475.0           2       1         0  \n",
       "3               2          326805.0           2       1         0  \n",
       "4               0          258435.0           0       1         0  \n",
       "5               0          260000.0           0       0         0  "
      ]
     },
     "execution_count": 326,
     "metadata": {},
     "output_type": "execute_result"
    }
   ],
   "source": [
    "train_preprocessed = train_dropped[[\n",
    "    'AgeInt', 'TypeofContactInt', 'CityTier', 'DurationInt', 'OccupationInt', \"GenderInt\", \"NumberOfPersonVisiting\", \n",
    "    \"FollowupsNormalized\", \"ProductPitchedInt\", \"PreferredPropertyStar\", \"NumberOfTripsInt\", \"Passport\", \"PitchSatisfactionScore\", \n",
    "    \"DesignationInt\", \"MonthlyIncomeInt\", \"MaritalInt\", \"CarInt\", \"ChildInt\"\n",
    "]]\n",
    "train_preprocessed.head()"
   ]
  },
  {
   "cell_type": "code",
   "execution_count": 327,
   "metadata": {},
   "outputs": [
    {
     "data": {
      "text/plain": [
       "ProdTaken\n",
       "0    2761\n",
       "1     445\n",
       "Name: count, dtype: int64"
      ]
     },
     "execution_count": 327,
     "metadata": {},
     "output_type": "execute_result"
    }
   ],
   "source": [
    "train_dropped[\"ProdTaken\"].value_counts()"
   ]
  },
  {
   "cell_type": "code",
   "execution_count": 328,
   "metadata": {},
   "outputs": [
    {
     "data": {
      "text/html": [
       "<div>\n",
       "<style scoped>\n",
       "    .dataframe tbody tr th:only-of-type {\n",
       "        vertical-align: middle;\n",
       "    }\n",
       "\n",
       "    .dataframe tbody tr th {\n",
       "        vertical-align: top;\n",
       "    }\n",
       "\n",
       "    .dataframe thead th {\n",
       "        text-align: right;\n",
       "    }\n",
       "</style>\n",
       "<table border=\"1\" class=\"dataframe\">\n",
       "  <thead>\n",
       "    <tr style=\"text-align: right;\">\n",
       "      <th></th>\n",
       "      <th>id</th>\n",
       "      <th>AgeInt</th>\n",
       "      <th>TypeofContactInt</th>\n",
       "      <th>CityTier</th>\n",
       "      <th>DurationInt</th>\n",
       "      <th>OccupationInt</th>\n",
       "      <th>GenderInt</th>\n",
       "      <th>NumberOfPersonVisiting</th>\n",
       "      <th>FollowupsNormalized</th>\n",
       "      <th>ProductPitchedInt</th>\n",
       "      <th>PreferredPropertyStar</th>\n",
       "      <th>NumberOfTripsInt</th>\n",
       "      <th>Passport</th>\n",
       "      <th>PitchSatisfactionScore</th>\n",
       "      <th>DesignationInt</th>\n",
       "      <th>MonthlyIncomeInt</th>\n",
       "      <th>MaritalInt</th>\n",
       "      <th>CarInt</th>\n",
       "      <th>ChildInt</th>\n",
       "      <th>ProdTaken</th>\n",
       "    </tr>\n",
       "  </thead>\n",
       "  <tbody>\n",
       "    <tr>\n",
       "      <th>0</th>\n",
       "      <td>0</td>\n",
       "      <td>50</td>\n",
       "      <td>0</td>\n",
       "      <td>2</td>\n",
       "      <td>900</td>\n",
       "      <td>2</td>\n",
       "      <td>0</td>\n",
       "      <td>1.0</td>\n",
       "      <td>4.0</td>\n",
       "      <td>0</td>\n",
       "      <td>3.0</td>\n",
       "      <td>5</td>\n",
       "      <td>1</td>\n",
       "      <td>4</td>\n",
       "      <td>0</td>\n",
       "      <td>253905.0</td>\n",
       "      <td>0</td>\n",
       "      <td>0</td>\n",
       "      <td>0</td>\n",
       "      <td>1</td>\n",
       "    </tr>\n",
       "    <tr>\n",
       "      <th>1</th>\n",
       "      <td>1</td>\n",
       "      <td>56</td>\n",
       "      <td>1</td>\n",
       "      <td>1</td>\n",
       "      <td>840</td>\n",
       "      <td>0</td>\n",
       "      <td>0</td>\n",
       "      <td>1.0</td>\n",
       "      <td>4.0</td>\n",
       "      <td>1</td>\n",
       "      <td>3.0</td>\n",
       "      <td>2</td>\n",
       "      <td>1</td>\n",
       "      <td>4</td>\n",
       "      <td>2</td>\n",
       "      <td>404475.0</td>\n",
       "      <td>2</td>\n",
       "      <td>1</td>\n",
       "      <td>0</td>\n",
       "      <td>0</td>\n",
       "    </tr>\n",
       "    <tr>\n",
       "      <th>3</th>\n",
       "      <td>3</td>\n",
       "      <td>37</td>\n",
       "      <td>0</td>\n",
       "      <td>2</td>\n",
       "      <td>1080</td>\n",
       "      <td>1</td>\n",
       "      <td>1</td>\n",
       "      <td>1.0</td>\n",
       "      <td>3.0</td>\n",
       "      <td>1</td>\n",
       "      <td>4.0</td>\n",
       "      <td>1</td>\n",
       "      <td>0</td>\n",
       "      <td>5</td>\n",
       "      <td>2</td>\n",
       "      <td>326805.0</td>\n",
       "      <td>2</td>\n",
       "      <td>1</td>\n",
       "      <td>0</td>\n",
       "      <td>0</td>\n",
       "    </tr>\n",
       "    <tr>\n",
       "      <th>4</th>\n",
       "      <td>4</td>\n",
       "      <td>48</td>\n",
       "      <td>1</td>\n",
       "      <td>3</td>\n",
       "      <td>1020</td>\n",
       "      <td>1</td>\n",
       "      <td>1</td>\n",
       "      <td>1.0</td>\n",
       "      <td>3.0</td>\n",
       "      <td>0</td>\n",
       "      <td>4.0</td>\n",
       "      <td>4</td>\n",
       "      <td>0</td>\n",
       "      <td>4</td>\n",
       "      <td>0</td>\n",
       "      <td>258435.0</td>\n",
       "      <td>0</td>\n",
       "      <td>1</td>\n",
       "      <td>0</td>\n",
       "      <td>1</td>\n",
       "    </tr>\n",
       "    <tr>\n",
       "      <th>5</th>\n",
       "      <td>5</td>\n",
       "      <td>19</td>\n",
       "      <td>0</td>\n",
       "      <td>2</td>\n",
       "      <td>960</td>\n",
       "      <td>1</td>\n",
       "      <td>0</td>\n",
       "      <td>1.0</td>\n",
       "      <td>3.0</td>\n",
       "      <td>0</td>\n",
       "      <td>3.0</td>\n",
       "      <td>2</td>\n",
       "      <td>0</td>\n",
       "      <td>4</td>\n",
       "      <td>0</td>\n",
       "      <td>260000.0</td>\n",
       "      <td>0</td>\n",
       "      <td>0</td>\n",
       "      <td>0</td>\n",
       "      <td>0</td>\n",
       "    </tr>\n",
       "  </tbody>\n",
       "</table>\n",
       "</div>"
      ],
      "text/plain": [
       "   id  AgeInt  TypeofContactInt  CityTier  DurationInt  OccupationInt  \\\n",
       "0   0      50                 0         2          900              2   \n",
       "1   1      56                 1         1          840              0   \n",
       "3   3      37                 0         2         1080              1   \n",
       "4   4      48                 1         3         1020              1   \n",
       "5   5      19                 0         2          960              1   \n",
       "\n",
       "   GenderInt  NumberOfPersonVisiting  FollowupsNormalized  ProductPitchedInt  \\\n",
       "0          0                     1.0                  4.0                  0   \n",
       "1          0                     1.0                  4.0                  1   \n",
       "3          1                     1.0                  3.0                  1   \n",
       "4          1                     1.0                  3.0                  0   \n",
       "5          0                     1.0                  3.0                  0   \n",
       "\n",
       "   PreferredPropertyStar  NumberOfTripsInt  Passport  PitchSatisfactionScore  \\\n",
       "0                    3.0                 5         1                       4   \n",
       "1                    3.0                 2         1                       4   \n",
       "3                    4.0                 1         0                       5   \n",
       "4                    4.0                 4         0                       4   \n",
       "5                    3.0                 2         0                       4   \n",
       "\n",
       "   DesignationInt  MonthlyIncomeInt  MaritalInt  CarInt  ChildInt  ProdTaken  \n",
       "0               0          253905.0           0       0         0          1  \n",
       "1               2          404475.0           2       1         0          0  \n",
       "3               2          326805.0           2       1         0          0  \n",
       "4               0          258435.0           0       1         0          1  \n",
       "5               0          260000.0           0       0         0          0  "
      ]
     },
     "execution_count": 328,
     "metadata": {},
     "output_type": "execute_result"
    }
   ],
   "source": [
    "train_preprocessed = train_dropped[[\n",
    "    \"id\", 'AgeInt', 'TypeofContactInt', 'CityTier', 'DurationInt', 'OccupationInt', \"GenderInt\", \"NumberOfPersonVisiting\", \n",
    "    \"FollowupsNormalized\", \"ProductPitchedInt\", \"PreferredPropertyStar\", \"NumberOfTripsInt\", \"Passport\", \"PitchSatisfactionScore\", \n",
    "    \"DesignationInt\", \"MonthlyIncomeInt\", \"MaritalInt\", \"CarInt\", \"ChildInt\", \"ProdTaken\"\n",
    "]]\n",
    "train_preprocessed.head()"
   ]
  },
  {
   "cell_type": "code",
   "execution_count": 329,
   "metadata": {},
   "outputs": [],
   "source": [
    "train_preprocessed.to_csv(\"../mid_output/train_preprocessed.csv\", index=False)"
   ]
  },
  {
   "cell_type": "code",
   "execution_count": null,
   "metadata": {},
   "outputs": [],
   "source": []
  }
 ],
 "metadata": {
  "kernelspec": {
   "display_name": "python39",
   "language": "python",
   "name": "python3"
  },
  "language_info": {
   "codemirror_mode": {
    "name": "ipython",
    "version": 3
   },
   "file_extension": ".py",
   "mimetype": "text/x-python",
   "name": "python",
   "nbconvert_exporter": "python",
   "pygments_lexer": "ipython3",
   "version": "3.9.19"
  }
 },
 "nbformat": 4,
 "nbformat_minor": 2
}
