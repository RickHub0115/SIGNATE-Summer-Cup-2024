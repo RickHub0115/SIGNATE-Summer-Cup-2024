{
 "cells": [
  {
   "cell_type": "markdown",
   "metadata": {},
   "source": [
    "# 可視化用ノートブック"
   ]
  },
  {
   "cell_type": "code",
   "execution_count": 1,
   "metadata": {},
   "outputs": [],
   "source": [
    "# ライブラリの読み込み\n",
    "import pandas as pd\n",
    "import numpy as np\n",
    "import matplotlib.pyplot as plt\n",
    "import seaborn as sns\n",
    "import re"
   ]
  },
  {
   "cell_type": "code",
   "execution_count": 2,
   "metadata": {},
   "outputs": [],
   "source": [
    "train = pd.read_csv(\"../data/train.csv\")\n",
    "test = pd.read_csv(\"../data/test.csv\")"
   ]
  },
  {
   "cell_type": "code",
   "execution_count": 3,
   "metadata": {},
   "outputs": [
    {
     "data": {
      "text/html": [
       "<div>\n",
       "<style scoped>\n",
       "    .dataframe tbody tr th:only-of-type {\n",
       "        vertical-align: middle;\n",
       "    }\n",
       "\n",
       "    .dataframe tbody tr th {\n",
       "        vertical-align: top;\n",
       "    }\n",
       "\n",
       "    .dataframe thead th {\n",
       "        text-align: right;\n",
       "    }\n",
       "</style>\n",
       "<table border=\"1\" class=\"dataframe\">\n",
       "  <thead>\n",
       "    <tr style=\"text-align: right;\">\n",
       "      <th></th>\n",
       "      <th>id</th>\n",
       "      <th>Age</th>\n",
       "      <th>TypeofContact</th>\n",
       "      <th>CityTier</th>\n",
       "      <th>DurationOfPitch</th>\n",
       "      <th>Occupation</th>\n",
       "      <th>Gender</th>\n",
       "      <th>NumberOfPersonVisiting</th>\n",
       "      <th>NumberOfFollowups</th>\n",
       "      <th>ProductPitched</th>\n",
       "      <th>PreferredPropertyStar</th>\n",
       "      <th>NumberOfTrips</th>\n",
       "      <th>Passport</th>\n",
       "      <th>PitchSatisfactionScore</th>\n",
       "      <th>Designation</th>\n",
       "      <th>MonthlyIncome</th>\n",
       "      <th>customer_info</th>\n",
       "      <th>ProdTaken</th>\n",
       "    </tr>\n",
       "  </thead>\n",
       "  <tbody>\n",
       "    <tr>\n",
       "      <th>0</th>\n",
       "      <td>0</td>\n",
       "      <td>50歳</td>\n",
       "      <td>Self Enquiry</td>\n",
       "      <td>2</td>\n",
       "      <td>900秒</td>\n",
       "      <td>Large Business</td>\n",
       "      <td>male</td>\n",
       "      <td>1.0</td>\n",
       "      <td>4.0</td>\n",
       "      <td>Basic</td>\n",
       "      <td>3.0</td>\n",
       "      <td>5</td>\n",
       "      <td>1</td>\n",
       "      <td>4</td>\n",
       "      <td>Executive</td>\n",
       "      <td>253905.0</td>\n",
       "      <td>未婚 車未所持 子供なし</td>\n",
       "      <td>1</td>\n",
       "    </tr>\n",
       "    <tr>\n",
       "      <th>1</th>\n",
       "      <td>1</td>\n",
       "      <td>56歳</td>\n",
       "      <td>Company Invited</td>\n",
       "      <td>1</td>\n",
       "      <td>14分</td>\n",
       "      <td>Salaried</td>\n",
       "      <td>Male</td>\n",
       "      <td>1.0</td>\n",
       "      <td>4.0</td>\n",
       "      <td>Standard</td>\n",
       "      <td>3.0</td>\n",
       "      <td>2</td>\n",
       "      <td>1</td>\n",
       "      <td>4</td>\n",
       "      <td>Senior Manager</td>\n",
       "      <td>404475.0</td>\n",
       "      <td>離婚済み,車あり,子供無し</td>\n",
       "      <td>0</td>\n",
       "    </tr>\n",
       "    <tr>\n",
       "      <th>2</th>\n",
       "      <td>2</td>\n",
       "      <td>NaN</td>\n",
       "      <td>Self Enquiry</td>\n",
       "      <td>1</td>\n",
       "      <td>10分</td>\n",
       "      <td>Large Business</td>\n",
       "      <td>Female</td>\n",
       "      <td>1.0</td>\n",
       "      <td>3.0</td>\n",
       "      <td>Basic</td>\n",
       "      <td>3.0</td>\n",
       "      <td>4</td>\n",
       "      <td>0</td>\n",
       "      <td>4</td>\n",
       "      <td>Executive</td>\n",
       "      <td>278145.0</td>\n",
       "      <td>結婚済み、自動車未所有,子供なし</td>\n",
       "      <td>1</td>\n",
       "    </tr>\n",
       "    <tr>\n",
       "      <th>3</th>\n",
       "      <td>3</td>\n",
       "      <td>三十七歳</td>\n",
       "      <td>Self Enquiry</td>\n",
       "      <td>2</td>\n",
       "      <td>1080秒</td>\n",
       "      <td>Small Business</td>\n",
       "      <td>female</td>\n",
       "      <td>1.0</td>\n",
       "      <td>3.0</td>\n",
       "      <td>Standard</td>\n",
       "      <td>4.0</td>\n",
       "      <td>1</td>\n",
       "      <td>0</td>\n",
       "      <td>5</td>\n",
       "      <td>Senior Manager</td>\n",
       "      <td>326805.0</td>\n",
       "      <td>離婚済み、車所持、子供無し</td>\n",
       "      <td>0</td>\n",
       "    </tr>\n",
       "    <tr>\n",
       "      <th>4</th>\n",
       "      <td>4</td>\n",
       "      <td>48歳</td>\n",
       "      <td>Company Invited</td>\n",
       "      <td>3</td>\n",
       "      <td>1020秒</td>\n",
       "      <td>Small Business</td>\n",
       "      <td>female</td>\n",
       "      <td>1.0</td>\n",
       "      <td>3.0</td>\n",
       "      <td>Basic</td>\n",
       "      <td>4.0</td>\n",
       "      <td>4</td>\n",
       "      <td>0</td>\n",
       "      <td>4</td>\n",
       "      <td>Executive</td>\n",
       "      <td>258435.0</td>\n",
       "      <td>独身／車所持／無子</td>\n",
       "      <td>1</td>\n",
       "    </tr>\n",
       "  </tbody>\n",
       "</table>\n",
       "</div>"
      ],
      "text/plain": [
       "   id   Age    TypeofContact  CityTier DurationOfPitch      Occupation  \\\n",
       "0   0   50歳     Self Enquiry         2            900秒  Large Business   \n",
       "1   1   56歳  Company Invited         1             14分        Salaried   \n",
       "2   2   NaN     Self Enquiry         1             10分  Large Business   \n",
       "3   3  三十七歳     Self Enquiry         2           1080秒  Small Business   \n",
       "4   4   48歳  Company Invited         3           1020秒  Small Business   \n",
       "\n",
       "   Gender  NumberOfPersonVisiting  NumberOfFollowups ProductPitched  \\\n",
       "0    male                     1.0                4.0          Basic   \n",
       "1    Male                     1.0                4.0       Standard   \n",
       "2  Female                     1.0                3.0          Basic   \n",
       "3  female                     1.0                3.0       Standard   \n",
       "4  female                     1.0                3.0          Basic   \n",
       "\n",
       "   PreferredPropertyStar NumberOfTrips  Passport  PitchSatisfactionScore  \\\n",
       "0                    3.0             5         1                       4   \n",
       "1                    3.0             2         1                       4   \n",
       "2                    3.0             4         0                       4   \n",
       "3                    4.0             1         0                       5   \n",
       "4                    4.0             4         0                       4   \n",
       "\n",
       "      Designation MonthlyIncome     customer_info  ProdTaken  \n",
       "0       Executive      253905.0      未婚 車未所持 子供なし          1  \n",
       "1  Senior Manager      404475.0     離婚済み,車あり,子供無し          0  \n",
       "2       Executive      278145.0  結婚済み、自動車未所有,子供なし          1  \n",
       "3  Senior Manager      326805.0     離婚済み、車所持、子供無し          0  \n",
       "4       Executive      258435.0         独身／車所持／無子          1  "
      ]
     },
     "execution_count": 3,
     "metadata": {},
     "output_type": "execute_result"
    }
   ],
   "source": [
    "train.head()"
   ]
  },
  {
   "cell_type": "code",
   "execution_count": 4,
   "metadata": {},
   "outputs": [
    {
     "data": {
      "text/plain": [
       "id                          0\n",
       "Age                       100\n",
       "TypeofContact               6\n",
       "CityTier                    0\n",
       "DurationOfPitch           121\n",
       "Occupation                  0\n",
       "Gender                      0\n",
       "NumberOfPersonVisiting      0\n",
       "NumberOfFollowups          33\n",
       "ProductPitched              0\n",
       "PreferredPropertyStar       0\n",
       "NumberOfTrips              22\n",
       "Passport                    0\n",
       "PitchSatisfactionScore      0\n",
       "Designation                 0\n",
       "MonthlyIncome              56\n",
       "customer_info               0\n",
       "ProdTaken                   0\n",
       "dtype: int64"
      ]
     },
     "execution_count": 4,
     "metadata": {},
     "output_type": "execute_result"
    }
   ],
   "source": [
    "train.isnull().sum()"
   ]
  },
  {
   "cell_type": "code",
   "execution_count": 5,
   "metadata": {},
   "outputs": [
    {
     "data": {
      "text/plain": [
       "(3206, 18)"
      ]
     },
     "execution_count": 5,
     "metadata": {},
     "output_type": "execute_result"
    }
   ],
   "source": [
    "train_dropped = train.dropna()\n",
    "train_dropped.shape"
   ]
  },
  {
   "cell_type": "code",
   "execution_count": 6,
   "metadata": {},
   "outputs": [],
   "source": [
    "# 前処理後のデータを格納するdataframe\n",
    "train_preprocessed = pd.DataFrame()"
   ]
  },
  {
   "cell_type": "code",
   "execution_count": 7,
   "metadata": {},
   "outputs": [
    {
     "name": "stderr",
     "output_type": "stream",
     "text": [
      "/tmp/ipykernel_54634/3215462457.py:34: SettingWithCopyWarning: \n",
      "A value is trying to be set on a copy of a slice from a DataFrame.\n",
      "Try using .loc[row_indexer,col_indexer] = value instead\n",
      "\n",
      "See the caveats in the documentation: https://pandas.pydata.org/pandas-docs/stable/user_guide/indexing.html#returning-a-view-versus-a-copy\n",
      "  train_dropped.loc[:, 'Age_int'] = age_int\n"
     ]
    },
    {
     "data": {
      "text/html": [
       "<div>\n",
       "<style scoped>\n",
       "    .dataframe tbody tr th:only-of-type {\n",
       "        vertical-align: middle;\n",
       "    }\n",
       "\n",
       "    .dataframe tbody tr th {\n",
       "        vertical-align: top;\n",
       "    }\n",
       "\n",
       "    .dataframe thead th {\n",
       "        text-align: right;\n",
       "    }\n",
       "</style>\n",
       "<table border=\"1\" class=\"dataframe\">\n",
       "  <thead>\n",
       "    <tr style=\"text-align: right;\">\n",
       "      <th></th>\n",
       "      <th>Age_int</th>\n",
       "    </tr>\n",
       "  </thead>\n",
       "  <tbody>\n",
       "    <tr>\n",
       "      <th>0</th>\n",
       "      <td>50</td>\n",
       "    </tr>\n",
       "    <tr>\n",
       "      <th>1</th>\n",
       "      <td>56</td>\n",
       "    </tr>\n",
       "    <tr>\n",
       "      <th>3</th>\n",
       "      <td>37</td>\n",
       "    </tr>\n",
       "    <tr>\n",
       "      <th>4</th>\n",
       "      <td>48</td>\n",
       "    </tr>\n",
       "    <tr>\n",
       "      <th>5</th>\n",
       "      <td>19</td>\n",
       "    </tr>\n",
       "  </tbody>\n",
       "</table>\n",
       "</div>"
      ],
      "text/plain": [
       "   Age_int\n",
       "0       50\n",
       "1       56\n",
       "3       37\n",
       "4       48\n",
       "5       19"
      ]
     },
     "execution_count": 7,
     "metadata": {},
     "output_type": "execute_result"
    }
   ],
   "source": [
    "match_type = r'[0-9]+|[一二三四五六七八九]+|[１２３４５６７８９]+'\n",
    "kanji_to_arabic = str.maketrans(\"一二三四五六七八九１２３４５６７８９\", \"123456789123456789\")\n",
    "\n",
    "def extract_age(age: str) -> int:\n",
    "    def kanji_to_int(kanji: str) -> int:\n",
    "        matches: list[str] = re.findall(match_type, age)\n",
    "        if len(matches) == 0:\n",
    "            return -1\n",
    "        else:\n",
    "            ret = 0\n",
    "            keta = 0\n",
    "            for match in matches:\n",
    "                str_age = match.translate(kanji_to_arabic)\n",
    "                numeric_age = int(str_age)\n",
    "                if keta == 0:\n",
    "                    ret = numeric_age\n",
    "                    keta += len(match)\n",
    "                elif keta == 1:\n",
    "                    ret = ret*10 + numeric_age\n",
    "                    keta += len(match)\n",
    "                elif keta == 2:\n",
    "                    ret = ret*100 + numeric_age\n",
    "                    keta += len(match)\n",
    "                else:\n",
    "                    return -1\n",
    "            return ret\n",
    "    if age.find(\"代\") != -1:\n",
    "        dai_int = kanji_to_int(age)\n",
    "        return dai_int + 5\n",
    "    else:\n",
    "        return kanji_to_int(age)\n",
    "\n",
    "age_int = train_dropped['Age'].apply(extract_age)\n",
    "train_dropped.loc[:, 'Age_int'] = age_int\n",
    "# 保存\n",
    "train_dropped.to_csv(\"../output/train_dropped.csv\", index=False)\n",
    "\n",
    "train_preprocessed = train_dropped[['Age_int']]\n",
    "train_preprocessed.head()\n"
   ]
  },
  {
   "cell_type": "code",
   "execution_count": 8,
   "metadata": {},
   "outputs": [
    {
     "data": {
      "text/plain": [
       "TypeofContact\n",
       "Self Enquiry       2050\n",
       "Company Invited    1156\n",
       "Name: count, dtype: int64"
      ]
     },
     "execution_count": 8,
     "metadata": {},
     "output_type": "execute_result"
    }
   ],
   "source": [
    "train_dropped[\"TypeofContact\"].value_counts()"
   ]
  }
 ],
 "metadata": {
  "kernelspec": {
   "display_name": "python39",
   "language": "python",
   "name": "python3"
  },
  "language_info": {
   "codemirror_mode": {
    "name": "ipython",
    "version": 3
   },
   "file_extension": ".py",
   "mimetype": "text/x-python",
   "name": "python",
   "nbconvert_exporter": "python",
   "pygments_lexer": "ipython3",
   "version": "3.9.19"
  }
 },
 "nbformat": 4,
 "nbformat_minor": 2
}
