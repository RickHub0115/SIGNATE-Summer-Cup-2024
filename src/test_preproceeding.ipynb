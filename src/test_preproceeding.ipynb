{
 "cells": [
  {
   "cell_type": "markdown",
   "metadata": {},
   "source": [
    "# 予測対象のデータの前処理"
   ]
  },
  {
   "cell_type": "code",
   "execution_count": 259,
   "metadata": {},
   "outputs": [],
   "source": [
    "# ライブラリの読み込み\n",
    "import pandas as pd\n",
    "import numpy as np\n",
    "import matplotlib.pyplot as plt\n",
    "import seaborn as sns\n",
    "import re\n",
    "\n",
    "# utilの読み込み\n",
    "from my_utils import *"
   ]
  },
  {
   "cell_type": "code",
   "execution_count": 260,
   "metadata": {},
   "outputs": [
    {
     "data": {
      "text/html": [
       "<div>\n",
       "<style scoped>\n",
       "    .dataframe tbody tr th:only-of-type {\n",
       "        vertical-align: middle;\n",
       "    }\n",
       "\n",
       "    .dataframe tbody tr th {\n",
       "        vertical-align: top;\n",
       "    }\n",
       "\n",
       "    .dataframe thead th {\n",
       "        text-align: right;\n",
       "    }\n",
       "</style>\n",
       "<table border=\"1\" class=\"dataframe\">\n",
       "  <thead>\n",
       "    <tr style=\"text-align: right;\">\n",
       "      <th></th>\n",
       "      <th>id</th>\n",
       "      <th>Age</th>\n",
       "      <th>TypeofContact</th>\n",
       "      <th>CityTier</th>\n",
       "      <th>DurationOfPitch</th>\n",
       "      <th>Occupation</th>\n",
       "      <th>Gender</th>\n",
       "      <th>NumberOfPersonVisiting</th>\n",
       "      <th>NumberOfFollowups</th>\n",
       "      <th>ProductPitched</th>\n",
       "      <th>PreferredPropertyStar</th>\n",
       "      <th>NumberOfTrips</th>\n",
       "      <th>Passport</th>\n",
       "      <th>PitchSatisfactionScore</th>\n",
       "      <th>Designation</th>\n",
       "      <th>MonthlyIncome</th>\n",
       "      <th>customer_info</th>\n",
       "    </tr>\n",
       "  </thead>\n",
       "  <tbody>\n",
       "    <tr>\n",
       "      <th>0</th>\n",
       "      <td>3489</td>\n",
       "      <td>４８歳</td>\n",
       "      <td>Self Enquiry</td>\n",
       "      <td>2</td>\n",
       "      <td>13分</td>\n",
       "      <td>Small Business</td>\n",
       "      <td>Male</td>\n",
       "      <td>1.0</td>\n",
       "      <td>4.0</td>\n",
       "      <td>Super De|uxe</td>\n",
       "      <td>3.0</td>\n",
       "      <td>7</td>\n",
       "      <td>0</td>\n",
       "      <td>3</td>\n",
       "      <td>AVP</td>\n",
       "      <td>496950.0</td>\n",
       "      <td>結婚済み 車所持 子供なし</td>\n",
       "    </tr>\n",
       "    <tr>\n",
       "      <th>1</th>\n",
       "      <td>3490</td>\n",
       "      <td>30代</td>\n",
       "      <td>Self Enquiry</td>\n",
       "      <td>2</td>\n",
       "      <td>12分</td>\n",
       "      <td>Small Business</td>\n",
       "      <td>Ｆｅｍａｌｅ</td>\n",
       "      <td>1.0</td>\n",
       "      <td>4.0</td>\n",
       "      <td>Standard</td>\n",
       "      <td>3.0</td>\n",
       "      <td>4</td>\n",
       "      <td>1</td>\n",
       "      <td>3</td>\n",
       "      <td>Senior Manager</td>\n",
       "      <td>月収30.0万円</td>\n",
       "      <td>結婚済み、車未所持、子供なし</td>\n",
       "    </tr>\n",
       "    <tr>\n",
       "      <th>2</th>\n",
       "      <td>3491</td>\n",
       "      <td>25歳</td>\n",
       "      <td>Self Enquiry</td>\n",
       "      <td>1</td>\n",
       "      <td>540秒</td>\n",
       "      <td>Salaried</td>\n",
       "      <td>Female</td>\n",
       "      <td>1.0</td>\n",
       "      <td>4.0</td>\n",
       "      <td>Basic</td>\n",
       "      <td>3.0</td>\n",
       "      <td>1</td>\n",
       "      <td>0</td>\n",
       "      <td>3</td>\n",
       "      <td>Executive</td>\n",
       "      <td>月収26.0万円</td>\n",
       "      <td>離婚済み、自動車未所有、子供なし</td>\n",
       "    </tr>\n",
       "    <tr>\n",
       "      <th>3</th>\n",
       "      <td>3492</td>\n",
       "      <td>21歳</td>\n",
       "      <td>Company Invited</td>\n",
       "      <td>2</td>\n",
       "      <td>420秒</td>\n",
       "      <td>Salaried</td>\n",
       "      <td>Male</td>\n",
       "      <td>1.0</td>\n",
       "      <td>4.0</td>\n",
       "      <td>Basic</td>\n",
       "      <td>4.0</td>\n",
       "      <td>1</td>\n",
       "      <td>0</td>\n",
       "      <td>3</td>\n",
       "      <td>Senior Manager</td>\n",
       "      <td>259875.0</td>\n",
       "      <td>離婚済み、自動車所有、子供なし</td>\n",
       "    </tr>\n",
       "    <tr>\n",
       "      <th>4</th>\n",
       "      <td>3493</td>\n",
       "      <td>41歳</td>\n",
       "      <td>Company Invited</td>\n",
       "      <td>1</td>\n",
       "      <td>7分</td>\n",
       "      <td>Salaried</td>\n",
       "      <td>MALE</td>\n",
       "      <td>1.0</td>\n",
       "      <td>4.0</td>\n",
       "      <td>Basic</td>\n",
       "      <td>3.0</td>\n",
       "      <td>1</td>\n",
       "      <td>0</td>\n",
       "      <td>4</td>\n",
       "      <td>Executive</td>\n",
       "      <td>268830.0</td>\n",
       "      <td>独身/車所持／子供なし</td>\n",
       "    </tr>\n",
       "  </tbody>\n",
       "</table>\n",
       "</div>"
      ],
      "text/plain": [
       "     id  Age    TypeofContact  CityTier DurationOfPitch      Occupation  \\\n",
       "0  3489  ４８歳     Self Enquiry         2             13分  Small Business   \n",
       "1  3490  30代     Self Enquiry         2             12分  Small Business   \n",
       "2  3491  25歳     Self Enquiry         1            540秒        Salaried   \n",
       "3  3492  21歳  Company Invited         2            420秒        Salaried   \n",
       "4  3493  41歳  Company Invited         1              7分        Salaried   \n",
       "\n",
       "   Gender  NumberOfPersonVisiting  NumberOfFollowups ProductPitched  \\\n",
       "0    Male                     1.0                4.0   Super De|uxe   \n",
       "1  Ｆｅｍａｌｅ                     1.0                4.0       Standard   \n",
       "2  Female                     1.0                4.0          Basic   \n",
       "3    Male                     1.0                4.0          Basic   \n",
       "4    MALE                     1.0                4.0          Basic   \n",
       "\n",
       "   PreferredPropertyStar NumberOfTrips  Passport  PitchSatisfactionScore  \\\n",
       "0                    3.0             7         0                       3   \n",
       "1                    3.0             4         1                       3   \n",
       "2                    3.0             1         0                       3   \n",
       "3                    4.0             1         0                       3   \n",
       "4                    3.0             1         0                       4   \n",
       "\n",
       "      Designation MonthlyIncome     customer_info  \n",
       "0             AVP      496950.0     結婚済み 車所持 子供なし  \n",
       "1  Senior Manager      月収30.0万円    結婚済み、車未所持、子供なし  \n",
       "2       Executive      月収26.0万円  離婚済み、自動車未所有、子供なし  \n",
       "3  Senior Manager      259875.0   離婚済み、自動車所有、子供なし  \n",
       "4       Executive      268830.0       独身/車所持／子供なし  "
      ]
     },
     "execution_count": 260,
     "metadata": {},
     "output_type": "execute_result"
    }
   ],
   "source": [
    "#train = pd.read_csv(\"../data/train.csv\")\n",
    "test = pd.read_csv(\"../data/test.csv\")\n",
    "test.head()"
   ]
  },
  {
   "cell_type": "code",
   "execution_count": 261,
   "metadata": {},
   "outputs": [
    {
     "data": {
      "text/plain": [
       "id                          0\n",
       "Age                        93\n",
       "TypeofContact              12\n",
       "CityTier                    0\n",
       "DurationOfPitch           131\n",
       "Occupation                  0\n",
       "Gender                      0\n",
       "NumberOfPersonVisiting      0\n",
       "NumberOfFollowups          24\n",
       "ProductPitched              0\n",
       "PreferredPropertyStar       0\n",
       "NumberOfTrips              42\n",
       "Passport                    0\n",
       "PitchSatisfactionScore      0\n",
       "Designation                 0\n",
       "MonthlyIncome              49\n",
       "customer_info               0\n",
       "dtype: int64"
      ]
     },
     "execution_count": 261,
     "metadata": {},
     "output_type": "execute_result"
    }
   ],
   "source": [
    "# 欠損値の確認\n",
    "test.isnull().sum()"
   ]
  },
  {
   "cell_type": "code",
   "execution_count": 262,
   "metadata": {},
   "outputs": [],
   "source": [
    "# 前処理後のデータを格納するdataframe\n",
    "test_copied = test.copy()\n",
    "test_preprocessed = pd.DataFrame()"
   ]
  },
  {
   "cell_type": "code",
   "execution_count": 263,
   "metadata": {},
   "outputs": [
    {
     "data": {
      "text/plain": [
       "Age\n",
       "30代     108\n",
       "33歳      98\n",
       "32歳      93\n",
       "36歳      93\n",
       "37歳      91\n",
       "       ... \n",
       "５２才       1\n",
       "19才       1\n",
       "四十四歳      1\n",
       "59才       1\n",
       "５４才       1\n",
       "Name: count, Length: 236, dtype: int64"
      ]
     },
     "execution_count": 263,
     "metadata": {},
     "output_type": "execute_result"
    }
   ],
   "source": [
    "test_copied[\"Age\"].value_counts()"
   ]
  },
  {
   "cell_type": "code",
   "execution_count": 264,
   "metadata": {},
   "outputs": [],
   "source": [
    "# Ageの前処理\n",
    "age_int = test_copied['Age'].apply(convert_age_to_int)\n",
    "test_copied.loc[:, 'AgeInt'] = age_int\n",
    "#test_copied.to_csv(\"age_int.csv\")\n"
   ]
  },
  {
   "cell_type": "code",
   "execution_count": 265,
   "metadata": {},
   "outputs": [
    {
     "data": {
      "text/plain": [
       "TypeofContact\n",
       "Self Enquiry       2250\n",
       "Company Invited    1227\n",
       "Name: count, dtype: int64"
      ]
     },
     "execution_count": 265,
     "metadata": {},
     "output_type": "execute_result"
    }
   ],
   "source": [
    "test_copied[\"TypeofContact\"].value_counts()"
   ]
  },
  {
   "cell_type": "code",
   "execution_count": 266,
   "metadata": {},
   "outputs": [],
   "source": [
    "type_of_contact_mapping = {\n",
    "    \"Self Enquiry\": 0,\n",
    "    \"Company Invited\": 1,\n",
    "}\n",
    "type_of_contact_int = test_copied[\"TypeofContact\"].map(type_of_contact_mapping)\n",
    "test_copied.loc[:, \"TypeofContactInt\"] = type_of_contact_int"
   ]
  },
  {
   "cell_type": "code",
   "execution_count": 267,
   "metadata": {},
   "outputs": [
    {
     "data": {
      "text/plain": [
       "CityTier\n",
       "2    1564\n",
       "1    1516\n",
       "3     409\n",
       "Name: count, dtype: int64"
      ]
     },
     "execution_count": 267,
     "metadata": {},
     "output_type": "execute_result"
    }
   ],
   "source": [
    "test_copied[\"CityTier\"].value_counts()"
   ]
  },
  {
   "cell_type": "code",
   "execution_count": 268,
   "metadata": {},
   "outputs": [
    {
     "data": {
      "text/plain": [
       "DurationOfPitch\n",
       "9分       251\n",
       "8分       236\n",
       "15分      216\n",
       "16分      206\n",
       "14分      191\n",
       "        ... \n",
       "1800秒      7\n",
       "1620秒      5\n",
       "1680秒      3\n",
       "240秒       1\n",
       "2160秒      1\n",
       "Name: count, Length: 65, dtype: int64"
      ]
     },
     "execution_count": 268,
     "metadata": {},
     "output_type": "execute_result"
    }
   ],
   "source": [
    "test_copied[\"DurationOfPitch\"].value_counts()"
   ]
  },
  {
   "cell_type": "code",
   "execution_count": 269,
   "metadata": {},
   "outputs": [],
   "source": [
    "# DurationOfPitchの前処理\n",
    "duration_int = test_copied['DurationOfPitch'].apply(convert_duration_to_int)\n",
    "test_copied.loc[:, 'DurationInt'] = duration_int"
   ]
  },
  {
   "cell_type": "code",
   "execution_count": 270,
   "metadata": {},
   "outputs": [
    {
     "data": {
      "text/plain": [
       "Occupation\n",
       "Small Business    1729\n",
       "Salaried          1400\n",
       "Large Business     360\n",
       "Name: count, dtype: int64"
      ]
     },
     "execution_count": 270,
     "metadata": {},
     "output_type": "execute_result"
    }
   ],
   "source": [
    "test_copied[\"Occupation\"].value_counts()"
   ]
  },
  {
   "cell_type": "code",
   "execution_count": 271,
   "metadata": {},
   "outputs": [],
   "source": [
    "occupation_mapping = {\n",
    "    \"Salaried\": 0,\n",
    "    \"Small Business\": 1,\n",
    "    \"Large Business\": 2,\n",
    "}\n",
    "occupation_int = test_copied[\"Occupation\"].map(occupation_mapping)\n",
    "test_copied.loc[:, \"OccupationInt\"] = occupation_int"
   ]
  },
  {
   "cell_type": "code",
   "execution_count": 272,
   "metadata": {},
   "outputs": [
    {
     "data": {
      "text/plain": [
       "Gender\n",
       "Male       1299\n",
       "Female      702\n",
       "male        472\n",
       "female      238\n",
       "MALE        180\n",
       "Ｍａｌｅ        134\n",
       "Fe Male     104\n",
       "FEMALE       98\n",
       "Ｆｅｍａｌｅ       92\n",
       "ｍａｌｅ         49\n",
       "ｆｅｍａｌｅ       29\n",
       "fe male      28\n",
       "ＭＡＬＥ         20\n",
       "FE MALE      20\n",
       "Ｆｅ　Ｍａｌｅ      11\n",
       "ＦＥＭＡＬＥ        8\n",
       "ｆｅ　ｍａｌｅ       5\n",
       "Name: count, dtype: int64"
      ]
     },
     "execution_count": 272,
     "metadata": {},
     "output_type": "execute_result"
    }
   ],
   "source": [
    "test_copied[\"Gender\"].value_counts()"
   ]
  },
  {
   "cell_type": "code",
   "execution_count": 273,
   "metadata": {},
   "outputs": [],
   "source": [
    "gender_int = test_copied[\"Gender\"].map(convert_gender_to_int)\n",
    "test_copied.loc[:, \"GenderInt\"] = gender_int"
   ]
  },
  {
   "cell_type": "code",
   "execution_count": 274,
   "metadata": {},
   "outputs": [
    {
     "data": {
      "text/plain": [
       "NumberOfPersonVisiting\n",
       "2.0    1555\n",
       "3.0    1396\n",
       "1.0     350\n",
       "4.0     188\n",
       "Name: count, dtype: int64"
      ]
     },
     "execution_count": 274,
     "metadata": {},
     "output_type": "execute_result"
    }
   ],
   "source": [
    "test_copied[\"NumberOfPersonVisiting\"].value_counts()"
   ]
  },
  {
   "cell_type": "code",
   "execution_count": 275,
   "metadata": {},
   "outputs": [
    {
     "data": {
      "text/plain": [
       "NumberOfFollowups\n",
       "4.0      1350\n",
       "3.0      1257\n",
       "5.0       594\n",
       "2.0       104\n",
       "1.0        99\n",
       "6.0        31\n",
       "400.0      16\n",
       "300.0       8\n",
       "500.0       4\n",
       "100.0       1\n",
       "200.0       1\n",
       "Name: count, dtype: int64"
      ]
     },
     "execution_count": 275,
     "metadata": {},
     "output_type": "execute_result"
    }
   ],
   "source": [
    "test_copied[\"NumberOfFollowups\"].value_counts()"
   ]
  },
  {
   "cell_type": "code",
   "execution_count": 276,
   "metadata": {},
   "outputs": [
    {
     "data": {
      "text/plain": [
       "FollowupsNormalized\n",
       "4.0    1366\n",
       "3.0    1265\n",
       "5.0     598\n",
       "2.0     105\n",
       "1.0     100\n",
       "6.0      31\n",
       "Name: count, dtype: int64"
      ]
     },
     "execution_count": 276,
     "metadata": {},
     "output_type": "execute_result"
    }
   ],
   "source": [
    "number_of_followups_normalized = test_copied[\"NumberOfFollowups\"].map(normalize_number_of_followups)\n",
    "test_copied.loc[:, \"FollowupsNormalized\"] = number_of_followups_normalized\n",
    "test_copied[\"FollowupsNormalized\"].value_counts()"
   ]
  },
  {
   "cell_type": "code",
   "execution_count": 277,
   "metadata": {},
   "outputs": [
    {
     "data": {
      "text/plain": [
       "ProductPitched\n",
       "Basic           923\n",
       "Deluxe          824\n",
       "Standard        591\n",
       "Super Deluxe    233\n",
       "King            126\n",
       "               ... \n",
       "BASIС             1\n",
       "𐊡asic             1\n",
       "Вasic             1\n",
       "basiс             1\n",
       "BAЅIC             1\n",
       "Name: count, Length: 71, dtype: int64"
      ]
     },
     "execution_count": 277,
     "metadata": {},
     "output_type": "execute_result"
    }
   ],
   "source": [
    "test_copied[\"ProductPitched\"].value_counts()"
   ]
  },
  {
   "cell_type": "code",
   "execution_count": 278,
   "metadata": {},
   "outputs": [],
   "source": [
    "product_pitched_int = test_copied[\"ProductPitched\"].map(convert_product_pitched_to_int)\n",
    "test_copied.loc[:, \"ProductPitchedInt\"] = product_pitched_int"
   ]
  },
  {
   "cell_type": "code",
   "execution_count": 279,
   "metadata": {},
   "outputs": [
    {
     "data": {
      "text/plain": [
       "PreferredPropertyStar\n",
       "3.0    2181\n",
       "4.0    1109\n",
       "5.0     199\n",
       "Name: count, dtype: int64"
      ]
     },
     "execution_count": 279,
     "metadata": {},
     "output_type": "execute_result"
    }
   ],
   "source": [
    "test_copied[\"PreferredPropertyStar\"].value_counts()"
   ]
  },
  {
   "cell_type": "code",
   "execution_count": 280,
   "metadata": {},
   "outputs": [
    {
     "data": {
      "text/plain": [
       "NumberOfTrips\n",
       "2         950\n",
       "3         762\n",
       "5         400\n",
       "1         320\n",
       "7         226\n",
       "年に2回      153\n",
       "4         136\n",
       "6         125\n",
       "年に3回      124\n",
       "年に1回       72\n",
       "年に5回       62\n",
       "年に4回       31\n",
       "年に7回       31\n",
       "年に6回       26\n",
       "8          12\n",
       "半年に1回      10\n",
       "年に8回        4\n",
       "四半期に1回      3\n",
       "Name: count, dtype: int64"
      ]
     },
     "execution_count": 280,
     "metadata": {},
     "output_type": "execute_result"
    }
   ],
   "source": [
    "test_copied[\"NumberOfTrips\"].value_counts()"
   ]
  },
  {
   "cell_type": "code",
   "execution_count": 281,
   "metadata": {},
   "outputs": [],
   "source": [
    "number_of_trips_int = test_copied[\"NumberOfTrips\"].map(convert_trips_to_int)\n",
    "test_copied.loc[:, \"NumberOfTripsInt\"] = number_of_trips_int"
   ]
  },
  {
   "cell_type": "code",
   "execution_count": 282,
   "metadata": {},
   "outputs": [
    {
     "data": {
      "text/plain": [
       "Passport\n",
       "0    3157\n",
       "1     332\n",
       "Name: count, dtype: int64"
      ]
     },
     "execution_count": 282,
     "metadata": {},
     "output_type": "execute_result"
    }
   ],
   "source": [
    "test_copied[\"Passport\"].value_counts()"
   ]
  },
  {
   "cell_type": "code",
   "execution_count": 283,
   "metadata": {},
   "outputs": [
    {
     "data": {
      "text/plain": [
       "PitchSatisfactionScore\n",
       "2    1231\n",
       "1     753\n",
       "4     713\n",
       "3     652\n",
       "5     140\n",
       "Name: count, dtype: int64"
      ]
     },
     "execution_count": 283,
     "metadata": {},
     "output_type": "execute_result"
    }
   ],
   "source": [
    "test_copied[\"PitchSatisfactionScore\"].value_counts()"
   ]
  },
  {
   "cell_type": "code",
   "execution_count": 284,
   "metadata": {},
   "outputs": [
    {
     "data": {
      "text/plain": [
       "Designation\n",
       "Executive         1129\n",
       "Manager           1016\n",
       "Senior Manager     740\n",
       "AVP                305\n",
       "VP                 142\n",
       "Exеcutivе           10\n",
       "Managеr             10\n",
       "Executivе            9\n",
       "Exеcutive            9\n",
       "Mαnager              9\n",
       "Manαger              8\n",
       "ΑVP                  8\n",
       "АVP                  7\n",
       "Executiѵe            7\n",
       "Senior Managеr       6\n",
       "Senio𝙧 Manager       5\n",
       "Еxecutive            5\n",
       "Manage𝙧              5\n",
       "Μanager              5\n",
       "Sеnior Manager       4\n",
       "VＰ                   3\n",
       "Execｕtive            3\n",
       "Senior Manage𝙧       3\n",
       "Senior Μanager       2\n",
       "Ѕenior Manager       2\n",
       "Senior Manαger       2\n",
       "AVＰ                  2\n",
       "Տenior Manager       2\n",
       "E×ecutive            2\n",
       "Μαnager              2\n",
       "Mαnαger              2\n",
       "Execｕtivе            1\n",
       "Sеnio𝙧 Manager       1\n",
       "Exеcｕtivе            1\n",
       "Mαnαgеr              1\n",
       "Sеnior Managеr       1\n",
       "АVＰ                  1\n",
       "Senior Mαnαger       1\n",
       "Senior Managе𝙧       1\n",
       "Mαnagеr              1\n",
       "Еxecｕtive            1\n",
       "Senio𝙧 Manage𝙧       1\n",
       "Senio𝙧 Mαnage𝙧       1\n",
       "Execuｔive            1\n",
       "Sеnior Managе𝙧       1\n",
       "Senio𝙧 Managеr       1\n",
       "Տenior Μanager       1\n",
       "Managе𝙧              1\n",
       "Execｕｔive            1\n",
       "Manαgеr              1\n",
       "Μαnagеr              1\n",
       "Exеcuｔive            1\n",
       "Ѕenior Μanage𝙧       1\n",
       "ΑVＰ                  1\n",
       "Senio𝙧 Manαger       1\n",
       "Senior Mαnager       1\n",
       "Name: count, dtype: int64"
      ]
     },
     "execution_count": 284,
     "metadata": {},
     "output_type": "execute_result"
    }
   ],
   "source": [
    "test_copied[\"Designation\"].value_counts()"
   ]
  },
  {
   "cell_type": "code",
   "execution_count": 285,
   "metadata": {},
   "outputs": [
    {
     "data": {
      "text/plain": [
       "DesignationInt\n",
       "0    1180\n",
       "1    1059\n",
       "2     781\n",
       "3     307\n",
       "4     162\n",
       "Name: count, dtype: int64"
      ]
     },
     "execution_count": 285,
     "metadata": {},
     "output_type": "execute_result"
    }
   ],
   "source": [
    "designation_pitched_int = test_copied[\"Designation\"].map(convert_designation_to_int)\n",
    "test_copied.loc[:, \"DesignationInt\"] = designation_pitched_int\n",
    "test_copied[\"DesignationInt\"].value_counts()"
   ]
  },
  {
   "cell_type": "code",
   "execution_count": 286,
   "metadata": {},
   "outputs": [
    {
     "data": {
      "text/plain": [
       "MonthlyIncome\n",
       "月収30.0万円    203\n",
       "月収40.0万円    127\n",
       "月収50.0万円     45\n",
       "月収26.0万円     38\n",
       "月収32.0万円     35\n",
       "           ... \n",
       "247425.0      1\n",
       "312990.0      1\n",
       "240735.0      1\n",
       "255000.0      1\n",
       "411795.0      1\n",
       "Name: count, Length: 2528, dtype: int64"
      ]
     },
     "execution_count": 286,
     "metadata": {},
     "output_type": "execute_result"
    }
   ],
   "source": [
    "test_copied[\"MonthlyIncome\"].value_counts()"
   ]
  },
  {
   "cell_type": "code",
   "execution_count": 287,
   "metadata": {},
   "outputs": [],
   "source": [
    "monthly_income_int = test_copied[\"MonthlyIncome\"].map(convert_income_to_int)\n",
    "test_copied.loc[:, \"MonthlyIncomeInt\"] = monthly_income_int\n"
   ]
  },
  {
   "cell_type": "code",
   "execution_count": 288,
   "metadata": {},
   "outputs": [
    {
     "data": {
      "text/plain": [
       "MaritalInt\n",
       "1    1462\n",
       "0    1217\n",
       "2     810\n",
       "Name: count, dtype: int64"
      ]
     },
     "execution_count": 288,
     "metadata": {},
     "output_type": "execute_result"
    }
   ],
   "source": [
    "customer_info_kekkon_int = test_copied[\"customer_info\"].map(extract_marital_from_customer_info)\n",
    "test_copied.loc[:, \"MaritalInt\"] = customer_info_kekkon_int\n",
    "test_copied[\"MaritalInt\"].value_counts()"
   ]
  },
  {
   "cell_type": "code",
   "execution_count": 289,
   "metadata": {},
   "outputs": [
    {
     "data": {
      "text/plain": [
       "CarInt\n",
       "0    1834\n",
       "1    1655\n",
       "Name: count, dtype: int64"
      ]
     },
     "execution_count": 289,
     "metadata": {},
     "output_type": "execute_result"
    }
   ],
   "source": [
    "customer_info_car_int = test_copied[\"customer_info\"].map(extract_car_from_customer_info)\n",
    "test_copied.loc[:, \"CarInt\"] = customer_info_car_int\n",
    "test_copied[\"CarInt\"].value_counts()"
   ]
  },
  {
   "cell_type": "code",
   "execution_count": 290,
   "metadata": {},
   "outputs": [
    {
     "data": {
      "text/plain": [
       "ChildInt\n",
       " 1    1564\n",
       " 0     924\n",
       " 2     897\n",
       " 3      67\n",
       "-1      37\n",
       "Name: count, dtype: int64"
      ]
     },
     "execution_count": 290,
     "metadata": {},
     "output_type": "execute_result"
    }
   ],
   "source": [
    "customer_info_child_int = test_copied[\"customer_info\"].map(extract_child_from_customer_info)\n",
    "test_copied.loc[:, \"ChildInt\"] = customer_info_child_int\n",
    "test_copied[\"ChildInt\"].value_counts()"
   ]
  },
  {
   "cell_type": "code",
   "execution_count": 291,
   "metadata": {},
   "outputs": [
    {
     "data": {
      "text/html": [
       "<div>\n",
       "<style scoped>\n",
       "    .dataframe tbody tr th:only-of-type {\n",
       "        vertical-align: middle;\n",
       "    }\n",
       "\n",
       "    .dataframe tbody tr th {\n",
       "        vertical-align: top;\n",
       "    }\n",
       "\n",
       "    .dataframe thead th {\n",
       "        text-align: right;\n",
       "    }\n",
       "</style>\n",
       "<table border=\"1\" class=\"dataframe\">\n",
       "  <thead>\n",
       "    <tr style=\"text-align: right;\">\n",
       "      <th></th>\n",
       "      <th>id</th>\n",
       "      <th>AgeInt</th>\n",
       "      <th>TypeofContactInt</th>\n",
       "      <th>CityTier</th>\n",
       "      <th>DurationInt</th>\n",
       "      <th>OccupationInt</th>\n",
       "      <th>GenderInt</th>\n",
       "      <th>NumberOfPersonVisiting</th>\n",
       "      <th>FollowupsNormalized</th>\n",
       "      <th>ProductPitchedInt</th>\n",
       "      <th>PreferredPropertyStar</th>\n",
       "      <th>NumberOfTripsInt</th>\n",
       "      <th>Passport</th>\n",
       "      <th>PitchSatisfactionScore</th>\n",
       "      <th>DesignationInt</th>\n",
       "      <th>MonthlyIncomeInt</th>\n",
       "      <th>MaritalInt</th>\n",
       "      <th>CarInt</th>\n",
       "      <th>ChildInt</th>\n",
       "    </tr>\n",
       "  </thead>\n",
       "  <tbody>\n",
       "    <tr>\n",
       "      <th>0</th>\n",
       "      <td>3489</td>\n",
       "      <td>48.0</td>\n",
       "      <td>0.0</td>\n",
       "      <td>2</td>\n",
       "      <td>780.0</td>\n",
       "      <td>1</td>\n",
       "      <td>0</td>\n",
       "      <td>1.0</td>\n",
       "      <td>4.0</td>\n",
       "      <td>3</td>\n",
       "      <td>3.0</td>\n",
       "      <td>7.0</td>\n",
       "      <td>0</td>\n",
       "      <td>3</td>\n",
       "      <td>3</td>\n",
       "      <td>496950.0</td>\n",
       "      <td>1</td>\n",
       "      <td>1</td>\n",
       "      <td>0</td>\n",
       "    </tr>\n",
       "    <tr>\n",
       "      <th>1</th>\n",
       "      <td>3490</td>\n",
       "      <td>35.0</td>\n",
       "      <td>0.0</td>\n",
       "      <td>2</td>\n",
       "      <td>720.0</td>\n",
       "      <td>1</td>\n",
       "      <td>1</td>\n",
       "      <td>1.0</td>\n",
       "      <td>4.0</td>\n",
       "      <td>1</td>\n",
       "      <td>3.0</td>\n",
       "      <td>4.0</td>\n",
       "      <td>1</td>\n",
       "      <td>3</td>\n",
       "      <td>2</td>\n",
       "      <td>300000.0</td>\n",
       "      <td>1</td>\n",
       "      <td>0</td>\n",
       "      <td>0</td>\n",
       "    </tr>\n",
       "    <tr>\n",
       "      <th>2</th>\n",
       "      <td>3491</td>\n",
       "      <td>25.0</td>\n",
       "      <td>0.0</td>\n",
       "      <td>1</td>\n",
       "      <td>540.0</td>\n",
       "      <td>0</td>\n",
       "      <td>1</td>\n",
       "      <td>1.0</td>\n",
       "      <td>4.0</td>\n",
       "      <td>0</td>\n",
       "      <td>3.0</td>\n",
       "      <td>1.0</td>\n",
       "      <td>0</td>\n",
       "      <td>3</td>\n",
       "      <td>0</td>\n",
       "      <td>260000.0</td>\n",
       "      <td>2</td>\n",
       "      <td>0</td>\n",
       "      <td>0</td>\n",
       "    </tr>\n",
       "    <tr>\n",
       "      <th>3</th>\n",
       "      <td>3492</td>\n",
       "      <td>21.0</td>\n",
       "      <td>1.0</td>\n",
       "      <td>2</td>\n",
       "      <td>420.0</td>\n",
       "      <td>0</td>\n",
       "      <td>0</td>\n",
       "      <td>1.0</td>\n",
       "      <td>4.0</td>\n",
       "      <td>0</td>\n",
       "      <td>4.0</td>\n",
       "      <td>1.0</td>\n",
       "      <td>0</td>\n",
       "      <td>3</td>\n",
       "      <td>2</td>\n",
       "      <td>259875.0</td>\n",
       "      <td>2</td>\n",
       "      <td>1</td>\n",
       "      <td>0</td>\n",
       "    </tr>\n",
       "    <tr>\n",
       "      <th>4</th>\n",
       "      <td>3493</td>\n",
       "      <td>41.0</td>\n",
       "      <td>1.0</td>\n",
       "      <td>1</td>\n",
       "      <td>420.0</td>\n",
       "      <td>0</td>\n",
       "      <td>0</td>\n",
       "      <td>1.0</td>\n",
       "      <td>4.0</td>\n",
       "      <td>0</td>\n",
       "      <td>3.0</td>\n",
       "      <td>1.0</td>\n",
       "      <td>0</td>\n",
       "      <td>4</td>\n",
       "      <td>0</td>\n",
       "      <td>268830.0</td>\n",
       "      <td>0</td>\n",
       "      <td>1</td>\n",
       "      <td>0</td>\n",
       "    </tr>\n",
       "  </tbody>\n",
       "</table>\n",
       "</div>"
      ],
      "text/plain": [
       "     id  AgeInt  TypeofContactInt  CityTier  DurationInt  OccupationInt  \\\n",
       "0  3489    48.0               0.0         2        780.0              1   \n",
       "1  3490    35.0               0.0         2        720.0              1   \n",
       "2  3491    25.0               0.0         1        540.0              0   \n",
       "3  3492    21.0               1.0         2        420.0              0   \n",
       "4  3493    41.0               1.0         1        420.0              0   \n",
       "\n",
       "   GenderInt  NumberOfPersonVisiting  FollowupsNormalized  ProductPitchedInt  \\\n",
       "0          0                     1.0                  4.0                  3   \n",
       "1          1                     1.0                  4.0                  1   \n",
       "2          1                     1.0                  4.0                  0   \n",
       "3          0                     1.0                  4.0                  0   \n",
       "4          0                     1.0                  4.0                  0   \n",
       "\n",
       "   PreferredPropertyStar  NumberOfTripsInt  Passport  PitchSatisfactionScore  \\\n",
       "0                    3.0               7.0         0                       3   \n",
       "1                    3.0               4.0         1                       3   \n",
       "2                    3.0               1.0         0                       3   \n",
       "3                    4.0               1.0         0                       3   \n",
       "4                    3.0               1.0         0                       4   \n",
       "\n",
       "   DesignationInt  MonthlyIncomeInt  MaritalInt  CarInt  ChildInt  \n",
       "0               3          496950.0           1       1         0  \n",
       "1               2          300000.0           1       0         0  \n",
       "2               0          260000.0           2       0         0  \n",
       "3               2          259875.0           2       1         0  \n",
       "4               0          268830.0           0       1         0  "
      ]
     },
     "execution_count": 291,
     "metadata": {},
     "output_type": "execute_result"
    }
   ],
   "source": [
    "test_preprocessed = test_copied[[\n",
    "    \"id\", 'AgeInt', 'TypeofContactInt', 'CityTier', 'DurationInt', 'OccupationInt', \"GenderInt\", \"NumberOfPersonVisiting\", \n",
    "    \"FollowupsNormalized\", \"ProductPitchedInt\", \"PreferredPropertyStar\", \"NumberOfTripsInt\", \"Passport\", \"PitchSatisfactionScore\", \n",
    "    \"DesignationInt\", \"MonthlyIncomeInt\", \"MaritalInt\", \"CarInt\", \"ChildInt\"\n",
    "]]\n",
    "test_preprocessed.head()"
   ]
  },
  {
   "cell_type": "code",
   "execution_count": 292,
   "metadata": {},
   "outputs": [
    {
     "data": {
      "text/plain": [
       "id                          0\n",
       "AgeInt                     93\n",
       "TypeofContactInt           12\n",
       "CityTier                    0\n",
       "DurationInt               131\n",
       "OccupationInt               0\n",
       "GenderInt                   0\n",
       "NumberOfPersonVisiting      0\n",
       "FollowupsNormalized        24\n",
       "ProductPitchedInt           0\n",
       "PreferredPropertyStar       0\n",
       "NumberOfTripsInt           42\n",
       "Passport                    0\n",
       "PitchSatisfactionScore      0\n",
       "DesignationInt              0\n",
       "MonthlyIncomeInt           49\n",
       "MaritalInt                  0\n",
       "CarInt                      0\n",
       "ChildInt                    0\n",
       "dtype: int64"
      ]
     },
     "execution_count": 292,
     "metadata": {},
     "output_type": "execute_result"
    }
   ],
   "source": [
    "test_preprocessed.isnull().sum()"
   ]
  },
  {
   "cell_type": "code",
   "execution_count": 293,
   "metadata": {},
   "outputs": [],
   "source": [
    "# 欠損値を平均値で補完\n",
    "test_preprocessed = test_preprocessed.fillna(test_preprocessed.mean())"
   ]
  },
  {
   "cell_type": "code",
   "execution_count": 294,
   "metadata": {},
   "outputs": [
    {
     "data": {
      "text/plain": [
       "id                        0\n",
       "AgeInt                    0\n",
       "TypeofContactInt          0\n",
       "CityTier                  0\n",
       "DurationInt               0\n",
       "OccupationInt             0\n",
       "GenderInt                 0\n",
       "NumberOfPersonVisiting    0\n",
       "FollowupsNormalized       0\n",
       "ProductPitchedInt         0\n",
       "PreferredPropertyStar     0\n",
       "NumberOfTripsInt          0\n",
       "Passport                  0\n",
       "PitchSatisfactionScore    0\n",
       "DesignationInt            0\n",
       "MonthlyIncomeInt          0\n",
       "MaritalInt                0\n",
       "CarInt                    0\n",
       "ChildInt                  0\n",
       "dtype: int64"
      ]
     },
     "execution_count": 294,
     "metadata": {},
     "output_type": "execute_result"
    }
   ],
   "source": [
    "test_preprocessed.isnull().sum()"
   ]
  },
  {
   "cell_type": "code",
   "execution_count": 295,
   "metadata": {},
   "outputs": [],
   "source": [
    "test_preprocessed.to_csv(\"../mid_output/test_preprocessed.csv\", index=False)"
   ]
  },
  {
   "cell_type": "code",
   "execution_count": null,
   "metadata": {},
   "outputs": [],
   "source": []
  }
 ],
 "metadata": {
  "kernelspec": {
   "display_name": "python39",
   "language": "python",
   "name": "python3"
  },
  "language_info": {
   "codemirror_mode": {
    "name": "ipython",
    "version": 3
   },
   "file_extension": ".py",
   "mimetype": "text/x-python",
   "name": "python",
   "nbconvert_exporter": "python",
   "pygments_lexer": "ipython3",
   "version": "3.9.19"
  }
 },
 "nbformat": 4,
 "nbformat_minor": 2
}
