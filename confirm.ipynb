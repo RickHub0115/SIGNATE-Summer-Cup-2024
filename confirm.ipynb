{
 "cells": [
  {
   "cell_type": "code",
   "execution_count": 1,
   "metadata": {},
   "outputs": [],
   "source": [
    "import pandas as pd"
   ]
  },
  {
   "cell_type": "code",
   "execution_count": 8,
   "metadata": {},
   "outputs": [],
   "source": [
    "df = pd.read_csv('data/feature_engineered/null_representative/train_null_del_beta.csv')\n",
    "p_df = pd.read_csv('data/feature_engineered/null_representative/train_null_del.csv')"
   ]
  },
  {
   "cell_type": "code",
   "execution_count": 12,
   "metadata": {},
   "outputs": [
    {
     "name": "stdout",
     "output_type": "stream",
     "text": [
      "44\n"
     ]
    },
    {
     "data": {
      "text/plain": [
       "Index(['id', 'Age', 'TypeofContact', 'CityTier', 'DurationOfPitch',\n",
       "       'Occupation', 'Gender', 'NumberOfPersonVisiting', 'NumberOfFollowups',\n",
       "       'ProductPitched', 'PreferredPropertyStar', 'NumberOfTrips', 'Passport',\n",
       "       'PitchSatisfactionScore', 'Designation', 'MonthlyIncome', 'ProdTaken',\n",
       "       'Marry', 'Car', 'Child', 'AgeGroup', 'TypeofContactNULL', 'Motivation',\n",
       "       'EconomicPower', 'Child01', 'TripEasier', 'SalesPerformance',\n",
       "       'LivingCost', 'EconomicStability', 'NumberOfTrips_log', 'TravelCost',\n",
       "       'EconomicSegment', 'PackageMatch', 'IsFamily', 'FreaqencySeg',\n",
       "       'Monetary', 'MonetarySeg', 'ContractRate_FM', 'ContractRate_G1',\n",
       "       'ContractRate_G2', 'ContractRate_G3', 'ContractRate_G4',\n",
       "       'ContractRate_G5', 'ContractRate_G6'],\n",
       "      dtype='object')"
      ]
     },
     "execution_count": 12,
     "metadata": {},
     "output_type": "execute_result"
    }
   ],
   "source": [
    "print(len(df.columns))\n",
    "df.columns"
   ]
  },
  {
   "cell_type": "code",
   "execution_count": 14,
   "metadata": {},
   "outputs": [
    {
     "name": "stdout",
     "output_type": "stream",
     "text": [
      "33\n"
     ]
    },
    {
     "data": {
      "text/plain": [
       "Index(['id', 'Age', 'TypeofContact', 'CityTier', 'DurationOfPitch',\n",
       "       'Occupation', 'Gender', 'NumberOfPersonVisiting', 'NumberOfFollowups',\n",
       "       'ProductPitched', 'PreferredPropertyStar', 'NumberOfTrips', 'Passport',\n",
       "       'PitchSatisfactionScore', 'Designation', 'MonthlyIncome', 'ProdTaken',\n",
       "       'Marry', 'Car', 'Child', 'AgeGroup', 'TypeofContactNULL', 'Motivation',\n",
       "       'EconomicPower', 'Child01', 'TripEasier', 'SalesPerformance',\n",
       "       'LivingCost', 'EconomicStability', 'TripFreaqency', 'NumberOfTrips_log',\n",
       "       'TravelCost', 'EconomicSegment', 'PackageMatch'],\n",
       "      dtype='object')"
      ]
     },
     "execution_count": 14,
     "metadata": {},
     "output_type": "execute_result"
    }
   ],
   "source": [
    "print(len(p_df.columns) - 1)\n",
    "p_df.columns"
   ]
  }
 ],
 "metadata": {
  "kernelspec": {
   "display_name": "competition",
   "language": "python",
   "name": "python3"
  },
  "language_info": {
   "codemirror_mode": {
    "name": "ipython",
    "version": 3
   },
   "file_extension": ".py",
   "mimetype": "text/x-python",
   "name": "python",
   "nbconvert_exporter": "python",
   "pygments_lexer": "ipython3",
   "version": "3.12.4"
  }
 },
 "nbformat": 4,
 "nbformat_minor": 2
}
